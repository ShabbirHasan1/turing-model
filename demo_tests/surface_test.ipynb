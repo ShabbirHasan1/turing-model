{
 "metadata": {
  "language_info": {
   "codemirror_mode": {
    "name": "ipython",
    "version": 3
   },
   "file_extension": ".py",
   "mimetype": "text/x-python",
   "name": "python",
   "nbconvert_exporter": "python",
   "pygments_lexer": "ipython3",
   "version": "3.8.8"
  },
  "orig_nbformat": 2,
  "kernelspec": {
   "name": "python3",
   "language": "python",
   "display_name": "Python 3"
  }
 },
 "nbformat": 4,
 "nbformat_minor": 2,
 "cells": [
  {
   "cell_type": "code",
   "execution_count": null,
   "metadata": {
    "pycharm": {
     "is_executing": true
    }
   },
   "outputs": [],
   "source": [
    "import plotly.graph_objs as go\n",
    "from plotly.offline import iplot\n",
    "\n",
    "from turing_models.instruments.common import CurrencyPair, RMBIRCurveType, SpotExchangeRateType\n",
    "from turing_models.market.curves.curve_generation import FXIRCurve\n",
    "from turing_models.market.volatility.vol_surface_generation import FXOptionImpliedVolatilitySurface\n",
    "\n",
    "fx_vol_surface = FXOptionImpliedVolatilitySurface(fx_symbol=CurrencyPair.USDCNY)\n",
    "data = fx_vol_surface.get_vol_surface()  # DataFrame格式\n",
    "trace = go.Surface(x=data.columns.values, y=data.index.values, z=data*100)\n",
    "data = [trace]\n",
    "layout = go.Layout(title='3D Surface plot')\n",
    "fig = go.Figure(data=data, layout=layout)\n",
    "iplot(fig)"
   ]
  },
  {
   "cell_type": "code",
   "execution_count": null,
   "metadata": {},
   "outputs": [],
   "source": []
  }
 ]
}