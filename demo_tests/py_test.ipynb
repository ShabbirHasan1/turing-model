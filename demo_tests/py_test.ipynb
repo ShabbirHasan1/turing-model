{
 "cells": [
  {
   "cell_type": "code",
   "execution_count": 1,
   "metadata": {
    "collapsed": true
   },
   "outputs": [],
   "source": [
    "import datetime\n",
    "import pandas as pd"
   ]
  },
  {
   "cell_type": "code",
   "execution_count": 4,
   "outputs": [
    {
     "data": {
      "text/plain": "  exercise_date  high_rate_adjust  low_rate_adjust\n0    2015-04-25             0.071            0.031\n1    2017-04-25             0.072            0.032\n2    2019-04-25             0.073            0.033\n3    2021-04-25             0.074            0.034",
      "text/html": "<div>\n<style scoped>\n    .dataframe tbody tr th:only-of-type {\n        vertical-align: middle;\n    }\n\n    .dataframe tbody tr th {\n        vertical-align: top;\n    }\n\n    .dataframe thead th {\n        text-align: right;\n    }\n</style>\n<table border=\"1\" class=\"dataframe\">\n  <thead>\n    <tr style=\"text-align: right;\">\n      <th></th>\n      <th>exercise_date</th>\n      <th>high_rate_adjust</th>\n      <th>low_rate_adjust</th>\n    </tr>\n  </thead>\n  <tbody>\n    <tr>\n      <th>0</th>\n      <td>2015-04-25</td>\n      <td>0.071</td>\n      <td>0.031</td>\n    </tr>\n    <tr>\n      <th>1</th>\n      <td>2017-04-25</td>\n      <td>0.072</td>\n      <td>0.032</td>\n    </tr>\n    <tr>\n      <th>2</th>\n      <td>2019-04-25</td>\n      <td>0.073</td>\n      <td>0.033</td>\n    </tr>\n    <tr>\n      <th>3</th>\n      <td>2021-04-25</td>\n      <td>0.074</td>\n      <td>0.034</td>\n    </tr>\n  </tbody>\n</table>\n</div>"
     },
     "execution_count": 4,
     "metadata": {},
     "output_type": "execute_result"
    }
   ],
   "source": [
    "data_list = [\n",
    "                    {\n",
    "                        \"exercise_date\": datetime.datetime(2015, 4, 25),\n",
    "                        \"high_rate_adjust\": 0.071,\n",
    "                        \"low_rate_adjust\": 0.031\n",
    "                    },\n",
    "                    {\n",
    "                        \"exercise_date\": datetime.datetime(2017, 4, 25),\n",
    "                        \"high_rate_adjust\": 0.072,\n",
    "                        \"low_rate_adjust\": 0.032\n",
    "                    },\n",
    "                    {\n",
    "                        \"exercise_date\": datetime.datetime(2019, 4, 25),\n",
    "                        \"high_rate_adjust\": 0.073,\n",
    "                        \"low_rate_adjust\": 0.033\n",
    "                    },\n",
    "                    {\n",
    "                        \"exercise_date\": datetime.datetime(2021, 4, 25),\n",
    "                        \"high_rate_adjust\": 0.074,\n",
    "                        \"low_rate_adjust\": 0.034\n",
    "                    }\n",
    "                    ]\n",
    "pd.DataFrame(data=data_list)"
   ],
   "metadata": {
    "collapsed": false,
    "pycharm": {
     "name": "#%%\n"
    }
   }
  }
 ],
 "metadata": {
  "kernelspec": {
   "display_name": "Python 3",
   "language": "python",
   "name": "python3"
  },
  "language_info": {
   "codemirror_mode": {
    "name": "ipython",
    "version": 2
   },
   "file_extension": ".py",
   "mimetype": "text/x-python",
   "name": "python",
   "nbconvert_exporter": "python",
   "pygments_lexer": "ipython2",
   "version": "2.7.6"
  }
 },
 "nbformat": 4,
 "nbformat_minor": 0
}