{
 "cells": [
  {
   "cell_type": "markdown",
   "metadata": {},
   "source": [
    "# Creating and Valuing a CDS Contract vs Markit"
   ]
  },
  {
   "cell_type": "markdown",
   "metadata": {},
   "source": [
    "Example CDS Valuation and comparison with market standard ISDA model on Markit website"
   ]
  },
  {
   "cell_type": "code",
   "execution_count": 1,
   "metadata": {},
   "outputs": [],
   "source": [
    "import numpy as np\n",
    "import matplotlib.pyplot as plt"
   ]
  },
  {
   "cell_type": "code",
   "execution_count": 2,
   "metadata": {},
   "outputs": [
    {
     "name": "stdout",
     "output_type": "stream",
     "text": [
      "####################################################################\n",
      "# FINANCEPY BETA Version 0.185 - This build:  24 Oct 2020 at 20:12 #\n",
      "#      This software is distributed FREE & WITHOUT ANY WARRANTY    #\n",
      "# For info and disclaimer - https://github.com/domokane/FinancePy  #\n",
      "#      Send any bug reports or comments to quant@financepy.com     #\n",
      "####################################################################\n",
      "\n"
     ]
    }
   ],
   "source": [
    "from financepy.finutils import *\n",
    "from financepy.products.rates import *\n",
    "from financepy.products.credit import *"
   ]
  },
  {
   "cell_type": "markdown",
   "metadata": {},
   "source": [
    "## Creating a CDS Contract"
   ]
  },
  {
   "cell_type": "markdown",
   "metadata": {},
   "source": [
    "This based on an example from Markit's CDS calculator website https://www.markit.com/markit.jsp?jsppage=pv.jsp"
   ]
  },
  {
   "cell_type": "code",
   "execution_count": 4,
   "metadata": {},
   "outputs": [],
   "source": [
    "valuationDate = TuringDate(21, 11, 2019)\n",
    "settlementDate = valuationDate.addDays(1)\n",
    "maturityDate = TuringDate(20, 12, 2024)\n",
    "cdsCoupon = 0.050\n",
    "notional = ONE_MILLION\n",
    "longProtection = True\n",
    "tradeDate = TuringDate(9, 8, 2019)"
   ]
  },
  {
   "cell_type": "code",
   "execution_count": 5,
   "metadata": {},
   "outputs": [],
   "source": [
    "cdsContract = FinCDS(settlementDate, maturityDate, cdsCoupon, notional, longProtection)"
   ]
  },
  {
   "cell_type": "code",
   "execution_count": 6,
   "metadata": {},
   "outputs": [
    {
     "name": "stdout",
     "output_type": "stream",
     "text": [
      "OBJECT TYPE: FinCDS\n",
      "STEP-IN DATE: FRI 22 NOV 2019\n",
      "MATURITY: FRI 20 DEC 2024\n",
      "NOTIONAL: 1000000\n",
      "RUNNING COUPON: 500.0bp\n",
      "DAYCOUNT: TuringDayCountTypes.ACT_360\n",
      "FREQUENCY: TuringFrequencyTypes.QUARTERLY\n",
      "CALENDAR: TuringCalendarTypes.WEEKEND\n",
      "BUSDAYRULE: TuringBusDayAdjustTypes.FOLLOWING\n",
      "DATEGENRULE: TuringDateGenRuleTypes.BACKWARD\n",
      "ACCRUED DAYS: 63\n",
      "PAYMENT_DATE, YEAR_FRAC, FLOW\n",
      "FRI 20 SEP 2019,     0.000000,     0.000000\n",
      "FRI 20 DEC 2019,     0.252778, 12638.888889\n",
      "FRI 20 MAR 2020,     0.252778, 12638.888889\n",
      "MON 22 JUN 2020,     0.261111, 13055.555556\n",
      "MON 21 SEP 2020,     0.252778, 12638.888889\n",
      "MON 21 DEC 2020,     0.252778, 12638.888889\n",
      "MON 22 MAR 2021,     0.252778, 12638.888889\n",
      "MON 21 JUN 2021,     0.252778, 12638.888889\n",
      "MON 20 SEP 2021,     0.252778, 12638.888889\n",
      "MON 20 DEC 2021,     0.252778, 12638.888889\n",
      "MON 21 MAR 2022,     0.252778, 12638.888889\n",
      "MON 20 JUN 2022,     0.252778, 12638.888889\n",
      "TUE 20 SEP 2022,     0.255556, 12777.777778\n",
      "TUE 20 DEC 2022,     0.252778, 12638.888889\n",
      "MON 20 MAR 2023,     0.250000, 12500.000000\n",
      "TUE 20 JUN 2023,     0.255556, 12777.777778\n",
      "WED 20 SEP 2023,     0.255556, 12777.777778\n",
      "WED 20 DEC 2023,     0.252778, 12638.888889\n",
      "WED 20 MAR 2024,     0.252778, 12638.888889\n",
      "THU 20 JUN 2024,     0.255556, 12777.777778\n",
      "FRI 20 SEP 2024,     0.255556, 12777.777778\n",
      "SAT 21 DEC 2024,     0.255556, 12777.777778\n"
     ]
    }
   ],
   "source": [
    "print(cdsContract)"
   ]
  },
  {
   "cell_type": "markdown",
   "metadata": {},
   "source": [
    "## Build Ibor Curve"
   ]
  },
  {
   "cell_type": "code",
   "execution_count": 7,
   "metadata": {},
   "outputs": [
    {
     "name": "stdout",
     "output_type": "stream",
     "text": [
      "Inserting synthetic deposit\n"
     ]
    }
   ],
   "source": [
    "dcType = TuringDayCountTypes.ACT_360\n",
    "depo1 = TuringIborDeposit(settlementDate, \"1M\", 0.017156, dcType)\n",
    "depo2 = TuringIborDeposit(settlementDate, \"2M\", 0.018335, dcType)\n",
    "depo3 = TuringIborDeposit(settlementDate, \"3M\", 0.018988, dcType)\n",
    "depo4 = TuringIborDeposit(settlementDate, \"6M\", 0.018911, dcType)\n",
    "depo5 = TuringIborDeposit(settlementDate, \"12M\", 0.019093, dcType)\n",
    "depos = [depo1,depo2,depo3,depo4,depo5]\n",
    "\n",
    "swapType = TuringSwapTypes.PAY\n",
    "dcType = TuringDayCountTypes.THIRTY_E_360_ISDA\n",
    "fixedFreq = TuringFrequencyTypes.SEMI_ANNUAL\n",
    "swap1 = FinIborSwap(settlementDate,\"2Y\",swapType,0.015630,fixedFreq,dcType)\n",
    "swap2 = FinIborSwap(settlementDate,\"3Y\",swapType,0.015140,fixedFreq,dcType)\n",
    "swap3 = FinIborSwap(settlementDate,\"4Y\",swapType,0.015065,fixedFreq,dcType)\n",
    "swap4 = FinIborSwap(settlementDate,\"5Y\",swapType,0.015140,fixedFreq,dcType)\n",
    "swap5 = FinIborSwap(settlementDate,\"6Y\",swapType,0.015270,fixedFreq,dcType)\n",
    "swap6 = FinIborSwap(settlementDate,\"7Y\",swapType,0.015470,fixedFreq,dcType)\n",
    "swap7 = FinIborSwap(settlementDate,\"8Y\",swapType,0.015720,fixedFreq,dcType)\n",
    "swap8 = FinIborSwap(settlementDate,\"9Y\",swapType,0.016000,fixedFreq,dcType)\n",
    "swap9 = FinIborSwap(settlementDate,\"10Y\",swapType,0.016285,fixedFreq,dcType)\n",
    "swap10 = FinIborSwap(settlementDate,\"12Y\",swapType,0.01670,fixedFreq,dcType)\n",
    "swaps = [swap1,swap2,swap3,swap4,swap5,swap6,swap7,swap8,swap9,swap10]\n",
    "\n",
    "liborCurve = TuringIborSingleCurve(valuationDate, depos, [], swaps)"
   ]
  },
  {
   "cell_type": "markdown",
   "metadata": {},
   "source": [
    "# Build a CDS Curve"
   ]
  },
  {
   "cell_type": "code",
   "execution_count": 8,
   "metadata": {},
   "outputs": [],
   "source": [
    "cdsFlatSpread = 0.0100"
   ]
  },
  {
   "cell_type": "code",
   "execution_count": 9,
   "metadata": {},
   "outputs": [],
   "source": [
    "cds1 = FinCDS(settlementDate, \"1Y\", cdsFlatSpread)\n",
    "cds2 = FinCDS(settlementDate, \"2Y\", cdsFlatSpread)\n",
    "cds3 = FinCDS(settlementDate, \"3Y\", cdsFlatSpread)\n",
    "cds4 = FinCDS(settlementDate, \"4Y\", cdsFlatSpread)\n",
    "cds5 = FinCDS(settlementDate, \"5Y\", cdsFlatSpread)\n",
    "cds6 = FinCDS(settlementDate, \"7Y\", cdsFlatSpread)\n",
    "cds7 = FinCDS(settlementDate, \"10Y\", cdsFlatSpread)\n",
    "cds8 = FinCDS(settlementDate, \"15Y\", cdsFlatSpread)"
   ]
  },
  {
   "cell_type": "code",
   "execution_count": 10,
   "metadata": {},
   "outputs": [],
   "source": [
    "cdss = [cds1, cds2, cds3, cds4, cds5, cds6, cds7, cds8]"
   ]
  },
  {
   "cell_type": "code",
   "execution_count": 11,
   "metadata": {},
   "outputs": [],
   "source": [
    "recoveryRate = 0.40"
   ]
  },
  {
   "cell_type": "code",
   "execution_count": 12,
   "metadata": {},
   "outputs": [],
   "source": [
    "issuerCurve = FinCDSCurve(valuationDate, cdss, liborCurve, recoveryRate)"
   ]
  },
  {
   "cell_type": "markdown",
   "metadata": {},
   "source": [
    "# Valuation Results"
   ]
  },
  {
   "cell_type": "code",
   "execution_count": 22,
   "metadata": {},
   "outputs": [
    {
     "name": "stdout",
     "output_type": "stream",
     "text": [
      "FAIR CDS SPREAD  100.00000 bp\n"
     ]
    }
   ],
   "source": [
    "spd = cdsContract.parSpread(valuationDate, issuerCurve, recoveryRate) * 10000.0\n",
    "print(\"FAIR CDS SPREAD %10.5f bp\"% spd)"
   ]
  },
  {
   "cell_type": "code",
   "execution_count": 23,
   "metadata": {},
   "outputs": [
    {
     "name": "stdout",
     "output_type": "stream",
     "text": [
      "FULL VALUE    -198565.53\n",
      "CLEAN VALUE   -189815.53\n"
     ]
    }
   ],
   "source": [
    "v = cdsContract.value(valuationDate, issuerCurve, recoveryRate)\n",
    "full_pv = v['full_pv']\n",
    "clean_pv = v['clean_pv']\n",
    "\n",
    "print(\"FULL VALUE  %12.2f\"% full_pv)\n",
    "print(\"CLEAN VALUE %12.2f\"% clean_pv)"
   ]
  },
  {
   "cell_type": "markdown",
   "metadata": {},
   "source": [
    "MARKIT CALCULATE -198,551 for the FULL VALUE"
   ]
  },
  {
   "cell_type": "code",
   "execution_count": 15,
   "metadata": {},
   "outputs": [
    {
     "name": "stdout",
     "output_type": "stream",
     "text": [
      "CLEAN PRICE   118.983243\n"
     ]
    }
   ],
   "source": [
    "cleanp = cdsContract.cleanPrice(settlementDate, issuerCurve, recoveryRate)\n",
    "print(\"CLEAN PRICE %12.6f\"% cleanp)"
   ]
  },
  {
   "cell_type": "markdown",
   "metadata": {},
   "source": [
    "MARKIT CALCULATE 118.98%"
   ]
  },
  {
   "cell_type": "code",
   "execution_count": 16,
   "metadata": {},
   "outputs": [
    {
     "name": "stdout",
     "output_type": "stream",
     "text": [
      "ACCRUED_DAYS 63\n"
     ]
    }
   ],
   "source": [
    "accruedDays = cdsContract.accruedDays()\n",
    "print(\"ACCRUED_DAYS\", accruedDays)"
   ]
  },
  {
   "cell_type": "markdown",
   "metadata": {},
   "source": [
    "MARKIT CALCULATE 63"
   ]
  },
  {
   "cell_type": "code",
   "execution_count": 17,
   "metadata": {},
   "outputs": [
    {
     "name": "stdout",
     "output_type": "stream",
     "text": [
      "ACCRUED_COUPON -8750.0\n"
     ]
    }
   ],
   "source": [
    "accruedInterest = cdsContract.accruedInterest()\n",
    "print(\"ACCRUED_COUPON\", accruedInterest)"
   ]
  },
  {
   "cell_type": "markdown",
   "metadata": {},
   "source": [
    "MARKIT CALCULATE 8750"
   ]
  },
  {
   "cell_type": "code",
   "execution_count": 18,
   "metadata": {},
   "outputs": [
    {
     "name": "stdout",
     "output_type": "stream",
     "text": [
      "PROTECTION_PV 47458.06755888899\n"
     ]
    }
   ],
   "source": [
    "protPV = cdsContract.protectionLegPV(settlementDate, issuerCurve, recoveryRate)\n",
    "print(\"PROTECTION_PV\", protPV)"
   ]
  },
  {
   "cell_type": "code",
   "execution_count": 19,
   "metadata": {},
   "outputs": [
    {
     "name": "stdout",
     "output_type": "stream",
     "text": [
      "PREMIUM_PV 246040.91897641603\n"
     ]
    }
   ],
   "source": [
    "premPV = cdsContract.premiumLegPV(settlementDate, issuerCurve, recoveryRate)\n",
    "print(\"PREMIUM_PV\", premPV)"
   ]
  },
  {
   "cell_type": "markdown",
   "metadata": {},
   "source": [
    "## Risk Measures"
   ]
  },
  {
   "cell_type": "code",
   "execution_count": 20,
   "metadata": {},
   "outputs": [
    {
     "name": "stdout",
     "output_type": "stream",
     "text": [
      "Credit DV01        553.62\n"
     ]
    }
   ],
   "source": [
    "creditDV01 = cdsContract.creditDV01(settlementDate, issuerCurve, recoveryRate)\n",
    "print(\"Credit DV01  %12.2f\"% creditDV01)"
   ]
  },
  {
   "cell_type": "markdown",
   "metadata": {},
   "source": [
    "MARKIT FOUND 554"
   ]
  },
  {
   "cell_type": "code",
   "execution_count": 21,
   "metadata": {},
   "outputs": [
    {
     "name": "stdout",
     "output_type": "stream",
     "text": [
      "Interest DV01         48.82\n"
     ]
    }
   ],
   "source": [
    "interestDV01 = cdsContract.interestDV01(settlementDate, issuerCurve, recoveryRate)\n",
    "print(\"Interest DV01  %12.2f\"% interestDV01)"
   ]
  },
  {
   "cell_type": "markdown",
   "metadata": {},
   "source": [
    "MARKIT FOUND 49"
   ]
  },
  {
   "cell_type": "markdown",
   "metadata": {},
   "source": [
    "## Full Analysis "
   ]
  },
  {
   "cell_type": "code",
   "execution_count": 24,
   "metadata": {},
   "outputs": [
    {
     "name": "stdout",
     "output_type": "stream",
     "text": [
      "PAYMENT_DATE      YEAR_FRAC      FLOW           DF       SURV_PROB      NPV\n",
      "FRI 20 DEC 2019   0.252778     12638.89     0.998620     0.998658     12604.51\n",
      "FRI 20 MAR 2020   0.252778     12638.89     0.993728     0.994459     12490.03\n",
      "MON 22 JUN 2020   0.261111     13055.56     0.988864     0.990140     12782.88\n",
      "MON 21 SEP 2020   0.252778     12638.89     0.984127     0.985977     12263.85\n",
      "MON 21 DEC 2020   0.252778     12638.89     0.980239     0.981832     12164.04\n",
      "MON 22 MAR 2021   0.252778     12638.89     0.978222     0.977711     12088.06\n",
      "MON 21 JUN 2021   0.252778     12638.89     0.975671     0.973607     12005.94\n",
      "MON 20 SEP 2021   0.252778     12638.89     0.971923     0.969521     11909.61\n",
      "MON 20 DEC 2021   0.252778     12638.89     0.968261     0.965451     11814.95\n",
      "MON 21 MAR 2022   0.252778     12638.89     0.964776     0.961400     11723.02\n",
      "MON 20 JUN 2022   0.252778     12638.89     0.961358     0.957365     11632.47\n",
      "TUE 20 SEP 2022   0.255556     12777.78     0.958041     0.953304     11669.99\n",
      "TUE 20 DEC 2022   0.252778     12638.89     0.954680     0.949303     11454.39\n",
      "MON 20 MAR 2023   0.250000     12500.00     0.951170     0.945364     11240.01\n",
      "TUE 20 JUN 2023   0.255556     12777.78     0.947618     0.941353     11398.34\n",
      "WED 20 SEP 2023   0.255556     12777.78     0.944133     0.937360     11308.24\n",
      "WED 20 DEC 2023   0.252778     12638.89     0.940643     0.933427     11097.21\n",
      "WED 20 MAR 2024   0.252778     12638.89     0.937040     0.929510     11008.32\n",
      "THU 20 JUN 2024   0.255556     12777.78     0.933417     0.925567     11039.24\n",
      "FRI 20 SEP 2024   0.255556     12777.78     0.929823     0.921641     10950.08\n",
      "SAT 21 DEC 2024   0.255556     12777.78     0.926196     0.917731     10861.10\n"
     ]
    }
   ],
   "source": [
    "cdsContract.printFlows(issuerCurve)"
   ]
  },
  {
   "cell_type": "code",
   "execution_count": null,
   "metadata": {},
   "outputs": [],
   "source": []
  }
 ],
 "metadata": {
  "kernelspec": {
   "display_name": "Python 3",
   "language": "python",
   "name": "python3"
  },
  "language_info": {
   "codemirror_mode": {
    "name": "ipython",
    "version": 3
   },
   "file_extension": ".py",
   "mimetype": "text/x-python",
   "name": "python",
   "nbconvert_exporter": "python",
   "pygments_lexer": "ipython3",
   "version": "3.7.6"
  }
 },
 "nbformat": 4,
 "nbformat_minor": 2
}
