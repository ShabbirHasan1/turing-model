{
 "cells": [
  {
   "cell_type": "markdown",
   "metadata": {},
   "source": [
    "# Determining the CDS Basket Spread"
   ]
  },
  {
   "cell_type": "markdown",
   "metadata": {},
   "source": [
    "An analysis of pricing a CDS Basket "
   ]
  },
  {
   "cell_type": "markdown",
   "metadata": {},
   "source": [
    "## NOTE THAT THE API WILL CHANGE BUT THE UNDERLYING MODELS WILL REMAIN"
   ]
  },
  {
   "cell_type": "code",
   "execution_count": 1,
   "metadata": {},
   "outputs": [],
   "source": [
    "import numpy as np\n",
    "import matplotlib.pyplot as plt"
   ]
  },
  {
   "cell_type": "code",
   "execution_count": 2,
   "metadata": {},
   "outputs": [
    {
     "name": "stdout",
     "output_type": "stream",
     "text": [
      "####################################################################\n",
      "# FINANCEPY BETA Version 0.191 - This build:  17 Jan 2021 at 21:17 #\n",
      "#      This software is distributed FREE & WITHOUT ANY WARRANTY    #\n",
      "# For info and disclaimer - https://github.com/domokane/FinancePy  #\n",
      "#      Send any bug reports or comments to quant@financepy.com     #\n",
      "####################################################################\n",
      "\n"
     ]
    }
   ],
   "source": [
    "from financepy.products.credit import *\n",
    "from financepy.products.rates import *\n",
    "from financepy.finutils import *"
   ]
  },
  {
   "cell_type": "code",
   "execution_count": 12,
   "metadata": {},
   "outputs": [],
   "source": [
    "valuationDate = TuringDate(1, 8, 2007)\n",
    "settlementDate = valuationDate.addWeekDays(1)"
   ]
  },
  {
   "cell_type": "markdown",
   "metadata": {},
   "source": [
    "## Build Ibor Curve"
   ]
  },
  {
   "cell_type": "code",
   "execution_count": 13,
   "metadata": {},
   "outputs": [],
   "source": [
    "dcType = TuringDayCountTypes.THIRTY_E_360_ISDA\n",
    "fixedFreq = TuringFrequencyTypes.SEMI_ANNUAL\n",
    "swapType = TuringSwapTypes.PAY\n",
    "depo = TuringIborDeposit(settlementDate, \"1D\", 0.0502, dcType)\n",
    "depos = [depo]\n",
    "swap1 = FinIborSwap(settlementDate,\"1Y\",swapType,0.0502,fixedFreq,dcType)\n",
    "swap2 = FinIborSwap(settlementDate,\"2Y\",swapType,0.0502,fixedFreq,dcType)\n",
    "swap3 = FinIborSwap(settlementDate,\"3Y\",swapType,0.0501,fixedFreq,dcType)\n",
    "swap4 = FinIborSwap(settlementDate,\"4Y\",swapType,0.0502,fixedFreq,dcType)\n",
    "swap5 = FinIborSwap(settlementDate,\"5Y\",swapType,0.0501,fixedFreq,dcType)\n",
    "swaps = [swap1,swap2,swap3,swap4,swap5]\n",
    "\n",
    "liborCurve = TuringIborSingleCurve(valuationDate, depos, [], swaps)"
   ]
  },
  {
   "cell_type": "markdown",
   "metadata": {},
   "source": [
    "We treat an index as a CDS contract with a flat CDS curve at the CDS index spread for the same maturity"
   ]
  },
  {
   "cell_type": "markdown",
   "metadata": {},
   "source": [
    "## Create the Underlying CDS Index Portfolio"
   ]
  },
  {
   "cell_type": "code",
   "execution_count": 14,
   "metadata": {},
   "outputs": [],
   "source": [
    "stepInDate = valuationDate.addWeekDays(0)\n",
    "valuationDate = stepInDate"
   ]
  },
  {
   "cell_type": "code",
   "execution_count": 15,
   "metadata": {},
   "outputs": [],
   "source": [
    "maturity3Y = valuationDate.nextCDSDate(36)\n",
    "maturity5Y = valuationDate.nextCDSDate(60)\n",
    "maturity7Y = valuationDate.nextCDSDate(84)\n",
    "maturity10Y = valuationDate.nextCDSDate(120)"
   ]
  },
  {
   "cell_type": "markdown",
   "metadata": {},
   "source": [
    "### Heterogeneous Curves"
   ]
  },
  {
   "cell_type": "code",
   "execution_count": 16,
   "metadata": {},
   "outputs": [],
   "source": [
    "f = open('.//data//CDX_NA_IG_S7_SPREADS.csv', 'r')\n",
    "data = f.readlines()\n",
    "heteroIssuerCurves = []\n",
    "\n",
    "numCredits = len(data) - 1  # The file has a header\n",
    "\n",
    "for row in data[1:]:\n",
    "    splitRow = row.split(\",\")\n",
    "    spd3Y = float(splitRow[1]) / 10000.0\n",
    "    spd5Y = float(splitRow[2]) / 10000.0\n",
    "    spd7Y = float(splitRow[3]) / 10000.0\n",
    "    spd10Y = float(splitRow[4]) / 10000.0\n",
    "    recoveryRate = float(splitRow[5])\n",
    "    cds3Y = FinCDS(stepInDate, maturity3Y, spd3Y)\n",
    "    cds5Y = FinCDS(stepInDate, maturity5Y, spd5Y)\n",
    "    cds7Y = FinCDS(stepInDate, maturity7Y, spd7Y)\n",
    "    cds10Y = FinCDS(stepInDate, maturity10Y, spd10Y)\n",
    "    cdsContracts = [cds3Y, cds5Y, cds7Y, cds10Y]\n",
    "    issuerCurve = FinCDSCurve(valuationDate, cdsContracts, liborCurve, recoveryRate)\n",
    "    heteroIssuerCurves.append(issuerCurve)"
   ]
  },
  {
   "cell_type": "markdown",
   "metadata": {},
   "source": [
    "### Homogeneous Curves "
   ]
  },
  {
   "cell_type": "markdown",
   "metadata": {},
   "source": [
    "Calculate the average spread of the heterogeneous portfolio"
   ]
  },
  {
   "cell_type": "code",
   "execution_count": 17,
   "metadata": {},
   "outputs": [],
   "source": [
    "homoIssuerCurves = []\n",
    "numCredits = 125\n",
    "recoveryRate = 0.40 "
   ]
  },
  {
   "cell_type": "code",
   "execution_count": 18,
   "metadata": {},
   "outputs": [],
   "source": [
    "cdsIndex = TuringCDSIndexPortfolio()"
   ]
  },
  {
   "cell_type": "code",
   "execution_count": 19,
   "metadata": {},
   "outputs": [],
   "source": [
    "spd3Y = cdsIndex.intrinsicSpread(valuationDate, stepInDate, maturity3Y, heteroIssuerCurves)\n",
    "spd5Y = cdsIndex.intrinsicSpread(valuationDate, stepInDate, maturity5Y, heteroIssuerCurves)\n",
    "spd7Y = cdsIndex.intrinsicSpread(valuationDate, stepInDate, maturity7Y, heteroIssuerCurves)\n",
    "spd10Y = cdsIndex.intrinsicSpread(valuationDate, stepInDate, maturity10Y, heteroIssuerCurves)"
   ]
  },
  {
   "cell_type": "code",
   "execution_count": 20,
   "metadata": {},
   "outputs": [
    {
     "name": "stdout",
     "output_type": "stream",
     "text": [
      "Homogeneous curve 3Y: 19.67881818373111\n",
      "Homogeneous curve 5Y: 35.53909951263424\n",
      "Homogeneous curve 7Y: 49.011651774052574\n",
      "Homogeneous curve 10Y: 61.413315040139416\n"
     ]
    }
   ],
   "source": [
    "print(\"Homogeneous curve 3Y:\", spd3Y*10000)\n",
    "print(\"Homogeneous curve 5Y:\", spd5Y*10000)\n",
    "print(\"Homogeneous curve 7Y:\", spd7Y*10000)\n",
    "print(\"Homogeneous curve 10Y:\", spd10Y*10000)"
   ]
  },
  {
   "cell_type": "code",
   "execution_count": 21,
   "metadata": {},
   "outputs": [],
   "source": [
    "for row in range(0,numCredits):\n",
    "    cds3Y = FinCDS(stepInDate, maturity3Y, spd3Y)\n",
    "    cds5Y = FinCDS(stepInDate, maturity5Y, spd5Y)\n",
    "    cds7Y = FinCDS(stepInDate, maturity7Y, spd7Y)\n",
    "    cds10Y = FinCDS(stepInDate, maturity10Y, spd10Y)\n",
    "    cdsContracts = [cds3Y, cds5Y, cds7Y, cds10Y]\n",
    "    issuerCurve = FinCDSCurve(valuationDate, cdsContracts, liborCurve, recoveryRate)\n",
    "    homoIssuerCurves.append(issuerCurve)"
   ]
  },
  {
   "cell_type": "markdown",
   "metadata": {},
   "source": [
    "## Define the Baskets"
   ]
  },
  {
   "cell_type": "code",
   "execution_count": 16,
   "metadata": {},
   "outputs": [],
   "source": [
    "numCredits = 5"
   ]
  },
  {
   "cell_type": "code",
   "execution_count": 17,
   "metadata": {},
   "outputs": [],
   "source": [
    "issuerCurves = heteroIssuerCurves[0:numCredits]"
   ]
  },
  {
   "cell_type": "code",
   "execution_count": 18,
   "metadata": {},
   "outputs": [],
   "source": [
    "basketMaturity = TuringDate(20, 12, 2011)\n",
    "cdsIndex = TuringCDSIndexPortfolio()"
   ]
  },
  {
   "cell_type": "code",
   "execution_count": 19,
   "metadata": {},
   "outputs": [
    {
     "name": "stdout",
     "output_type": "stream",
     "text": [
      "INTRINSIC SPD BASKET MATURITY 29.03670162944296\n",
      "SUMMED UP SPD BASKET MATURITY 145.80336927009776\n",
      "MINIMUM SPD BASKET MATURITY 9.61998164104911\n",
      "MAXIMUM SPD BASKET MATURITY 73.20625604728323\n"
     ]
    }
   ],
   "source": [
    "intrinsicSpd = cdsIndex.intrinsicSpread(valuationDate, stepInDate, basketMaturity, issuerCurves) * 10000.0\n",
    "\n",
    "print(\"INTRINSIC SPD BASKET MATURITY\", intrinsicSpd)\n",
    "\n",
    "totalSpd = cdsIndex.totalSpread(valuationDate, stepInDate, basketMaturity, issuerCurves) * 10000.0\n",
    "\n",
    "print(\"SUMMED UP SPD BASKET MATURITY\", totalSpd)\n",
    "\n",
    "minSpd = cdsIndex.minSpread(valuationDate, stepInDate, basketMaturity, issuerCurves) * 10000.0\n",
    "\n",
    "print(\"MINIMUM SPD BASKET MATURITY\", minSpd)\n",
    "\n",
    "maxSpd = cdsIndex.maxSpread(valuationDate, stepInDate, basketMaturity, issuerCurves) * 10000.0\n",
    "\n",
    "print(\"MAXIMUM SPD BASKET MATURITY\", maxSpd)"
   ]
  },
  {
   "cell_type": "code",
   "execution_count": 20,
   "metadata": {},
   "outputs": [],
   "source": [
    "basket = FinCDSBasket(valuationDate,basketMaturity)"
   ]
  },
  {
   "cell_type": "markdown",
   "metadata": {},
   "source": [
    "## Gaussian Copula Model"
   ]
  },
  {
   "cell_type": "markdown",
   "metadata": {},
   "source": [
    "WARNING: THE INTERFACE ON THIS FUNCTION WILL CHANGE SOON! THEY ALSO NEED TO BE ADAPTED TO USE NUMBA."
   ]
  },
  {
   "cell_type": "code",
   "execution_count": 21,
   "metadata": {},
   "outputs": [
    {
     "name": "stdout",
     "output_type": "stream",
     "text": [
      "NTrials   Rho    NTD    SPD_GC_MC    SPD_1FGC    SPD_ST10\n",
      "=========================================================\n",
      "   5000   0.00    1      136.548     144.123      124.471\n",
      "   5000   0.06    1      131.953     142.104      121.588\n",
      "   5000   0.25    1      122.228     133.641      115.072\n",
      "   5000   0.56    1      105.716     111.975       96.796\n",
      "   5000   0.81    1       83.155      88.634       81.201\n",
      "   5000   1.00    1       70.956      73.207       68.552\n",
      "=========================================================\n",
      "   5000   0.00    2        4.193       5.054       14.679\n",
      "   5000   0.06    2        6.282       6.820       16.535\n",
      "   5000   0.25    2       13.686      13.436       21.468\n",
      "   5000   0.56    2       24.856      25.496       27.767\n",
      "   5000   0.81    2       30.658      32.098       29.977\n",
      "   5000   1.00    2       20.593      22.006       20.717\n",
      "=========================================================\n",
      "   5000   0.00    3        0.122       0.086        1.558\n",
      "   5000   0.06    3        0.377       0.219        2.193\n",
      "   5000   0.25    3        1.266       1.451        4.468\n",
      "   5000   0.56    3        7.599       7.505       10.607\n",
      "   5000   0.81    3       14.634      15.443       14.108\n",
      "   5000   1.00    3       19.450      21.016       19.468\n",
      "=========================================================\n",
      "   5000   0.00    4        0.000       0.001        0.627\n",
      "   5000   0.06    4        0.000       0.004        0.644\n",
      "   5000   0.25    4        0.258       0.135        1.424\n",
      "   5000   0.56    4        2.240       2.120        3.912\n",
      "   5000   0.81    4        8.393       7.439        8.614\n",
      "   5000   1.00    4       18.153      19.955       18.529\n",
      "=========================================================\n",
      "   5000   0.00    5        0.000       0.000        0.000\n",
      "   5000   0.06    5        0.000       0.000        0.000\n",
      "   5000   0.25    5        0.000       0.008        0.241\n",
      "   5000   0.56    5        0.608       0.426        2.411\n",
      "   5000   0.81    5        2.927       2.857        4.503\n",
      "   5000   1.00    5        9.760       9.620        9.095\n",
      "=========================================================\n"
     ]
    }
   ],
   "source": [
    "seed = 42\n",
    "doF = 5\n",
    "numTrials = 5000\n",
    "\n",
    "print(\"NTrials   Rho    NTD    SPD_GC_MC    SPD_1FGC    SPD_ST10\")\n",
    "print(\"=========================================================\")\n",
    "\n",
    "for ntd in range(1, numCredits + 1):\n",
    "    for beta in [0.0, 0.25, 0.5, 0.75, 0.90, 0.9999]:\n",
    "        rho = beta * beta\n",
    "        betaVector = np.ones(numCredits) * beta\n",
    "        corrMatrix = corrMatrixGenerator(rho, numCredits)\n",
    "        for numTrials in [5000]:\n",
    "            v1 = basket.valueGaussian_MC(valuationDate,ntd,issuerCurves,corrMatrix,liborCurve,numTrials,seed)\n",
    "            v2 = basket.value1FGaussian_Homo(valuationDate,ntd,issuerCurves,betaVector,liborCurve)\n",
    "            v3 = basket.valueStudentT_MC(valuationDate, ntd, issuerCurves, corrMatrix, doF, liborCurve, numTrials,seed)\n",
    "            print(\"%7d  %5.2f    %d    %9.3f   %9.3f    %9.3f\"% (numTrials, rho, ntd, v1[2] * 10000, v2[3] * 10000, v3[2] *10000))\n",
    "    print(\"=========================================================\")\n"
   ]
  },
  {
   "cell_type": "markdown",
   "metadata": {},
   "source": [
    "Copyright (c) 2020 Dominic O'Kane"
   ]
  }
 ],
 "metadata": {
  "kernelspec": {
   "display_name": "Python 3",
   "language": "python",
   "name": "python3"
  },
  "language_info": {
   "codemirror_mode": {
    "name": "ipython",
    "version": 3
   },
   "file_extension": ".py",
   "mimetype": "text/x-python",
   "name": "python",
   "nbconvert_exporter": "python",
   "pygments_lexer": "ipython3",
   "version": "3.8.5"
  }
 },
 "nbformat": 4,
 "nbformat_minor": 2
}
