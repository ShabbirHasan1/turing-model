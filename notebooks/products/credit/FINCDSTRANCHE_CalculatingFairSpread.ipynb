{
 "cells": [
  {
   "cell_type": "markdown",
   "metadata": {},
   "source": [
    "# Determining the Fair Spread of a CDS Tranche"
   ]
  },
  {
   "cell_type": "markdown",
   "metadata": {},
   "source": [
    "An analysis of pricing a CDS Index using its intrinsic value"
   ]
  },
  {
   "cell_type": "code",
   "execution_count": 1,
   "metadata": {},
   "outputs": [],
   "source": [
    "import numpy as np\n",
    "import matplotlib.pyplot as plt"
   ]
  },
  {
   "cell_type": "code",
   "execution_count": 2,
   "metadata": {},
   "outputs": [
    {
     "name": "stdout",
     "output_type": "stream",
     "text": [
      "####################################################################\n",
      "# FINANCEPY BETA Version 0.191 - This build:  17 Jan 2021 at 18:30 #\n",
      "#      This software is distributed FREE & WITHOUT ANY WARRANTY    #\n",
      "# For info and disclaimer - https://github.com/domokane/FinancePy  #\n",
      "#      Send any bug reports or comments to quant@financepy.com     #\n",
      "####################################################################\n",
      "\n"
     ]
    }
   ],
   "source": [
    "from financepy.finutils import *\n",
    "from financepy.products.rates import *\n",
    "from financepy.products.credit import *"
   ]
  },
  {
   "cell_type": "code",
   "execution_count": 3,
   "metadata": {},
   "outputs": [],
   "source": [
    "valuationDate = TuringDate(2, 8, 2007)\n",
    "settlementDate = valuationDate.addWeekDays(1)"
   ]
  },
  {
   "cell_type": "markdown",
   "metadata": {},
   "source": [
    "## Build Ibor Curve"
   ]
  },
  {
   "cell_type": "code",
   "execution_count": 4,
   "metadata": {},
   "outputs": [],
   "source": [
    "dcType = TuringDayCountTypes.THIRTY_E_360_ISDA\n",
    "depos = []\n",
    "depo = TuringIborDeposit(valuationDate, \"1D\", 0.0500, dcType); depos.append(depo)\n",
    "depo = TuringIborDeposit(settlementDate, \"1D\", 0.0500, dcType); depos.append(depo)\n",
    "\n",
    "fixedFreq = TuringFrequencyTypes.SEMI_ANNUAL\n",
    "swapType = TuringSwapTypes.PAY\n",
    "swap1 = TuringIborSwap(settlementDate,\"1Y\",swapType,0.0502,fixedFreq,dcType)\n",
    "swap2 = TuringIborSwap(settlementDate,\"2Y\",swapType,0.0502,fixedFreq,dcType)\n",
    "swap3 = TuringIborSwap(settlementDate,\"3Y\",swapType,0.0501,fixedFreq,dcType)\n",
    "swap4 = TuringIborSwap(settlementDate,\"4Y\",swapType,0.0502,fixedFreq,dcType)\n",
    "swap5 = TuringIborSwap(settlementDate,\"5Y\",swapType,0.0501,fixedFreq,dcType)\n",
    "swaps = [swap1,swap2,swap3,swap4,swap5]\n",
    "\n",
    "liborCurve = TuringIborSingleCurve(valuationDate, depos, [], swaps)"
   ]
  },
  {
   "cell_type": "markdown",
   "metadata": {},
   "source": [
    "We treat an index as a CDS contract with a flat CDS curve at the CDS index spread for the same maturity"
   ]
  },
  {
   "cell_type": "markdown",
   "metadata": {},
   "source": [
    "## Create the Underlying CDS Index Portfolio"
   ]
  },
  {
   "cell_type": "code",
   "execution_count": 5,
   "metadata": {},
   "outputs": [],
   "source": [
    "stepInDate = valuationDate.addWeekDays(1)"
   ]
  },
  {
   "cell_type": "code",
   "execution_count": 6,
   "metadata": {},
   "outputs": [],
   "source": [
    "maturity3Y = valuationDate.nextCDSDate(36)\n",
    "maturity5Y = valuationDate.nextCDSDate(60)\n",
    "maturity7Y = valuationDate.nextCDSDate(84)\n",
    "maturity10Y = valuationDate.nextCDSDate(120)"
   ]
  },
  {
   "cell_type": "markdown",
   "metadata": {},
   "source": [
    "### Heterogeneous Curves"
   ]
  },
  {
   "cell_type": "code",
   "execution_count": 7,
   "metadata": {},
   "outputs": [],
   "source": [
    "f = open('.//data//CDX_NA_IG_S7_SPREADS.csv', 'r')\n",
    "data = f.readlines()\n",
    "heteroIssuerCurves = []\n",
    "\n",
    "numCredits = len(data) - 1  # The file has a header\n",
    "\n",
    "for row in data[1:]:\n",
    "    splitRow = row.split(\",\")\n",
    "    spd3Y = float(splitRow[1]) / 10000.0\n",
    "    spd5Y = float(splitRow[2]) / 10000.0\n",
    "    spd7Y = float(splitRow[3]) / 10000.0\n",
    "    spd10Y = float(splitRow[4]) / 10000.0\n",
    "    recoveryRate = float(splitRow[5])\n",
    "    cds3Y = TuringCDS(stepInDate, maturity3Y, spd3Y)\n",
    "    cds5Y = TuringCDS(stepInDate, maturity5Y, spd5Y)\n",
    "    cds7Y = TuringCDS(stepInDate, maturity7Y, spd7Y)\n",
    "    cds10Y = TuringCDS(stepInDate, maturity10Y, spd10Y)\n",
    "    cdsContracts = [cds3Y, cds5Y, cds7Y, cds10Y]\n",
    "    issuerCurve = TuringCDSCurve(valuationDate, cdsContracts, liborCurve, recoveryRate)\n",
    "    heteroIssuerCurves.append(issuerCurve)"
   ]
  },
  {
   "cell_type": "markdown",
   "metadata": {},
   "source": [
    "### Homogeneous Curves "
   ]
  },
  {
   "cell_type": "markdown",
   "metadata": {},
   "source": [
    "Calculate the average spread of the heterogeneous portfolio"
   ]
  },
  {
   "cell_type": "code",
   "execution_count": 8,
   "metadata": {},
   "outputs": [],
   "source": [
    "homoIssuerCurves = []\n",
    "numCredits = 125\n",
    "recoveryRate = 0.40 "
   ]
  },
  {
   "cell_type": "code",
   "execution_count": 9,
   "metadata": {},
   "outputs": [],
   "source": [
    "cdsIndex = TuringCDSIndexPortfolio()"
   ]
  },
  {
   "cell_type": "code",
   "execution_count": 10,
   "metadata": {},
   "outputs": [],
   "source": [
    "spd3Y = cdsIndex.intrinsicSpread(valuationDate, stepInDate, maturity3Y, heteroIssuerCurves)\n",
    "spd5Y = cdsIndex.intrinsicSpread(valuationDate, stepInDate, maturity5Y, heteroIssuerCurves)\n",
    "spd7Y = cdsIndex.intrinsicSpread(valuationDate, stepInDate, maturity7Y, heteroIssuerCurves)\n",
    "spd10Y = cdsIndex.intrinsicSpread(valuationDate, stepInDate, maturity10Y, heteroIssuerCurves)"
   ]
  },
  {
   "cell_type": "code",
   "execution_count": 11,
   "metadata": {},
   "outputs": [
    {
     "name": "stdout",
     "output_type": "stream",
     "text": [
      "Homogeneous curve 3Y: 19.678791186198726\n",
      "Homogeneous curve 5Y: 35.53904916872566\n",
      "Homogeneous curve 7Y: 49.01163746623519\n",
      "Homogeneous curve 10Y: 61.4133894203296\n"
     ]
    }
   ],
   "source": [
    "print(\"Homogeneous curve 3Y:\", spd3Y*10000)\n",
    "print(\"Homogeneous curve 5Y:\", spd5Y*10000)\n",
    "print(\"Homogeneous curve 7Y:\", spd7Y*10000)\n",
    "print(\"Homogeneous curve 10Y:\", spd10Y*10000)"
   ]
  },
  {
   "cell_type": "code",
   "execution_count": 12,
   "metadata": {},
   "outputs": [],
   "source": [
    "for row in range(0,numCredits):\n",
    "    cds3Y = TuringCDS(stepInDate, maturity3Y, spd3Y)\n",
    "    cds5Y = TuringCDS(stepInDate, maturity5Y, spd5Y)\n",
    "    cds7Y = TuringCDS(stepInDate, maturity7Y, spd7Y)\n",
    "    cds10Y = TuringCDS(stepInDate, maturity10Y, spd10Y)\n",
    "    cdsContracts = [cds3Y, cds5Y, cds7Y, cds10Y]\n",
    "    issuerCurve = TuringCDSCurve(valuationDate, cdsContracts, liborCurve, recoveryRate)\n",
    "    homoIssuerCurves.append(issuerCurve)"
   ]
  },
  {
   "cell_type": "markdown",
   "metadata": {},
   "source": [
    "## Define the Tranches"
   ]
  },
  {
   "cell_type": "code",
   "execution_count": 13,
   "metadata": {},
   "outputs": [],
   "source": [
    "trancheMaturity = maturity5Y\n",
    "tranche1 = TuringCDSTranche(valuationDate, trancheMaturity, 0.00, 0.03)\n",
    "tranche2 = TuringCDSTranche(valuationDate, trancheMaturity, 0.03, 0.06)\n",
    "tranche3 = TuringCDSTranche(valuationDate, trancheMaturity, 0.06, 0.09)\n",
    "tranche4 = TuringCDSTranche(valuationDate, trancheMaturity, 0.09, 0.12)\n",
    "tranche5 = TuringCDSTranche(valuationDate, trancheMaturity, 0.12, 0.22)\n",
    "tranche6 = TuringCDSTranche(valuationDate, trancheMaturity, 0.22, 0.60)\n",
    "tranche7 = TuringCDSTranche(valuationDate, trancheMaturity, 0.00, 0.60)\n",
    "tranche8 = TuringCDSTranche(valuationDate, trancheMaturity, 0.00, 1.00)"
   ]
  },
  {
   "cell_type": "code",
   "execution_count": 14,
   "metadata": {},
   "outputs": [],
   "source": [
    "tranches = [tranche1, tranche2, tranche3, tranche4, tranche5, tranche6, tranche7, tranche8]"
   ]
  },
  {
   "cell_type": "code",
   "execution_count": 15,
   "metadata": {},
   "outputs": [],
   "source": [
    "corr1 = 0.30\n",
    "corr2 = 0.30\n",
    "upfront = 0.0\n",
    "spd = 0.0"
   ]
  },
  {
   "cell_type": "markdown",
   "metadata": {},
   "source": [
    "## Homogeneous Portfolio Results"
   ]
  },
  {
   "cell_type": "code",
   "execution_count": 16,
   "metadata": {},
   "outputs": [
    {
     "name": "stdout",
     "output_type": "stream",
     "text": [
      "                                            Method NumPts        K1        K2     SPD(BPS)\n",
      "              TuringLossDistributionBuilder.RECURSION    50   0.00000   3.00000   875.142344\n",
      "      TuringLossDistributionBuilder.ADJUSTED_BINOMIAL    50   0.00000   3.00000   875.142344\n",
      "               TuringLossDistributionBuilder.GAUSSIAN    50   0.00000   3.00000   904.131917\n",
      "                    TuringLossDistributionBuilder.LHP    50   0.00000   3.00000   914.428151\n",
      "=============================================================================================\n",
      "              TuringLossDistributionBuilder.RECURSION    50   3.00000   6.00000   239.744106\n",
      "      TuringLossDistributionBuilder.ADJUSTED_BINOMIAL    50   3.00000   6.00000   239.744106\n",
      "               TuringLossDistributionBuilder.GAUSSIAN    50   3.00000   6.00000   215.897269\n",
      "                    TuringLossDistributionBuilder.LHP    50   3.00000   6.00000   226.978741\n",
      "=============================================================================================\n",
      "              TuringLossDistributionBuilder.RECURSION    50   6.00000   9.00000   102.226143\n",
      "      TuringLossDistributionBuilder.ADJUSTED_BINOMIAL    50   6.00000   9.00000   102.226143\n",
      "               TuringLossDistributionBuilder.GAUSSIAN    50   6.00000   9.00000    88.590706\n",
      "                    TuringLossDistributionBuilder.LHP    50   6.00000   9.00000    95.019144\n",
      "=============================================================================================\n",
      "              TuringLossDistributionBuilder.RECURSION    50   9.00000  12.00000    49.271612\n",
      "      TuringLossDistributionBuilder.ADJUSTED_BINOMIAL    50   9.00000  12.00000    49.271612\n",
      "               TuringLossDistributionBuilder.GAUSSIAN    50   9.00000  12.00000    41.430938\n",
      "                    TuringLossDistributionBuilder.LHP    50   9.00000  12.00000    45.192130\n",
      "=============================================================================================\n",
      "              TuringLossDistributionBuilder.RECURSION    50  12.00000  22.00000    14.040984\n",
      "      TuringLossDistributionBuilder.ADJUSTED_BINOMIAL    50  12.00000  22.00000    14.040984\n",
      "               TuringLossDistributionBuilder.GAUSSIAN    50  12.00000  22.00000    11.277736\n",
      "                    TuringLossDistributionBuilder.LHP    50  12.00000  22.00000    12.650902\n",
      "=============================================================================================\n",
      "              TuringLossDistributionBuilder.RECURSION    50  22.00000  60.00000     0.490457\n",
      "      TuringLossDistributionBuilder.ADJUSTED_BINOMIAL    50  22.00000  60.00000     0.490457\n",
      "               TuringLossDistributionBuilder.GAUSSIAN    50  22.00000  60.00000     0.343260\n",
      "                    TuringLossDistributionBuilder.LHP    50  22.00000  60.00000     0.418990\n",
      "=============================================================================================\n",
      "              TuringLossDistributionBuilder.RECURSION    50   0.00000  60.00000    59.236547\n",
      "      TuringLossDistributionBuilder.ADJUSTED_BINOMIAL    50   0.00000  60.00000    59.236547\n",
      "               TuringLossDistributionBuilder.GAUSSIAN    50   0.00000  60.00000    57.737541\n",
      "                    TuringLossDistributionBuilder.LHP    50   0.00000  60.00000    59.236425\n",
      "=============================================================================================\n",
      "              TuringLossDistributionBuilder.RECURSION    50   0.00000 100.00000    35.389295\n",
      "      TuringLossDistributionBuilder.ADJUSTED_BINOMIAL    50   0.00000 100.00000    35.389295\n",
      "               TuringLossDistributionBuilder.GAUSSIAN    50   0.00000 100.00000    34.501234\n",
      "                    TuringLossDistributionBuilder.LHP    50   0.00000 100.00000    35.389288\n",
      "=============================================================================================\n"
     ]
    }
   ],
   "source": [
    "print(\"%50s %5s %9s %9s %12s\"% (\"Method\", \"NumPts\", \"K1\", \"K2\", \"SPD(BPS)\"))\n",
    "for tranche in tranches:\n",
    "    for method in TuringLossDistributionBuilder:\n",
    "        for numPoints in [50]:\n",
    "            v = tranche.valueBC(valuationDate,homoIssuerCurves,upfront,spd,corr1,corr2,numPoints,method)\n",
    "            print(\"%50s %5d %9.5f %9.5f %12.6f\"% (method, numPoints, tranche._k1*100, tranche._k2*100, v[3] * 10000))\n",
    "    print(\"=============================================================================================\")"
   ]
  },
  {
   "cell_type": "markdown",
   "metadata": {},
   "source": [
    "## Heterogeneous Portfolio Results"
   ]
  },
  {
   "cell_type": "code",
   "execution_count": 17,
   "metadata": {
    "scrolled": false
   },
   "outputs": [
    {
     "name": "stdout",
     "output_type": "stream",
     "text": [
      "                                            Method NumPts        K1        K2     SPD(BPS)\n",
      "              TuringLossDistributionBuilder.RECURSION    50    0.00000   3.00000   949.643014\n",
      "      TuringLossDistributionBuilder.ADJUSTED_BINOMIAL    50    0.00000   3.00000   949.577467\n",
      "               TuringLossDistributionBuilder.GAUSSIAN    50    0.00000   3.00000   981.024090\n",
      "                    TuringLossDistributionBuilder.LHP    50    0.00000   3.00000   914.815317\n",
      "=============================================================================================\n",
      "              TuringLossDistributionBuilder.RECURSION    50    3.00000   6.00000   231.078872\n",
      "      TuringLossDistributionBuilder.ADJUSTED_BINOMIAL    50    3.00000   6.00000   231.166682\n",
      "               TuringLossDistributionBuilder.GAUSSIAN    50    3.00000   6.00000   202.418752\n",
      "                    TuringLossDistributionBuilder.LHP    50    3.00000   6.00000   226.986598\n",
      "=============================================================================================\n",
      "              TuringLossDistributionBuilder.RECURSION    50    6.00000   9.00000    87.300805\n",
      "      TuringLossDistributionBuilder.ADJUSTED_BINOMIAL    50    6.00000   9.00000    87.355840\n",
      "               TuringLossDistributionBuilder.GAUSSIAN    50    6.00000   9.00000    72.607174\n",
      "                    TuringLossDistributionBuilder.LHP    50    6.00000   9.00000    95.010947\n",
      "=============================================================================================\n",
      "              TuringLossDistributionBuilder.RECURSION    50    9.00000  12.00000    37.533363\n",
      "      TuringLossDistributionBuilder.ADJUSTED_BINOMIAL    50    9.00000  12.00000    37.388592\n",
      "               TuringLossDistributionBuilder.GAUSSIAN    50    9.00000  12.00000    30.017626\n",
      "                    TuringLossDistributionBuilder.LHP    50    9.00000  12.00000    45.184999\n",
      "=============================================================================================\n",
      "              TuringLossDistributionBuilder.RECURSION    50   12.00000  22.00000     8.955499\n",
      "      TuringLossDistributionBuilder.ADJUSTED_BINOMIAL    50   12.00000  22.00000     8.971195\n",
      "               TuringLossDistributionBuilder.GAUSSIAN    50   12.00000  22.00000     6.772676\n",
      "                    TuringLossDistributionBuilder.LHP    50   12.00000  22.00000    12.647870\n",
      "=============================================================================================\n",
      "              TuringLossDistributionBuilder.RECURSION    50   22.00000  60.00000     0.213056\n",
      "      TuringLossDistributionBuilder.ADJUSTED_BINOMIAL    50   22.00000  60.00000     0.213152\n",
      "               TuringLossDistributionBuilder.GAUSSIAN    50   22.00000  60.00000     0.136094\n",
      "                    TuringLossDistributionBuilder.LHP    50   22.00000  60.00000     0.419001\n",
      "=============================================================================================\n",
      "              TuringLossDistributionBuilder.RECURSION    50    0.00000  60.00000    59.238161\n",
      "      TuringLossDistributionBuilder.ADJUSTED_BINOMIAL    50    0.00000  60.00000    59.238161\n",
      "               TuringLossDistributionBuilder.GAUSSIAN    50    0.00000  60.00000    57.720276\n",
      "                    TuringLossDistributionBuilder.LHP    50    0.00000  60.00000    59.238130\n",
      "=============================================================================================\n",
      "              TuringLossDistributionBuilder.RECURSION    50    0.00000 100.00000    35.389921\n",
      "      TuringLossDistributionBuilder.ADJUSTED_BINOMIAL    50    0.00000 100.00000    35.389921\n",
      "               TuringLossDistributionBuilder.GAUSSIAN    50    0.00000 100.00000    34.491027\n",
      "                    TuringLossDistributionBuilder.LHP    50    0.00000 100.00000    35.389904\n",
      "=============================================================================================\n"
     ]
    }
   ],
   "source": [
    "print(\"%50s %5s %9s %9s %12s\"% (\"Method\", \"NumPts\", \"K1\", \"K2\", \"SPD(BPS)\"))\n",
    "\n",
    "for tranche in tranches:\n",
    "    for method in TuringLossDistributionBuilder:\n",
    "        for numPoints in [50]:\n",
    "            v = tranche.valueBC(valuationDate,heteroIssuerCurves,upfront,spd,corr1,corr2,numPoints,method)\n",
    "            print(\"%50s %5d  %9.5f %9.5f %12.6f\"% (method, numPoints, tranche._k1*100, tranche._k2*100, v[3] * 10000))\n",
    "    print(\"=============================================================================================\")"
   ]
  },
  {
   "cell_type": "markdown",
   "metadata": {},
   "source": [
    "Copyright (c) 2020 Dominic O'Kane"
   ]
  }
 ],
 "metadata": {
  "kernelspec": {
   "display_name": "Python 3",
   "language": "python",
   "name": "python3"
  },
  "language_info": {
   "codemirror_mode": {
    "name": "ipython",
    "version": 3
   },
   "file_extension": ".py",
   "mimetype": "text/x-python",
   "name": "python",
   "nbconvert_exporter": "python",
   "pygments_lexer": "ipython3",
   "version": "3.8.5"
  }
 },
 "nbformat": 4,
 "nbformat_minor": 2
}
