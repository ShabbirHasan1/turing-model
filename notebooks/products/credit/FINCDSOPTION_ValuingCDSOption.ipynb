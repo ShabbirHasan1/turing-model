{
 "cells": [
  {
   "cell_type": "markdown",
   "metadata": {},
   "source": [
    "# Creating and Valuing a CDS Option"
   ]
  },
  {
   "cell_type": "markdown",
   "metadata": {},
   "source": [
    "Example CDS Valuation and comparison with market standard ISDA model on Markit website"
   ]
  },
  {
   "cell_type": "code",
   "execution_count": 1,
   "metadata": {},
   "outputs": [],
   "source": [
    "import numpy as np\n",
    "import matplotlib.pyplot as plt"
   ]
  },
  {
   "cell_type": "code",
   "execution_count": 2,
   "metadata": {},
   "outputs": [
    {
     "name": "stdout",
     "output_type": "stream",
     "text": [
      "####################################################################\n",
      "# FINANCEPY BETA Version 0.185 - This build:  24 Oct 2020 at 20:12 #\n",
      "#      This software is distributed FREE & WITHOUT ANY WARRANTY    #\n",
      "# For info and disclaimer - https://github.com/domokane/FinancePy  #\n",
      "#      Send any bug reports or comments to quant@financepy.com     #\n",
      "####################################################################\n",
      "\n"
     ]
    }
   ],
   "source": [
    "from financepy.finutils import *\n",
    "from financepy.products.rates import *\n",
    "from financepy.products.credit import *"
   ]
  },
  {
   "cell_type": "markdown",
   "metadata": {},
   "source": [
    "Set the trade date and settlement date one day later"
   ]
  },
  {
   "cell_type": "code",
   "execution_count": 3,
   "metadata": {},
   "outputs": [],
   "source": [
    "valuationDate = TuringDate(5, 2, 2014)\n",
    "settlementDate = valuationDate.addDays(1)"
   ]
  },
  {
   "cell_type": "markdown",
   "metadata": {},
   "source": [
    "## Build Ibor Curve"
   ]
  },
  {
   "cell_type": "code",
   "execution_count": 6,
   "metadata": {},
   "outputs": [
    {
     "name": "stdout",
     "output_type": "stream",
     "text": [
      "Inserting synthetic deposit\n"
     ]
    }
   ],
   "source": [
    "dcType = TuringDayCountTypes.THIRTY_E_360\n",
    "depo = TuringIborDeposit(settlementDate, \"1D\", 0.0502, dcType)\n",
    "depos = [depo]\n",
    "fixedFreq = TuringFrequencyTypes.SEMI_ANNUAL\n",
    "swapType = TuringSwapTypes.PAY\n",
    "swap1 = FinIborSwap(settlementDate,\"1Y\",swapType,0.0502,fixedFreq,dcType)\n",
    "swap2 = FinIborSwap(settlementDate,\"2Y\",swapType,0.0502,fixedFreq,dcType)\n",
    "swap3 = FinIborSwap(settlementDate,\"3Y\",swapType,0.0501,fixedFreq,dcType)\n",
    "swap4 = FinIborSwap(settlementDate,\"4Y\",swapType,0.0502,fixedFreq,dcType)\n",
    "swap5 = FinIborSwap(settlementDate,\"5Y\",swapType,0.0501,fixedFreq,dcType)\n",
    "swaps = [swap1,swap2,swap3,swap4,swap5]\n",
    "\n",
    "liborCurve = TuringIborSingleCurve(valuationDate, depos, [], swaps)"
   ]
  },
  {
   "cell_type": "markdown",
   "metadata": {},
   "source": [
    "## Build a CDS Curve"
   ]
  },
  {
   "cell_type": "code",
   "execution_count": 7,
   "metadata": {},
   "outputs": [],
   "source": [
    "cdsFlatSpread = 0.0100"
   ]
  },
  {
   "cell_type": "code",
   "execution_count": 8,
   "metadata": {},
   "outputs": [],
   "source": [
    "cds1 = FinCDS(settlementDate, \"1Y\", cdsFlatSpread)\n",
    "cds2 = FinCDS(settlementDate, \"2Y\", cdsFlatSpread)\n",
    "cds3 = FinCDS(settlementDate, \"3Y\", cdsFlatSpread)\n",
    "cds4 = FinCDS(settlementDate, \"4Y\", cdsFlatSpread)\n",
    "cds5 = FinCDS(settlementDate, \"5Y\", cdsFlatSpread)\n",
    "cds6 = FinCDS(settlementDate, \"7Y\", cdsFlatSpread)\n",
    "cds7 = FinCDS(settlementDate, \"10Y\", cdsFlatSpread)\n",
    "cds8 = FinCDS(settlementDate, \"15Y\", cdsFlatSpread)"
   ]
  },
  {
   "cell_type": "code",
   "execution_count": 9,
   "metadata": {},
   "outputs": [],
   "source": [
    "cdss = [cds1, cds2, cds3, cds4, cds5, cds6, cds7, cds8]"
   ]
  },
  {
   "cell_type": "code",
   "execution_count": 10,
   "metadata": {},
   "outputs": [],
   "source": [
    "recoveryRate = 0.40"
   ]
  },
  {
   "cell_type": "code",
   "execution_count": 11,
   "metadata": {},
   "outputs": [],
   "source": [
    "issuerCurve = FinCDSCurve(valuationDate, cdss, liborCurve, recoveryRate)"
   ]
  },
  {
   "cell_type": "markdown",
   "metadata": {},
   "source": [
    "## CDS Option"
   ]
  },
  {
   "cell_type": "code",
   "execution_count": 13,
   "metadata": {},
   "outputs": [],
   "source": [
    "stepInDate = valuationDate.addDays(1)\n",
    "expiryDate = TuringDate(20, 3, 2014)\n",
    "maturityDate = TuringDate(20, 6, 2019)    "
   ]
  },
  {
   "cell_type": "code",
   "execution_count": 14,
   "metadata": {},
   "outputs": [],
   "source": [
    "cdsCoupon = 0.01\n",
    "volatility = 0.3    \n",
    "notional = ONE_MILLION\n",
    "longProtection = True"
   ]
  },
  {
   "cell_type": "code",
   "execution_count": 15,
   "metadata": {},
   "outputs": [],
   "source": [
    "strikes = np.linspace(80,120,21)/10000\n",
    "longValues = []\n",
    "shortValues = []\n",
    "\n",
    "# Long Protection\n",
    "for strike in strikes:\n",
    "    cdsOption = TuringCDSOption(expiryDate, maturityDate, strike, notional, True)\n",
    "    v = cdsOption.value(valuationDate, issuerCurve, volatility)\n",
    "    longValues.append(v)\n",
    "    \n",
    "# Short Protection\n",
    "for strike in strikes:\n",
    "    cdsOption = TuringCDSOption(expiryDate, maturityDate, strike, notional, False)\n",
    "    v = cdsOption.value(valuationDate, issuerCurve, volatility)\n",
    "    shortValues.append(v)\n",
    "    "
   ]
  },
  {
   "cell_type": "code",
   "execution_count": 16,
   "metadata": {},
   "outputs": [
    {
     "data": {
      "image/png": "[encoded data removed]",
      "text/plain": [
       "<Figure size 432x288 with 1 Axes>"
      ]
     },
     "metadata": {
      "needs_background": "light"
     },
     "output_type": "display_data"
    }
   ],
   "source": [
    "plt.plot(strikes*10000, longValues, label=\"Long Protection\")\n",
    "plt.plot(strikes*10000, shortValues, label=\"Short Protection\")\n",
    "plt.xlabel(\"Strike (bp)\")\n",
    "plt.ylabel(\"Value (USD)\")\n",
    "plt.legend();"
   ]
  },
  {
   "cell_type": "markdown",
   "metadata": {},
   "source": [
    "## Put Call Parity"
   ]
  },
  {
   "cell_type": "markdown",
   "metadata": {},
   "source": [
    "Check that put-call parity holds by comparing a long protection minus a short protection option to a forward starting long protection CDS"
   ]
  },
  {
   "cell_type": "code",
   "execution_count": 17,
   "metadata": {},
   "outputs": [],
   "source": [
    "fwdValues = []\n",
    "\n",
    "for strike in strikes:\n",
    "    fwdCDSContract = FinCDS(expiryDate, maturityDate, strike, notional, True)\n",
    "    v = fwdCDSContract.value(valuationDate, issuerCurve, recoveryRate)\n",
    "    fwdValues.append(v['full_pv'])"
   ]
  },
  {
   "cell_type": "code",
   "execution_count": 18,
   "metadata": {},
   "outputs": [],
   "source": [
    "callMinusPut = np.array(longValues) - np.array(shortValues)"
   ]
  },
  {
   "cell_type": "code",
   "execution_count": 20,
   "metadata": {},
   "outputs": [
    {
     "data": {
      "image/png": "[encoded data removed]",
      "text/plain": [
       "<Figure size 432x288 with 1 Axes>"
      ]
     },
     "metadata": {
      "needs_background": "light"
     },
     "output_type": "display_data"
    }
   ],
   "source": [
    "plt.plot(strikes*10000, fwdValues, label=\"Forward Values\")\n",
    "plt.plot(strikes*10000, callMinusPut, label=\"Long minus short\")\n",
    "plt.xlabel(\"Strike (bp)\")\n",
    "plt.ylabel(\"Value (USD)\")\n",
    "plt.legend();"
   ]
  },
  {
   "cell_type": "markdown",
   "metadata": {},
   "source": [
    "## Implied Volatility"
   ]
  },
  {
   "cell_type": "markdown",
   "metadata": {},
   "source": [
    "Let us just check that we can recover the input volatility"
   ]
  },
  {
   "cell_type": "code",
   "execution_count": 21,
   "metadata": {},
   "outputs": [
    {
     "name": "stdout",
     "output_type": "stream",
     "text": [
      "       100   1825.04151  30.00000000%\n",
      "       105   3186.75629  30.00000000%\n",
      "       110   4901.42375  30.00000000%\n",
      "       115   6859.25130  30.00000000%\n",
      "       120   8958.29214  30.00000000%\n",
      "       125  11127.95456  30.00000000%\n",
      "       130  13328.59731  30.00000000%\n",
      "       135  15541.35112  30.00000000%\n",
      "       140  17758.38211  30.00000000%\n",
      "       145  19976.79407  30.00000000%\n",
      "       150  22195.61792  30.00000000%\n",
      "       155  24414.55631  30.00000000%\n",
      "       160  26633.52463  30.00000000%\n",
      "       165  28852.50036  30.00000000%\n",
      "       170  31071.47783  30.00000000%\n",
      "       175  33290.45570  30.00000000%\n",
      "       180  35509.43365  30.00000000%\n",
      "       185  37728.41162  30.00000000%\n",
      "       190  39947.38959  30.00000000%\n",
      "       195  42166.36756  30.00000000%\n",
      "       200  44385.34554  30.00000000%\n"
     ]
    }
   ],
   "source": [
    "for strike in np.linspace(100, 200, 21):\n",
    "    cdsOption = TuringCDSOption(expiryDate, maturityDate, strike / 10000.0,  notional, False)\n",
    "    v = cdsOption.value(valuationDate, issuerCurve, volatility)\n",
    "    vol = cdsOption.impliedVolatility(valuationDate, issuerCurve, v)\n",
    "    print(\"%10d %12.5f %12.8f%%\" %(strike, v, vol*100))"
   ]
  },
  {
   "cell_type": "markdown",
   "metadata": {},
   "source": [
    "We recovery the used volatility as required."
   ]
  },
  {
   "cell_type": "markdown",
   "metadata": {},
   "source": [
    "Copyright (c) 2020 Dominic O'Kane"
   ]
  }
 ],
 "metadata": {
  "kernelspec": {
   "display_name": "Python 3",
   "language": "python",
   "name": "python3"
  },
  "language_info": {
   "codemirror_mode": {
    "name": "ipython",
    "version": 3
   },
   "file_extension": ".py",
   "mimetype": "text/x-python",
   "name": "python",
   "nbconvert_exporter": "python",
   "pygments_lexer": "ipython3",
   "version": "3.7.6"
  }
 },
 "nbformat": 4,
 "nbformat_minor": 2
}
