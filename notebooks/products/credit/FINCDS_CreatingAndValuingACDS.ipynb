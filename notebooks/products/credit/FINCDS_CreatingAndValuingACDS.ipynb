{
 "cells": [
  {
   "cell_type": "markdown",
   "metadata": {},
   "source": [
    "# Creating and Valuing a CDS Contract"
   ]
  },
  {
   "cell_type": "markdown",
   "metadata": {},
   "source": [
    "Creates a CDS contract and does a valuation and calculates risk measures"
   ]
  },
  {
   "cell_type": "code",
   "execution_count": 1,
   "metadata": {},
   "outputs": [],
   "source": [
    "import numpy as np\n",
    "import matplotlib.pyplot as plt"
   ]
  },
  {
   "cell_type": "code",
   "execution_count": 2,
   "metadata": {},
   "outputs": [
    {
     "name": "stdout",
     "output_type": "stream",
     "text": [
      "####################################################################\n",
      "# FINANCEPY BETA Version 0.185 - This build:  24 Oct 2020 at 20:12 #\n",
      "#      This software is distributed FREE & WITHOUT ANY WARRANTY    #\n",
      "# For info and disclaimer - https://github.com/domokane/FinancePy  #\n",
      "#      Send any bug reports or comments to quant@financepy.com     #\n",
      "####################################################################\n",
      "\n"
     ]
    }
   ],
   "source": [
    "from financepy.finutils import *\n",
    "from financepy.products.rates import *\n",
    "from financepy.products.credit import *"
   ]
  },
  {
   "cell_type": "markdown",
   "metadata": {},
   "source": [
    "## Creating a CDS Contract"
   ]
  },
  {
   "cell_type": "code",
   "execution_count": 3,
   "metadata": {},
   "outputs": [],
   "source": [
    "valuationDate = TuringDate(9, 8, 2019)\n",
    "effectiveDate = valuationDate\n",
    "maturityDate = TuringDate(20, 6, 2029)\n",
    "cdsCoupon = 0.0150\n",
    "notional = ONE_MILLION\n",
    "longProtection = False\n",
    "tradeDate = TuringDate(9, 8, 2019)"
   ]
  },
  {
   "cell_type": "code",
   "execution_count": 4,
   "metadata": {},
   "outputs": [],
   "source": [
    "cdsContract = FinCDS(effectiveDate, maturityDate, cdsCoupon, notional, longProtection)"
   ]
  },
  {
   "cell_type": "markdown",
   "metadata": {},
   "source": [
    "## Build Ibor Curve"
   ]
  },
  {
   "cell_type": "code",
   "execution_count": 5,
   "metadata": {},
   "outputs": [],
   "source": [
    "settlementDate = effectiveDate"
   ]
  },
  {
   "cell_type": "code",
   "execution_count": 12,
   "metadata": {},
   "outputs": [],
   "source": [
    "dcType = TuringDayCountTypes.ACT_360\n",
    "depo1 = TuringIborDeposit(settlementDate, \"1M\", 0.022009, dcType)\n",
    "depo2 = TuringIborDeposit(settlementDate, \"2M\", 0.022138, dcType)\n",
    "depo3 = TuringIborDeposit(settlementDate, \"3M\", 0.021810, dcType)\n",
    "depo4 = TuringIborDeposit(settlementDate, \"6M\", 0.020503, dcType)\n",
    "depo5 = TuringIborDeposit(settlementDate, \"12M\", 0.019930, dcType)\n",
    "depos = [depo1,depo2,depo3,depo4,depo5]\n",
    "\n",
    "dcType = TuringDayCountTypes.THIRTY_E_360_ISDA\n",
    "fixedFreq = TuringFrequencyTypes.SEMI_ANNUAL\n",
    "swapType = TuringSwapTypes.PAY\n",
    "\n",
    "swap1 = FinIborSwap(settlementDate,\"2Y\",swapType,0.015910,fixedFreq,dcType)\n",
    "swap2 = FinIborSwap(settlementDate,\"3Y\",swapType,0.014990,fixedFreq,dcType)\n",
    "swap3 = FinIborSwap(settlementDate,\"4Y\",swapType,0.014725,fixedFreq,dcType)\n",
    "swap4 = FinIborSwap(settlementDate,\"5Y\",swapType,0.014640,fixedFreq,dcType)\n",
    "swap5 = FinIborSwap(settlementDate,\"6Y\",swapType,0.014800,fixedFreq,dcType)\n",
    "swap6 = FinIborSwap(settlementDate,\"7Y\",swapType,0.014995,fixedFreq,dcType)\n",
    "swap7 = FinIborSwap(settlementDate,\"8Y\",swapType,0.015180,fixedFreq,dcType)\n",
    "swap8 = FinIborSwap(settlementDate,\"9Y\",swapType,0.015610,fixedFreq,dcType)\n",
    "swap9 = FinIborSwap(settlementDate,\"10Y\",swapType,0.0159880,fixedFreq,dcType)\n",
    "swap10 = FinIborSwap(settlementDate,\"12Y\",swapType,0.016430,fixedFreq,dcType)\n",
    "swaps = [swap1,swap2,swap3,swap4,swap5,swap6,swap7,swap8,swap9,swap10]\n",
    "\n",
    "liborCurve = TuringIborSingleCurve(valuationDate, depos, [], swaps)"
   ]
  },
  {
   "cell_type": "markdown",
   "metadata": {},
   "source": [
    "# Build a CDS Curve"
   ]
  },
  {
   "cell_type": "code",
   "execution_count": 13,
   "metadata": {},
   "outputs": [],
   "source": [
    "cds1 = FinCDS(settlementDate, \"1Y\", 0.0200)\n",
    "cds2 = FinCDS(settlementDate, \"2Y\", 0.0220)\n",
    "cds3 = FinCDS(settlementDate, \"3Y\", 0.0250)\n",
    "cds4 = FinCDS(settlementDate, \"4Y\", 0.0275)\n",
    "cds5 = FinCDS(settlementDate, \"5Y\", 0.0290)\n",
    "cds6 = FinCDS(settlementDate, \"7Y\", 0.0300)\n",
    "cds7 = FinCDS(settlementDate, \"10Y\", 0.0310)\n",
    "cds8 = FinCDS(settlementDate, \"15Y\", 0.0315)"
   ]
  },
  {
   "cell_type": "code",
   "execution_count": 14,
   "metadata": {},
   "outputs": [],
   "source": [
    "cdss = [cds1, cds2, cds3, cds4, cds5, cds6, cds7, cds8]"
   ]
  },
  {
   "cell_type": "code",
   "execution_count": 15,
   "metadata": {},
   "outputs": [],
   "source": [
    "recoveryRate = 0.40"
   ]
  },
  {
   "cell_type": "code",
   "execution_count": 16,
   "metadata": {},
   "outputs": [],
   "source": [
    "issuerCurve = FinCDSCurve(valuationDate, cdss, liborCurve, recoveryRate)"
   ]
  },
  {
   "cell_type": "code",
   "execution_count": 17,
   "metadata": {},
   "outputs": [
    {
     "name": "stdout",
     "output_type": "stream",
     "text": [
      "OBJECT TYPE: FinCDSCurve\n",
      "TIME,SURVIVAL_PROBABILITY\n",
      " 0.0000000,  1.0000000\n",
      " 1.1178082,  0.9629280\n",
      " 2.1178082,  0.9241524\n",
      " 3.1178082,  0.8756501\n",
      " 4.1178082,  0.8234894\n",
      " 5.1205479,  0.7743682\n",
      " 7.1205479,  0.6920884\n",
      "10.1232877,  0.5813178\n",
      "15.1260274,  0.4389424\n"
     ]
    }
   ],
   "source": [
    "print(issuerCurve)"
   ]
  },
  {
   "cell_type": "markdown",
   "metadata": {},
   "source": [
    "# Valuation"
   ]
  },
  {
   "cell_type": "code",
   "execution_count": 18,
   "metadata": {},
   "outputs": [
    {
     "name": "stdout",
     "output_type": "stream",
     "text": [
      "FAIR CDS SPREAD  309.40693 bp\n"
     ]
    }
   ],
   "source": [
    "spd = cdsContract.parSpread(settlementDate, issuerCurve, recoveryRate) * 10000.0\n",
    "print(\"FAIR CDS SPREAD %10.5f bp\"% spd)"
   ]
  },
  {
   "cell_type": "code",
   "execution_count": 19,
   "metadata": {},
   "outputs": [],
   "source": [
    "v = cdsContract.value(settlementDate, issuerCurve, recoveryRate)"
   ]
  },
  {
   "cell_type": "code",
   "execution_count": 20,
   "metadata": {},
   "outputs": [],
   "source": [
    "full_pv = v['full_pv'] \n",
    "clean_pv = v['clean_pv']"
   ]
  },
  {
   "cell_type": "code",
   "execution_count": 21,
   "metadata": {},
   "outputs": [
    {
     "name": "stdout",
     "output_type": "stream",
     "text": [
      "FULL VALUE    -115810.02\n",
      "CLEAN VALUE   -117893.35\n"
     ]
    }
   ],
   "source": [
    "print(\"FULL VALUE  %12.2f\"% full_pv)\n",
    "print(\"CLEAN VALUE %12.2f\"% clean_pv)"
   ]
  },
  {
   "cell_type": "code",
   "execution_count": 22,
   "metadata": {},
   "outputs": [
    {
     "name": "stdout",
     "output_type": "stream",
     "text": [
      "CLEAN PRICE    88.210959\n"
     ]
    }
   ],
   "source": [
    "cleanp = cdsContract.cleanPrice(settlementDate, issuerCurve, recoveryRate)\n",
    "print(\"CLEAN PRICE %12.6f\"% cleanp)"
   ]
  },
  {
   "cell_type": "code",
   "execution_count": 23,
   "metadata": {},
   "outputs": [
    {
     "name": "stdout",
     "output_type": "stream",
     "text": [
      "ACCRUED_DAYS 50\n"
     ]
    }
   ],
   "source": [
    "accruedDays = cdsContract.accruedDays()\n",
    "print(\"ACCRUED_DAYS\", accruedDays)"
   ]
  },
  {
   "cell_type": "code",
   "execution_count": 24,
   "metadata": {},
   "outputs": [
    {
     "name": "stdout",
     "output_type": "stream",
     "text": [
      "ACCRUED_COUPON 2083.3333333333335\n"
     ]
    }
   ],
   "source": [
    "accruedInterest = cdsContract.accruedInterest()\n",
    "print(\"ACCRUED_COUPON\", accruedInterest)"
   ]
  },
  {
   "cell_type": "code",
   "execution_count": 20,
   "metadata": {},
   "outputs": [
    {
     "name": "stdout",
     "output_type": "stream",
     "text": [
      "PROTECTION_PV 228829.57245128392\n"
     ]
    }
   ],
   "source": [
    "protPV = cdsContract.protectionLegPV(settlementDate, issuerCurve, recoveryRate)\n",
    "print(\"PROTECTION_PV\", protPV)"
   ]
  },
  {
   "cell_type": "code",
   "execution_count": 21,
   "metadata": {},
   "outputs": [
    {
     "name": "stdout",
     "output_type": "stream",
     "text": [
      "PREMIUM_PV 113019.55526164455\n"
     ]
    }
   ],
   "source": [
    "premPV = cdsContract.premiumLegPV(settlementDate, issuerCurve, recoveryRate)\n",
    "print(\"PREMIUM_PV\", premPV)"
   ]
  },
  {
   "cell_type": "code",
   "execution_count": 22,
   "metadata": {},
   "outputs": [
    {
     "name": "stdout",
     "output_type": "stream",
     "text": [
      "FULL_RPV01 7.534637017442971\n",
      "CLEAN_RPV01 7.395748128554081\n"
     ]
    }
   ],
   "source": [
    "rpv01 = cdsContract.riskyPV01(settlementDate, issuerCurve)\n",
    "print(\"FULL_RPV01\", rpv01['full_rpv01'])\n",
    "print(\"CLEAN_RPV01\", rpv01['clean_rpv01'])"
   ]
  },
  {
   "cell_type": "code",
   "execution_count": 23,
   "metadata": {},
   "outputs": [
    {
     "data": {
      "text/plain": [
       "{'full_rpv01': 7.534637017442971, 'clean_rpv01': 7.395748128554081}"
      ]
     },
     "execution_count": 23,
     "metadata": {},
     "output_type": "execute_result"
    }
   ],
   "source": [
    "cdsContract.riskyPV01(settlementDate, issuerCurve)"
   ]
  },
  {
   "cell_type": "markdown",
   "metadata": {},
   "source": [
    "## Risk Measures"
   ]
  },
  {
   "cell_type": "code",
   "execution_count": 24,
   "metadata": {},
   "outputs": [],
   "source": [
    "creditDV01 = cdsContract.creditDV01(settlementDate, issuerCurve, recoveryRate)"
   ]
  },
  {
   "cell_type": "code",
   "execution_count": 25,
   "metadata": {},
   "outputs": [
    {
     "data": {
      "text/plain": [
       "-650.8402049520955"
      ]
     },
     "execution_count": 25,
     "metadata": {},
     "output_type": "execute_result"
    }
   ],
   "source": [
    "creditDV01"
   ]
  },
  {
   "cell_type": "markdown",
   "metadata": {},
   "source": [
    "Copyright (c) 2020 Dominic O'Kane"
   ]
  }
 ],
 "metadata": {
  "kernelspec": {
   "display_name": "Python 3",
   "language": "python",
   "name": "python3"
  },
  "language_info": {
   "codemirror_mode": {
    "name": "ipython",
    "version": 3
   },
   "file_extension": ".py",
   "mimetype": "text/x-python",
   "name": "python",
   "nbconvert_exporter": "python",
   "pygments_lexer": "ipython3",
   "version": "3.7.6"
  }
 },
 "nbformat": 4,
 "nbformat_minor": 2
}
