{
 "cells": [
  {
   "cell_type": "markdown",
   "metadata": {},
   "source": [
    "# Creating and Valuing a CDS Index"
   ]
  },
  {
   "cell_type": "markdown",
   "metadata": {},
   "source": [
    "Example CDS Index Valuation"
   ]
  },
  {
   "cell_type": "code",
   "execution_count": 1,
   "metadata": {},
   "outputs": [],
   "source": [
    "import numpy as np\n",
    "import matplotlib.pyplot as plt"
   ]
  },
  {
   "cell_type": "code",
   "execution_count": 2,
   "metadata": {},
   "outputs": [
    {
     "name": "stdout",
     "output_type": "stream",
     "text": [
      "####################################################################\n",
      "# FINANCEPY BETA Version 0.185 - This build:  24 Oct 2020 at 20:12 #\n",
      "#      This software is distributed FREE & WITHOUT ANY WARRANTY    #\n",
      "# For info and disclaimer - https://github.com/domokane/FinancePy  #\n",
      "#      Send any bug reports or comments to quant@financepy.com     #\n",
      "####################################################################\n",
      "\n"
     ]
    }
   ],
   "source": [
    "from financepy.finutils import *\n",
    "from financepy.products.rates import *\n",
    "from financepy.products.credit import *"
   ]
  },
  {
   "cell_type": "code",
   "execution_count": 14,
   "metadata": {},
   "outputs": [
    {
     "name": "stdout",
     "output_type": "stream",
     "text": [
      "TUE 07 FEB 2006\n"
     ]
    }
   ],
   "source": [
    "valuationDate = TuringDate(7, 2, 2006)\n",
    "settlementDate = valuationDate.addWeekDays(0)\n",
    "print(settlementDate)"
   ]
  },
  {
   "cell_type": "markdown",
   "metadata": {},
   "source": [
    "## Build Ibor Curve"
   ]
  },
  {
   "cell_type": "markdown",
   "metadata": {},
   "source": [
    "Build the Ibor curve to value cashflows"
   ]
  },
  {
   "cell_type": "code",
   "execution_count": 15,
   "metadata": {},
   "outputs": [],
   "source": [
    "depos = []\n",
    "dcType = TuringDayCountTypes.THIRTY_E_360_ISDA\n",
    "fixedFreq = TuringFrequencyTypes.SEMI_ANNUAL\n",
    "swapType = TuringSwapTypes.PAY\n",
    "swap1 = FinIborSwap(settlementDate,\"1Y\",swapType,0.0502,fixedFreq,dcType)\n",
    "swap2 = FinIborSwap(settlementDate,\"2Y\",swapType,0.0502,fixedFreq,dcType)\n",
    "swap3 = FinIborSwap(settlementDate,\"3Y\",swapType,0.0501,fixedFreq,dcType)\n",
    "swap4 = FinIborSwap(settlementDate,\"4Y\",swapType,0.0502,fixedFreq,dcType)\n",
    "swap5 = FinIborSwap(settlementDate,\"5Y\",swapType,0.0501,fixedFreq,dcType)\n",
    "swaps = [swap1,swap2,swap3,swap4,swap5]\n",
    "\n",
    "liborCurve = TuringIborSingleCurve(valuationDate, depos, [], swaps)"
   ]
  },
  {
   "cell_type": "markdown",
   "metadata": {},
   "source": [
    "## Build Index Curve"
   ]
  },
  {
   "cell_type": "markdown",
   "metadata": {},
   "source": [
    "We treat an index as a CDS contract with a flat CDS curve at the CDS index spread for the same maturity"
   ]
  },
  {
   "cell_type": "code",
   "execution_count": 16,
   "metadata": {},
   "outputs": [],
   "source": [
    "stepInDate = valuationDate"
   ]
  },
  {
   "cell_type": "code",
   "execution_count": 17,
   "metadata": {},
   "outputs": [],
   "source": [
    "indexCoupon = 0.0048375\n",
    "maturityDate = TuringDate(20, 6, 2010)\n",
    "\n",
    "cdsMarketContracts = []\n",
    "cds = FinCDS(valuationDate, maturityDate, indexCoupon)\n",
    "cdsMarketContracts.append(cds)\n",
    "\n",
    "recoveryRate = 0.40\n",
    "indexCurve = FinCDSCurve(valuationDate, cdsMarketContracts,liborCurve,recoveryRate)"
   ]
  },
  {
   "cell_type": "markdown",
   "metadata": {},
   "source": [
    "## Create CDS Index and Perform Valuation"
   ]
  },
  {
   "cell_type": "markdown",
   "metadata": {},
   "source": [
    "The CDS Index is treated as a CDS with the coupon equal to the CDS Index coupon"
   ]
  },
  {
   "cell_type": "code",
   "execution_count": 18,
   "metadata": {},
   "outputs": [],
   "source": [
    "cdsRecovery = 0.40\n",
    "notional = 10.0 * ONE_MILLION\n",
    "longProtection = True\n",
    "indexCoupon = 0.004 \n",
    "\n",
    "cdsIndexContract = FinCDS(stepInDate, maturityDate, indexCoupon, notional, longProtection)"
   ]
  },
  {
   "cell_type": "code",
   "execution_count": 19,
   "metadata": {},
   "outputs": [
    {
     "name": "stdout",
     "output_type": "stream",
     "text": [
      "PAR SPREAD 48.37497289672881\n"
     ]
    }
   ],
   "source": [
    "spd = cdsIndexContract.parSpread(valuationDate, indexCurve, cdsRecovery) * 10000\n",
    "print(\"PAR SPREAD\", spd)"
   ]
  },
  {
   "cell_type": "code",
   "execution_count": 20,
   "metadata": {},
   "outputs": [
    {
     "name": "stdout",
     "output_type": "stream",
     "text": [
      "FULL VALUE 27148.41172362311\n",
      "CLEAN VALUE 32592.856168067578\n"
     ]
    }
   ],
   "source": [
    "v = cdsIndexContract.value(valuationDate, indexCurve, cdsRecovery)\n",
    "print(\"FULL VALUE\", v['full_pv'])\n",
    "print(\"CLEAN VALUE\", v['clean_pv'])"
   ]
  },
  {
   "cell_type": "code",
   "execution_count": 21,
   "metadata": {},
   "outputs": [
    {
     "name": "stdout",
     "output_type": "stream",
     "text": [
      "CLEAN PRICE 99.67407120570428\n"
     ]
    }
   ],
   "source": [
    "p = cdsIndexContract.cleanPrice(valuationDate, indexCurve, cdsRecovery)\n",
    "print(\"CLEAN PRICE\", p)"
   ]
  },
  {
   "cell_type": "code",
   "execution_count": 22,
   "metadata": {},
   "outputs": [
    {
     "name": "stdout",
     "output_type": "stream",
     "text": [
      "ACCRUED DAYS 49\n",
      "ACCRUED COUPON -5444.444444444444\n"
     ]
    }
   ],
   "source": [
    "accruedDays = cdsIndexContract.accruedDays()\n",
    "print(\"ACCRUED DAYS\", accruedDays)\n",
    "\n",
    "accruedInterest = cdsIndexContract.accruedInterest()\n",
    "print(\"ACCRUED COUPON\", accruedInterest)"
   ]
  },
  {
   "cell_type": "code",
   "execution_count": 23,
   "metadata": {},
   "outputs": [
    {
     "name": "stdout",
     "output_type": "stream",
     "text": [
      "PROTECTION LEG PV 188260.7326852467\n"
     ]
    }
   ],
   "source": [
    "protPV = cdsIndexContract.protectionLegPV(valuationDate, indexCurve, cdsRecovery)\n",
    "print(\"PROTECTION LEG PV\", protPV)"
   ]
  },
  {
   "cell_type": "code",
   "execution_count": 24,
   "metadata": {},
   "outputs": [
    {
     "name": "stdout",
     "output_type": "stream",
     "text": [
      "PREMIUM LEG PV 161112.32096162357\n"
     ]
    }
   ],
   "source": [
    "premPV = cdsIndexContract.premiumLegPV(valuationDate, indexCurve, cdsRecovery)\n",
    "print(\"PREMIUM LEG PV\", premPV)"
   ]
  },
  {
   "cell_type": "code",
   "execution_count": 25,
   "metadata": {},
   "outputs": [
    {
     "name": "stdout",
     "output_type": "stream",
     "text": [
      "FULL  RPV01 4.027808024040589\n",
      "CLEAN RPV01 3.8916969129294783\n"
     ]
    }
   ],
   "source": [
    "rpv01 = cdsIndexContract.riskyPV01(valuationDate, indexCurve)\n",
    "print(\"FULL  RPV01\", rpv01['full_rpv01'])\n",
    "print(\"CLEAN RPV01\", rpv01['clean_rpv01'])"
   ]
  },
  {
   "cell_type": "markdown",
   "metadata": {},
   "source": [
    "Copyright (c) 2020 Dominic O'Kane"
   ]
  }
 ],
 "metadata": {
  "kernelspec": {
   "display_name": "Python 3",
   "language": "python",
   "name": "python3"
  },
  "language_info": {
   "codemirror_mode": {
    "name": "ipython",
    "version": 3
   },
   "file_extension": ".py",
   "mimetype": "text/x-python",
   "name": "python",
   "nbconvert_exporter": "python",
   "pygments_lexer": "ipython3",
   "version": "3.7.6"
  }
 },
 "nbformat": 4,
 "nbformat_minor": 2
}
