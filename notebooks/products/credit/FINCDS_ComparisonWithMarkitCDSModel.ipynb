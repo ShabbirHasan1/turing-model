{
 "cells": [
  {
   "cell_type": "markdown",
   "metadata": {},
   "source": [
    "# Creating and Valuing a CDS Contract"
   ]
  },
  {
   "cell_type": "markdown",
   "metadata": {},
   "source": [
    "Replicating Markit Pricing on 20 Aug 2020"
   ]
  },
  {
   "cell_type": "code",
   "execution_count": 1,
   "metadata": {},
   "outputs": [],
   "source": [
    "import numpy as np\n",
    "import matplotlib.pyplot as plt"
   ]
  },
  {
   "cell_type": "code",
   "execution_count": 2,
   "metadata": {},
   "outputs": [
    {
     "name": "stdout",
     "output_type": "stream",
     "text": [
      "####################################################################\n",
      "# FINANCEPY BETA Version 0.185 - This build:  24 Oct 2020 at 20:12 #\n",
      "#      This software is distributed FREE & WITHOUT ANY WARRANTY    #\n",
      "# For info and disclaimer - https://github.com/domokane/FinancePy  #\n",
      "#      Send any bug reports or comments to quant@financepy.com     #\n",
      "####################################################################\n",
      "\n"
     ]
    }
   ],
   "source": [
    "from financepy.finutils import *\n",
    "from financepy.products.rates import *\n",
    "from financepy.products.credit import *"
   ]
  },
  {
   "cell_type": "markdown",
   "metadata": {},
   "source": [
    "## Creating a CDS Contract"
   ]
  },
  {
   "cell_type": "code",
   "execution_count": 7,
   "metadata": {},
   "outputs": [],
   "source": [
    "valuationDate = TuringDate(20, 8, 2020)\n",
    "effectiveDate = TuringDate(21, 8, 2020)\n",
    "maturityDate = TuringDate(20, 6, 2025)\n",
    "runningCoupon = 0.05\n",
    "notional = ONE_MILLION\n",
    "longProtection = True"
   ]
  },
  {
   "cell_type": "code",
   "execution_count": 4,
   "metadata": {},
   "outputs": [],
   "source": [
    "cdsContract = TuringCDS(effectiveDate, maturityDate, runningCoupon, notional, longProtection)"
   ]
  },
  {
   "cell_type": "markdown",
   "metadata": {},
   "source": [
    "## Build Ibor Curve"
   ]
  },
  {
   "cell_type": "code",
   "execution_count": 5,
   "metadata": {},
   "outputs": [],
   "source": [
    "settlementDate = TuringDate(24, 8, 2020)"
   ]
  },
  {
   "cell_type": "code",
   "execution_count": 8,
   "metadata": {},
   "outputs": [
    {
     "name": "stdout",
     "output_type": "stream",
     "text": [
      "Inserting synthetic deposit\n"
     ]
    }
   ],
   "source": [
    "dcType = TuringDayCountTypes.ACT_360\n",
    "depo1 = TuringIborDeposit(settlementDate, \"1M\", 0.001709, dcType)\n",
    "depo2 = TuringIborDeposit(settlementDate, \"2M\", 0.002123, dcType)\n",
    "depo3 = TuringIborDeposit(settlementDate, \"3M\", 0.002469, dcType)\n",
    "depo4 = TuringIborDeposit(settlementDate, \"6M\", 0.003045, dcType)\n",
    "depo5 = TuringIborDeposit(settlementDate, \"12M\", 0.004449, dcType)\n",
    "depos = [depo1,depo2,depo3,depo4,depo5]\n",
    "\n",
    "swapType = TuringSwapTypes.PAY\n",
    "dcType = TuringDayCountTypes.THIRTY_E_360_ISDA\n",
    "fixedFreq = TuringFrequencyTypes.SEMI_ANNUAL\n",
    "swap1 = TuringIborSwap(settlementDate,\"2Y\", swapType, 0.002155,fixedFreq,dcType)\n",
    "swap2 = TuringIborSwap(settlementDate,\"3Y\", swapType, 0.002305,fixedFreq,dcType)\n",
    "swap3 = TuringIborSwap(settlementDate,\"4Y\", swapType, 0.002665,fixedFreq,dcType)\n",
    "swap4 = TuringIborSwap(settlementDate,\"5Y\", swapType, 0.003290,fixedFreq,dcType)\n",
    "swap5 = TuringIborSwap(settlementDate,\"6Y\", swapType, 0.004025,fixedFreq,dcType)\n",
    "swap6 = TuringIborSwap(settlementDate,\"7Y\", swapType, 0.004725,fixedFreq,dcType)\n",
    "swap7 = TuringIborSwap(settlementDate,\"8Y\", swapType, 0.005430,fixedFreq,dcType)\n",
    "swap8 = TuringIborSwap(settlementDate,\"9Y\", swapType, 0.006075,fixedFreq,dcType)\n",
    "swap9 = TuringIborSwap(settlementDate,\"10Y\", swapType, 0.006640,fixedFreq,dcType)\n",
    "swaps = [swap1,swap2,swap3,swap4,swap5,swap6,swap7,swap8,swap9]\n",
    "\n",
    "liborCurve = TuringIborSingleCurve(valuationDate, depos, [], swaps)"
   ]
  },
  {
   "cell_type": "markdown",
   "metadata": {},
   "source": [
    "# Build a CDS Curve"
   ]
  },
  {
   "cell_type": "code",
   "execution_count": 9,
   "metadata": {},
   "outputs": [],
   "source": [
    "cdsSpread = 0.01"
   ]
  },
  {
   "cell_type": "code",
   "execution_count": 10,
   "metadata": {},
   "outputs": [],
   "source": [
    "cds1 = TuringCDS(settlementDate, \"6M\", cdsSpread)\n",
    "cds2 = TuringCDS(settlementDate, \"1Y\", cdsSpread)\n",
    "cds3 = TuringCDS(settlementDate, \"2Y\", cdsSpread)\n",
    "cds4 = TuringCDS(settlementDate, \"3Y\", cdsSpread)\n",
    "cds5 = TuringCDS(settlementDate, \"4Y\", cdsSpread)\n",
    "cds6 = TuringCDS(settlementDate, \"5Y\", cdsSpread)\n",
    "cds7 = TuringCDS(settlementDate, \"7Y\", cdsSpread)\n",
    "cds8 = TuringCDS(settlementDate, \"10Y\", cdsSpread)"
   ]
  },
  {
   "cell_type": "code",
   "execution_count": 11,
   "metadata": {},
   "outputs": [],
   "source": [
    "cdss = [cds1, cds2, cds3, cds4, cds5, cds6, cds7, cds8]"
   ]
  },
  {
   "cell_type": "code",
   "execution_count": 12,
   "metadata": {},
   "outputs": [],
   "source": [
    "recoveryRate = 0.40"
   ]
  },
  {
   "cell_type": "code",
   "execution_count": 14,
   "metadata": {},
   "outputs": [],
   "source": [
    "issuerCurve = TuringCDSCurve(valuationDate, cdss, liborCurve, recoveryRate)"
   ]
  },
  {
   "cell_type": "code",
   "execution_count": 15,
   "metadata": {},
   "outputs": [
    {
     "name": "stdout",
     "output_type": "stream",
     "text": [
      "OBJECT TYPE: TuringCDSCurve\n",
      "TIME,SURVIVAL_PROBABILITY\n",
      " 0.0000000,  1.0000000\n",
      " 0.5808219,  0.9901921\n",
      " 1.0849315,  0.9817974\n",
      " 2.0849315,  0.9653478\n",
      " 3.0849315,  0.9491785\n",
      " 4.0876712,  0.9332392\n",
      " 5.0876712,  0.9176136\n",
      " 7.0876712,  0.8871536\n",
      "10.0904110,  0.8433231\n"
     ]
    }
   ],
   "source": [
    "print(issuerCurve)"
   ]
  },
  {
   "cell_type": "code",
   "execution_count": 16,
   "metadata": {},
   "outputs": [
    {
     "name": "stdout",
     "output_type": "stream",
     "text": [
      "PAYMENT_DATE      YEAR_FRAC      FLOW           DF       SURV_PROB      NPV\n",
      "MON 21 SEP 2020   0.252778     12638.89     0.999848     0.998513     12618.18\n",
      "MON 21 DEC 2020   0.252778     12638.89     0.999079     0.994298     12555.25\n",
      "MON 22 MAR 2021   0.252778     12638.89     0.998005     0.990100     12488.80\n",
      "MON 21 JUN 2021   0.252778     12638.89     0.996528     0.985940     12417.92\n",
      "MON 20 SEP 2021   0.252778     12638.89     0.995677     0.981797     12355.18\n",
      "MON 20 DEC 2021   0.252778     12638.89     0.996304     0.977670     12310.99\n",
      "MON 21 MAR 2022   0.252778     12638.89     0.996610     0.973560     12263.01\n",
      "MON 20 JUN 2022   0.252778     12638.89     0.996071     0.969468     12204.85\n",
      "TUE 20 SEP 2022   0.255556     12777.78     0.995501     0.965348     12279.50\n",
      "TUE 20 DEC 2022   0.252778     12638.89     0.994878     0.961291     12087.41\n",
      "MON 20 MAR 2023   0.250000     12500.00     0.994249     0.957295     11897.38\n",
      "TUE 20 JUN 2023   0.255556     12777.78     0.993573     0.953228     12101.86\n",
      "WED 20 SEP 2023   0.255556     12777.78     0.992836     0.949178     12041.50\n",
      "WED 20 DEC 2023   0.252778     12638.89     0.991960     0.945190     11850.11\n",
      "WED 20 MAR 2024   0.252778     12638.89     0.991061     0.941219     11789.62\n",
      "THU 20 JUN 2024   0.255556     12777.78     0.990080     0.937220     11856.80\n",
      "FRI 20 SEP 2024   0.255556     12777.78     0.988996     0.933239     11793.50\n",
      "FRI 20 DEC 2024   0.252778     12638.89     0.987647     0.929319     11600.46\n",
      "THU 20 MAR 2025   0.250000     12500.00     0.986270     0.925458     11409.39\n",
      "SAT 21 JUN 2025   0.258333     12916.67     0.984725     0.921485     11720.69\n"
     ]
    }
   ],
   "source": [
    "cdsContract.printFlows(issuerCurve)"
   ]
  },
  {
   "cell_type": "markdown",
   "metadata": {},
   "source": [
    "# Valuation"
   ]
  },
  {
   "cell_type": "code",
   "execution_count": 17,
   "metadata": {},
   "outputs": [
    {
     "name": "stdout",
     "output_type": "stream",
     "text": [
      "FAIR CDS SPREAD  100.00001 bp\n"
     ]
    }
   ],
   "source": [
    "spd = cdsContract.parSpread(settlementDate, issuerCurve, recoveryRate) * 10000.0\n",
    "print(\"FAIR CDS SPREAD %10.5f bp\"% spd)"
   ]
  },
  {
   "cell_type": "code",
   "execution_count": 18,
   "metadata": {},
   "outputs": [
    {
     "data": {
      "text/plain": [
       "(-195533.6454106767, -187200.31207734335, 533.6950180429558, 44.32197353540687)"
      ]
     },
     "execution_count": 18,
     "metadata": {},
     "output_type": "execute_result"
    }
   ],
   "source": [
    "cdsContract.valueFastApprox(settlementDate, 0.004, 0.01, 0.40, 0.40)"
   ]
  },
  {
   "cell_type": "code",
   "execution_count": 19,
   "metadata": {},
   "outputs": [],
   "source": [
    "v = cdsContract.value(settlementDate, issuerCurve, recoveryRate)"
   ]
  },
  {
   "cell_type": "code",
   "execution_count": 20,
   "metadata": {},
   "outputs": [],
   "source": [
    "full_pv = v['full_pv'] \n",
    "clean_pv = v['clean_pv']"
   ]
  },
  {
   "cell_type": "code",
   "execution_count": 21,
   "metadata": {},
   "outputs": [
    {
     "name": "stdout",
     "output_type": "stream",
     "text": [
      "FULL VALUE    -195423.92\n",
      "CLEAN VALUE   -187090.59\n"
     ]
    }
   ],
   "source": [
    "print(\"FULL VALUE  %12.2f\"% full_pv)\n",
    "print(\"CLEAN VALUE %12.2f\"% clean_pv)"
   ]
  },
  {
   "cell_type": "code",
   "execution_count": 22,
   "metadata": {},
   "outputs": [
    {
     "name": "stdout",
     "output_type": "stream",
     "text": [
      "CLEAN PRICE   118.709065\n"
     ]
    }
   ],
   "source": [
    "cleanp = cdsContract.cleanPrice(settlementDate, issuerCurve, recoveryRate)\n",
    "print(\"CLEAN PRICE %12.6f\"% cleanp)"
   ]
  },
  {
   "cell_type": "code",
   "execution_count": 23,
   "metadata": {},
   "outputs": [
    {
     "name": "stdout",
     "output_type": "stream",
     "text": [
      "ACCRUED_DAYS 60\n"
     ]
    }
   ],
   "source": [
    "accruedDays = cdsContract.accruedDays()\n",
    "print(\"ACCRUED_DAYS\", accruedDays)"
   ]
  },
  {
   "cell_type": "code",
   "execution_count": 29,
   "metadata": {},
   "outputs": [
    {
     "name": "stdout",
     "output_type": "stream",
     "text": [
      "ACCRUED_COUPON -8333.333333333334\n"
     ]
    }
   ],
   "source": [
    "accruedInterest = cdsContract.accruedInterest()\n",
    "print(\"ACCRUED_COUPON\", accruedInterest)"
   ]
  },
  {
   "cell_type": "code",
   "execution_count": 30,
   "metadata": {},
   "outputs": [
    {
     "name": "stdout",
     "output_type": "stream",
     "text": [
      "PROTECTION_PV 46771.65011225943\n"
     ]
    }
   ],
   "source": [
    "protPV = cdsContract.protectionLegPV(settlementDate, issuerCurve, recoveryRate)\n",
    "print(\"PROTECTION_PV\", protPV)"
   ]
  },
  {
   "cell_type": "code",
   "execution_count": 31,
   "metadata": {},
   "outputs": [
    {
     "name": "stdout",
     "output_type": "stream",
     "text": [
      "PREMIUM_PV 242192.6470217891\n"
     ]
    }
   ],
   "source": [
    "premPV = cdsContract.premiumLegPV(settlementDate, issuerCurve, recoveryRate)\n",
    "print(\"PREMIUM_PV\", premPV)"
   ]
  },
  {
   "cell_type": "code",
   "execution_count": 32,
   "metadata": {},
   "outputs": [
    {
     "data": {
      "text/plain": [
       "{'full_rpv01': 4.843852940435782, 'clean_rpv01': 4.677186273769115}"
      ]
     },
     "execution_count": 32,
     "metadata": {},
     "output_type": "execute_result"
    }
   ],
   "source": [
    "cdsContract.riskyPV01(settlementDate, issuerCurve)"
   ]
  },
  {
   "cell_type": "markdown",
   "metadata": {},
   "source": [
    "## Risk Measures"
   ]
  },
  {
   "cell_type": "code",
   "execution_count": 33,
   "metadata": {},
   "outputs": [
    {
     "data": {
      "text/plain": [
       "542.5032361687918"
      ]
     },
     "execution_count": 33,
     "metadata": {},
     "output_type": "execute_result"
    }
   ],
   "source": [
    "cdsContract.creditDV01(settlementDate, issuerCurve, recoveryRate)"
   ]
  },
  {
   "cell_type": "code",
   "execution_count": 34,
   "metadata": {},
   "outputs": [
    {
     "data": {
      "text/plain": [
       "46.52493245183723"
      ]
     },
     "execution_count": 34,
     "metadata": {},
     "output_type": "execute_result"
    }
   ],
   "source": [
    "cdsContract.interestDV01(settlementDate, issuerCurve, recoveryRate)"
   ]
  },
  {
   "cell_type": "markdown",
   "metadata": {},
   "source": [
    "Copyright (c) 2020 Dominic O'Kane"
   ]
  }
 ],
 "metadata": {
  "kernelspec": {
   "display_name": "Python 3",
   "language": "python",
   "name": "python3"
  },
  "language_info": {
   "codemirror_mode": {
    "name": "ipython",
    "version": 3
   },
   "file_extension": ".py",
   "mimetype": "text/x-python",
   "name": "python",
   "nbconvert_exporter": "python",
   "pygments_lexer": "ipython3",
   "version": "3.7.6"
  }
 },
 "nbformat": 4,
 "nbformat_minor": 2
}
