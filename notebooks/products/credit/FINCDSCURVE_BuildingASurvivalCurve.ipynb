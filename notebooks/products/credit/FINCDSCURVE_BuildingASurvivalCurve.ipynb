{
 "cells": [
  {
   "cell_type": "markdown",
   "metadata": {},
   "source": [
    "# Building a CDS Survival Curve"
   ]
  },
  {
   "cell_type": "markdown",
   "metadata": {},
   "source": [
    "Understand what a CDS survival curve is"
   ]
  },
  {
   "cell_type": "code",
   "execution_count": 2,
   "metadata": {},
   "outputs": [],
   "source": [
    "import numpy as np\n",
    "import matplotlib.pyplot as plt"
   ]
  },
  {
   "cell_type": "code",
   "execution_count": 3,
   "metadata": {},
   "outputs": [
    {
     "name": "stdout",
     "output_type": "stream",
     "text": [
      "####################################################################\n",
      "# FINANCEPY BETA Version 0.185 - This build:  24 Oct 2020 at 20:12 #\n",
      "#      This software is distributed FREE & WITHOUT ANY WARRANTY    #\n",
      "# For info and disclaimer - https://github.com/domokane/FinancePy  #\n",
      "#      Send any bug reports or comments to quant@financepy.com     #\n",
      "####################################################################\n",
      "\n"
     ]
    }
   ],
   "source": [
    "from financepy.products.credit import *\n",
    "from financepy.products.rates import *\n",
    "from financepy.finutils import *"
   ]
  },
  {
   "cell_type": "markdown",
   "metadata": {},
   "source": [
    "## Build Ibor Curve"
   ]
  },
  {
   "cell_type": "code",
   "execution_count": 4,
   "metadata": {},
   "outputs": [],
   "source": [
    "valuationDate = TuringDate(20, 12, 2018)\n",
    "settlementDate = valuationDate.addWeekDays(2)"
   ]
  },
  {
   "cell_type": "code",
   "execution_count": 6,
   "metadata": {},
   "outputs": [
    {
     "name": "stdout",
     "output_type": "stream",
     "text": [
      "Inserting synthetic deposit\n"
     ]
    }
   ],
   "source": [
    "dcType = TuringDayCountTypes.ACT_360\n",
    "depo1 = TuringIborDeposit(settlementDate, \"1M\", 0.022009, dcType)\n",
    "depo2 = TuringIborDeposit(settlementDate, \"2M\", 0.022138, dcType)\n",
    "depo3 = TuringIborDeposit(settlementDate, \"3M\", 0.021810, dcType)\n",
    "depo4 = TuringIborDeposit(settlementDate, \"6M\", 0.020503, dcType)\n",
    "depo5 = TuringIborDeposit(settlementDate, \"12M\", 0.019930, dcType)\n",
    "depos = [depo1,depo2,depo3,depo4,depo5]\n",
    "\n",
    "swapType = TuringSwapTypes.PAY\n",
    "dcType = TuringDayCountTypes.THIRTY_E_360_ISDA\n",
    "fixedFreq = TuringFrequencyTypes.SEMI_ANNUAL\n",
    "swap1 = TuringIborSwap(settlementDate,\"2Y\",swapType,0.015910,fixedFreq,dcType)\n",
    "swap2 = TuringIborSwap(settlementDate,\"3Y\",swapType,0.014990,fixedFreq,dcType)\n",
    "swap3 = TuringIborSwap(settlementDate,\"4Y\",swapType,0.014725,fixedFreq,dcType)\n",
    "swap4 = TuringIborSwap(settlementDate,\"5Y\",swapType,0.014640,fixedFreq,dcType)\n",
    "swap5 = TuringIborSwap(settlementDate,\"6Y\",swapType,0.014800,fixedFreq,dcType)\n",
    "swap6 = TuringIborSwap(settlementDate,\"7Y\",swapType,0.014995,fixedFreq,dcType)\n",
    "swap7 = TuringIborSwap(settlementDate,\"8Y\",swapType,0.015180,fixedFreq,dcType)\n",
    "swap8 = TuringIborSwap(settlementDate,\"9Y\",swapType,0.015610,fixedFreq,dcType)\n",
    "swap9 = TuringIborSwap(settlementDate,\"10Y\",swapType,0.0159880,fixedFreq,dcType)\n",
    "swap10 = TuringIborSwap(settlementDate,\"12Y\",swapType,0.016430,fixedFreq,dcType)\n",
    "swaps = [swap1,swap2,swap3,swap4,swap5,swap6,swap7,swap8,swap9,swap10]\n",
    "\n",
    "liborCurve = TuringIborSingleCurve(valuationDate, depos, [], swaps)"
   ]
  },
  {
   "cell_type": "markdown",
   "metadata": {},
   "source": [
    "# Build a CDS Curve"
   ]
  },
  {
   "cell_type": "code",
   "execution_count": 7,
   "metadata": {},
   "outputs": [],
   "source": [
    "cds1 = TuringCDS(settlementDate, \"1Y\", 0.0200)\n",
    "cds2 = TuringCDS(settlementDate, \"2Y\", 0.0220)\n",
    "cds3 = TuringCDS(settlementDate, \"3Y\", 0.0250)\n",
    "cds4 = TuringCDS(settlementDate, \"4Y\", 0.0275)\n",
    "cds5 = TuringCDS(settlementDate, \"5Y\", 0.0290)\n",
    "cds6 = TuringCDS(settlementDate, \"7Y\", 0.0300)\n",
    "cds7 = TuringCDS(settlementDate, \"10Y\", 0.0310)\n",
    "cds8 = TuringCDS(settlementDate, \"15Y\", 0.0315)"
   ]
  },
  {
   "cell_type": "code",
   "execution_count": 8,
   "metadata": {},
   "outputs": [],
   "source": [
    "cdss = [cds1, cds2, cds3, cds4, cds5, cds6, cds7, cds8]"
   ]
  },
  {
   "cell_type": "code",
   "execution_count": 9,
   "metadata": {},
   "outputs": [],
   "source": [
    "recoveryRate = 0.40"
   ]
  },
  {
   "cell_type": "code",
   "execution_count": 11,
   "metadata": {},
   "outputs": [],
   "source": [
    "issuerCurve = TuringCDSCurve(valuationDate, cdss, liborCurve, recoveryRate)"
   ]
  },
  {
   "cell_type": "markdown",
   "metadata": {},
   "source": [
    "## Examine the Survival Curve"
   ]
  },
  {
   "cell_type": "code",
   "execution_count": 12,
   "metadata": {},
   "outputs": [
    {
     "name": "stdout",
     "output_type": "stream",
     "text": [
      "[ 0.          1.24931507  2.24931507  3.24931507  4.24931507  5.25205479\n",
      "  7.25205479 10.25479452 15.25753425]\n"
     ]
    }
   ],
   "source": [
    "print(issuerCurve._times)"
   ]
  },
  {
   "cell_type": "code",
   "execution_count": 13,
   "metadata": {},
   "outputs": [
    {
     "name": "stdout",
     "output_type": "stream",
     "text": [
      "[1.         0.95865928 0.91965042 0.87076376 0.81836154 0.76921838\n",
      " 0.68726229 0.57702864 0.43558352]\n"
     ]
    }
   ],
   "source": [
    "print(issuerCurve._values)"
   ]
  },
  {
   "cell_type": "code",
   "execution_count": 14,
   "metadata": {},
   "outputs": [],
   "source": [
    "times = np.linspace(0.0,20.0,10)"
   ]
  },
  {
   "cell_type": "code",
   "execution_count": 15,
   "metadata": {},
   "outputs": [
    {
     "data": {
      "text/plain": [
       "array([ 0.        ,  2.22222222,  4.44444444,  6.66666667,  8.88888889,\n",
       "       11.11111111, 13.33333333, 15.55555556, 17.77777778, 20.        ])"
      ]
     },
     "execution_count": 15,
     "metadata": {},
     "output_type": "execute_result"
    }
   ],
   "source": [
    "times"
   ]
  },
  {
   "cell_type": "code",
   "execution_count": 16,
   "metadata": {},
   "outputs": [],
   "source": [
    "survProbs = issuerCurve.survProb(times)"
   ]
  },
  {
   "cell_type": "code",
   "execution_count": 17,
   "metadata": {},
   "outputs": [
    {
     "data": {
      "text/plain": [
       "array([1.        , 0.92068607, 0.80855848, 0.71030226, 0.62479089,\n",
       "       0.54991191, 0.48533841, 0.42834746, 0.37804869, 0.33365626])"
      ]
     },
     "execution_count": 17,
     "metadata": {},
     "output_type": "execute_result"
    }
   ],
   "source": [
    "survProbs"
   ]
  },
  {
   "cell_type": "code",
   "execution_count": 18,
   "metadata": {},
   "outputs": [
    {
     "data": {
      "text/plain": [
       "Text(0, 0.5, 'Survival Probability')"
      ]
     },
     "execution_count": 18,
     "metadata": {},
     "output_type": "execute_result"
    },
    {
     "data": {
      "image/png": "[encoded data removed]",
      "text/plain": [
       "<Figure size 432x288 with 1 Axes>"
      ]
     },
     "metadata": {
      "needs_background": "light"
     },
     "output_type": "display_data"
    }
   ],
   "source": [
    "plt.plot(times, survProbs)\n",
    "plt.xlabel(\"Years\")\n",
    "plt.ylabel(\"Survival Probability\")"
   ]
  },
  {
   "cell_type": "markdown",
   "metadata": {},
   "source": [
    "Copyright (c) 2020 Dominic O'Kane"
   ]
  }
 ],
 "metadata": {
  "kernelspec": {
   "display_name": "Python 3",
   "language": "python",
   "name": "python3"
  },
  "language_info": {
   "codemirror_mode": {
    "name": "ipython",
    "version": 3
   },
   "file_extension": ".py",
   "mimetype": "text/x-python",
   "name": "python",
   "nbconvert_exporter": "python",
   "pygments_lexer": "ipython3",
   "version": "3.7.6"
  }
 },
 "nbformat": 4,
 "nbformat_minor": 2
}
