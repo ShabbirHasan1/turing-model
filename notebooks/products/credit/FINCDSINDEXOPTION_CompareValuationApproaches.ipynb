{
 "cells": [
  {
   "cell_type": "markdown",
   "metadata": {},
   "source": [
    "# Creating and Valuing a CDS Index Option"
   ]
  },
  {
   "cell_type": "markdown",
   "metadata": {},
   "source": [
    "This notebook does the valuation of an option on a CDS index using Anderson's method and an Adjusted Black Method. For details see Modelling Singlename and Multiname Credit Derivatives by D.O'Kane."
   ]
  },
  {
   "cell_type": "code",
   "execution_count": 1,
   "metadata": {},
   "outputs": [],
   "source": [
    "import numpy as np\n",
    "import matplotlib.pyplot as plt"
   ]
  },
  {
   "cell_type": "code",
   "execution_count": 2,
   "metadata": {},
   "outputs": [
    {
     "name": "stdout",
     "output_type": "stream",
     "text": [
      "####################################################################\n",
      "# FINANCEPY BETA Version 0.191 - This build:  17 Jan 2021 at 18:30 #\n",
      "#      This software is distributed FREE & WITHOUT ANY WARRANTY    #\n",
      "# For info and disclaimer - https://github.com/domokane/FinancePy  #\n",
      "#      Send any bug reports or comments to quant@financepy.com     #\n",
      "####################################################################\n",
      "\n"
     ]
    }
   ],
   "source": [
    "from financepy.finutils import *\n",
    "from financepy.products.rates import *\n",
    "from financepy.products.credit import *"
   ]
  },
  {
   "cell_type": "code",
   "execution_count": 3,
   "metadata": {},
   "outputs": [],
   "source": [
    "valuationDate = TuringDate(1, 8, 2007)\n",
    "stepInDate = valuationDate.addWeekDays(0)\n",
    "valuationDate = stepInDate\n",
    "settlementDate = stepInDate"
   ]
  },
  {
   "cell_type": "markdown",
   "metadata": {},
   "source": [
    "## Build Libor Curve"
   ]
  },
  {
   "cell_type": "code",
   "execution_count": 4,
   "metadata": {},
   "outputs": [],
   "source": [
    "dcType = TuringDayCountTypes.THIRTY_E_360_ISDA\n",
    "depos = []\n",
    "depo = TuringIborDeposit(settlementDate, \"1D\", 0.0500, dcType); depos.append(depo)\n",
    "\n",
    "fixedFreq = TuringFrequencyTypes.SEMI_ANNUAL\n",
    "swapType = TuringSwapTypes.PAY\n",
    "swap1 = FinIborSwap(settlementDate,\"1Y\",swapType,0.0502,fixedFreq,dcType)\n",
    "swap2 = FinIborSwap(settlementDate,\"2Y\",swapType,0.0502,fixedFreq,dcType)\n",
    "swap3 = FinIborSwap(settlementDate,\"3Y\",swapType,0.0501,fixedFreq,dcType)\n",
    "swap4 = FinIborSwap(settlementDate,\"4Y\",swapType,0.0502,fixedFreq,dcType)\n",
    "swap5 = FinIborSwap(settlementDate,\"5Y\",swapType,0.0501,fixedFreq,dcType)\n",
    "swaps = [swap1,swap2,swap3,swap4,swap5]\n",
    "\n",
    "liborCurve = TuringIborSingleCurve(valuationDate, depos, [], swaps)"
   ]
  },
  {
   "cell_type": "code",
   "execution_count": 5,
   "metadata": {},
   "outputs": [],
   "source": [
    "cdsMaturity3Y = valuationDate.nextCDSDate(36)\n",
    "cdsMaturity5Y = valuationDate.nextCDSDate(60)\n",
    "cdsMaturity7Y = valuationDate.nextCDSDate(84)\n",
    "cdsMaturity10Y = valuationDate.nextCDSDate(120)"
   ]
  },
  {
   "cell_type": "markdown",
   "metadata": {},
   "source": [
    "## Load the Underlying CDS Index Portfolio"
   ]
  },
  {
   "cell_type": "code",
   "execution_count": 6,
   "metadata": {},
   "outputs": [],
   "source": [
    "f = open('.//data//CDX_NA_IG_S7_SPREADS.csv', 'r')\n",
    "data = f.readlines()\n",
    "issuerCurves = []\n",
    "\n",
    "numCredits = len(data) - 1  # The file has a header\n",
    "\n",
    "for row in data[1:]:\n",
    "    splitRow = row.split(\",\")\n",
    "    creditName = splitRow[0]\n",
    "    spd3Y = float(splitRow[1]) / 10000.0\n",
    "    spd5Y = float(splitRow[2]) / 10000.0\n",
    "    spd7Y = float(splitRow[3]) / 10000.0\n",
    "    spd10Y = float(splitRow[4]) / 10000.0\n",
    "    recoveryRate = float(splitRow[5])\n",
    "\n",
    "    cds3Y = FinCDS(stepInDate, cdsMaturity3Y, spd3Y)\n",
    "    cds5Y = FinCDS(stepInDate, cdsMaturity5Y, spd5Y)\n",
    "    cds7Y = FinCDS(stepInDate, cdsMaturity7Y, spd7Y)\n",
    "    cds10Y = FinCDS(stepInDate, cdsMaturity10Y, spd10Y)\n",
    "    cdsContracts = [cds3Y, cds5Y, cds7Y, cds10Y]\n",
    "\n",
    "    issuerCurve = FinCDSCurve(valuationDate, cdsContracts, liborCurve, recoveryRate)\n",
    "    issuerCurves.append(issuerCurve)"
   ]
  },
  {
   "cell_type": "markdown",
   "metadata": {},
   "source": [
    "## Term Structure of CDS Index Market"
   ]
  },
  {
   "cell_type": "markdown",
   "metadata": {},
   "source": [
    "We now set up the term structure of CDS Index trades and start by setting up the maturity dates of the index"
   ]
  },
  {
   "cell_type": "code",
   "execution_count": 7,
   "metadata": {},
   "outputs": [],
   "source": [
    "indexMaturity3Y = TuringDate(20,12,2009)\n",
    "indexMaturity5Y = TuringDate(20,12,2011)\n",
    "indexMaturity7Y = TuringDate(20,12,2013)\n",
    "indexMaturity10Y = TuringDate(20,12,2016)"
   ]
  },
  {
   "cell_type": "markdown",
   "metadata": {},
   "source": [
    "Now we set their upfronts and coupons"
   ]
  },
  {
   "cell_type": "code",
   "execution_count": 8,
   "metadata": {},
   "outputs": [],
   "source": [
    "indexUpfronts = [0.0, 0.0, 0.0, 0.0]\n",
    "indexMaturityDates = [indexMaturity3Y, indexMaturity5Y, indexMaturity7Y, indexMaturity10Y]\n",
    "indexRecovery = 0.40"
   ]
  },
  {
   "cell_type": "markdown",
   "metadata": {},
   "source": [
    "## Setting up the Index Option"
   ]
  },
  {
   "cell_type": "code",
   "execution_count": 9,
   "metadata": {},
   "outputs": [],
   "source": [
    "expiryDate = TuringDate(1,2,2008)\n",
    "maturityDate = TuringDate(20,12,2011)\n",
    "notional = 10000\n",
    "volatility = 0.50\n",
    "indexCoupon = 0.004\n",
    "tolerance = 1e-6"
   ]
  },
  {
   "cell_type": "markdown",
   "metadata": {},
   "source": [
    "## Comparison of Anderson versus Adjusted Black Model"
   ]
  },
  {
   "cell_type": "code",
   "execution_count": 10,
   "metadata": {},
   "outputs": [
    {
     "name": "stdout",
     "output_type": "stream",
     "text": [
      "STRIKE    INDEX      PAY    RECEIVER      G(K)       X         EXPH       ABPAY       ABREC\n",
      "20.000   20.000     16.167      6.203    -70.749      22.90     -60.53      16.19       6.11\n",
      "30.000   20.000      4.074     28.782    -35.263      22.89     -60.59       4.07      28.63\n",
      "40.000   20.000      0.896     60.057      0.000      22.87     -60.65       0.91      59.84\n",
      "50.000   20.000      0.191     93.588     35.040      22.85     -60.71       0.20      93.22\n",
      "60.000   20.000      0.044    127.460     69.858      22.84     -60.77       0.05     126.88\n",
      "20.000   30.000     50.470      0.887    -70.749      34.40     -19.91      50.54       0.84\n",
      "30.000   30.000     24.146      9.206    -35.263      34.39     -19.94      24.18       9.15\n",
      "40.000   30.000      9.808     29.291      0.000      34.38     -19.97       9.89      29.26\n",
      "50.000   30.000      3.683     57.372     35.040      34.37     -20.00       3.75      57.23\n",
      "60.000   30.000      1.340     89.020     69.858      34.37     -20.03       1.39      88.72\n",
      "20.000   40.000     89.043      0.120    -70.749      45.91      20.42      89.15       0.11\n",
      "30.000   40.000     56.835      2.526    -35.263      45.91      20.42      56.83       2.49\n",
      "40.000   40.000     32.063     12.147      0.000      45.91      20.42      32.10      12.18\n",
      "50.000   40.000     16.517     30.779     35.040      45.91      20.42      16.63      30.86\n",
      "60.000   40.000      8.091     56.314     69.858      45.91      20.42       8.20      56.30\n",
      "20.000   50.000    128.078      0.017    -70.749      57.47      60.54     128.12       0.01\n",
      "30.000   50.000     94.142      0.665    -35.263      57.48      60.57      94.02       0.65\n",
      "40.000   50.000     63.747      4.637      0.000      57.48      60.60      63.58       4.65\n",
      "50.000   50.000     39.972     15.009     35.040      57.49      60.63      39.94      15.20\n",
      "60.000   50.000     23.747     32.717     69.858      57.50      60.66      23.78      32.93\n",
      "20.000   60.000    167.239      0.003    -70.749      69.13     100.71     166.90       0.00\n",
      "30.000   60.000    132.853      0.172    -35.263      69.15     100.77     132.31       0.17\n",
      "40.000   60.000    100.029      1.685      0.000      69.17     100.83      99.37       1.72\n",
      "50.000   60.000     71.159      6.934     35.040      69.19     100.89      70.55       7.10\n",
      "60.000   60.000     48.050     17.728     69.858      69.20     100.94      47.72      18.20\n"
     ]
    }
   ],
   "source": [
    "print(\"STRIKE    INDEX      PAY    RECEIVER      G(K)       X         EXPH       ABPAY       ABREC\")\n",
    "\n",
    "for index in np.linspace(20, 60, 5):\n",
    "    \n",
    "    # Create a flat CDS index curve\n",
    "    cdsContracts = []\n",
    "    for dt in indexMaturityDates:\n",
    "        cds = FinCDS(valuationDate, dt, index / 10000.0)\n",
    "        cdsContracts.append(cds)\n",
    "\n",
    "    # Build the flat CDS index curve\n",
    "    indexCurve = FinCDSCurve(valuationDate, cdsContracts, liborCurve, indexRecovery)\n",
    "\n",
    "    # Now we need to set up the underlying curves and adjust them\n",
    "    indexSpreads = [index / 10000.0] * 4\n",
    "\n",
    "    indexPortfolio = TuringCDSIndexPortfolio()\n",
    "    adjustedIssuerCurves = indexPortfolio.hazardRateAdjustIntrinsic(valuationDate, \n",
    "                                                                    issuerCurves, \n",
    "                                                                    indexSpreads, \n",
    "                                                                    indexUpfronts,\n",
    "                                                                    indexMaturityDates, \n",
    "                                                                    indexRecovery, \n",
    "                                                                    tolerance)        \n",
    "        \n",
    "    for strike in np.linspace(20, 60, 5):    \n",
    "\n",
    "        option = TuringCDSIndexOption(expiryDate,\n",
    "                                   maturityDate, \n",
    "                                   indexCoupon, \n",
    "                                   strike / 10000.0, \n",
    "                                   notional)\n",
    "        \n",
    "        v_pay_1, v_rec_1, strikeValue, mu, expH = option.valueAnderson(valuationDate, \n",
    "                                                                       adjustedIssuerCurves, \n",
    "                                                                       indexRecovery,\n",
    "                                                                       volatility)\n",
    "\n",
    "        v_pay_2, v_rec_2 = option.valueAdjustedBlack(valuationDate,\n",
    "                                                     indexCurve, \n",
    "                                                     indexRecovery, \n",
    "                                                     liborCurve,\n",
    "                                                     volatility)\n",
    "            \n",
    "        print(\"%6.3f   %6.3f   %8.3f   %8.3f   %8.3f   %8.2f   %8.2f   %8.2f   %8.2f\" % \n",
    "              (strike, index, v_pay_1, v_rec_1, strikeValue, mu, expH, v_pay_2, v_rec_2 ))"
   ]
  },
  {
   "cell_type": "code",
   "execution_count": 11,
   "metadata": {},
   "outputs": [
    {
     "name": "stdout",
     "output_type": "stream",
     "text": [
      "OBJECT TYPE: TuringCDSIndexOption\n",
      "EXPIRY DATE: 01-FEB-2008\n",
      "MATURITY DATE: 20-DEC-2011\n",
      "INDEX COUPON: 40.0bp\n",
      "NOTIONAL: 10000\n",
      "LONG PROTECTION: True\n",
      "FREQUENCY: TuringFrequencyTypes.QUARTERLY\n",
      "DAYCOUNT: TuringDayCountTypes.ACT_360\n",
      "CALENDAR: TuringCalendarTypes.WEEKEND\n",
      "BUSDAYRULE: TuringBusDayAdjustTypes.FOLLOWING\n",
      "DATEGENRULE: TuringDateGenRuleTypes.BACKWARD\n",
      "\n"
     ]
    }
   ],
   "source": [
    "print(option)"
   ]
  },
  {
   "cell_type": "markdown",
   "metadata": {},
   "source": [
    "Copyright (c) 2020 Dominic O'Kane"
   ]
  }
 ],
 "metadata": {
  "kernelspec": {
   "display_name": "Python 3",
   "language": "python",
   "name": "python3"
  },
  "language_info": {
   "codemirror_mode": {
    "name": "ipython",
    "version": 3
   },
   "file_extension": ".py",
   "mimetype": "text/x-python",
   "name": "python",
   "nbconvert_exporter": "python",
   "pygments_lexer": "ipython3",
   "version": "3.8.5"
  }
 },
 "nbformat": 4,
 "nbformat_minor": 2
}
