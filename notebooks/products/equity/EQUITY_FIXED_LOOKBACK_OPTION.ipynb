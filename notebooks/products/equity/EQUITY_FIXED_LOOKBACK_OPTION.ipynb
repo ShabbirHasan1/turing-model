{
 "cells": [
  {
   "cell_type": "markdown",
   "metadata": {},
   "source": [
    "# EQUITY FIXED LOOKBACK"
   ]
  },
  {
   "cell_type": "markdown",
   "metadata": {},
   "source": [
    "Valuation and Risk of Equity Fixed Lookback Options"
   ]
  },
  {
   "cell_type": "code",
   "execution_count": 6,
   "metadata": {},
   "outputs": [],
   "source": [
    "import numpy as np\n",
    "import matplotlib.pyplot as plt"
   ]
  },
  {
   "cell_type": "code",
   "execution_count": 7,
   "metadata": {},
   "outputs": [],
   "source": [
    "from financepy.finutils import *\n",
    "from financepy.market.curves.TuringDiscountCurveFlat import TuringDiscountCurveFlat\n",
    "from financepy.products.equity.TuringEquityFixedLookbackOption import TuringEquityFixedLookbackOption\n",
    "from financepy.models.TuringModelBlackScholes import TuringModelBlackScholes"
   ]
  },
  {
   "cell_type": "markdown",
   "metadata": {},
   "source": [
    "# Fixed Lookback Option"
   ]
  },
  {
   "cell_type": "markdown",
   "metadata": {},
   "source": [
    "I create a fixed lookback call and put option"
   ]
  },
  {
   "cell_type": "code",
   "execution_count": 8,
   "metadata": {},
   "outputs": [],
   "source": [
    "expiryDate = TuringDate(1, 1, 2021)"
   ]
  },
  {
   "cell_type": "code",
   "execution_count": 9,
   "metadata": {},
   "outputs": [],
   "source": [
    "strikePrice = 105.0"
   ]
  },
  {
   "cell_type": "code",
   "execution_count": 10,
   "metadata": {},
   "outputs": [],
   "source": [
    "optionTypeCall = TuringOptionTypes.EUROPEAN_CALL\n",
    "optionTypePut = TuringOptionTypes.EUROPEAN_PUT"
   ]
  },
  {
   "cell_type": "code",
   "execution_count": 11,
   "metadata": {},
   "outputs": [],
   "source": [
    "lookbackCall = TuringEquityFixedLookbackOption(expiryDate, optionTypeCall, strikePrice)\n",
    "lookbackPut = TuringEquityFixedLookbackOption(expiryDate, optionTypePut, strikePrice)"
   ]
  },
  {
   "cell_type": "code",
   "execution_count": 12,
   "metadata": {},
   "outputs": [
    {
     "name": "stdout",
     "output_type": "stream",
     "text": [
      "EXPIRY DATE: FRI 1 JAN 2021\n",
      "STRIKE PRICE: 105.0\n",
      "OPTION TYPE: TuringOptionTypes.EUROPEAN_CALL\n"
     ]
    }
   ],
   "source": [
    "print(lookbackCall)"
   ]
  },
  {
   "cell_type": "code",
   "execution_count": 13,
   "metadata": {},
   "outputs": [
    {
     "name": "stdout",
     "output_type": "stream",
     "text": [
      "EXPIRY DATE: FRI 1 JAN 2021\n",
      "STRIKE PRICE: 105.0\n",
      "OPTION TYPE: TuringOptionTypes.EUROPEAN_PUT\n"
     ]
    }
   ],
   "source": [
    "print(lookbackPut)"
   ]
  },
  {
   "cell_type": "markdown",
   "metadata": {},
   "source": [
    "## Valuation"
   ]
  },
  {
   "cell_type": "code",
   "execution_count": 14,
   "metadata": {},
   "outputs": [],
   "source": [
    "valueDate = TuringDate(1, 1, 2020)"
   ]
  },
  {
   "cell_type": "code",
   "execution_count": 15,
   "metadata": {},
   "outputs": [],
   "source": [
    "interestRate = 0.10"
   ]
  },
  {
   "cell_type": "code",
   "execution_count": 16,
   "metadata": {},
   "outputs": [],
   "source": [
    "discountCurve = TuringDiscountCurveFlat(valueDate, interestRate)"
   ]
  },
  {
   "cell_type": "code",
   "execution_count": 17,
   "metadata": {},
   "outputs": [],
   "source": [
    "dividendYield = 0.0"
   ]
  },
  {
   "cell_type": "code",
   "execution_count": null,
   "metadata": {},
   "outputs": [],
   "source": [
    "dividendCurve = TuringDiscountCurveFlat(valueDate, dividendYield)"
   ]
  },
  {
   "cell_type": "code",
   "execution_count": 18,
   "metadata": {},
   "outputs": [],
   "source": [
    "volatility = 0.10"
   ]
  },
  {
   "cell_type": "code",
   "execution_count": 19,
   "metadata": {},
   "outputs": [],
   "source": [
    "numPaths = 10000\n",
    "numStepsPerYear = 1000"
   ]
  },
  {
   "cell_type": "code",
   "execution_count": 20,
   "metadata": {},
   "outputs": [],
   "source": [
    "stockPrices = np.linspace(50, 150, 20)"
   ]
  },
  {
   "cell_type": "code",
   "execution_count": 21,
   "metadata": {},
   "outputs": [],
   "source": [
    "values = []\n",
    "valuesMC = []\n",
    "\n",
    "for stockPrice in stockPrices:\n",
    "    stockMinMax = stockPrice\n",
    "    v = lookbackCall.value(valueDate, stockPrice, discountCurve, dividendCurve,\n",
    "                           volatility, stockMinMax)\n",
    "    v_mc = lookbackCall.valueMC(valueDate, stockPrice, discountCurve, dividendCurve, \n",
    "                                volatility, stockMinMax, numPaths, numStepsPerYear)\n",
    "    values.append(v)\n",
    "    valuesMC.append(v_mc)"
   ]
  },
  {
   "cell_type": "code",
   "execution_count": 25,
   "metadata": {},
   "outputs": [
    {
     "data": {
      "image/png": "[encoded data removed]",
      "text/plain": [
       "<Figure size 432x288 with 1 Axes>"
      ]
     },
     "metadata": {
      "needs_background": "light"
     },
     "output_type": "display_data"
    }
   ],
   "source": [
    "plt.plot(stockPrices, values)\n",
    "plt.plot(stockPrices, valuesMC, '.')\n",
    "plt.xlabel(\"Stock Price\")\n",
    "plt.ylabel(\"Value\");"
   ]
  },
  {
   "cell_type": "code",
   "execution_count": 23,
   "metadata": {},
   "outputs": [],
   "source": [
    "values = []\n",
    "valuesMC = []\n",
    "\n",
    "for stockPrice in stockPrices:\n",
    "    stockMinMax = stockPrice\n",
    "    v = lookbackPut.value(valueDate, stockPrice, discountCurve, dividendCurve,\n",
    "                           volatility, stockMinMax)\n",
    "    v_mc = lookbackPut.valueMC(valueDate, stockPrice, discountCurve, dividendCurve, \n",
    "                                volatility, stockMinMax, numPaths, numStepsPerYear)\n",
    "    values.append(v)\n",
    "    valuesMC.append(v_mc)"
   ]
  },
  {
   "cell_type": "code",
   "execution_count": 26,
   "metadata": {},
   "outputs": [
    {
     "data": {
      "image/png": "[encoded data removed]",
      "text/plain": [
       "<Figure size 432x288 with 1 Axes>"
      ]
     },
     "metadata": {
      "needs_background": "light"
     },
     "output_type": "display_data"
    }
   ],
   "source": [
    "plt.plot(stockPrices, values)\n",
    "plt.plot(stockPrices, valuesMC, '.')\n",
    "plt.xlabel(\"Stock Price\")\n",
    "plt.ylabel(\"Value\");"
   ]
  },
  {
   "cell_type": "markdown",
   "metadata": {},
   "source": [
    "Copyright (c) 2020 Dominic O'Kane"
   ]
  }
 ],
 "metadata": {
  "kernelspec": {
   "display_name": "Python 3",
   "language": "python",
   "name": "python3"
  },
  "language_info": {
   "codemirror_mode": {
    "name": "ipython",
    "version": 3
   },
   "file_extension": ".py",
   "mimetype": "text/x-python",
   "name": "python",
   "nbconvert_exporter": "python",
   "pygments_lexer": "ipython3",
   "version": "3.8.5"
  }
 },
 "nbformat": 4,
 "nbformat_minor": 2
}
