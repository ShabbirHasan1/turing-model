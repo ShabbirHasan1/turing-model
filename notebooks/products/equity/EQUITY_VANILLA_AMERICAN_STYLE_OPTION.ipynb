{
 "cells": [
  {
   "cell_type": "markdown",
   "metadata": {},
   "source": [
    "# EQUITY AMERICAN OPTIONS"
   ]
  },
  {
   "cell_type": "markdown",
   "metadata": {},
   "source": [
    "Valuation and Risk of American-style options on equity"
   ]
  },
  {
   "cell_type": "code",
   "execution_count": 1,
   "metadata": {
    "execution": {
     "iopub.execute_input": "2021-01-17T21:44:57.306524Z",
     "iopub.status.busy": "2021-01-17T21:44:57.305528Z",
     "iopub.status.idle": "2021-01-17T21:44:57.559867Z",
     "shell.execute_reply": "2021-01-17T21:44:57.559867Z"
    }
   },
   "outputs": [],
   "source": [
    "import numpy as np\n",
    "import matplotlib.pyplot as plt"
   ]
  },
  {
   "cell_type": "code",
   "execution_count": 2,
   "metadata": {
    "execution": {
     "iopub.execute_input": "2021-01-17T21:44:57.562888Z",
     "iopub.status.busy": "2021-01-17T21:44:57.561891Z",
     "iopub.status.idle": "2021-01-17T21:44:58.719813Z",
     "shell.execute_reply": "2021-01-17T21:44:58.719813Z"
    }
   },
   "outputs": [
    {
     "name": "stdout",
     "output_type": "stream",
     "text": [
      "####################################################################\n",
      "# FINANCEPY BETA Version 0.191 - This build:  18 Jan 2021 at 12:02 #\n",
      "#      This software is distributed FREE & WITHOUT ANY WARRANTY    #\n",
      "# For info and disclaimer - https://github.com/domokane/FinancePy  #\n",
      "#      Send any bug reports or comments to quant@financepy.com     #\n",
      "####################################################################\n",
      "\n"
     ]
    }
   ],
   "source": [
    "from financepy.finutils import *\n",
    "from financepy.market.curves import *\n",
    "from financepy.products.equity import *\n",
    "from financepy.models.FinModelBlackScholes import *"
   ]
  },
  {
   "cell_type": "markdown",
   "metadata": {},
   "source": [
    "# Define the Call and Put Options"
   ]
  },
  {
   "cell_type": "code",
   "execution_count": 3,
   "metadata": {
    "execution": {
     "iopub.execute_input": "2021-01-17T21:44:58.733804Z",
     "iopub.status.busy": "2021-01-17T21:44:58.733804Z",
     "iopub.status.idle": "2021-01-17T21:44:58.739760Z",
     "shell.execute_reply": "2021-01-17T21:44:58.739760Z"
    }
   },
   "outputs": [],
   "source": [
    "valueDate = TuringDate(1, 1, 2015)"
   ]
  },
  {
   "cell_type": "code",
   "execution_count": 4,
   "metadata": {
    "execution": {
     "iopub.execute_input": "2021-01-17T21:44:58.741755Z",
     "iopub.status.busy": "2021-01-17T21:44:58.741755Z",
     "iopub.status.idle": "2021-01-17T21:44:58.745744Z",
     "shell.execute_reply": "2021-01-17T21:44:58.745744Z"
    }
   },
   "outputs": [],
   "source": [
    "expiryDate = valueDate.addYears(0.5)"
   ]
  },
  {
   "cell_type": "code",
   "execution_count": 5,
   "metadata": {
    "execution": {
     "iopub.execute_input": "2021-01-17T21:44:58.748736Z",
     "iopub.status.busy": "2021-01-17T21:44:58.748736Z",
     "iopub.status.idle": "2021-01-17T21:44:58.751728Z",
     "shell.execute_reply": "2021-01-17T21:44:58.751728Z"
    }
   },
   "outputs": [
    {
     "data": {
      "text/plain": [
       "01-JUL-2015"
      ]
     },
     "execution_count": 5,
     "metadata": {},
     "output_type": "execute_result"
    }
   ],
   "source": [
    "expiryDate"
   ]
  },
  {
   "cell_type": "code",
   "execution_count": 6,
   "metadata": {
    "execution": {
     "iopub.execute_input": "2021-01-17T21:44:58.753750Z",
     "iopub.status.busy": "2021-01-17T21:44:58.752755Z",
     "iopub.status.idle": "2021-01-17T21:44:58.755909Z",
     "shell.execute_reply": "2021-01-17T21:44:58.754881Z"
    }
   },
   "outputs": [],
   "source": [
    "strikePrice = 50.0"
   ]
  },
  {
   "cell_type": "code",
   "execution_count": 7,
   "metadata": {
    "execution": {
     "iopub.execute_input": "2021-01-17T21:44:58.757904Z",
     "iopub.status.busy": "2021-01-17T21:44:58.756921Z",
     "iopub.status.idle": "2021-01-17T21:44:58.759870Z",
     "shell.execute_reply": "2021-01-17T21:44:58.759870Z"
    }
   },
   "outputs": [],
   "source": [
    "EU_CALL = TuringOptionTypes.EUROPEAN_CALL\n",
    "EU_PUT = TuringOptionTypes.EUROPEAN_PUT"
   ]
  },
  {
   "cell_type": "markdown",
   "metadata": {},
   "source": [
    "Let's create a put and a call using the Vanilla class"
   ]
  },
  {
   "cell_type": "code",
   "execution_count": 8,
   "metadata": {
    "execution": {
     "iopub.execute_input": "2021-01-17T21:44:58.761865Z",
     "iopub.status.busy": "2021-01-17T21:44:58.761865Z",
     "iopub.status.idle": "2021-01-17T21:44:58.764053Z",
     "shell.execute_reply": "2021-01-17T21:44:58.763021Z"
    }
   },
   "outputs": [],
   "source": [
    "europeanCallOption = FinEquityVanillaOption(expiryDate, strikePrice, EU_CALL)"
   ]
  },
  {
   "cell_type": "code",
   "execution_count": 9,
   "metadata": {
    "execution": {
     "iopub.execute_input": "2021-01-17T21:44:58.766045Z",
     "iopub.status.busy": "2021-01-17T21:44:58.765046Z",
     "iopub.status.idle": "2021-01-17T21:44:58.768010Z",
     "shell.execute_reply": "2021-01-17T21:44:58.768010Z"
    }
   },
   "outputs": [],
   "source": [
    "europeanPutOption = FinEquityVanillaOption(expiryDate, strikePrice, EU_PUT)"
   ]
  },
  {
   "cell_type": "markdown",
   "metadata": {},
   "source": [
    "Now let's create a put and a call American and European option types using the American class"
   ]
  },
  {
   "cell_type": "code",
   "execution_count": 10,
   "metadata": {
    "execution": {
     "iopub.execute_input": "2021-01-17T21:44:58.770033Z",
     "iopub.status.busy": "2021-01-17T21:44:58.770033Z",
     "iopub.status.idle": "2021-01-17T21:44:58.775990Z",
     "shell.execute_reply": "2021-01-17T21:44:58.773996Z"
    }
   },
   "outputs": [],
   "source": [
    "europeanAmericanCallOption = TuringEquityAmericanOption(expiryDate, strikePrice, EU_CALL)"
   ]
  },
  {
   "cell_type": "code",
   "execution_count": 11,
   "metadata": {
    "execution": {
     "iopub.execute_input": "2021-01-17T21:44:58.780976Z",
     "iopub.status.busy": "2021-01-17T21:44:58.779979Z",
     "iopub.status.idle": "2021-01-17T21:44:58.782970Z",
     "shell.execute_reply": "2021-01-17T21:44:58.782970Z"
    }
   },
   "outputs": [],
   "source": [
    "europeanAmericanPutOption = TuringEquityAmericanOption(expiryDate, strikePrice, EU_PUT)"
   ]
  },
  {
   "cell_type": "code",
   "execution_count": 12,
   "metadata": {
    "execution": {
     "iopub.execute_input": "2021-01-17T21:44:58.786959Z",
     "iopub.status.busy": "2021-01-17T21:44:58.786959Z",
     "iopub.status.idle": "2021-01-17T21:44:58.789951Z",
     "shell.execute_reply": "2021-01-17T21:44:58.788992Z"
    }
   },
   "outputs": [],
   "source": [
    "americanCallOption = TuringEquityAmericanOption(expiryDate, strikePrice, TuringOptionTypes.AMERICAN_CALL)"
   ]
  },
  {
   "cell_type": "code",
   "execution_count": 13,
   "metadata": {
    "execution": {
     "iopub.execute_input": "2021-01-17T21:44:58.793940Z",
     "iopub.status.busy": "2021-01-17T21:44:58.792943Z",
     "iopub.status.idle": "2021-01-17T21:44:58.795935Z",
     "shell.execute_reply": "2021-01-17T21:44:58.794972Z"
    }
   },
   "outputs": [],
   "source": [
    "americanPutOption = TuringEquityAmericanOption(expiryDate, strikePrice, TuringOptionTypes.AMERICAN_PUT)"
   ]
  },
  {
   "cell_type": "code",
   "execution_count": 14,
   "metadata": {
    "execution": {
     "iopub.execute_input": "2021-01-17T21:44:58.799956Z",
     "iopub.status.busy": "2021-01-17T21:44:58.798960Z",
     "iopub.status.idle": "2021-01-17T21:44:58.802916Z",
     "shell.execute_reply": "2021-01-17T21:44:58.801965Z"
    }
   },
   "outputs": [
    {
     "name": "stdout",
     "output_type": "stream",
     "text": [
      "OBJECT TYPE: TuringEquityAmericanOption\n",
      "EXPIRY DATE: 01-JUL-2015\n",
      "STRIKE PRICE: 50.0\n",
      "OPTION TYPE: TuringOptionTypes.AMERICAN_CALL\n",
      "NUMBER: 1.0\n"
     ]
    }
   ],
   "source": [
    "print(americanCallOption)"
   ]
  },
  {
   "cell_type": "code",
   "execution_count": 15,
   "metadata": {
    "execution": {
     "iopub.execute_input": "2021-01-17T21:44:58.805909Z",
     "iopub.status.busy": "2021-01-17T21:44:58.804915Z",
     "iopub.status.idle": "2021-01-17T21:44:58.807968Z",
     "shell.execute_reply": "2021-01-17T21:44:58.807968Z"
    }
   },
   "outputs": [
    {
     "name": "stdout",
     "output_type": "stream",
     "text": [
      "OBJECT TYPE: TuringEquityAmericanOption\n",
      "EXPIRY DATE: 01-JUL-2015\n",
      "STRIKE PRICE: 50.0\n",
      "OPTION TYPE: TuringOptionTypes.AMERICAN_PUT\n",
      "NUMBER: 1.0\n"
     ]
    }
   ],
   "source": [
    "print(americanPutOption)"
   ]
  },
  {
   "cell_type": "markdown",
   "metadata": {},
   "source": [
    "## Valuation"
   ]
  },
  {
   "cell_type": "code",
   "execution_count": 16,
   "metadata": {
    "execution": {
     "iopub.execute_input": "2021-01-17T21:44:58.810931Z",
     "iopub.status.busy": "2021-01-17T21:44:58.810931Z",
     "iopub.status.idle": "2021-01-17T21:44:58.813963Z",
     "shell.execute_reply": "2021-01-17T21:44:58.813963Z"
    }
   },
   "outputs": [],
   "source": [
    "stockPrice = 50.0\n",
    "volatility = 0.20\n",
    "interestRate = 0.05\n",
    "dividendYield = 0.0"
   ]
  },
  {
   "cell_type": "code",
   "execution_count": 17,
   "metadata": {
    "execution": {
     "iopub.execute_input": "2021-01-17T21:44:58.817911Z",
     "iopub.status.busy": "2021-01-17T21:44:58.816942Z",
     "iopub.status.idle": "2021-01-17T21:44:58.819937Z",
     "shell.execute_reply": "2021-01-17T21:44:58.819937Z"
    }
   },
   "outputs": [],
   "source": [
    "discountCurve = TuringDiscountCurveFlat(valueDate, interestRate)"
   ]
  },
  {
   "cell_type": "code",
   "execution_count": 18,
   "metadata": {
    "execution": {
     "iopub.execute_input": "2021-01-17T21:44:58.822898Z",
     "iopub.status.busy": "2021-01-17T21:44:58.822898Z",
     "iopub.status.idle": "2021-01-17T21:44:58.825927Z",
     "shell.execute_reply": "2021-01-17T21:44:58.825927Z"
    }
   },
   "outputs": [],
   "source": [
    "dividendCurve = TuringDiscountCurveFlat(valueDate, dividendYield)"
   ]
  },
  {
   "cell_type": "code",
   "execution_count": 19,
   "metadata": {
    "execution": {
     "iopub.execute_input": "2021-01-17T21:44:58.827915Z",
     "iopub.status.busy": "2021-01-17T21:44:58.827915Z",
     "iopub.status.idle": "2021-01-17T21:44:58.829915Z",
     "shell.execute_reply": "2021-01-17T21:44:58.829915Z"
    }
   },
   "outputs": [],
   "source": [
    "model = FinModelBlackScholes(volatility)"
   ]
  },
  {
   "cell_type": "code",
   "execution_count": 20,
   "metadata": {
    "execution": {
     "iopub.execute_input": "2021-01-17T21:44:58.831874Z",
     "iopub.status.busy": "2021-01-17T21:44:58.831874Z",
     "iopub.status.idle": "2021-01-17T21:44:58.833897Z",
     "shell.execute_reply": "2021-01-17T21:44:58.833897Z"
    }
   },
   "outputs": [
    {
     "data": {
      "text/plain": [
       "3.4276581469416914"
      ]
     },
     "execution_count": 20,
     "metadata": {},
     "output_type": "execute_result"
    }
   ],
   "source": [
    "europeanCallOption.value(valueDate, stockPrice, discountCurve, dividendCurve, model)"
   ]
  },
  {
   "cell_type": "code",
   "execution_count": 21,
   "metadata": {
    "execution": {
     "iopub.execute_input": "2021-01-17T21:44:58.835863Z",
     "iopub.status.busy": "2021-01-17T21:44:58.835863Z",
     "iopub.status.idle": "2021-01-17T21:44:58.837886Z",
     "shell.execute_reply": "2021-01-17T21:44:58.837886Z"
    }
   },
   "outputs": [
    {
     "data": {
      "text/plain": [
       "3.4276581469416914"
      ]
     },
     "execution_count": 21,
     "metadata": {},
     "output_type": "execute_result"
    }
   ],
   "source": [
    "europeanAmericanCallOption.value(valueDate, stockPrice, discountCurve, dividendCurve, model)"
   ]
  },
  {
   "cell_type": "markdown",
   "metadata": {},
   "source": [
    "These prices should be the same. If we insist on using the Tree the price changes a bit"
   ]
  },
  {
   "cell_type": "code",
   "execution_count": 24,
   "metadata": {},
   "outputs": [],
   "source": [
    "model = FinModelBlackScholes(volatility, FinModelBlackScholesTypes.CRR_TREE)"
   ]
  },
  {
   "cell_type": "code",
   "execution_count": 25,
   "metadata": {
    "execution": {
     "iopub.execute_input": "2021-01-17T21:44:58.839882Z",
     "iopub.status.busy": "2021-01-17T21:44:58.839882Z",
     "iopub.status.idle": "2021-01-17T21:44:59.030346Z",
     "shell.execute_reply": "2021-01-17T21:44:59.029389Z"
    }
   },
   "outputs": [
    {
     "data": {
      "text/plain": [
       "3.42741642857849"
      ]
     },
     "execution_count": 25,
     "metadata": {},
     "output_type": "execute_result"
    }
   ],
   "source": [
    "americanCallOption.value(valueDate, stockPrice, discountCurve, dividendCurve, model)"
   ]
  },
  {
   "cell_type": "code",
   "execution_count": 26,
   "metadata": {},
   "outputs": [
    {
     "data": {
      "text/plain": [
       "2.2031750852278296"
      ]
     },
     "execution_count": 26,
     "metadata": {},
     "output_type": "execute_result"
    }
   ],
   "source": [
    "europeanPutOption.value(valueDate, stockPrice, discountCurve, dividendCurve, model)"
   ]
  },
  {
   "cell_type": "code",
   "execution_count": 27,
   "metadata": {},
   "outputs": [
    {
     "data": {
      "text/plain": [
       "2.202933366865298"
      ]
     },
     "execution_count": 27,
     "metadata": {},
     "output_type": "execute_result"
    }
   ],
   "source": [
    "europeanAmericanPutOption.value(valueDate, stockPrice, discountCurve, dividendCurve, model)"
   ]
  },
  {
   "cell_type": "markdown",
   "metadata": {},
   "source": [
    "These prices should be the same even though one is using the BS formula and the other uses the CRR tree"
   ]
  },
  {
   "cell_type": "code",
   "execution_count": 28,
   "metadata": {},
   "outputs": [
    {
     "data": {
      "text/plain": [
       "2.3214957105600695"
      ]
     },
     "execution_count": 28,
     "metadata": {},
     "output_type": "execute_result"
    }
   ],
   "source": [
    "americanPutOption.value(valueDate, stockPrice, discountCurve, dividendCurve, model)"
   ]
  },
  {
   "cell_type": "markdown",
   "metadata": {},
   "source": [
    "This price is higher as there is an advantage to exercising early when holding an American put"
   ]
  },
  {
   "cell_type": "markdown",
   "metadata": {},
   "source": [
    "## Risk Measures"
   ]
  },
  {
   "cell_type": "markdown",
   "metadata": {},
   "source": [
    "You can calculate the risk measures using using perturbatory analysis"
   ]
  },
  {
   "cell_type": "code",
   "execution_count": 29,
   "metadata": {},
   "outputs": [
    {
     "data": {
      "text/plain": [
       "0.6166445290700651"
      ]
     },
     "execution_count": 29,
     "metadata": {},
     "output_type": "execute_result"
    }
   ],
   "source": [
    "americanCallOption.delta(valueDate, stockPrice, discountCurve, dividendCurve, model)"
   ]
  },
  {
   "cell_type": "code",
   "execution_count": 30,
   "metadata": {},
   "outputs": [
    {
     "data": {
      "text/plain": [
       "386.04014793719443"
      ]
     },
     "execution_count": 30,
     "metadata": {},
     "output_type": "execute_result"
    }
   ],
   "source": [
    "americanCallOption.gamma(valueDate, stockPrice, discountCurve, dividendCurve, model)"
   ]
  },
  {
   "cell_type": "code",
   "execution_count": 31,
   "metadata": {},
   "outputs": [
    {
     "data": {
      "text/plain": [
       "-4.0731437575772"
      ]
     },
     "execution_count": 31,
     "metadata": {},
     "output_type": "execute_result"
    }
   ],
   "source": [
    "americanCallOption.theta(valueDate, stockPrice, discountCurve, dividendCurve, model)"
   ]
  },
  {
   "cell_type": "code",
   "execution_count": 32,
   "metadata": {},
   "outputs": [
    {
     "data": {
      "text/plain": [
       "13.104170280220373"
      ]
     },
     "execution_count": 32,
     "metadata": {},
     "output_type": "execute_result"
    }
   ],
   "source": [
    "americanCallOption.rho(valueDate, stockPrice, discountCurve, dividendCurve, model)"
   ]
  },
  {
   "cell_type": "markdown",
   "metadata": {},
   "source": [
    "Copyright (c) 2020 Dominic O'Kane"
   ]
  }
 ],
 "metadata": {
  "kernelspec": {
   "display_name": "Python 3",
   "language": "python",
   "name": "python3"
  },
  "language_info": {
   "codemirror_mode": {
    "name": "ipython",
    "version": 3
   },
   "file_extension": ".py",
   "mimetype": "text/x-python",
   "name": "python",
   "nbconvert_exporter": "python",
   "pygments_lexer": "ipython3",
   "version": "3.8.5"
  }
 },
 "nbformat": 4,
 "nbformat_minor": 2
}
