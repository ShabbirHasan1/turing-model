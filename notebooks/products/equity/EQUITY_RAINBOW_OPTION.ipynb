{
 "cells": [
  {
   "cell_type": "markdown",
   "metadata": {},
   "source": [
    "# EQUITY RAINBOW OPTION"
   ]
  },
  {
   "cell_type": "markdown",
   "metadata": {},
   "source": [
    "Valuation and Risk of Equity Rainbow Options - options on the best, worst and n-th best or worst performance in a basket of equities."
   ]
  },
  {
   "cell_type": "code",
   "execution_count": 2,
   "metadata": {},
   "outputs": [],
   "source": [
    "import numpy as np\n",
    "import matplotlib.pyplot as plt"
   ]
  },
  {
   "cell_type": "code",
   "execution_count": 3,
   "metadata": {},
   "outputs": [
    {
     "name": "stdout",
     "output_type": "stream",
     "text": [
      "####################################################################\n",
      "# FINANCEPY BETA Version 0.191 - This build:  17 Jan 2021 at 22:17 #\n",
      "#      This software is distributed FREE & WITHOUT ANY WARRANTY    #\n",
      "# For info and disclaimer - https://github.com/domokane/FinancePy  #\n",
      "#      Send any bug reports or comments to quant@financepy.com     #\n",
      "####################################################################\n",
      "\n"
     ]
    }
   ],
   "source": [
    "from financepy.finutils import *\n",
    "from financepy.market.curves import *\n",
    "from financepy.products.equity import *"
   ]
  },
  {
   "cell_type": "markdown",
   "metadata": {},
   "source": [
    "# Rainbow Options"
   ]
  },
  {
   "cell_type": "markdown",
   "metadata": {},
   "source": [
    "We can handle a range of payoff types"
   ]
  },
  {
   "cell_type": "code",
   "execution_count": 4,
   "metadata": {},
   "outputs": [
    {
     "name": "stdout",
     "output_type": "stream",
     "text": [
      "FinEquityRainbowOptionTypes.CALL_ON_MAXIMUM\n",
      "FinEquityRainbowOptionTypes.PUT_ON_MAXIMUM\n",
      "FinEquityRainbowOptionTypes.CALL_ON_MINIMUM\n",
      "FinEquityRainbowOptionTypes.PUT_ON_MINIMUM\n",
      "FinEquityRainbowOptionTypes.CALL_ON_NTH\n",
      "FinEquityRainbowOptionTypes.PUT_ON_NTH\n"
     ]
    }
   ],
   "source": [
    "for payoff in FinEquityRainbowOptionTypes:\n",
    "    print(payoff)"
   ]
  },
  {
   "cell_type": "markdown",
   "metadata": {},
   "source": [
    "Each type has a different set of parameters which are entered as a vector"
   ]
  },
  {
   "cell_type": "markdown",
   "metadata": {},
   "source": [
    "## CALL ON MAXIMUM"
   ]
  },
  {
   "cell_type": "code",
   "execution_count": 5,
   "metadata": {},
   "outputs": [],
   "source": [
    "expiryDate = TuringDate(1, 1, 2016)"
   ]
  },
  {
   "cell_type": "code",
   "execution_count": 6,
   "metadata": {},
   "outputs": [],
   "source": [
    "strikePrice = 105.0"
   ]
  },
  {
   "cell_type": "code",
   "execution_count": 7,
   "metadata": {},
   "outputs": [],
   "source": [
    "callPayoffType = FinEquityRainbowOptionTypes.CALL_ON_MAXIMUM\n",
    "putPayoffType = FinEquityRainbowOptionTypes.PUT_ON_MAXIMUM"
   ]
  },
  {
   "cell_type": "code",
   "execution_count": 8,
   "metadata": {},
   "outputs": [],
   "source": [
    "payoffParams = [strikePrice]"
   ]
  },
  {
   "cell_type": "code",
   "execution_count": 9,
   "metadata": {},
   "outputs": [],
   "source": [
    "numAssets = 2"
   ]
  },
  {
   "cell_type": "code",
   "execution_count": 10,
   "metadata": {},
   "outputs": [],
   "source": [
    "callRainbowOption = TuringEquityRainbowOption(expiryDate, callPayoffType, payoffParams, numAssets)\n",
    "putRainbowOption = TuringEquityRainbowOption(expiryDate, putPayoffType, payoffParams, numAssets)"
   ]
  },
  {
   "cell_type": "code",
   "execution_count": 11,
   "metadata": {},
   "outputs": [
    {
     "name": "stdout",
     "output_type": "stream",
     "text": [
      "OBJECT TYPE: TuringEquityRainbowOption\n",
      "EXPIRY DATE: 01-JAN-2016\n",
      "PAYOFF TYPE: FinEquityRainbowOptionTypes.CALL_ON_MAXIMUM\n",
      "PAYOFF PARAMS: [105.0]\n",
      "NUM ASSETS TYPE: 2\n"
     ]
    }
   ],
   "source": [
    "print(callRainbowOption)"
   ]
  },
  {
   "cell_type": "code",
   "execution_count": 12,
   "metadata": {},
   "outputs": [
    {
     "name": "stdout",
     "output_type": "stream",
     "text": [
      "OBJECT TYPE: TuringEquityRainbowOption\n",
      "EXPIRY DATE: 01-JAN-2016\n",
      "PAYOFF TYPE: FinEquityRainbowOptionTypes.PUT_ON_MAXIMUM\n",
      "PAYOFF PARAMS: [105.0]\n",
      "NUM ASSETS TYPE: 2\n"
     ]
    }
   ],
   "source": [
    "print(putRainbowOption)"
   ]
  },
  {
   "cell_type": "markdown",
   "metadata": {},
   "source": [
    "## Valuation"
   ]
  },
  {
   "cell_type": "code",
   "execution_count": 13,
   "metadata": {},
   "outputs": [],
   "source": [
    "valueDate = TuringDate(1, 1, 2015)"
   ]
  },
  {
   "cell_type": "code",
   "execution_count": 14,
   "metadata": {},
   "outputs": [],
   "source": [
    "interestRate = 0.10"
   ]
  },
  {
   "cell_type": "code",
   "execution_count": 15,
   "metadata": {},
   "outputs": [],
   "source": [
    "discountCurve = TuringDiscountCurveFlat(valueDate, interestRate)"
   ]
  },
  {
   "cell_type": "code",
   "execution_count": 16,
   "metadata": {},
   "outputs": [],
   "source": [
    "numAssets = 2"
   ]
  },
  {
   "cell_type": "code",
   "execution_count": 17,
   "metadata": {},
   "outputs": [],
   "source": [
    "stockPrices = np.ones(numAssets) * 100\n",
    "dividendYields = np.ones(numAssets) * 0.01\n",
    "volatilities = np.ones(numAssets) * 0.3    "
   ]
  },
  {
   "cell_type": "code",
   "execution_count": 18,
   "metadata": {},
   "outputs": [],
   "source": [
    "dividendCurves = []\n",
    "for dividendYield in dividendYields:\n",
    "    dividendCurves.append(TuringDiscountCurveFlat(valueDate, dividendYield))"
   ]
  },
  {
   "cell_type": "code",
   "execution_count": 19,
   "metadata": {},
   "outputs": [],
   "source": [
    "correlation = 0.50\n",
    "betas = np.ones(numAssets) * np.sqrt(correlation)\n",
    "corrMatrix = betaVectorToCorrMatrix(betas)"
   ]
  },
  {
   "cell_type": "code",
   "execution_count": 20,
   "metadata": {},
   "outputs": [
    {
     "data": {
      "text/plain": [
       "20.774501479227084"
      ]
     },
     "execution_count": 20,
     "metadata": {},
     "output_type": "execute_result"
    }
   ],
   "source": [
    "callRainbowOption.value(valueDate, stockPrices, discountCurve, dividendCurves, volatilities, corrMatrix)"
   ]
  },
  {
   "cell_type": "code",
   "execution_count": 21,
   "metadata": {},
   "outputs": [
    {
     "data": {
      "text/plain": [
       "5.0876023539087925"
      ]
     },
     "execution_count": 21,
     "metadata": {},
     "output_type": "execute_result"
    }
   ],
   "source": [
    "putRainbowOption.value(valueDate, stockPrices, discountCurve, dividendCurves, volatilities, corrMatrix)"
   ]
  },
  {
   "cell_type": "code",
   "execution_count": 22,
   "metadata": {},
   "outputs": [
    {
     "data": {
      "text/plain": [
       "20.983505548283595"
      ]
     },
     "execution_count": 22,
     "metadata": {},
     "output_type": "execute_result"
    }
   ],
   "source": [
    "callRainbowOption.valueMC(valueDate, stockPrices, discountCurve, dividendCurves, volatilities, corrMatrix)"
   ]
  },
  {
   "cell_type": "code",
   "execution_count": 23,
   "metadata": {},
   "outputs": [
    {
     "data": {
      "text/plain": [
       "5.106781221618383"
      ]
     },
     "execution_count": 23,
     "metadata": {},
     "output_type": "execute_result"
    }
   ],
   "source": [
    "putRainbowOption.valueMC(valueDate, stockPrices, discountCurve, dividendCurves, volatilities, corrMatrix)"
   ]
  },
  {
   "cell_type": "markdown",
   "metadata": {},
   "source": [
    "## CALL ON MINIMUM"
   ]
  },
  {
   "cell_type": "code",
   "execution_count": 24,
   "metadata": {},
   "outputs": [],
   "source": [
    "strikePrice = 105.0"
   ]
  },
  {
   "cell_type": "code",
   "execution_count": 25,
   "metadata": {},
   "outputs": [],
   "source": [
    "callPayoffType = FinEquityRainbowOptionTypes.CALL_ON_MINIMUM\n",
    "putPayoffType = FinEquityRainbowOptionTypes.PUT_ON_MINIMUM"
   ]
  },
  {
   "cell_type": "code",
   "execution_count": 26,
   "metadata": {},
   "outputs": [],
   "source": [
    "payoffParams = [strikePrice]"
   ]
  },
  {
   "cell_type": "code",
   "execution_count": 27,
   "metadata": {},
   "outputs": [],
   "source": [
    "callRainbowOption = TuringEquityRainbowOption(expiryDate, callPayoffType, payoffParams, numAssets)\n",
    "putRainbowOption = TuringEquityRainbowOption(expiryDate, putPayoffType, payoffParams, numAssets)"
   ]
  },
  {
   "cell_type": "code",
   "execution_count": 28,
   "metadata": {},
   "outputs": [
    {
     "name": "stdout",
     "output_type": "stream",
     "text": [
      "OBJECT TYPE: TuringEquityRainbowOption\n",
      "EXPIRY DATE: 01-JAN-2016\n",
      "PAYOFF TYPE: FinEquityRainbowOptionTypes.CALL_ON_MINIMUM\n",
      "PAYOFF PARAMS: [105.0]\n",
      "NUM ASSETS TYPE: 2\n"
     ]
    }
   ],
   "source": [
    "print(callRainbowOption)"
   ]
  },
  {
   "cell_type": "code",
   "execution_count": 29,
   "metadata": {},
   "outputs": [
    {
     "name": "stdout",
     "output_type": "stream",
     "text": [
      "OBJECT TYPE: TuringEquityRainbowOption\n",
      "EXPIRY DATE: 01-JAN-2016\n",
      "PAYOFF TYPE: FinEquityRainbowOptionTypes.PUT_ON_MINIMUM\n",
      "PAYOFF PARAMS: [105.0]\n",
      "NUM ASSETS TYPE: 2\n"
     ]
    }
   ],
   "source": [
    "print(putRainbowOption)"
   ]
  },
  {
   "cell_type": "markdown",
   "metadata": {},
   "source": [
    "## Valuation"
   ]
  },
  {
   "cell_type": "code",
   "execution_count": 30,
   "metadata": {},
   "outputs": [
    {
     "data": {
      "text/plain": [
       "6.459895781588113"
      ]
     },
     "execution_count": 30,
     "metadata": {},
     "output_type": "execute_result"
    }
   ],
   "source": [
    "callRainbowOption.value(valueDate, stockPrices, discountCurve, dividendCurves, volatilities, corrMatrix)"
   ]
  },
  {
   "cell_type": "code",
   "execution_count": 31,
   "metadata": {},
   "outputs": [
    {
     "data": {
      "text/plain": [
       "14.38603349546592"
      ]
     },
     "execution_count": 31,
     "metadata": {},
     "output_type": "execute_result"
    }
   ],
   "source": [
    "putRainbowOption.value(valueDate, stockPrices, discountCurve, dividendCurves, volatilities, corrMatrix)"
   ]
  },
  {
   "cell_type": "code",
   "execution_count": 32,
   "metadata": {},
   "outputs": [
    {
     "data": {
      "text/plain": [
       "6.594270985668491"
      ]
     },
     "execution_count": 32,
     "metadata": {},
     "output_type": "execute_result"
    }
   ],
   "source": [
    "callRainbowOption.valueMC(valueDate, stockPrices, discountCurve, dividendCurves, volatilities, corrMatrix)"
   ]
  },
  {
   "cell_type": "code",
   "execution_count": 33,
   "metadata": {},
   "outputs": [
    {
     "data": {
      "text/plain": [
       "14.34909797048692"
      ]
     },
     "execution_count": 33,
     "metadata": {},
     "output_type": "execute_result"
    }
   ],
   "source": [
    "putRainbowOption.valueMC(valueDate, stockPrices, discountCurve, dividendCurves, volatilities, corrMatrix)"
   ]
  },
  {
   "cell_type": "markdown",
   "metadata": {},
   "source": [
    "## CALL ON Nth"
   ]
  },
  {
   "cell_type": "code",
   "execution_count": 34,
   "metadata": {},
   "outputs": [],
   "source": [
    "payoffType = FinEquityRainbowOptionTypes.CALL_ON_NTH"
   ]
  },
  {
   "cell_type": "code",
   "execution_count": 35,
   "metadata": {},
   "outputs": [],
   "source": [
    "numAssets = 5"
   ]
  },
  {
   "cell_type": "code",
   "execution_count": 36,
   "metadata": {},
   "outputs": [],
   "source": [
    "stockPrices = np.ones(numAssets) * 100\n",
    "dividendYields = np.ones(numAssets) * 0.01\n",
    "volatilities = np.ones(numAssets) * 0.3    "
   ]
  },
  {
   "cell_type": "code",
   "execution_count": 38,
   "metadata": {},
   "outputs": [],
   "source": [
    "dividendCurves = []\n",
    "for dividendYield in dividendYields:\n",
    "    dividendCurves.append(TuringDiscountCurveFlat(valueDate, dividendYield))"
   ]
  },
  {
   "cell_type": "code",
   "execution_count": 39,
   "metadata": {},
   "outputs": [],
   "source": [
    "correlation = 0.50\n",
    "betas = np.ones(numAssets) * np.sqrt(correlation)\n",
    "corrMatrix = betaVectorToCorrMatrix(betas)"
   ]
  },
  {
   "cell_type": "code",
   "execution_count": 40,
   "metadata": {},
   "outputs": [
    {
     "name": "stdout",
     "output_type": "stream",
     "text": [
      "1 32.10817511366191\n",
      "2 17.841397411308602\n",
      "3 10.416341514124234\n",
      "4 5.644773129050261\n",
      "5 2.287825332442905\n"
     ]
    }
   ],
   "source": [
    "for n in range(0, numAssets):\n",
    "    payoffParams = [n+1, strikePrice]\n",
    "    nthRainbowOption = TuringEquityRainbowOption(expiryDate, payoffType, payoffParams, numAssets)\n",
    "    v_mc = nthRainbowOption.valueMC(valueDate, stockPrices, discountCurve, dividendCurves, volatilities, corrMatrix)\n",
    "    print(n+1, v_mc)"
   ]
  },
  {
   "cell_type": "markdown",
   "metadata": {},
   "source": [
    "## PUT ON Nth\n"
   ]
  },
  {
   "cell_type": "code",
   "execution_count": 41,
   "metadata": {},
   "outputs": [],
   "source": [
    "payoffType = FinEquityRainbowOptionTypes.PUT_ON_NTH"
   ]
  },
  {
   "cell_type": "code",
   "execution_count": 42,
   "metadata": {},
   "outputs": [
    {
     "name": "stdout",
     "output_type": "stream",
     "text": [
      "1 1.9257053041219017\n",
      "2 4.549727220075345\n",
      "3 8.016189556719699\n",
      "4 12.92162110363357\n",
      "5 20.930923494487654\n"
     ]
    }
   ],
   "source": [
    "for n in range(0, numAssets):\n",
    "    payoffType = FinEquityRainbowOptionTypes.PUT_ON_NTH\n",
    "    payoffParams = [n+1, strikePrice]\n",
    "    nthRainbowOption = TuringEquityRainbowOption(expiryDate, payoffType, payoffParams, numAssets)\n",
    "    v_mc = nthRainbowOption.valueMC(valueDate, stockPrices, discountCurve, dividendCurves, volatilities, corrMatrix)\n",
    "    print(n+1, v_mc)"
   ]
  },
  {
   "cell_type": "markdown",
   "metadata": {},
   "source": [
    "Copyright (c) 2020 Dominic O'Kane"
   ]
  }
 ],
 "metadata": {
  "kernelspec": {
   "display_name": "Python 3",
   "language": "python",
   "name": "python3"
  },
  "language_info": {
   "codemirror_mode": {
    "name": "ipython",
    "version": 3
   },
   "file_extension": ".py",
   "mimetype": "text/x-python",
   "name": "python",
   "nbconvert_exporter": "python",
   "pygments_lexer": "ipython3",
   "version": "3.8.5"
  }
 },
 "nbformat": 4,
 "nbformat_minor": 2
}
