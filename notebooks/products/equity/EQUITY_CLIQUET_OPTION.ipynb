{
 "cells": [
  {
   "cell_type": "markdown",
   "metadata": {},
   "source": [
    "# EQUITY CLIQUET OPTION"
   ]
  },
  {
   "cell_type": "markdown",
   "metadata": {},
   "source": [
    "Valuation and Risk of Equity Cliquet Options"
   ]
  },
  {
   "cell_type": "code",
   "execution_count": 1,
   "metadata": {},
   "outputs": [],
   "source": [
    "import numpy as np\n",
    "import matplotlib.pyplot as plt"
   ]
  },
  {
   "cell_type": "code",
   "execution_count": 2,
   "metadata": {},
   "outputs": [
    {
     "name": "stdout",
     "output_type": "stream",
     "text": [
      "####################################################################\n",
      "# FINANCEPY BETA Version 0.180 - This build:  22 Sep 2020 at 22:40 #\n",
      "#      This software is distributed FREE & WITHOUT ANY WARRANTY    #\n",
      "# For info and disclaimer - https://github.com/domokane/FinancePy  #\n",
      "#    For bug reports and comments - allmypythonprojects@gmail.com  #\n",
      "####################################################################\n",
      "\n"
     ]
    }
   ],
   "source": [
    "from financepy.finutils import *\n",
    "from financepy.market.curves import *\n",
    "from financepy.products.equity import *"
   ]
  },
  {
   "cell_type": "markdown",
   "metadata": {},
   "source": [
    "# Cliquet Option"
   ]
  },
  {
   "cell_type": "markdown",
   "metadata": {},
   "source": [
    "I create a cliquet option"
   ]
  },
  {
   "cell_type": "code",
   "execution_count": 3,
   "metadata": {},
   "outputs": [],
   "source": [
    "startDate = TuringDate(1,1, 2020)"
   ]
  },
  {
   "cell_type": "code",
   "execution_count": 4,
   "metadata": {},
   "outputs": [],
   "source": [
    "expiryDate = TuringDate(1, 1, 2025)"
   ]
  },
  {
   "cell_type": "code",
   "execution_count": 5,
   "metadata": {},
   "outputs": [],
   "source": [
    "optionTypeCall = TuringOptionTypes.EUROPEAN_CALL"
   ]
  },
  {
   "cell_type": "code",
   "execution_count": 6,
   "metadata": {},
   "outputs": [],
   "source": [
    "frequencyType = TuringFrequencyTypes.ANNUAL"
   ]
  },
  {
   "cell_type": "code",
   "execution_count": 7,
   "metadata": {},
   "outputs": [],
   "source": [
    "cliquetCall = TuringEquityCliquetOption(startDate, expiryDate, optionTypeCall, frequencyType)"
   ]
  },
  {
   "cell_type": "code",
   "execution_count": 8,
   "metadata": {},
   "outputs": [
    {
     "name": "stdout",
     "output_type": "stream",
     "text": [
      "OBJECT TYPE: TuringEquityCliquetOption\n",
      "START DATE: WED 01 JAN 2020\n",
      "FINAL EXPIRY DATE: WED 01 JAN 2025\n",
      "OPTION TYPE: TuringOptionTypes.EUROPEAN_CALL\n",
      "FREQUENCY TYPE: TuringFrequencyTypes.ANNUAL\n",
      "DAY COUNT TYPE: TuringDayCountTypes.THIRTY_E_360\n",
      "CALENDAR TYPE: TuringCalendarTypes.WEEKEND\n",
      "BUS DAY ADJUST TYPE: TuringBusDayAdjustTypes.FOLLOWING\n",
      "DATE GEN RULE TYPE: TuringDateGenRuleTypes.BACKWARD\n"
     ]
    }
   ],
   "source": [
    "print(cliquetCall)"
   ]
  },
  {
   "cell_type": "markdown",
   "metadata": {},
   "source": [
    "## Valuation"
   ]
  },
  {
   "cell_type": "code",
   "execution_count": 9,
   "metadata": {},
   "outputs": [],
   "source": [
    "valueDate = TuringDate(1, 1, 2020)"
   ]
  },
  {
   "cell_type": "code",
   "execution_count": 10,
   "metadata": {},
   "outputs": [],
   "source": [
    "interestRate = 0.10"
   ]
  },
  {
   "cell_type": "code",
   "execution_count": 11,
   "metadata": {},
   "outputs": [],
   "source": [
    "discountCurve = TuringDiscountCurveFlat(valueDate, interestRate)"
   ]
  },
  {
   "cell_type": "code",
   "execution_count": 12,
   "metadata": {},
   "outputs": [],
   "source": [
    "dividendYield = 0.0"
   ]
  },
  {
   "cell_type": "code",
   "execution_count": null,
   "metadata": {},
   "outputs": [],
   "source": [
    "dividendCurve = TuringDiscountCurveFlat(valueDate, dividendYield)"
   ]
  },
  {
   "cell_type": "code",
   "execution_count": 13,
   "metadata": {},
   "outputs": [],
   "source": [
    "volatility = 0.10"
   ]
  },
  {
   "cell_type": "code",
   "execution_count": 14,
   "metadata": {},
   "outputs": [],
   "source": [
    "model = FinModelBlackScholes(volatility)"
   ]
  },
  {
   "cell_type": "code",
   "execution_count": 15,
   "metadata": {},
   "outputs": [],
   "source": [
    "stockPrices = np.linspace(50, 150, 20)"
   ]
  },
  {
   "cell_type": "code",
   "execution_count": 16,
   "metadata": {},
   "outputs": [],
   "source": [
    "values = []\n",
    "\n",
    "for stockPrice in stockPrices:\n",
    "    stockMinMax = stockPrice\n",
    "    v = cliquetCall.value(valueDate, stockPrice, discountCurve, dividendYield, model)\n",
    "    values.append(v)"
   ]
  },
  {
   "cell_type": "code",
   "execution_count": 17,
   "metadata": {},
   "outputs": [
    {
     "data": {
      "image/png": "[encoded data removed]",
      "text/plain": [
       "<Figure size 432x288 with 1 Axes>"
      ]
     },
     "metadata": {
      "needs_background": "light"
     },
     "output_type": "display_data"
    }
   ],
   "source": [
    "plt.plot(stockPrices, values)\n",
    "plt.xlabel(\"Stock Price\")\n",
    "plt.ylabel(\"Value\");"
   ]
  },
  {
   "cell_type": "code",
   "execution_count": 18,
   "metadata": {},
   "outputs": [
    {
     "name": "stdout",
     "output_type": "stream",
     "text": [
      "FRI 01 JAN 2021 0.9048374180359595 15.466949983047213\n",
      "MON 03 JAN 2022 0.818282256374285 15.517867980773193\n",
      "MON 02 JAN 2023 0.7406152845863752 15.416447833853757\n",
      "MON 01 JAN 2024 0.6703200460356393 15.418995331331525\n",
      "WED 01 JAN 2025 0.6065306597126334 15.485419349561152\n"
     ]
    }
   ],
   "source": [
    "cliquetCall.printFlows()"
   ]
  },
  {
   "cell_type": "markdown",
   "metadata": {},
   "source": [
    "Copyright (c) 2020 Dominic O'Kane"
   ]
  }
 ],
 "metadata": {
  "kernelspec": {
   "display_name": "Python 3",
   "language": "python",
   "name": "python3"
  },
  "language_info": {
   "codemirror_mode": {
    "name": "ipython",
    "version": 3
   },
   "file_extension": ".py",
   "mimetype": "text/x-python",
   "name": "python",
   "nbconvert_exporter": "python",
   "pygments_lexer": "ipython3",
   "version": "3.8.5"
  }
 },
 "nbformat": 4,
 "nbformat_minor": 2
}
