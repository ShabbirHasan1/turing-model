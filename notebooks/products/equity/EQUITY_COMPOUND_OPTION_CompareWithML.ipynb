{
 "cells": [
  {
   "cell_type": "markdown",
   "metadata": {},
   "source": [
    "# EQUITY COMPOUND OPTIONS - VALUATION AND RISK ANALYSIS"
   ]
  },
  {
   "cell_type": "markdown",
   "metadata": {},
   "source": [
    "Valuation and Risk of an Option on an Option following example in https://fr.mathworks.com/help/fininst/compoundbycrr.html"
   ]
  },
  {
   "cell_type": "code",
   "execution_count": 1,
   "metadata": {},
   "outputs": [],
   "source": [
    "import numpy as np\n",
    "import matplotlib.pyplot as plt"
   ]
  },
  {
   "cell_type": "code",
   "execution_count": 2,
   "metadata": {},
   "outputs": [
    {
     "name": "stdout",
     "output_type": "stream",
     "text": [
      "####################################################################\n",
      "# FINANCEPY BETA Version 0.180 - This build:  22 Sep 2020 at 22:58 #\n",
      "#      This software is distributed FREE & WITHOUT ANY WARRANTY    #\n",
      "# For info and disclaimer - https://github.com/domokane/FinancePy  #\n",
      "#    For bug reports and comments - allmypythonprojects@gmail.com  #\n",
      "####################################################################\n",
      "\n"
     ]
    }
   ],
   "source": [
    "from financepy.finutils import *\n",
    "from financepy.market.curves import *\n",
    "from financepy.products.equity import *"
   ]
  },
  {
   "cell_type": "markdown",
   "metadata": {},
   "source": [
    "# Compound Option"
   ]
  },
  {
   "cell_type": "markdown",
   "metadata": {},
   "source": [
    "The underlying option is a call"
   ]
  },
  {
   "cell_type": "code",
   "execution_count": 3,
   "metadata": {},
   "outputs": [],
   "source": [
    "uExpiryDate = TuringDate(1, 1, 2006)\n",
    "uStrikePrice = 130.0\n",
    "uOptionType = TuringOptionTypes.AMERICAN_CALL"
   ]
  },
  {
   "cell_type": "markdown",
   "metadata": {},
   "source": [
    "The compound option is a put on this call"
   ]
  },
  {
   "cell_type": "code",
   "execution_count": 4,
   "metadata": {},
   "outputs": [],
   "source": [
    "cExpiryDate = TuringDate(1, 1, 2005)\n",
    "cStrikePrice = 5.0\n",
    "cOptionType = TuringOptionTypes.EUROPEAN_PUT"
   ]
  },
  {
   "cell_type": "markdown",
   "metadata": {},
   "source": [
    "We create the compound option"
   ]
  },
  {
   "cell_type": "code",
   "execution_count": 5,
   "metadata": {},
   "outputs": [],
   "source": [
    "cmpdOption = TuringEquityCompoundOption(cExpiryDate, cOptionType, cStrikePrice, \n",
    "                                     uExpiryDate, uOptionType, uStrikePrice)"
   ]
  },
  {
   "cell_type": "code",
   "execution_count": 6,
   "metadata": {},
   "outputs": [
    {
     "name": "stdout",
     "output_type": "stream",
     "text": [
      "OBJECT TYPE: TuringEquityCompoundOption\n",
      "CPD EXPIRY DATE: SAT 01 JAN 2005\n",
      "CPD STRIKE PRICE: 5.0\n",
      "CPD OPTION TYPE: TuringOptionTypes.EUROPEAN_PUT\n",
      "UND EXPIRY DATE: SUN 01 JAN 2006\n",
      "UND STRIKE PRICE: 130.0\n",
      "UND OPTION TYPE: TuringOptionTypes.AMERICAN_CALL\n",
      "\n"
     ]
    }
   ],
   "source": [
    "print(cmpdOption)"
   ]
  },
  {
   "cell_type": "markdown",
   "metadata": {},
   "source": [
    "## Valuation"
   ]
  },
  {
   "cell_type": "code",
   "execution_count": 7,
   "metadata": {},
   "outputs": [],
   "source": [
    "valueDate = TuringDate(1, 1, 2003)"
   ]
  },
  {
   "cell_type": "code",
   "execution_count": 8,
   "metadata": {},
   "outputs": [],
   "source": [
    "stockPrice = 50.0\n",
    "volatility = 0.20"
   ]
  },
  {
   "cell_type": "code",
   "execution_count": 9,
   "metadata": {},
   "outputs": [],
   "source": [
    "interestRate = 0.05\n",
    "discountCurve = TuringDiscountCurveFlat(valueDate, interestRate, TuringFrequencyTypes.ANNUAL)"
   ]
  },
  {
   "cell_type": "code",
   "execution_count": 10,
   "metadata": {},
   "outputs": [],
   "source": [
    "dividendYield = 0.03\n",
    "dividendCurve = TuringDiscountCurveFlat(valueDate, dividendYield)"
   ]
  },
  {
   "cell_type": "code",
   "execution_count": 11,
   "metadata": {},
   "outputs": [],
   "source": [
    "model = FinModelBlackScholes(volatility)"
   ]
  },
  {
   "cell_type": "code",
   "execution_count": 12,
   "metadata": {},
   "outputs": [
    {
     "data": {
      "text/plain": [
       "4.541649556677938"
      ]
     },
     "execution_count": 12,
     "metadata": {},
     "output_type": "execute_result"
    }
   ],
   "source": [
    "cmpdOption.value(valueDate, stockPrice, discountCurve, dividendCurve, model, 1000)"
   ]
  },
  {
   "cell_type": "markdown",
   "metadata": {},
   "source": [
    "ML finds 2.8482. However it is not possible to reconcile with ML as they do not provide full details on the CRR tree."
   ]
  },
  {
   "cell_type": "markdown",
   "metadata": {},
   "source": [
    "Copyright (c) 2020 Dominic O'Kane"
   ]
  }
 ],
 "metadata": {
  "kernelspec": {
   "display_name": "Python 3",
   "language": "python",
   "name": "python3"
  },
  "language_info": {
   "codemirror_mode": {
    "name": "ipython",
    "version": 3
   },
   "file_extension": ".py",
   "mimetype": "text/x-python",
   "name": "python",
   "nbconvert_exporter": "python",
   "pygments_lexer": "ipython3",
   "version": "3.8.5"
  }
 },
 "nbformat": 4,
 "nbformat_minor": 2
}
