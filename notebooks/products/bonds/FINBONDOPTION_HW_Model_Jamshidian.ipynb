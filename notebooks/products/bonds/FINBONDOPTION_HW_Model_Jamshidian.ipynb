{
 "cells": [
  {
   "cell_type": "markdown",
   "metadata": {},
   "source": [
    "# European Bond Option Pricing - HW Model Jamshidian"
   ]
  },
  {
   "cell_type": "markdown",
   "metadata": {},
   "source": [
    "Jamshidian's model is a fast way to price European bond options in the HW model. Her we value an option on a coupon paying bond using the Hull-White model and comparing the tree and the Jamshidian model for European Bond Options"
   ]
  },
  {
   "cell_type": "code",
   "execution_count": 56,
   "metadata": {},
   "outputs": [],
   "source": [
    "import numpy as np\n",
    "import matplotlib.pyplot as plt\n",
    "import time"
   ]
  },
  {
   "cell_type": "code",
   "execution_count": 57,
   "metadata": {},
   "outputs": [],
   "source": [
    "from financepy.finutils import *\n",
    "from financepy.market.curves import *\n",
    "from financepy.models.FinModelRatesHW import FinModelRatesHW, FinHWEuropeanCalcType\n",
    "from financepy.products.bonds import *"
   ]
  },
  {
   "cell_type": "markdown",
   "metadata": {},
   "source": [
    "## Set up Discount Curve"
   ]
  },
  {
   "cell_type": "code",
   "execution_count": 58,
   "metadata": {},
   "outputs": [],
   "source": [
    "settlementDate = TuringDate(1, 12, 2019)"
   ]
  },
  {
   "cell_type": "markdown",
   "metadata": {},
   "source": [
    "Set up discount curve"
   ]
  },
  {
   "cell_type": "code",
   "execution_count": 59,
   "metadata": {},
   "outputs": [],
   "source": [
    "rate = 0.05\n",
    "dcType = TuringDayCountTypes.THIRTY_360_BOND\n",
    "fixedFreq = TuringFrequencyTypes.SEMI_ANNUAL\n",
    "discountCurve = TuringDiscountCurveFlat(settlementDate, rate, fixedFreq, dcType)"
   ]
  },
  {
   "cell_type": "markdown",
   "metadata": {},
   "source": [
    "## Set up the Bond Option"
   ]
  },
  {
   "cell_type": "markdown",
   "metadata": {},
   "source": [
    "First create the bond"
   ]
  },
  {
   "cell_type": "code",
   "execution_count": 60,
   "metadata": {},
   "outputs": [],
   "source": [
    "issueDate = TuringDate(1,12,2018)\n",
    "maturityDate = issueDate.addTenor(\"10Y\")\n",
    "coupon = 0.06\n",
    "frequencyType = TuringFrequencyTypes.SEMI_ANNUAL\n",
    "accrualType = TuringDayCountTypes.THIRTY_360_BOND\n",
    "bond = TuringBond(issueDate, maturityDate, coupon, frequencyType, accrualType)"
   ]
  },
  {
   "cell_type": "markdown",
   "metadata": {},
   "source": [
    "Let's first price the bond on the libor curve"
   ]
  },
  {
   "cell_type": "code",
   "execution_count": 61,
   "metadata": {},
   "outputs": [
    {
     "name": "stdout",
     "output_type": "stream",
     "text": [
      "Fixed Income Clean Price:   107.177\n",
      "Fixed Income Full  Price:   110.177\n"
     ]
    }
   ],
   "source": [
    "cp = bond.cleanPriceFromDiscountCurve(settlementDate, discountCurve)\n",
    "fp = bond.fullPriceFromDiscountCurve(settlementDate, discountCurve)\n",
    "print(\"Fixed Income Clean Price: %9.3f\"% cp)\n",
    "print(\"Fixed Income Full  Price: %9.3f\"% fp)"
   ]
  },
  {
   "cell_type": "markdown",
   "metadata": {},
   "source": [
    "It's par as the discount rate is the same as the swap rate and the swap cashflows are 30/360 so like bond flows."
   ]
  },
  {
   "cell_type": "code",
   "execution_count": 62,
   "metadata": {},
   "outputs": [
    {
     "name": "stdout",
     "output_type": "stream",
     "text": [
      "SUN 01 DEC 2019          3.00 \n",
      "MON 01 JUN 2020          3.00 \n",
      "TUE 01 DEC 2020          3.00 \n",
      "TUE 01 JUN 2021          3.00 \n",
      "WED 01 DEC 2021          3.00 \n",
      "WED 01 JUN 2022          3.00 \n",
      "THU 01 DEC 2022          3.00 \n",
      "THU 01 JUN 2023          3.00 \n",
      "FRI 01 DEC 2023          3.00 \n",
      "SAT 01 JUN 2024          3.00 \n",
      "SUN 01 DEC 2024          3.00 \n",
      "SUN 01 JUN 2025          3.00 \n",
      "MON 01 DEC 2025          3.00 \n",
      "MON 01 JUN 2026          3.00 \n",
      "TUE 01 DEC 2026          3.00 \n",
      "TUE 01 JUN 2027          3.00 \n",
      "WED 01 DEC 2027          3.00 \n",
      "THU 01 JUN 2028          3.00 \n",
      "FRI 01 DEC 2028        103.00 \n"
     ]
    }
   ],
   "source": [
    "bond.printFlows(settlementDate)"
   ]
  },
  {
   "cell_type": "markdown",
   "metadata": {},
   "source": [
    "## Create the Bond Options"
   ]
  },
  {
   "cell_type": "markdown",
   "metadata": {},
   "source": [
    "Then define and create the options"
   ]
  },
  {
   "cell_type": "code",
   "execution_count": 63,
   "metadata": {},
   "outputs": [],
   "source": [
    "expiryDate = settlementDate.addTenor(\"18m\")\n",
    "strikePrice = 105.0\n",
    "faceAmount = 100.0"
   ]
  },
  {
   "cell_type": "code",
   "execution_count": 64,
   "metadata": {},
   "outputs": [],
   "source": [
    "europeanCallBondOption = TuringBondOption(bond, expiryDate, strikePrice,\n",
    "                                       faceAmount, TuringOptionTypes.EUROPEAN_CALL)"
   ]
  },
  {
   "cell_type": "code",
   "execution_count": 65,
   "metadata": {},
   "outputs": [],
   "source": [
    "europeanPutBondOption = TuringBondOption(bond, expiryDate, strikePrice,\n",
    "                                      faceAmount, TuringOptionTypes.EUROPEAN_PUT)"
   ]
  },
  {
   "cell_type": "markdown",
   "metadata": {},
   "source": [
    "Let's look at the forward price to calculate intrinsic."
   ]
  },
  {
   "cell_type": "code",
   "execution_count": 66,
   "metadata": {},
   "outputs": [
    {
     "name": "stdout",
     "output_type": "stream",
     "text": [
      "Fixed Income Clean Price:   106.191\n",
      "Fixed Income Full  Price:   109.191\n"
     ]
    }
   ],
   "source": [
    "cp = bond.cleanPriceFromDiscountCurve(expiryDate, discountCurve)\n",
    "fp = bond.fullPriceFromDiscountCurve(expiryDate, discountCurve)\n",
    "print(\"Fixed Income Clean Price: %9.3f\"% cp)\n",
    "print(\"Fixed Income Full  Price: %9.3f\"% fp)"
   ]
  },
  {
   "cell_type": "code",
   "execution_count": 67,
   "metadata": {},
   "outputs": [],
   "source": [
    "df = discountCurve.df(expiryDate)"
   ]
  },
  {
   "cell_type": "code",
   "execution_count": 68,
   "metadata": {},
   "outputs": [],
   "source": [
    "CallPx = max(cp - strikePrice,0) * df"
   ]
  },
  {
   "cell_type": "code",
   "execution_count": 69,
   "metadata": {},
   "outputs": [],
   "source": [
    "PutPx = max(strikePrice - cp,0) * df"
   ]
  },
  {
   "cell_type": "code",
   "execution_count": 70,
   "metadata": {},
   "outputs": [
    {
     "name": "stdout",
     "output_type": "stream",
     "text": [
      "1.1056729769751705 0.0\n"
     ]
    }
   ],
   "source": [
    "print(CallPx, PutPx)"
   ]
  },
  {
   "cell_type": "markdown",
   "metadata": {},
   "source": [
    "## Setting up Models"
   ]
  },
  {
   "cell_type": "markdown",
   "metadata": {},
   "source": [
    "Set up all three bond option model"
   ]
  },
  {
   "cell_type": "code",
   "execution_count": 71,
   "metadata": {},
   "outputs": [],
   "source": [
    "sigma = 0.01\n",
    "a = 0.1\n",
    "numSteps = 200\n",
    "modelJamshidian = FinModelRatesHW(sigma, a, numSteps, FinHWEuropeanCalcType.JAMSHIDIAN)\n",
    "modelExpiryOnly = FinModelRatesHW(sigma, a, numSteps, FinHWEuropeanCalcType.EXPIRY_ONLY)\n",
    "modelExpiryTree = FinModelRatesHW(sigma, a, numSteps, FinHWEuropeanCalcType.EXPIRY_TREE)"
   ]
  },
  {
   "cell_type": "markdown",
   "metadata": {},
   "source": [
    "## Comparing Jamshidian and Tree Implementations"
   ]
  },
  {
   "cell_type": "code",
   "execution_count": 72,
   "metadata": {},
   "outputs": [
    {
     "name": "stdout",
     "output_type": "stream",
     "text": [
      "European Call Jamshidian  Value:   2.59431\n",
      "European Call Expiry Only Value:   2.60439\n",
      "European Call Expiry Tree Value:   2.60555\n"
     ]
    }
   ],
   "source": [
    "ec1 = europeanCallBondOption.value(settlementDate, discountCurve, modelJamshidian)\n",
    "ec2 = europeanCallBondOption.value(settlementDate, discountCurve, modelExpiryOnly)\n",
    "ec3 = europeanCallBondOption.value(settlementDate, discountCurve, modelExpiryTree)\n",
    "print(\"European Call Jamshidian  Value: %9.5f\" % ec1)\n",
    "print(\"European Call Expiry Only Value: %9.5f\" % ec2)\n",
    "print(\"European Call Expiry Tree Value: %9.5f\" % ec3)"
   ]
  },
  {
   "cell_type": "code",
   "execution_count": 73,
   "metadata": {},
   "outputs": [
    {
     "name": "stdout",
     "output_type": "stream",
     "text": [
      "European Put Jamshidian Value:    1.48866\n",
      "European Put Expiry Only Value:   1.49790\n",
      "European Put Expiry Tree Value:   1.49701\n"
     ]
    }
   ],
   "source": [
    "ep1 = europeanPutBondOption.value(settlementDate, discountCurve, modelJamshidian)\n",
    "ep2 = europeanPutBondOption.value(settlementDate, discountCurve, modelExpiryOnly)\n",
    "ep3 = europeanPutBondOption.value(settlementDate, discountCurve, modelExpiryTree)\n",
    "print(\"European Put Jamshidian Value:  %9.5f\" % ep1)\n",
    "print(\"European Put Expiry Only Value: %9.5f\" % ep2)\n",
    "print(\"European Put Expiry Tree Value: %9.5f\" % ep3)"
   ]
  },
  {
   "cell_type": "markdown",
   "metadata": {},
   "source": [
    "## Timing Comparisons"
   ]
  },
  {
   "cell_type": "code",
   "execution_count": 74,
   "metadata": {},
   "outputs": [
    {
     "name": "stdout",
     "output_type": "stream",
     "text": [
      "964 µs ± 3.39 µs per loop (mean ± std. dev. of 7 runs, 1000 loops each)\n"
     ]
    }
   ],
   "source": [
    "%timeit ep1 = europeanPutBondOption.value(settlementDate, discountCurve, modelJamshidian)"
   ]
  },
  {
   "cell_type": "code",
   "execution_count": 75,
   "metadata": {},
   "outputs": [
    {
     "name": "stdout",
     "output_type": "stream",
     "text": [
      "2.86 ms ± 57.3 µs per loop (mean ± std. dev. of 7 runs, 100 loops each)\n"
     ]
    }
   ],
   "source": [
    "%timeit ep2 = europeanPutBondOption.value(settlementDate, discountCurve, modelExpiryOnly)"
   ]
  },
  {
   "cell_type": "code",
   "execution_count": 76,
   "metadata": {},
   "outputs": [
    {
     "name": "stdout",
     "output_type": "stream",
     "text": [
      "628 µs ± 13.8 µs per loop (mean ± std. dev. of 7 runs, 1000 loops each)\n"
     ]
    }
   ],
   "source": [
    "%timeit ep3 = europeanPutBondOption.value(settlementDate, discountCurve, modelExpiryTree)"
   ]
  },
  {
   "cell_type": "markdown",
   "metadata": {},
   "source": [
    "Interestingly, the expiry tree is fastest. Possibly because the Jamshidian main loop has not been Numba'd"
   ]
  },
  {
   "cell_type": "markdown",
   "metadata": {},
   "source": [
    "## Strike Dependency"
   ]
  },
  {
   "cell_type": "code",
   "execution_count": 77,
   "metadata": {},
   "outputs": [],
   "source": [
    "strikes = np.linspace(70,130,31)"
   ]
  },
  {
   "cell_type": "code",
   "execution_count": 78,
   "metadata": {},
   "outputs": [
    {
     "name": "stdout",
     "output_type": "stream",
     "text": [
      "K:  70.00000 JAMSHIDIAN:  33.60535  EXPIRY_ONLY:  33.63139  EXPIRY_TREE:  33.63344 \n",
      "K:  72.00000 JAMSHIDIAN:  31.74821  EXPIRY_ONLY:  31.77282  EXPIRY_TREE:  31.77487 \n",
      "K:  74.00000 JAMSHIDIAN:  29.89106  EXPIRY_ONLY:  29.91426  EXPIRY_TREE:  29.91631 \n",
      "K:  76.00000 JAMSHIDIAN:  28.03392  EXPIRY_ONLY:  28.05569  EXPIRY_TREE:  28.05774 \n",
      "K:  78.00000 JAMSHIDIAN:  26.17679  EXPIRY_ONLY:  26.19713  EXPIRY_TREE:  26.19917 \n",
      "K:  80.00000 JAMSHIDIAN:  24.31965  EXPIRY_ONLY:  24.33856  EXPIRY_TREE:  24.34061 \n",
      "K:  82.00000 JAMSHIDIAN:  22.46252  EXPIRY_ONLY:  22.48000  EXPIRY_TREE:  22.48204 \n",
      "K:  84.00000 JAMSHIDIAN:  20.60539  EXPIRY_ONLY:  20.62143  EXPIRY_TREE:  20.62348 \n",
      "K:  86.00000 JAMSHIDIAN:  18.74827  EXPIRY_ONLY:  18.76288  EXPIRY_TREE:  18.76493 \n",
      "K:  88.00000 JAMSHIDIAN:  16.89124  EXPIRY_ONLY:  16.90441  EXPIRY_TREE:  16.90646 \n",
      "K:  90.00000 JAMSHIDIAN:  15.03466  EXPIRY_ONLY:  15.04631  EXPIRY_TREE:  15.04836 \n",
      "K:  92.00000 JAMSHIDIAN:  13.18003  EXPIRY_ONLY:  13.19045  EXPIRY_TREE:  13.19250 \n",
      "K:  94.00000 JAMSHIDIAN:  11.33230  EXPIRY_ONLY:  11.34132  EXPIRY_TREE:  11.34335 \n",
      "K:  96.00000 JAMSHIDIAN:   9.50422  EXPIRY_ONLY:   9.50978  EXPIRY_TREE:   9.51180 \n",
      "K:  98.00000 JAMSHIDIAN:   7.72245  EXPIRY_ONLY:   7.72919  EXPIRY_TREE:   7.73109 \n",
      "K: 100.00000 JAMSHIDIAN:   6.03160  EXPIRY_ONLY:   6.04055  EXPIRY_TREE:   6.04235 \n",
      "K: 102.00000 JAMSHIDIAN:   4.49131  EXPIRY_ONLY:   4.49852  EXPIRY_TREE:   4.50015 \n",
      "K: 104.00000 JAMSHIDIAN:   3.16338  EXPIRY_ONLY:   3.16187  EXPIRY_TREE:   3.16328 \n",
      "K: 106.00000 JAMSHIDIAN:   2.09307  EXPIRY_ONLY:   2.07737  EXPIRY_TREE:   2.07827 \n",
      "K: 108.00000 JAMSHIDIAN:   1.29392  EXPIRY_ONLY:   1.28954  EXPIRY_TREE:   1.29019 \n",
      "K: 110.00000 JAMSHIDIAN:   0.74447  EXPIRY_ONLY:   0.74598  EXPIRY_TREE:   0.74641 \n",
      "K: 112.00000 JAMSHIDIAN:   0.39772  EXPIRY_ONLY:   0.40098  EXPIRY_TREE:   0.40125 \n",
      "K: 114.00000 JAMSHIDIAN:   0.19708  EXPIRY_ONLY:   0.19998  EXPIRY_TREE:   0.20013 \n",
      "K: 116.00000 JAMSHIDIAN:   0.09059  EXPIRY_ONLY:   0.09251  EXPIRY_TREE:   0.09258 \n",
      "K: 118.00000 JAMSHIDIAN:   0.03866  EXPIRY_ONLY:   0.03972  EXPIRY_TREE:   0.03976 \n",
      "K: 120.00000 JAMSHIDIAN:   0.01533  EXPIRY_ONLY:   0.01585  EXPIRY_TREE:   0.01586 \n",
      "K: 122.00000 JAMSHIDIAN:   0.00567  EXPIRY_ONLY:   0.00588  EXPIRY_TREE:   0.00589 \n",
      "K: 124.00000 JAMSHIDIAN:   0.00195  EXPIRY_ONLY:   0.00203  EXPIRY_TREE:   0.00203 \n",
      "K: 126.00000 JAMSHIDIAN:   0.00063  EXPIRY_ONLY:   0.00065  EXPIRY_TREE:   0.00065 \n",
      "K: 128.00000 JAMSHIDIAN:   0.00019  EXPIRY_ONLY:   0.00019  EXPIRY_TREE:   0.00019 \n",
      "K: 130.00000 JAMSHIDIAN:   0.00005  EXPIRY_ONLY:   0.00005  EXPIRY_TREE:   0.00005 \n"
     ]
    }
   ],
   "source": [
    "for K in strikes:\n",
    "    europeanCallBondOption = TuringBondOption(bond, expiryDate, K, faceAmount, TuringOptionTypes.EUROPEAN_CALL)\n",
    "    ec1 = europeanCallBondOption.value(settlementDate, discountCurve, modelJamshidian)\n",
    "    ec2 = europeanCallBondOption.value(settlementDate, discountCurve, modelExpiryOnly)\n",
    "    ec3 = europeanCallBondOption.value(settlementDate, discountCurve, modelExpiryTree)    \n",
    "    print(\"K: %9.5f JAMSHIDIAN: %9.5f  EXPIRY_ONLY: %9.5f  EXPIRY_TREE: %9.5f \" %(K, ec1, ec2, ec3))"
   ]
  },
  {
   "cell_type": "markdown",
   "metadata": {},
   "source": [
    "All three methods are consistent."
   ]
  },
  {
   "cell_type": "markdown",
   "metadata": {},
   "source": [
    "Copyright (c) Dominic O'Kane 2020"
   ]
  }
 ],
 "metadata": {
  "kernelspec": {
   "display_name": "Python 3",
   "language": "python",
   "name": "python3"
  },
  "language_info": {
   "codemirror_mode": {
    "name": "ipython",
    "version": 3
   },
   "file_extension": ".py",
   "mimetype": "text/x-python",
   "name": "python",
   "nbconvert_exporter": "python",
   "pygments_lexer": "ipython3",
   "version": "3.7.6"
  }
 },
 "nbformat": 4,
 "nbformat_minor": 2
}
