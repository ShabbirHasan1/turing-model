{
 "cells": [
  {
   "cell_type": "markdown",
   "metadata": {},
   "source": [
    "# FIXED COUPON BOND EXAMPLE APPLE CORP"
   ]
  },
  {
   "cell_type": "markdown",
   "metadata": {},
   "source": [
    "This is a  bond analysis based on example in https://data.bloomberglp.com/bat/sites/3/2017/07/SF-2017_Paul-Fjeldsted.pdf"
   ]
  },
  {
   "cell_type": "code",
   "execution_count": 2,
   "metadata": {},
   "outputs": [],
   "source": [
    "import numpy as np\n",
    "import matplotlib.pyplot as plt"
   ]
  },
  {
   "cell_type": "code",
   "execution_count": 3,
   "metadata": {},
   "outputs": [
    {
     "name": "stdout",
     "output_type": "stream",
     "text": [
      "###################################################################\n",
      "# FINANCEPY BETA Version 0.180 - This build: 22 Sep 2020 at 22:13 #\n",
      "#     This software is distributed FREE & WITHOUT ANY WARRANTY    #\n",
      "# For info and disclaimer - https://github.com/domokane/FinancePy #\n",
      "###################################################################\n",
      "\n"
     ]
    }
   ],
   "source": [
    "from financepy.finutils import *\n",
    "from financepy.products.bonds import *"
   ]
  },
  {
   "cell_type": "markdown",
   "metadata": {},
   "source": [
    "# Define the Bond"
   ]
  },
  {
   "cell_type": "code",
   "execution_count": 4,
   "metadata": {},
   "outputs": [],
   "source": [
    "issueDate = TuringDate(13, 5, 2010)\n",
    "maturityDate = TuringDate(13, 5, 2022)\n",
    "coupon = 0.027\n",
    "freqType = TuringFrequencyTypes.SEMI_ANNUAL\n",
    "accrualType = TuringDayCountTypes.THIRTY_E_360\n",
    "face = ONE_MILLION"
   ]
  },
  {
   "cell_type": "code",
   "execution_count": 5,
   "metadata": {},
   "outputs": [],
   "source": [
    "bond = TuringBond(issueDate, maturityDate, coupon, freqType, accrualType, face)"
   ]
  },
  {
   "cell_type": "code",
   "execution_count": 6,
   "metadata": {},
   "outputs": [],
   "source": [
    "cleanPrice = 101.581564  # if face is 1 then this must be 0.99780842"
   ]
  },
  {
   "cell_type": "markdown",
   "metadata": {},
   "source": [
    "You can get information about the bond using the print method."
   ]
  },
  {
   "cell_type": "code",
   "execution_count": 7,
   "metadata": {},
   "outputs": [
    {
     "name": "stdout",
     "output_type": "stream",
     "text": [
      "OBJECT TYPE: TuringBond\n",
      "ISSUE DATE: THU 13 MAY 2010\n",
      "MATURITY DATE: FRI 13 MAY 2022\n",
      "COUPON: 0.027\n",
      "FREQUENCY: TuringFrequencyTypes.SEMI_ANNUAL\n",
      "ACCRUAL TYPE: TuringDayCountTypes.THIRTY_E_360\n",
      "FACE AMOUNT: 1000000\n"
     ]
    }
   ],
   "source": [
    "print(bond)"
   ]
  },
  {
   "cell_type": "markdown",
   "metadata": {},
   "source": [
    "## Bond Cash Flows"
   ]
  },
  {
   "cell_type": "markdown",
   "metadata": {},
   "source": [
    "We first need to set the settlement date of the bond. "
   ]
  },
  {
   "cell_type": "code",
   "execution_count": 8,
   "metadata": {},
   "outputs": [],
   "source": [
    "settlementDate = TuringDate(21, 7, 2017)"
   ]
  },
  {
   "cell_type": "code",
   "execution_count": 9,
   "metadata": {},
   "outputs": [
    {
     "name": "stdout",
     "output_type": "stream",
     "text": [
      "MON 13 NOV 2017      13500.00 \n",
      "SUN 13 MAY 2018      13500.00 \n",
      "TUE 13 NOV 2018      13500.00 \n",
      "MON 13 MAY 2019      13500.00 \n",
      "WED 13 NOV 2019      13500.00 \n",
      "WED 13 MAY 2020      13500.00 \n",
      "FRI 13 NOV 2020      13500.00 \n",
      "THU 13 MAY 2021      13500.00 \n",
      "SAT 13 NOV 2021      13500.00 \n",
      "FRI 13 MAY 2022    1013500.00 \n"
     ]
    }
   ],
   "source": [
    "bond.printFlows(settlementDate)"
   ]
  },
  {
   "cell_type": "markdown",
   "metadata": {},
   "source": [
    "The convention is to use these dates for yield calculations even if some fall on weekends."
   ]
  },
  {
   "cell_type": "markdown",
   "metadata": {},
   "source": [
    "## Bond Yield Measures"
   ]
  },
  {
   "cell_type": "markdown",
   "metadata": {},
   "source": [
    "Current yield is the coupon over the price"
   ]
  },
  {
   "cell_type": "code",
   "execution_count": 10,
   "metadata": {},
   "outputs": [
    {
     "data": {
      "text/plain": [
       "2.657962620067555"
      ]
     },
     "execution_count": 10,
     "metadata": {},
     "output_type": "execute_result"
    }
   ],
   "source": [
    "bond.currentYield(cleanPrice)*100.0"
   ]
  },
  {
   "cell_type": "markdown",
   "metadata": {},
   "source": [
    "Yield to maturity using UK convention"
   ]
  },
  {
   "cell_type": "code",
   "execution_count": 10,
   "metadata": {},
   "outputs": [
    {
     "data": {
      "text/plain": [
       "2.3499999793944197"
      ]
     },
     "execution_count": 10,
     "metadata": {},
     "output_type": "execute_result"
    }
   ],
   "source": [
    "bond.yieldToMaturity(settlementDate, cleanPrice, TuringYTMCalcType.UK_DMO)*100"
   ]
  },
  {
   "cell_type": "markdown",
   "metadata": {},
   "source": [
    "Yield to maturity using US Street convention"
   ]
  },
  {
   "cell_type": "code",
   "execution_count": 11,
   "metadata": {},
   "outputs": [
    {
     "data": {
      "text/plain": [
       "2.3499999793944197"
      ]
     },
     "execution_count": 11,
     "metadata": {},
     "output_type": "execute_result"
    }
   ],
   "source": [
    "bond.yieldToMaturity(settlementDate, cleanPrice, TuringYTMCalcType.US_STREET)*100"
   ]
  },
  {
   "cell_type": "markdown",
   "metadata": {},
   "source": [
    "Yield to maturity using US Treasury convention"
   ]
  },
  {
   "cell_type": "code",
   "execution_count": 12,
   "metadata": {},
   "outputs": [
    {
     "data": {
      "text/plain": [
       "2.3496418128945775"
      ]
     },
     "execution_count": 12,
     "metadata": {},
     "output_type": "execute_result"
    }
   ],
   "source": [
    "bond.yieldToMaturity(settlementDate, cleanPrice, TuringYTMCalcType.US_TREASURY)*100"
   ]
  },
  {
   "cell_type": "markdown",
   "metadata": {},
   "source": [
    "## Accrued Interest"
   ]
  },
  {
   "cell_type": "markdown",
   "metadata": {},
   "source": [
    "For consistency let's fix the yield calculation convention to be US Street"
   ]
  },
  {
   "cell_type": "code",
   "execution_count": 13,
   "metadata": {},
   "outputs": [],
   "source": [
    "yieldConvention = TuringYTMCalcType.US_STREET"
   ]
  },
  {
   "cell_type": "code",
   "execution_count": 14,
   "metadata": {},
   "outputs": [],
   "source": [
    "ytm = bond.yieldToMaturity(settlementDate, cleanPrice, yieldConvention)"
   ]
  },
  {
   "cell_type": "markdown",
   "metadata": {},
   "source": [
    "Full price is the clean price plus accrued interest"
   ]
  },
  {
   "cell_type": "code",
   "execution_count": 15,
   "metadata": {},
   "outputs": [
    {
     "name": "stdout",
     "output_type": "stream",
     "text": [
      "Full Price = = 102.091564\n"
     ]
    }
   ],
   "source": [
    "print(\"Full Price = = %8.6f\" %  bond.fullPriceFromYTM(settlementDate, ytm, yieldConvention))"
   ]
  },
  {
   "cell_type": "code",
   "execution_count": 16,
   "metadata": {},
   "outputs": [
    {
     "name": "stdout",
     "output_type": "stream",
     "text": [
      "Clean Price = 101.581564\n"
     ]
    }
   ],
   "source": [
    "print(\"Clean Price = %8.6f\" % bond.cleanPriceFromYTM(settlementDate, ytm, yieldConvention))"
   ]
  },
  {
   "cell_type": "markdown",
   "metadata": {},
   "source": [
    "Accrued interest is accrued from previous coupon date to settlement date"
   ]
  },
  {
   "cell_type": "code",
   "execution_count": 17,
   "metadata": {},
   "outputs": [
    {
     "name": "stdout",
     "output_type": "stream",
     "text": [
      "Previous coupon date is  SAT 13 MAY 2017\n"
     ]
    }
   ],
   "source": [
    "print(\"Previous coupon date is \", bond._pcd)"
   ]
  },
  {
   "cell_type": "code",
   "execution_count": 18,
   "metadata": {},
   "outputs": [
    {
     "name": "stdout",
     "output_type": "stream",
     "text": [
      "Settlement date is  FRI 21 JUL 2017\n"
     ]
    }
   ],
   "source": [
    "print(\"Settlement date is \", settlementDate)"
   ]
  },
  {
   "cell_type": "markdown",
   "metadata": {},
   "source": [
    "The amount of accrued interest is "
   ]
  },
  {
   "cell_type": "code",
   "execution_count": 19,
   "metadata": {},
   "outputs": [
    {
     "name": "stdout",
     "output_type": "stream",
     "text": [
      "Accrued =      5100.00\n"
     ]
    }
   ],
   "source": [
    "print(\"Accrued = %12.2f\"% bond._accruedInterest)"
   ]
  },
  {
   "cell_type": "markdown",
   "metadata": {},
   "source": [
    "This is based on the following number of days of accrual (for some conventions this is not the actual number of days between last coupon and settlement)"
   ]
  },
  {
   "cell_type": "code",
   "execution_count": 20,
   "metadata": {},
   "outputs": [
    {
     "name": "stdout",
     "output_type": "stream",
     "text": [
      "Accrued Days =  68\n"
     ]
    }
   ],
   "source": [
    "print(\"Accrued Days = \", bond._accruedDays)"
   ]
  },
  {
   "cell_type": "code",
   "execution_count": 21,
   "metadata": {},
   "outputs": [
    {
     "name": "stdout",
     "output_type": "stream",
     "text": [
      "Principal =   1015815.64\n"
     ]
    }
   ],
   "source": [
    "print(\"Principal = %12.2f\" % bond.principal(settlementDate, ytm, yieldConvention))"
   ]
  },
  {
   "cell_type": "markdown",
   "metadata": {},
   "source": [
    "## Bond Risk Measures"
   ]
  },
  {
   "cell_type": "markdown",
   "metadata": {},
   "source": [
    "The bond dollar duration is the actual derivative with respect to the yield. It is the bond price change for a 1bp drop in the yield-to-maturity divided by 1bp."
   ]
  },
  {
   "cell_type": "code",
   "execution_count": 22,
   "metadata": {},
   "outputs": [
    {
     "name": "stdout",
     "output_type": "stream",
     "text": [
      "Dollar Duration =  456.56933693592805\n"
     ]
    }
   ],
   "source": [
    "duration = bond.dollarDuration(settlementDate, ytm, yieldConvention)\n",
    "print(\"Dollar Duration = \", duration)"
   ]
  },
  {
   "cell_type": "markdown",
   "metadata": {},
   "source": [
    "Modified Duration divides the dollar duration by the full price of the bond"
   ]
  },
  {
   "cell_type": "code",
   "execution_count": 23,
   "metadata": {},
   "outputs": [
    {
     "name": "stdout",
     "output_type": "stream",
     "text": [
      "Modified Duration =  4.4721553774602825\n"
     ]
    }
   ],
   "source": [
    "modifiedDuration = bond.modifiedDuration(settlementDate, ytm, yieldConvention)\n",
    "print(\"Modified Duration = \", modifiedDuration)"
   ]
  },
  {
   "cell_type": "markdown",
   "metadata": {},
   "source": [
    "Macauley Duration multiplies the dollar duration by (1+y/f) and divides by the full price"
   ]
  },
  {
   "cell_type": "code",
   "execution_count": 24,
   "metadata": {},
   "outputs": [
    {
     "name": "stdout",
     "output_type": "stream",
     "text": [
      "Macauley Duration =  4.524703202684684\n"
     ]
    }
   ],
   "source": [
    "macauleyDuration = bond.macauleyDuration(settlementDate, ytm, yieldConvention)\n",
    "print(\"Macauley Duration = \", macauleyDuration)"
   ]
  },
  {
   "cell_type": "markdown",
   "metadata": {},
   "source": [
    "Convexity is the second derivative of the bond price with respect to the yield-to-maturity"
   ]
  },
  {
   "cell_type": "code",
   "execution_count": 25,
   "metadata": {},
   "outputs": [
    {
     "name": "stdout",
     "output_type": "stream",
     "text": [
      "Convexity =  0.23024090816492734\n"
     ]
    }
   ],
   "source": [
    "conv = bond.convexityFromYTM(settlementDate, ytm, yieldConvention)\n",
    "print(\"Convexity = \", conv)"
   ]
  },
  {
   "cell_type": "markdown",
   "metadata": {},
   "source": [
    "Copyright (c) 2020 Dominic O'Kane"
   ]
  }
 ],
 "metadata": {
  "kernelspec": {
   "display_name": "Python 3",
   "language": "python",
   "name": "python3"
  },
  "language_info": {
   "codemirror_mode": {
    "name": "ipython",
    "version": 3
   },
   "file_extension": ".py",
   "mimetype": "text/x-python",
   "name": "python",
   "nbconvert_exporter": "python",
   "pygments_lexer": "ipython3",
   "version": "3.7.6"
  }
 },
 "nbformat": 4,
 "nbformat_minor": 2
}
