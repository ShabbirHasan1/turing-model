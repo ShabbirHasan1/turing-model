{
 "cells": [
  {
   "cell_type": "markdown",
   "metadata": {},
   "source": [
    "# Convertible Bond Valuation - QL Example"
   ]
  },
  {
   "cell_type": "markdown",
   "metadata": {},
   "source": [
    "Value a Convertible Bond and compare to QL example at http://gouthamanbalaraman.com/blog/value-convertible-bond-quantlib-python.html"
   ]
  },
  {
   "cell_type": "code",
   "execution_count": 1,
   "metadata": {},
   "outputs": [],
   "source": [
    "import numpy as np\n",
    "import matplotlib.pyplot as plt"
   ]
  },
  {
   "cell_type": "code",
   "execution_count": 2,
   "metadata": {},
   "outputs": [
    {
     "name": "stdout",
     "output_type": "stream",
     "text": [
      "####################################################################\n",
      "# FINANCEPY BETA Version 0.180 - This build:  22 Sep 2020 at 22:58 #\n",
      "#      This software is distributed FREE & WITHOUT ANY WARRANTY    #\n",
      "# For info and disclaimer - https://github.com/domokane/FinancePy  #\n",
      "#    For bug reports and comments - allmypythonprojects@gmail.com  #\n",
      "####################################################################\n",
      "\n"
     ]
    }
   ],
   "source": [
    "from financepy.finutils import *\n",
    "from financepy.products.bonds import *\n",
    "from financepy.market.curves import *"
   ]
  },
  {
   "cell_type": "markdown",
   "metadata": {},
   "source": [
    "## Creating the Convertible Bond"
   ]
  },
  {
   "cell_type": "code",
   "execution_count": 3,
   "metadata": {},
   "outputs": [],
   "source": [
    "valuationDate = TuringDate(9, 1, 2004)\n",
    "settlementDate = valuationDate.addDays(2)"
   ]
  },
  {
   "cell_type": "markdown",
   "metadata": {},
   "source": [
    "We set the maturity date, annualised coupon, coupon frequency and convention for calculating accrued interest"
   ]
  },
  {
   "cell_type": "code",
   "execution_count": 4,
   "metadata": {},
   "outputs": [],
   "source": [
    "maturityDate = TuringDate(15, 3, 2022)\n",
    "coupon = 0.0575\n",
    "frequencyType = TuringFrequencyTypes.SEMI_ANNUAL\n",
    "accrualBasis = TuringDayCountTypes.THIRTY_360_BOND\n",
    "face = 100.0 \n",
    "conversionRatio = 3.84615  "
   ]
  },
  {
   "cell_type": "markdown",
   "metadata": {},
   "source": [
    "We need to set the face amount and the conversion ratio. This is the number of shares you can convert to for that face amount."
   ]
  },
  {
   "cell_type": "markdown",
   "metadata": {},
   "source": [
    "We can also delay the start of the conversion feature using the start convert date. We allow conversion to occur from settlement."
   ]
  },
  {
   "cell_type": "code",
   "execution_count": 5,
   "metadata": {},
   "outputs": [],
   "source": [
    "startConvertDate = settlementDate"
   ]
  },
  {
   "cell_type": "markdown",
   "metadata": {},
   "source": [
    "We can also set the call schedule - the price and date on which the issuer can call back the bond. This is given with reference to a price of 100. Making the call price very high means it will never be called. So the call has no impact."
   ]
  },
  {
   "cell_type": "code",
   "execution_count": 6,
   "metadata": {},
   "outputs": [],
   "source": [
    "callPrice = 100.0\n",
    "callDates = [TuringDate(20, 3, 2007), TuringDate(15, 3, 2012), TuringDate(15, 3, 2017)]\n",
    "callPrices = [callPrice, callPrice, callPrice]"
   ]
  },
  {
   "cell_type": "markdown",
   "metadata": {},
   "source": [
    "We can also set the put schedule - the price and date on which the owner can put back the bond to the issuer. This is given with reference to a price of 100. Making the put price very low means it will never be put."
   ]
  },
  {
   "cell_type": "code",
   "execution_count": 7,
   "metadata": {},
   "outputs": [],
   "source": [
    "putPrice = 100.0\n",
    "putDates = [TuringDate(20, 3, 2007), TuringDate(15, 3, 2012), TuringDate(15, 3, 2017)]\n",
    "putPrices = [putPrice, putPrice, putPrice]"
   ]
  },
  {
   "cell_type": "markdown",
   "metadata": {},
   "source": [
    "At this point we can create our bond."
   ]
  },
  {
   "cell_type": "code",
   "execution_count": 8,
   "metadata": {},
   "outputs": [],
   "source": [
    "bond = TuringBondConvertible(maturityDate, coupon, frequencyType, startConvertDate, conversionRatio,\n",
    "                          callDates, callPrices, putDates, putPrices, accrualBasis, face)"
   ]
  },
  {
   "cell_type": "code",
   "execution_count": 9,
   "metadata": {},
   "outputs": [
    {
     "name": "stdout",
     "output_type": "stream",
     "text": [
      "OBJECT TYPE: TuringBondConvertible\n",
      "MATURITY DATE: TUE 15 MAR 2022\n",
      "COUPON: 0.0575\n",
      "FREQUENCY: TuringFrequencyTypes.SEMI_ANNUAL\n",
      "ACCRUAL TYPE: TuringDayCountTypes.THIRTY_360_BOND\n",
      "FACE AMOUNT: 100.0\n",
      "CONVERSION RATIO: 3.84615\n",
      "START CONVERT DATE: SUN 11 JAN 2004\n",
      "CALL: DATES\n",
      "TUE 20 MAR 2007: 100.0\n",
      "THU 15 MAR 2012: 100.0\n",
      "WED 15 MAR 2017: 100.0\n",
      "PUT: DATES\n",
      "TUE 20 MAR 2007: 100.0\n",
      "THU 15 MAR 2012: 100.0\n",
      "WED 15 MAR 2017: 100.0\n",
      "\n"
     ]
    }
   ],
   "source": [
    "print(bond)"
   ]
  },
  {
   "cell_type": "markdown",
   "metadata": {},
   "source": [
    "## Valuation Inputs"
   ]
  },
  {
   "cell_type": "markdown",
   "metadata": {},
   "source": [
    "The model allows a discrete dividend schedule. We can use the TuringSchedule class to do this."
   ]
  },
  {
   "cell_type": "code",
   "execution_count": 10,
   "metadata": {},
   "outputs": [],
   "source": [
    "dividendSchedule = TuringSchedule(settlementDate, maturityDate).scheduleDates()[1:]\n",
    "dividendYields = [0.02] * len(dividendSchedule)"
   ]
  },
  {
   "cell_type": "code",
   "execution_count": 13,
   "metadata": {},
   "outputs": [],
   "source": [
    "rate = 0.04\n",
    "discountCurve = TuringDiscountCurveFlat(settlementDate, rate, TuringFrequencyTypes.CONTINUOUS)"
   ]
  },
  {
   "cell_type": "code",
   "execution_count": 18,
   "metadata": {},
   "outputs": [],
   "source": [
    "stockPrice = 29.04\n",
    "stockVolatility = 0.40\n",
    "creditSpread = 0.03\n",
    "recoveryRate = 0.40 # 40 percent\n",
    "numStepsPerYear = 1000"
   ]
  },
  {
   "cell_type": "code",
   "execution_count": 19,
   "metadata": {},
   "outputs": [
    {
     "data": {
      "text/plain": [
       "{'cbprice': 135.35429314756908,\n",
       " 'bond': 89.47598110542303,\n",
       " 'delta': 2.8961224798738208,\n",
       " 'gamma': 0.5951936335206977,\n",
       " 'theta': 221.66604283982775}"
      ]
     },
     "execution_count": 19,
     "metadata": {},
     "output_type": "execute_result"
    }
   ],
   "source": [
    "bond.value(valuationDate, stockPrice, stockVolatility, dividendSchedule, dividendYields,\n",
    "           discountCurve, creditSpread, recoveryRate, numStepsPerYear)"
   ]
  },
  {
   "cell_type": "markdown",
   "metadata": {},
   "source": [
    "Copyright (c) 2020 Dominic O'Kane"
   ]
  },
  {
   "cell_type": "markdown",
   "metadata": {},
   "source": [
    "This compares to 132.31 found by QL. The difference could be due to the different treatment of dividends or the credit spread."
   ]
  }
 ],
 "metadata": {
  "kernelspec": {
   "display_name": "Python 3",
   "language": "python",
   "name": "python3"
  },
  "language_info": {
   "codemirror_mode": {
    "name": "ipython",
    "version": 3
   },
   "file_extension": ".py",
   "mimetype": "text/x-python",
   "name": "python",
   "nbconvert_exporter": "python",
   "pygments_lexer": "ipython3",
   "version": "3.7.6"
  }
 },
 "nbformat": 4,
 "nbformat_minor": 2
}
