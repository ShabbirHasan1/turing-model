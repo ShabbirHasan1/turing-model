{
 "cells": [
  {
   "cell_type": "markdown",
   "metadata": {},
   "source": [
    "# ANNUITY CALCULATOR"
   ]
  },
  {
   "cell_type": "markdown",
   "metadata": {},
   "source": [
    "In this notebook I use the simple mortgage calculator to generate mortgage cashflows."
   ]
  },
  {
   "cell_type": "code",
   "execution_count": 1,
   "metadata": {
    "scrolled": true,
    "tags": []
   },
   "outputs": [
    {
     "name": "stdout",
     "output_type": "stream",
     "text": [
      "####################################################################\n",
      "# FINANCEPY BETA Version 0.185 - This build:  24 Oct 2020 at 20:12 #\n",
      "#      This software is distributed FREE & WITHOUT ANY WARRANTY    #\n",
      "# For info and disclaimer - https://github.com/domokane/FinancePy  #\n",
      "#      Send any bug reports or comments to quant@financepy.com     #\n",
      "####################################################################\n",
      "\n"
     ]
    }
   ],
   "source": [
    "from financepy.products.bonds import *\n",
    "from financepy.finutils import *\n",
    "from financepy.products.rates import *"
   ]
  },
  {
   "cell_type": "markdown",
   "metadata": {},
   "source": [
    "## CREATE AN ANNUITY STREAM"
   ]
  },
  {
   "cell_type": "markdown",
   "metadata": {},
   "source": [
    "Calculate the cashflows on an annuity"
   ]
  },
  {
   "cell_type": "code",
   "execution_count": 2,
   "metadata": {},
   "outputs": [],
   "source": [
    "valuationDate = TuringDate(20, 6, 2018)\n",
    "settlementDate = valuationDate"
   ]
  },
  {
   "cell_type": "code",
   "execution_count": 3,
   "metadata": {
    "scrolled": true
   },
   "outputs": [],
   "source": [
    "maturityDate = settlementDate.addTenor(\"5Y\")  # TuringDate(20, 9, 2028)\n",
    "coupon = 0.05\n",
    "frequencyType = TuringFrequencyTypes.SEMI_ANNUAL\n",
    "calendarType = TuringCalendarTypes.WEEKEND\n",
    "busDayAdjustType = TuringBusDayAdjustTypes.FOLLOWING\n",
    "dateGenRuleType = TuringDateGenRuleTypes.BACKWARD\n",
    "basisType = TuringDayCountTypes.ACT_360\n",
    "face = ONE_MILLION"
   ]
  },
  {
   "cell_type": "code",
   "execution_count": 4,
   "metadata": {},
   "outputs": [],
   "source": [
    "annuity = TuringBondAnnuity(maturityDate,coupon,frequencyType,calendarType,\n",
    "                         busDayAdjustType,dateGenRuleType,basisType,face)"
   ]
  },
  {
   "cell_type": "code",
   "execution_count": 5,
   "metadata": {
    "scrolled": true,
    "tags": []
   },
   "outputs": [
    {
     "name": "stdout",
     "output_type": "stream",
     "text": [
      "OBJECT TYPE: TuringBondAnnuity\n",
      "MATURITY DATE: TUE 20 JUN 2023\n",
      "FREQUENCY: TuringFrequencyTypes.SEMI_ANNUAL\n",
      "CALENDAR: TuringCalendarTypes.WEEKEND\n",
      "BUS_DAY_RULE: TuringBusDayAdjustTypes.FOLLOWING\n",
      "DATE_GEN_RULE: TuringDateGenRuleTypes.BACKWARD\n",
      "\n"
     ]
    }
   ],
   "source": [
    "print(annuity)"
   ]
  },
  {
   "cell_type": "code",
   "execution_count": 6,
   "metadata": {
    "tags": []
   },
   "outputs": [
    {
     "name": "stdout",
     "output_type": "stream",
     "text": [
      "THU 20 DEC 2018 , 25416.666666666668\n",
      "THU 20 JUN 2019 , 25277.777777777777\n",
      "FRI 20 DEC 2019 , 25416.666666666668\n",
      "SAT 20 JUN 2020 , 25416.666666666668\n",
      "SUN 20 DEC 2020 , 25416.666666666668\n",
      "SUN 20 JUN 2021 , 25277.777777777777\n",
      "MON 20 DEC 2021 , 25416.666666666668\n",
      "MON 20 JUN 2022 , 25277.777777777777\n",
      "TUE 20 DEC 2022 , 25416.666666666668\n",
      "TUE 20 JUN 2023 , 25277.777777777777\n"
     ]
    }
   ],
   "source": [
    "annuity.printFlows(settlementDate)"
   ]
  },
  {
   "cell_type": "markdown",
   "metadata": {},
   "source": [
    "## We can value the flows by discounting them"
   ]
  },
  {
   "cell_type": "markdown",
   "metadata": {},
   "source": [
    "First we build a Libor swap curve"
   ]
  },
  {
   "cell_type": "code",
   "execution_count": 7,
   "metadata": {},
   "outputs": [],
   "source": [
    "depos = []\n",
    "dcType = TuringDayCountTypes.ACT_360\n",
    "fixedFreq = TuringFrequencyTypes.SEMI_ANNUAL\n",
    "swapType = TuringSwapTypes.PAY\n",
    "swap1 = TuringIborSwap(settlementDate,\"1Y\",swapType,0.0500,fixedFreq,dcType)\n",
    "swap2 = TuringIborSwap(settlementDate,\"2Y\",swapType,0.0500,fixedFreq,dcType)\n",
    "swap3 = TuringIborSwap(settlementDate,\"3Y\",swapType,0.0500,fixedFreq,dcType)\n",
    "swap4 = TuringIborSwap(settlementDate,\"4Y\",swapType,0.0500,fixedFreq,dcType)\n",
    "swap5 = TuringIborSwap(settlementDate,\"5Y\",swapType,0.0500,fixedFreq,dcType)\n",
    "swaps = [swap1, swap2, swap3, swap4, swap5]\n",
    "\n",
    "liborCurve = TuringIborSingleCurve(valuationDate, depos, [], swaps)"
   ]
  },
  {
   "cell_type": "code",
   "execution_count": 8,
   "metadata": {},
   "outputs": [
    {
     "data": {
      "text/plain": [
       "-4.3655745685100555e-10"
      ]
     },
     "execution_count": 8,
     "metadata": {},
     "output_type": "execute_result"
    }
   ],
   "source": [
    "swap5.value(settlementDate, liborCurve)"
   ]
  },
  {
   "cell_type": "code",
   "execution_count": 9,
   "metadata": {},
   "outputs": [
    {
     "name": "stdout",
     "output_type": "stream",
     "text": [
      "START DATE: WED 20 JUN 2018\n",
      "MATURITY DATE: TUE 20 JUN 2023\n",
      "COUPON (%): 5.0\n",
      "FIXED LEG FREQUENCY: TuringFrequencyTypes.SEMI_ANNUAL\n",
      "FIXED LEG DAY COUNT: TuringDayCountTypes.ACT_360\n",
      "VALUATION DATE WED 20 JUN 2018\n",
      "PAYMENT_DATE     YEAR_FRAC        FLOW         DF         DF*FLOW       CUM_PV\n",
      "WED 20 JUN 2018          -            -   1.00000000            -            -\n",
      "THU 20 DEC 2018  0.5083333     25416.67   0.97521333     24786.67     24786.67\n",
      "THU 20 JUN 2019  0.5055556     25277.78   0.95116987     24043.46     48830.13\n",
      "FRI 20 DEC 2019  0.5083333     25416.67   0.92759353     23576.34     72406.47\n",
      "MON 22 JUN 2020  0.5138889     25694.44   0.90435659     23236.94     95643.41\n",
      "MON 21 DEC 2020  0.5055556     25277.78   0.88206007     22296.52    117939.93\n",
      "MON 21 JUN 2021  0.5055556     25277.78   0.86031327     21746.81    139686.73\n",
      "MON 20 DEC 2021  0.5055556     25277.78   0.83910262     21210.65    160897.38\n",
      "MON 20 JUN 2022  0.5055556     25277.78   0.81841491     20687.71    181585.09\n",
      "TUE 20 DEC 2022  0.5083333     25416.67   0.79812912     20285.78    201870.88\n",
      "TUE 20 JUN 2023  0.5055556     25277.78   0.77845160     19677.53    221548.40\n"
     ]
    }
   ],
   "source": [
    "swap5.printFixedLegPV()"
   ]
  },
  {
   "cell_type": "markdown",
   "metadata": {},
   "source": [
    "Here are the flows on the fixed leg of the 5Y swap"
   ]
  },
  {
   "cell_type": "code",
   "execution_count": null,
   "metadata": {},
   "outputs": [],
   "source": [
    "swap5.printFloatLegPV()"
   ]
  },
  {
   "cell_type": "code",
   "execution_count": null,
   "metadata": {},
   "outputs": [],
   "source": [
    "cleanValue = annuity.cleanPriceFromDiscountCurve(settlementDate, liborCurve)"
   ]
  },
  {
   "cell_type": "code",
   "execution_count": null,
   "metadata": {},
   "outputs": [],
   "source": [
    "dirtyValue = annuity.fullPriceFromDiscountCurve(settlementDate, liborCurve)"
   ]
  },
  {
   "cell_type": "markdown",
   "metadata": {},
   "source": [
    "The price of the annuity is quoted based on a par notional"
   ]
  },
  {
   "cell_type": "code",
   "execution_count": null,
   "metadata": {},
   "outputs": [],
   "source": [
    "print(\"CLEAN PRICE:\", cleanValue)\n",
    "print(\"DIRTY PRICE:\", dirtyValue)\n",
    "print(\"ACCRD VALUE:\", annuity._accruedInterest)"
   ]
  },
  {
   "cell_type": "markdown",
   "metadata": {},
   "source": [
    "Copyright (c) 2020 Dominic O'Kane"
   ]
  }
 ],
 "metadata": {
  "kernelspec": {
   "display_name": "Python 3",
   "language": "python",
   "name": "python3"
  },
  "language_info": {
   "codemirror_mode": {
    "name": "ipython",
    "version": 3
   },
   "file_extension": ".py",
   "mimetype": "text/x-python",
   "name": "python",
   "nbconvert_exporter": "python",
   "pygments_lexer": "ipython3",
   "version": "3.7.6"
  }
 },
 "nbformat": 4,
 "nbformat_minor": 2
}
