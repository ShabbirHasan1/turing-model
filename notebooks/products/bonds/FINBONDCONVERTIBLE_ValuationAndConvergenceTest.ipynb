{
 "cells": [
  {
   "cell_type": "markdown",
   "metadata": {},
   "source": [
    "# Convertible Bond Valuation - Convergence Analysis"
   ]
  },
  {
   "cell_type": "markdown",
   "metadata": {},
   "source": [
    "Value a Convertible Bond using a Tree-Based model that incorporates the conversion option as well as the call and puts."
   ]
  },
  {
   "cell_type": "code",
   "execution_count": 1,
   "metadata": {},
   "outputs": [],
   "source": [
    "import numpy as np\n",
    "import matplotlib.pyplot as plt"
   ]
  },
  {
   "cell_type": "code",
   "execution_count": 2,
   "metadata": {},
   "outputs": [
    {
     "name": "stdout",
     "output_type": "stream",
     "text": [
      "###################################################################\n",
      "# FINANCEPY BETA Version 0.180 - This build: 22 Sep 2020 at 19:38 #\n",
      "#     This software is distributed FREE & WITHOUT ANY WARRANTY    #\n",
      "# For info and disclaimer - https://github.com/domokane/FinancePy #\n",
      "###################################################################\n",
      "\n"
     ]
    }
   ],
   "source": [
    "from financepy.finutils import *\n",
    "from financepy.products.bonds import *\n",
    "from financepy.market.curves import *"
   ]
  },
  {
   "cell_type": "markdown",
   "metadata": {},
   "source": [
    "## Creating the Convertible Bond"
   ]
  },
  {
   "cell_type": "markdown",
   "metadata": {},
   "source": [
    "We set the maturity date, annualised coupon, coupon frequency and convention for calculating accrued interest"
   ]
  },
  {
   "cell_type": "code",
   "execution_count": 3,
   "metadata": {},
   "outputs": [],
   "source": [
    "maturityDate = TuringDate(20, 3, 2023)\n",
    "coupon = 0.0\n",
    "freqType = TuringFrequencyTypes.SEMI_ANNUAL\n",
    "accrualBasis = TuringDayCountTypes.ACT_365F"
   ]
  },
  {
   "cell_type": "markdown",
   "metadata": {},
   "source": [
    "We need to set the face amount and the conversion ratio. This is the number of shares you can convert to for that face amount."
   ]
  },
  {
   "cell_type": "code",
   "execution_count": 4,
   "metadata": {},
   "outputs": [],
   "source": [
    "face = 100.0 \n",
    "conversionRatio = 5.0  # Number of shares for face amount"
   ]
  },
  {
   "cell_type": "markdown",
   "metadata": {},
   "source": [
    "We can also delay the start of the conversion feature using the start convert date"
   ]
  },
  {
   "cell_type": "code",
   "execution_count": 5,
   "metadata": {},
   "outputs": [],
   "source": [
    "startConvertDate = TuringDate(20, 12, 2019)"
   ]
  },
  {
   "cell_type": "markdown",
   "metadata": {},
   "source": [
    "We can also set the call schedule - the price and date on which the issuer can call back the bond. This is given with reference to a price of 100. Making the call price very high means it will never be called. So the call has no impact."
   ]
  },
  {
   "cell_type": "code",
   "execution_count": 6,
   "metadata": {},
   "outputs": [],
   "source": [
    "callPrice = 120 # Make call uneconomic so it does not impact pricing\n",
    "callDates = [TuringDate(20, 3, 2020), TuringDate(20, 3, 2021), TuringDate(20, 3, 2022)]\n",
    "callPrices = [callPrice, callPrice, callPrice]"
   ]
  },
  {
   "cell_type": "markdown",
   "metadata": {},
   "source": [
    "We can also set the put schedule - the price and date on which the owner can put back the bond to the issuer. This is given with reference to a price of 100. Making the put price very low means it will never be put."
   ]
  },
  {
   "cell_type": "code",
   "execution_count": 7,
   "metadata": {},
   "outputs": [],
   "source": [
    "putPrice = 0.0 # Make call uneconomic so it does not impact pricing\n",
    "putDates = [TuringDate(20, 3, 2020), TuringDate(20, 3, 2021), TuringDate(20, 3, 2022)]\n",
    "putPrices = [putPrice, putPrice, putPrice]"
   ]
  },
  {
   "cell_type": "markdown",
   "metadata": {},
   "source": [
    "At this point we can create our bond."
   ]
  },
  {
   "cell_type": "code",
   "execution_count": 8,
   "metadata": {},
   "outputs": [],
   "source": [
    "bond = TuringBondConvertible(maturityDate, coupon, freqType, startConvertDate, conversionRatio,\n",
    "                          callDates, callPrices, putDates, putPrices, accrualBasis, face)"
   ]
  },
  {
   "cell_type": "markdown",
   "metadata": {},
   "source": [
    "# Valuation"
   ]
  },
  {
   "cell_type": "markdown",
   "metadata": {},
   "source": [
    "### No Calls and Puts"
   ]
  },
  {
   "cell_type": "markdown",
   "metadata": {},
   "source": [
    "We need to specify the valuation date"
   ]
  },
  {
   "cell_type": "code",
   "execution_count": 9,
   "metadata": {},
   "outputs": [],
   "source": [
    "settlementDate = TuringDate(31, 12, 2019)"
   ]
  },
  {
   "cell_type": "markdown",
   "metadata": {},
   "source": [
    "The model allows a discrete dividend schedule. We can use the TuringSchedule class to do this."
   ]
  },
  {
   "cell_type": "code",
   "execution_count": 10,
   "metadata": {},
   "outputs": [],
   "source": [
    "dividendSchedule = TuringSchedule(settlementDate, maturityDate).scheduleDates()[1:]\n",
    "dividendYields = [0.01] * len(dividendSchedule)"
   ]
  },
  {
   "cell_type": "markdown",
   "metadata": {},
   "source": [
    "We then need to set up the market inputs. "
   ]
  },
  {
   "cell_type": "code",
   "execution_count": 11,
   "metadata": {},
   "outputs": [],
   "source": [
    "stockPrice = 20\n",
    "stockVolatility = 0.30 # 30 percent\n",
    "rate = 0.05\n",
    "discountCurve = TuringDiscountCurveFlat(settlementDate, rate, TuringFrequencyTypes.ANNUAL)\n",
    "creditSpread = 0.00\n",
    "recoveryRate = 0.40 # 40 percent"
   ]
  },
  {
   "cell_type": "markdown",
   "metadata": {},
   "source": [
    "The model is a binomial tree but you don't need to enter any tree details unless you want to as it defaults to 100 steps per year"
   ]
  },
  {
   "cell_type": "markdown",
   "metadata": {},
   "source": [
    "We can now peform the valuation"
   ]
  },
  {
   "cell_type": "code",
   "execution_count": 12,
   "metadata": {},
   "outputs": [
    {
     "data": {
      "text/plain": [
       "{'cbprice': 109.73979499581712,\n",
       " 'bond': 85.47634154276028,\n",
       " 'delta': 2.9871369463337127,\n",
       " 'gamma': 1.00179669843607,\n",
       " 'theta': 109.2804662148906}"
      ]
     },
     "execution_count": 12,
     "metadata": {},
     "output_type": "execute_result"
    }
   ],
   "source": [
    "bond.value(settlementDate, stockPrice, stockVolatility, dividendSchedule, dividendYields,\n",
    "           discountCurve, creditSpread, recoveryRate)"
   ]
  },
  {
   "cell_type": "markdown",
   "metadata": {},
   "source": [
    "'cbrice' is the bond price. 'bond' is the price of the bond alone without any conversion and without any puts or calls option"
   ]
  },
  {
   "cell_type": "markdown",
   "metadata": {},
   "source": [
    "## Impact of Calls"
   ]
  },
  {
   "cell_type": "code",
   "execution_count": 13,
   "metadata": {},
   "outputs": [],
   "source": [
    "callPrice = 100000.0\n",
    "callPrices = [callPrice, callPrice, callPrice]"
   ]
  },
  {
   "cell_type": "markdown",
   "metadata": {},
   "source": [
    "Need to recreate the convertible bond."
   ]
  },
  {
   "cell_type": "code",
   "execution_count": 14,
   "metadata": {},
   "outputs": [],
   "source": [
    "bond = TuringBondConvertible(maturityDate, coupon, freqType, startConvertDate, conversionRatio,\n",
    "                          callDates, callPrices, putDates, putPrices, accrualBasis, face)"
   ]
  },
  {
   "cell_type": "code",
   "execution_count": 15,
   "metadata": {},
   "outputs": [
    {
     "data": {
      "text/plain": [
       "{'cbprice': 111.4339883101883,\n",
       " 'bond': 85.47634154276028,\n",
       " 'delta': 3.4293110032941625,\n",
       " 'gamma': 0.8176586946290804,\n",
       " 'theta': 125.90967114428429}"
      ]
     },
     "execution_count": 15,
     "metadata": {},
     "output_type": "execute_result"
    }
   ],
   "source": [
    "bond.value(settlementDate, stockPrice, stockVolatility, dividendSchedule, dividendYields,\n",
    "           discountCurve, creditSpread, recoveryRate)"
   ]
  },
  {
   "cell_type": "markdown",
   "metadata": {},
   "source": [
    "## Stock Price Sensitivity"
   ]
  },
  {
   "cell_type": "markdown",
   "metadata": {},
   "source": [
    "As the stock price goes up, the conversion options becomes more valuable"
   ]
  },
  {
   "cell_type": "code",
   "execution_count": 23,
   "metadata": {},
   "outputs": [
    {
     "name": "stdout",
     "output_type": "stream",
     "text": [
      "  StockPx     CB Price   Bond Price        Delta\n",
      "     0.00      85.4763      85.4763       0.0000\n",
      "     4.00      85.4933      85.4763       0.0282\n",
      "     8.00      86.4131      85.4763       0.5498\n",
      "    12.00      90.6638      85.4763       1.5943\n",
      "    16.00      99.2071      85.4763       2.6289\n",
      "    20.00     111.4340      85.4763       3.4293\n",
      "    24.00     126.3567      85.4763       3.9902\n",
      "    28.00     143.1397      85.4763       4.3773\n",
      "    32.00     161.2975      85.4763       4.6742\n",
      "    36.00     180.4184      85.4763       4.8708\n",
      "    40.00     200.0975      85.4763       4.9645\n"
     ]
    }
   ],
   "source": [
    "stockPrices = np.linspace(0,40,11)\n",
    "print(\"%9s %12s %12s %12s\"% (\"StockPx\", \"CB Price\", \"Bond Price\", \"Delta\"))\n",
    "\n",
    "for stockPrice in stockPrices:\n",
    "    res = bond.value(settlementDate, stockPrice, stockVolatility, dividendSchedule, dividendYields,\n",
    "                     discountCurve, creditSpread, recoveryRate)\n",
    "    print(\"%9.2f %12.4f %12.4f %12.4f\"% (stockPrice, res['cbprice'], res['bond'], res['delta']))"
   ]
  },
  {
   "cell_type": "markdown",
   "metadata": {},
   "source": [
    "As expected the price rises with increasing stock price as the conversion option is more valuable"
   ]
  },
  {
   "cell_type": "markdown",
   "metadata": {},
   "source": [
    "## Convergence Testing"
   ]
  },
  {
   "cell_type": "markdown",
   "metadata": {},
   "source": [
    "Set up the bond description"
   ]
  },
  {
   "cell_type": "code",
   "execution_count": 24,
   "metadata": {},
   "outputs": [],
   "source": [
    "settlementDate = TuringDate(31, 12, 2019)"
   ]
  },
  {
   "cell_type": "code",
   "execution_count": 26,
   "metadata": {},
   "outputs": [],
   "source": [
    "maturityDate = TuringDate(20, 3, 2023)\n",
    "coupon = 0.0\n",
    "freqType = TuringFrequencyTypes.SEMI_ANNUAL\n",
    "accrualBasis = TuringDayCountTypes.ACT_365F\n",
    "\n",
    "callPrice = 100000.0 # Make call uneconomic so it does not impact pricing\n",
    "callDates = [] # [TuringDate(20, 3, 2020)]\n",
    "callPrices = [] # [callPrice]\n",
    "\n",
    "putPrice = 0.0 # Make call uneconomic so it does not impact pricing\n",
    "putDates = [] # TuringDate(20, 3, 2020)]\n",
    "putPrices = [] # [putPrice]\n",
    "\n",
    "face = 100.0 \n",
    "startConvertDate = settlementDate\n",
    "conversionRatio = 5.0  # Number of shares for face amount"
   ]
  },
  {
   "cell_type": "code",
   "execution_count": 27,
   "metadata": {},
   "outputs": [],
   "source": [
    "bond = TuringBondConvertible(maturityDate, coupon, freqType, startConvertDate, conversionRatio,\n",
    "                          callDates, callPrices, putDates, putPrices, accrualBasis, face)"
   ]
  },
  {
   "cell_type": "markdown",
   "metadata": {},
   "source": [
    "Set up market"
   ]
  },
  {
   "cell_type": "code",
   "execution_count": 29,
   "metadata": {},
   "outputs": [],
   "source": [
    "stockPrice = 20.0\n",
    "stockVolatility = 0.10\n",
    "rate = 0.05\n",
    "discountCurve = TuringDiscountCurveFlat(settlementDate, rate, TuringFrequencyTypes.ANNUAL)\n",
    "creditSpread = 0.0\n",
    "recoveryRate = 0.0\n",
    "dividendSchedule = [] # TuringSchedule(settlementDate, maturityDate).flows()[1:]\n",
    "dividendYields = [] # [0.0] * len(dividendSchedule)"
   ]
  },
  {
   "cell_type": "markdown",
   "metadata": {},
   "source": [
    "How many tree steps per year do we need to give an accurate price ? Let us check."
   ]
  },
  {
   "cell_type": "code",
   "execution_count": 35,
   "metadata": {},
   "outputs": [
    {
     "name": "stdout",
     "output_type": "stream",
     "text": [
      " Steps/Yr     CB Price   Bond Price        Delta        Gamma\n",
      "   100.00     132.7151      85.4763       4.1752       0.3365\n",
      "   200.00     132.7112      85.4763       4.1758       0.5087\n",
      "   400.00     132.7115      85.4763       4.1761       0.7538\n",
      "  1000.00     132.7084      85.4763       4.1763       1.2411\n",
      "  2000.00     132.7089      85.4763       4.1763       1.7914\n",
      "  4000.00     132.7083      85.4763       4.1764       2.5699\n"
     ]
    }
   ],
   "source": [
    "stockPrice = 25.0\n",
    "stockVolatility = 0.30\n",
    "stepsPerYearList = [100, 200, 400, 1000, 2000, 4000]\n",
    "cbPrices = []\n",
    "\n",
    "print(\"%9s %12s %12s %12s %12s\"% (\"Steps/Yr\", \"CB Price\", \"Bond Price\", \"Delta\",\"Gamma\"))\n",
    "for numStepsPerYear in stepsPerYearList:\n",
    "    res = bond.value(settlementDate, stockPrice, stockVolatility, dividendSchedule, dividendYields,\n",
    "                     discountCurve, creditSpread, recoveryRate, numStepsPerYear)\n",
    "    print(\"%9.2f %12.4f %12.4f %12.4f %12.4f\"% (numStepsPerYear, res['cbprice'], res['bond'], res['delta'], res['gamma']))\n",
    "    cbPrices.append(res['cbprice'])"
   ]
  },
  {
   "cell_type": "code",
   "execution_count": 51,
   "metadata": {},
   "outputs": [
    {
     "data": {
      "image/png": "[encoded data removed]",
      "text/plain": [
       "<Figure size 432x288 with 1 Axes>"
      ]
     },
     "metadata": {
      "needs_background": "light"
     },
     "output_type": "display_data"
    }
   ],
   "source": [
    "plt.plot(stepsPerYearList,cbPrices);"
   ]
  },
  {
   "cell_type": "markdown",
   "metadata": {},
   "source": [
    "Copyright (c) 2020 Dominic O'Kane"
   ]
  }
 ],
 "metadata": {
  "kernelspec": {
   "display_name": "Python 3",
   "language": "python",
   "name": "python3"
  },
  "language_info": {
   "codemirror_mode": {
    "name": "ipython",
    "version": 3
   },
   "file_extension": ".py",
   "mimetype": "text/x-python",
   "name": "python",
   "nbconvert_exporter": "python",
   "pygments_lexer": "ipython3",
   "version": "3.7.6"
  }
 },
 "nbformat": 4,
 "nbformat_minor": 2
}
