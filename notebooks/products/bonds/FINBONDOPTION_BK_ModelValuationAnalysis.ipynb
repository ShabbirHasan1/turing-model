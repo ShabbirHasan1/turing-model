{
 "cells": [
  {
   "cell_type": "markdown",
   "metadata": {},
   "source": [
    "# Bond Option Pricing using Black-Karasinski Model"
   ]
  },
  {
   "cell_type": "markdown",
   "metadata": {},
   "source": [
    "Value an option on a coupon paying bond using the Black-Karasinski model"
   ]
  },
  {
   "cell_type": "code",
   "execution_count": 1,
   "metadata": {},
   "outputs": [],
   "source": [
    "import numpy as np\n",
    "import matplotlib.pyplot as plt\n",
    "import time"
   ]
  },
  {
   "cell_type": "code",
   "execution_count": 2,
   "metadata": {},
   "outputs": [
    {
     "name": "stdout",
     "output_type": "stream",
     "text": [
      "####################################################################\n",
      "# FINANCEPY BETA Version 0.185 - This build:  24 Oct 2020 at 20:12 #\n",
      "#      This software is distributed FREE & WITHOUT ANY WARRANTY    #\n",
      "# For info and disclaimer - https://github.com/domokane/FinancePy  #\n",
      "#      Send any bug reports or comments to quant@financepy.com     #\n",
      "####################################################################\n",
      "\n"
     ]
    }
   ],
   "source": [
    "from financepy.finutils import *\n",
    "from financepy.market.curves import *\n",
    "from financepy.products.rates import *\n",
    "from financepy.models import *\n",
    "from financepy.products.bonds import *"
   ]
  },
  {
   "cell_type": "markdown",
   "metadata": {},
   "source": [
    "## Bond Option Valuation"
   ]
  },
  {
   "cell_type": "code",
   "execution_count": 6,
   "metadata": {},
   "outputs": [],
   "source": [
    "valuationDate = TuringDate(1, 12, 2019)\n",
    "settlementDate = valuationDate"
   ]
  },
  {
   "cell_type": "markdown",
   "metadata": {},
   "source": [
    "Set up discount curve"
   ]
  },
  {
   "cell_type": "code",
   "execution_count": 7,
   "metadata": {},
   "outputs": [],
   "source": [
    "dcType = TuringDayCountTypes.THIRTY_360_BOND\n",
    "fixedFreq = TuringFrequencyTypes.SEMI_ANNUAL\n",
    "swapType = TuringSwapTypes.PAY\n",
    "swap1 = TuringIborSwap(settlementDate,\"1Y\",swapType,0.0500,fixedFreq,dcType)\n",
    "swap2 = TuringIborSwap(settlementDate,\"3Y\",swapType,0.0500,fixedFreq,dcType)\n",
    "swap3 = TuringIborSwap(settlementDate,\"5Y\",swapType,0.0500,fixedFreq,dcType)\n",
    "swap4 = TuringIborSwap(settlementDate,\"7Y\",swapType,0.0500,fixedFreq,dcType)\n",
    "swap5 = TuringIborSwap(settlementDate,\"10Y\",swapType,0.0500,fixedFreq,dcType)\n",
    "swaps = [swap1, swap2, swap3, swap4, swap5]\n",
    "\n",
    "liborCurve = TuringIborSingleCurve(valuationDate, [], [], swaps)"
   ]
  },
  {
   "cell_type": "markdown",
   "metadata": {},
   "source": [
    "## Set up the Bond Option"
   ]
  },
  {
   "cell_type": "markdown",
   "metadata": {},
   "source": [
    "First create the bond"
   ]
  },
  {
   "cell_type": "code",
   "execution_count": 8,
   "metadata": {},
   "outputs": [],
   "source": [
    "issueDate = TuringDate(1, 12, 2015)\n",
    "maturityDate = TuringDate(1, 12, 2029)\n",
    "coupon = 0.05\n",
    "freqType = TuringFrequencyTypes.SEMI_ANNUAL\n",
    "accrualType = TuringDayCountTypes.THIRTY_360_BOND\n",
    "bond = TuringBond(issueDate, maturityDate, coupon, freqType, accrualType)"
   ]
  },
  {
   "cell_type": "markdown",
   "metadata": {},
   "source": [
    "Let's first price the bond on the libor curve"
   ]
  },
  {
   "cell_type": "code",
   "execution_count": 9,
   "metadata": {},
   "outputs": [
    {
     "name": "stdout",
     "output_type": "stream",
     "text": [
      "Fixed Income Price: 99.99993325529165\n"
     ]
    }
   ],
   "source": [
    "price = bond.cleanPriceFromDiscountCurve(settlementDate, liborCurve)\n",
    "print(\"Fixed Income Price:\", price)"
   ]
  },
  {
   "cell_type": "markdown",
   "metadata": {},
   "source": [
    "Then define and create the option"
   ]
  },
  {
   "cell_type": "code",
   "execution_count": 10,
   "metadata": {},
   "outputs": [],
   "source": [
    "expiryDate = settlementDate.addTenor(\"18m\")\n",
    "strikePrice = 90.0\n",
    "face = 100.0\n",
    "optionType = TuringBondOptionTypes.AMERICAN_CALL"
   ]
  },
  {
   "cell_type": "markdown",
   "metadata": {},
   "source": [
    "### Black Karasinski Model"
   ]
  },
  {
   "cell_type": "markdown",
   "metadata": {},
   "source": [
    "Set the model parameters"
   ]
  },
  {
   "cell_type": "code",
   "execution_count": 11,
   "metadata": {},
   "outputs": [],
   "source": [
    "sigma = 0.20\n",
    "a = 0.05\n",
    "bkModel = TuringModelRatesBK(sigma, a)"
   ]
  },
  {
   "cell_type": "code",
   "execution_count": 12,
   "metadata": {},
   "outputs": [],
   "source": [
    "strikes = [80, 85, 90, 95, 100, 105, 110, 115, 120]"
   ]
  },
  {
   "cell_type": "code",
   "execution_count": 13,
   "metadata": {},
   "outputs": [
    {
     "name": "stdout",
     "output_type": "stream",
     "text": [
      "K:  80.00000 EUR_CALL:  18.58186  AMER_CALL:  19.99993  EUR_PUT:   0.01044  AMER_PUT:   0.01108\n",
      "K:  85.00000 EUR_CALL:  13.98654  AMER_CALL:  14.99993  EUR_PUT:   0.05815  AMER_PUT:   0.06159\n",
      "K:  90.00000 EUR_CALL:   9.52510  AMER_CALL:  10.17627  EUR_PUT:   0.23973  AMER_PUT:   0.25978\n",
      "K:  95.00000 EUR_CALL:   5.54391  AMER_CALL:   5.91886  EUR_PUT:   0.90158  AMER_PUT:   0.97440\n",
      "K: 100.00000 EUR_CALL:   2.44433  AMER_CALL:   2.63697  EUR_PUT:   2.44503  AMER_PUT:   2.65227\n",
      "K: 105.00000 EUR_CALL:   0.73748  AMER_CALL:   0.79732  EUR_PUT:   5.38120  AMER_PUT:   5.80733\n",
      "K: 110.00000 EUR_CALL:   0.11536  AMER_CALL:   0.12509  EUR_PUT:   9.40211  AMER_PUT:  10.12526\n",
      "K: 115.00000 EUR_CALL:   0.00675  AMER_CALL:   0.00724  EUR_PUT:  13.93654  AMER_PUT:  15.00007\n",
      "K: 120.00000 EUR_CALL:   0.00006  AMER_CALL:   0.00006  EUR_PUT:  18.57287  AMER_PUT:  20.00007\n"
     ]
    }
   ],
   "source": [
    "for K in strikes:\n",
    "    europeanCallBondOption = TuringBondOption(bond, expiryDate, K, face, TuringOptionTypes.EUROPEAN_CALL)\n",
    "    v_ec = europeanCallBondOption.value(settlementDate, liborCurve, bkModel)\n",
    "    americanCallBondOption = TuringBondOption(bond, expiryDate, K, face, TuringOptionTypes.AMERICAN_CALL)\n",
    "    v_ac = americanCallBondOption.value(settlementDate, liborCurve, bkModel)\n",
    "    europeanPutBondOption = TuringBondOption(bond, expiryDate, K, face, TuringOptionTypes.EUROPEAN_PUT)\n",
    "    v_ep = europeanPutBondOption.value(settlementDate, liborCurve, bkModel)\n",
    "    americanPutBondOption = TuringBondOption(bond, expiryDate, K, face, TuringOptionTypes.AMERICAN_PUT)\n",
    "    v_ap = americanPutBondOption.value(settlementDate, liborCurve, bkModel)\n",
    "    \n",
    "    print(\"K: %9.5f EUR_CALL: %9.5f  AMER_CALL: %9.5f  EUR_PUT: %9.5f  AMER_PUT: %9.5f\" %(K, v_ec, v_ac, v_ep, v_ap))"
   ]
  },
  {
   "cell_type": "markdown",
   "metadata": {},
   "source": [
    "## Convergence Testing - Black-Karasinski"
   ]
  },
  {
   "cell_type": "markdown",
   "metadata": {},
   "source": [
    "It is important that the tree price is stable to the number of tree steps. This can be a challenge when pricing American optionality on bonds due to the payment of coupons and the effect of accrued interest on the clean bond price."
   ]
  },
  {
   "cell_type": "code",
   "execution_count": 20,
   "metadata": {},
   "outputs": [],
   "source": [
    "discountCurve = TuringDiscountCurveFlat(valuationDate, 0.05)"
   ]
  },
  {
   "cell_type": "code",
   "execution_count": 21,
   "metadata": {},
   "outputs": [],
   "source": [
    "issueDate = TuringDate(1, 9, 2004)\n",
    "maturityDate = TuringDate(1, 9, 2025)\n",
    "coupon = 0.05\n",
    "freqType = TuringFrequencyTypes.ANNUAL\n",
    "accrualType = TuringDayCountTypes.ACT_ACT_ICMA\n",
    "bond = TuringBond(issueDate, maturityDate, coupon, freqType, accrualType)\n",
    "expiryDate = settlementDate.addTenor(\"18m\")\n",
    "face = 100.0"
   ]
  },
  {
   "cell_type": "code",
   "execution_count": 30,
   "metadata": {},
   "outputs": [],
   "source": [
    "numStepsVector = range(50, 500, 10)"
   ]
  },
  {
   "cell_type": "code",
   "execution_count": 31,
   "metadata": {},
   "outputs": [],
   "source": [
    "sigma = 0.00001\n",
    "a = 0.05"
   ]
  },
  {
   "cell_type": "code",
   "execution_count": 32,
   "metadata": {},
   "outputs": [],
   "source": [
    "K = 102.0"
   ]
  },
  {
   "cell_type": "code",
   "execution_count": 33,
   "metadata": {
    "scrolled": false
   },
   "outputs": [],
   "source": [
    "vec_ec = []\n",
    "vec_ac = []\n",
    "vec_ep = []\n",
    "vec_ap = []\n",
    "\n",
    "for numSteps in numStepsVector:\n",
    "    \n",
    "    bkModel = TuringModelRatesBK(sigma, a, numSteps)\n",
    "    \n",
    "    europeanCallBondOption = TuringBondOption(bond, expiryDate, K, face, TuringOptionTypes.EUROPEAN_CALL)\n",
    "    v_ec = europeanCallBondOption.value(settlementDate, discountCurve, bkModel)\n",
    "\n",
    "    americanCallBondOption = TuringBondOption(bond, expiryDate, K, face, TuringOptionTypes.AMERICAN_CALL)\n",
    "    v_ac = americanCallBondOption.value(settlementDate, discountCurve, bkModel)\n",
    "    \n",
    "    europeanPutBondOption = TuringBondOption(bond, expiryDate, K, face, TuringOptionTypes.EUROPEAN_PUT)\n",
    "    v_ep = europeanPutBondOption.value(settlementDate, discountCurve, bkModel)\n",
    "    \n",
    "    americanPutBondOption = TuringBondOption(bond, expiryDate, K, face, TuringOptionTypes.AMERICAN_PUT)\n",
    "    v_ap = americanPutBondOption.value(settlementDate, discountCurve, bkModel)\n",
    "    \n",
    "    # print(\"%d %9.5f %9.5f %9.5f %9.5f\"%(numSteps, v_ec, v_ac, v_ep, v_ap))\n",
    "    vec_ec.append(v_ec)\n",
    "    vec_ac.append(v_ac)\n",
    "    vec_ep.append(v_ep)\n",
    "    vec_ap.append(v_ap)"
   ]
  },
  {
   "cell_type": "code",
   "execution_count": 34,
   "metadata": {},
   "outputs": [
    {
     "data": {
      "image/png": "[encoded data removed]",
      "text/plain": [
       "<Figure size 432x288 with 1 Axes>"
      ]
     },
     "metadata": {
      "needs_background": "light"
     },
     "output_type": "display_data"
    }
   ],
   "source": [
    "plt.plot(numStepsVector,vec_ec, label=\"European Bond Call\")\n",
    "plt.legend();"
   ]
  },
  {
   "cell_type": "code",
   "execution_count": 35,
   "metadata": {},
   "outputs": [
    {
     "data": {
      "image/png": "[encoded data removed]",
      "text/plain": [
       "<Figure size 432x288 with 1 Axes>"
      ]
     },
     "metadata": {
      "needs_background": "light"
     },
     "output_type": "display_data"
    }
   ],
   "source": [
    "plt.plot(numStepsVector,vec_ac, label=\"American Bond Call\")\n",
    "plt.legend();"
   ]
  },
  {
   "cell_type": "code",
   "execution_count": 36,
   "metadata": {},
   "outputs": [
    {
     "data": {
      "image/png": "[encoded data removed]",
      "text/plain": [
       "<Figure size 432x288 with 1 Axes>"
      ]
     },
     "metadata": {
      "needs_background": "light"
     },
     "output_type": "display_data"
    }
   ],
   "source": [
    "plt.plot(numStepsVector,vec_ep, label=\"European Bond Put\")\n",
    "plt.legend();"
   ]
  },
  {
   "cell_type": "code",
   "execution_count": 37,
   "metadata": {},
   "outputs": [
    {
     "data": {
      "image/png": "[encoded data removed]",
      "text/plain": [
       "<Figure size 432x288 with 1 Axes>"
      ]
     },
     "metadata": {
      "needs_background": "light"
     },
     "output_type": "display_data"
    }
   ],
   "source": [
    "plt.plot(numStepsVector,vec_ap, label=\"American Bond Put\")\n",
    "plt.legend();"
   ]
  },
  {
   "cell_type": "markdown",
   "metadata": {},
   "source": [
    "Copyright (c) 2020 Dominic O'Kane"
   ]
  }
 ],
 "metadata": {
  "kernelspec": {
   "display_name": "Python 3",
   "language": "python",
   "name": "python3"
  },
  "language_info": {
   "codemirror_mode": {
    "name": "ipython",
    "version": 3
   },
   "file_extension": ".py",
   "mimetype": "text/x-python",
   "name": "python",
   "nbconvert_exporter": "python",
   "pygments_lexer": "ipython3",
   "version": "3.7.6"
  }
 },
 "nbformat": 4,
 "nbformat_minor": 2
}
