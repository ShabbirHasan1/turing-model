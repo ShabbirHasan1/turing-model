{
 "cells": [
  {
   "cell_type": "markdown",
   "metadata": {},
   "source": [
    "# FIXED COUPON BOND - QL EXAMPLE"
   ]
  },
  {
   "cell_type": "markdown",
   "metadata": {},
   "source": [
    "This is a based on example in http://gouthamanbalaraman.com/blog/quantlib-bond-modeling.html"
   ]
  },
  {
   "cell_type": "code",
   "execution_count": 2,
   "metadata": {},
   "outputs": [],
   "source": [
    "import numpy as np\n",
    "import matplotlib.pyplot as plt"
   ]
  },
  {
   "cell_type": "code",
   "execution_count": 3,
   "metadata": {},
   "outputs": [
    {
     "name": "stdout",
     "output_type": "stream",
     "text": [
      "###################################################################\n",
      "# FINANCEPY BETA Version 0.180 - This build: 22 Sep 2020 at 19:38 #\n",
      "#     This software is distributed FREE & WITHOUT ANY WARRANTY    #\n",
      "# For info and disclaimer - https://github.com/domokane/FinancePy #\n",
      "###################################################################\n",
      "\n"
     ]
    }
   ],
   "source": [
    "from financepy.finutils import *\n",
    "from financepy.products.bonds.TuringBond import *\n",
    "from financepy.market.curves.TuringDiscountCurveZeros import *"
   ]
  },
  {
   "cell_type": "markdown",
   "metadata": {},
   "source": [
    "# Define the Bond"
   ]
  },
  {
   "cell_type": "code",
   "execution_count": 8,
   "metadata": {},
   "outputs": [],
   "source": [
    "issueDate = TuringDate(15,1,2010)\n",
    "maturityDate = TuringDate(15, 1, 2016)\n",
    "coupon = 0.06\n",
    "freqType = TuringFrequencyTypes.SEMI_ANNUAL\n",
    "accrualType = TuringDayCountTypes.THIRTY_360_BOND\n",
    "face = ONE_MILLION"
   ]
  },
  {
   "cell_type": "code",
   "execution_count": 9,
   "metadata": {},
   "outputs": [],
   "source": [
    "bond = TuringBond(issueDate, maturityDate, coupon, freqType, accrualType, face)"
   ]
  },
  {
   "cell_type": "code",
   "execution_count": 10,
   "metadata": {},
   "outputs": [
    {
     "name": "stdout",
     "output_type": "stream",
     "text": [
      "OBJECT TYPE: TuringBond\n",
      "ISSUE DATE: FRI 15 JAN 2010\n",
      "MATURITY DATE: FRI 15 JAN 2016\n",
      "COUPON: 0.06\n",
      "FREQUENCY: TuringFrequencyTypes.SEMI_ANNUAL\n",
      "ACCRUAL TYPE: TuringDayCountTypes.THIRTY_360_BOND\n",
      "FACE AMOUNT: 1000000\n"
     ]
    }
   ],
   "source": [
    "print(bond)"
   ]
  },
  {
   "cell_type": "markdown",
   "metadata": {},
   "source": [
    "To see the cashflows we first need to set the settlement date of the bond. "
   ]
  },
  {
   "cell_type": "code",
   "execution_count": 11,
   "metadata": {},
   "outputs": [],
   "source": [
    "settlementDate = TuringDate(15, 1, 2015)"
   ]
  },
  {
   "cell_type": "code",
   "execution_count": 12,
   "metadata": {},
   "outputs": [
    {
     "name": "stdout",
     "output_type": "stream",
     "text": [
      "THU 15 JAN 2015      30000.00 \n",
      "WED 15 JUL 2015      30000.00 \n",
      "FRI 15 JAN 2016    1030000.00 \n"
     ]
    }
   ],
   "source": [
    "bond.printFlows(settlementDate)"
   ]
  },
  {
   "cell_type": "markdown",
   "metadata": {},
   "source": [
    "## Discounting Bond Flows"
   ]
  },
  {
   "cell_type": "markdown",
   "metadata": {},
   "source": [
    "We wish to define a zero rate curve. For this we need the dates and values of the zero rates."
   ]
  },
  {
   "cell_type": "code",
   "execution_count": 13,
   "metadata": {},
   "outputs": [],
   "source": [
    "zeroDates = [TuringDate(15,7,2015), TuringDate(15,1,2016)]\n",
    "zeroRates = [0.005, 0.007]"
   ]
  },
  {
   "cell_type": "code",
   "execution_count": 9,
   "metadata": {},
   "outputs": [],
   "source": [
    "discountCurve = TuringDiscountCurveZeros(settlementDate, zeroDates, zeroRates, \n",
    "                                      TuringFrequencyTypes.ANNUAL,\n",
    "                                      TuringDayCountTypes.THIRTY_360_BOND)"
   ]
  },
  {
   "cell_type": "code",
   "execution_count": 10,
   "metadata": {},
   "outputs": [
    {
     "name": "stdout",
     "output_type": "stream",
     "text": [
      "OBJECT TYPE: TuringDiscountCurveZeros\n",
      "VALUATION DATE: THU 15 JAN 2015\n",
      "FREQUENCY TYPE: TuringFrequencyTypes.ANNUAL\n",
      "DAY COUNT TYPE: TuringDayCountTypes.THIRTY_360_BOND\n",
      "INTERP TYPE: TuringInterpTypes.FLAT_FWD_RATES\n",
      "DATES: ZERO RATES\n",
      "WED 15 JUL 2015:  0.0050000\n",
      "FRI 15 JAN 2016:  0.0070000\n",
      "\n"
     ]
    }
   ],
   "source": [
    "print(discountCurve)"
   ]
  },
  {
   "cell_type": "code",
   "execution_count": 11,
   "metadata": {},
   "outputs": [
    {
     "data": {
      "text/plain": [
       "105.27653992490681"
      ]
     },
     "execution_count": 11,
     "metadata": {},
     "output_type": "execute_result"
    }
   ],
   "source": [
    "bond.cleanPriceFromDiscountCurve(settlementDate, discountCurve)"
   ]
  },
  {
   "cell_type": "code",
   "execution_count": 12,
   "metadata": {},
   "outputs": [
    {
     "data": {
      "text/plain": [
       "105.27653992490681"
      ]
     },
     "execution_count": 12,
     "metadata": {},
     "output_type": "execute_result"
    }
   ],
   "source": [
    "bond.fullPriceFromDiscountCurve(settlementDate, discountCurve)"
   ]
  },
  {
   "cell_type": "markdown",
   "metadata": {},
   "source": [
    "As we are on the issue date of the bond there is no accrued."
   ]
  },
  {
   "cell_type": "markdown",
   "metadata": {},
   "source": [
    "This agrees with QL which finds a price of 105.27654"
   ]
  },
  {
   "cell_type": "markdown",
   "metadata": {},
   "source": [
    "Copyright (c) 2020 Dominic O'Kane"
   ]
  }
 ],
 "metadata": {
  "kernelspec": {
   "display_name": "Python 3",
   "language": "python",
   "name": "python3"
  },
  "language_info": {
   "codemirror_mode": {
    "name": "ipython",
    "version": 3
   },
   "file_extension": ".py",
   "mimetype": "text/x-python",
   "name": "python",
   "nbconvert_exporter": "python",
   "pygments_lexer": "ipython3",
   "version": "3.7.6"
  }
 },
 "nbformat": 4,
 "nbformat_minor": 2
}
