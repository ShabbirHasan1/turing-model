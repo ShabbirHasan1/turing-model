{
 "cells": [
  {
   "cell_type": "markdown",
   "metadata": {},
   "source": [
    "# Building a Dual Ibor Curve"
   ]
  },
  {
   "cell_type": "markdown",
   "metadata": {},
   "source": [
    "The aim is to construct an IBOR curve that uses OIS discounting"
   ]
  },
  {
   "cell_type": "code",
   "execution_count": 1,
   "metadata": {},
   "outputs": [],
   "source": [
    "import numpy as np\n",
    "import matplotlib.pyplot as plt"
   ]
  },
  {
   "cell_type": "code",
   "execution_count": 2,
   "metadata": {},
   "outputs": [
    {
     "name": "stdout",
     "output_type": "stream",
     "text": [
      "####################################################################\n",
      "# FINANCEPY BETA Version 0.191 - This build:  17 Jan 2021 at 18:30 #\n",
      "#      This software is distributed FREE & WITHOUT ANY WARRANTY    #\n",
      "# For info and disclaimer - https://github.com/domokane/FinancePy  #\n",
      "#      Send any bug reports or comments to quant@financepy.com     #\n",
      "####################################################################\n",
      "\n"
     ]
    }
   ],
   "source": [
    "from financepy.finutils import *\n",
    "from financepy.products.rates import *"
   ]
  },
  {
   "cell_type": "code",
   "execution_count": 5,
   "metadata": {},
   "outputs": [],
   "source": [
    "setDateFormatType(TuringDateFormatTypes.UK_LONGEST)"
   ]
  },
  {
   "cell_type": "code",
   "execution_count": 6,
   "metadata": {},
   "outputs": [],
   "source": [
    "valuationDate = TuringDate(18, 9, 2019)"
   ]
  },
  {
   "cell_type": "markdown",
   "metadata": {},
   "source": [
    "## Building the Discount Curve"
   ]
  },
  {
   "cell_type": "markdown",
   "metadata": {},
   "source": [
    "This is based on OIS rates. We anchor the short end using the overnight rate."
   ]
  },
  {
   "cell_type": "code",
   "execution_count": 7,
   "metadata": {},
   "outputs": [],
   "source": [
    "onRate = 0.045\n",
    "\n",
    "depoDCCType = TuringDayCountTypes.THIRTY_E_360_ISDA\n",
    "depos = []\n",
    "spotDays = 2\n",
    "settlementDate = valuationDate.addWeekDays(spotDays)\n",
    "depo = TuringIborDeposit(settlementDate, \"1D\", onRate, depoDCCType); depos.append(depo)"
   ]
  },
  {
   "cell_type": "code",
   "execution_count": 8,
   "metadata": {},
   "outputs": [
    {
     "data": {
      "text/plain": [
       "FRI 20 SEP 2019"
      ]
     },
     "execution_count": 8,
     "metadata": {},
     "output_type": "execute_result"
    }
   ],
   "source": [
    "settlementDate"
   ]
  },
  {
   "cell_type": "markdown",
   "metadata": {},
   "source": [
    "We use swaps with a regular term"
   ]
  },
  {
   "cell_type": "code",
   "execution_count": 9,
   "metadata": {},
   "outputs": [],
   "source": [
    "oiss = []\n",
    "swapType = TuringSwapTypes.PAY\n",
    "fixedDCCType = TuringDayCountTypes.ACT_365F\n",
    "fixedFreqType = TuringFrequencyTypes.SEMI_ANNUAL\n",
    "\n",
    "swap = FinOIS(settlementDate, \"1Y\", swapType, onRate + 0.0001, fixedFreqType, fixedDCCType); oiss.append(swap)\n",
    "swap = FinOIS(settlementDate, \"2Y\", swapType, onRate + 0.0003, fixedFreqType, fixedDCCType); oiss.append(swap)\n",
    "swap = FinOIS(settlementDate, \"3Y\", swapType, onRate + 0.0010, fixedFreqType, fixedDCCType); oiss.append(swap)\n",
    "swap = FinOIS(settlementDate, \"4Y\", swapType, onRate + 0.0015, fixedFreqType, fixedDCCType); oiss.append(swap)\n",
    "swap = FinOIS(settlementDate, \"5Y\", swapType, onRate + 0.0020, fixedFreqType, fixedDCCType); oiss.append(swap)\n",
    "swap = FinOIS(settlementDate, \"7Y\", swapType, onRate + 0.0030, fixedFreqType, fixedDCCType); oiss.append(swap)\n",
    "swap = FinOIS(settlementDate, \"10Y\", swapType, onRate + 0.0035, fixedFreqType, fixedDCCType); oiss.append(swap)"
   ]
  },
  {
   "cell_type": "code",
   "execution_count": 10,
   "metadata": {},
   "outputs": [
    {
     "name": "stdout",
     "output_type": "stream",
     "text": [
      "Inserting synthetic deposit\n"
     ]
    }
   ],
   "source": [
    "oisCurve = TuringOISCurve(valuationDate, depos, [], oiss, FinInterpTypes.FLAT_FWD_RATES)"
   ]
  },
  {
   "cell_type": "markdown",
   "metadata": {},
   "source": [
    "Let's just check a repricing by looking at the value of the longest OIS."
   ]
  },
  {
   "cell_type": "code",
   "execution_count": 11,
   "metadata": {},
   "outputs": [
    {
     "name": "stdout",
     "output_type": "stream",
     "text": [
      "MON 21 SEP 2020  -0.000000000000\n",
      "MON 20 SEP 2021  -0.000000000000\n",
      "TUE 20 SEP 2022  -0.000000000000\n",
      "WED 20 SEP 2023   0.000000000000\n",
      "FRI 20 SEP 2024   0.000000000000\n",
      "MON 21 SEP 2026  -0.000000000000\n",
      "THU 20 SEP 2029  -0.000000000001\n"
     ]
    }
   ],
   "source": [
    "for swap in oiss:\n",
    "    v_single = swap.value(valuationDate, oisCurve) / swap._fixedLeg._notional\n",
    "    print(\"%12s  %15.12f\" % (swap._maturityDate, v_single))"
   ]
  },
  {
   "cell_type": "markdown",
   "metadata": {},
   "source": [
    "This is effectively zero. So they are all repriced."
   ]
  },
  {
   "cell_type": "markdown",
   "metadata": {},
   "source": [
    "## Building the 3M IBOR Curve"
   ]
  },
  {
   "cell_type": "markdown",
   "metadata": {},
   "source": [
    "We use ON rate, 3M Ibor FRAs and IBOR swaps with a 3M floating Leg (this is the default for FinIborSwap)"
   ]
  },
  {
   "cell_type": "code",
   "execution_count": 12,
   "metadata": {},
   "outputs": [],
   "source": [
    "depoDCCType = TuringDayCountTypes.THIRTY_E_360_ISDA\n",
    "depos = []\n",
    "depo = TuringIborDeposit(settlementDate, \"1D\", onRate, depoDCCType); depos.append(depo)\n",
    "\n",
    "payFixed = True\n",
    "fras = []\n",
    "\n",
    "# 1 x 4 FRA\n",
    "fraRate = onRate + 0.0003\n",
    "fraSettlementDate = settlementDate.addMonths(1)\n",
    "fraMaturityDate = settlementDate.addMonths(4)\n",
    "fra = FinIborFRA(fraSettlementDate, fraMaturityDate, fraRate, depoDCCType)\n",
    "fras.append(fra)\n",
    "\n",
    "# 2 x 5 FRA\n",
    "fraRate = onRate + 0.0005\n",
    "fraSettlementDate = settlementDate.addMonths(2)\n",
    "fraMaturityDate = settlementDate.addMonths(5)\n",
    "fra = FinIborFRA(fraSettlementDate, fraMaturityDate, fraRate, depoDCCType)\n",
    "fras.append(fra)\n",
    "\n",
    "# 3 x 6 FRA\n",
    "fraRate = onRate + 0.0007\n",
    "fraSettlementDate = settlementDate.addMonths(3)\n",
    "fraMaturityDate = settlementDate.addMonths(6)\n",
    "fra = FinIborFRA(fraSettlementDate, fraMaturityDate, fraRate, depoDCCType)\n",
    "fras.append(fra)\n",
    "\n",
    "# 4 x 7 FRA\n",
    "fraRate = onRate + 0.0007\n",
    "fraSettlementDate = settlementDate.addMonths(4)\n",
    "fraMaturityDate = settlementDate.addMonths(7)\n",
    "fra = FinIborFRA(fraSettlementDate, fraMaturityDate, fraRate, depoDCCType)\n",
    "fras.append(fra)\n",
    "\n",
    "# 5 x 8 FRA\n",
    "fraRate = onRate + 0.0008\n",
    "fraSettlementDate = settlementDate.addMonths(5)\n",
    "fraMaturityDate = settlementDate.addMonths(8)\n",
    "fra = FinIborFRA(fraSettlementDate, fraMaturityDate, fraRate, depoDCCType)\n",
    "fras.append(fra)\n",
    "\n",
    "swaps = []\n",
    "swapType = TuringSwapTypes.PAY\n",
    "fixedDCCType = TuringDayCountTypes.ACT_365F\n",
    "fixedFreqType = TuringFrequencyTypes.SEMI_ANNUAL\n",
    "\n",
    "swap = FinIborSwap(settlementDate, \"1Y\", swapType, 0.0470, fixedFreqType, fixedDCCType); swaps.append(swap)\n",
    "swap = FinIborSwap(settlementDate, \"3Y\", swapType, 0.0475, fixedFreqType, fixedDCCType); swaps.append(swap)\n",
    "swap = FinIborSwap(settlementDate, \"5Y\", swapType, 0.0490, fixedFreqType, fixedDCCType); swaps.append(swap)\n",
    "swap = FinIborSwap(settlementDate, \"7Y\", swapType, 0.0510, fixedFreqType, fixedDCCType); swaps.append(swap)\n",
    "swap = FinIborSwap(settlementDate, \"10Y\", swapType, 0.0520, fixedFreqType, fixedDCCType); swaps.append(swap)"
   ]
  },
  {
   "cell_type": "markdown",
   "metadata": {},
   "source": [
    "Let's first build a single curve that assumes index and funding rates are same"
   ]
  },
  {
   "cell_type": "markdown",
   "metadata": {},
   "source": [
    "Note that for ease of comparison I use flat forward interpolation"
   ]
  },
  {
   "cell_type": "code",
   "execution_count": 13,
   "metadata": {},
   "outputs": [
    {
     "data": {
      "text/plain": [
       "OBJECT TYPE: TuringIborDeposit\n",
       "START DATE: FRI 20 SEP 2019\n",
       "MATURITY DATE: MON 23 SEP 2019\n",
       "NOTIONAL: 100.0\n",
       "DEPOSIT RATE: 0.045\n",
       "DAY COUNT TYPE: TuringDayCountTypes.THIRTY_E_360_ISDA\n",
       "CALENDAR: TuringCalendarTypes.WEEKEND\n",
       "BUS DAY ADJUST TYPE: TuringBusDayAdjustTypes.MODIFIED_FOLLOWING"
      ]
     },
     "execution_count": 13,
     "metadata": {},
     "output_type": "execute_result"
    }
   ],
   "source": [
    "depos[0]"
   ]
  },
  {
   "cell_type": "code",
   "execution_count": 14,
   "metadata": {},
   "outputs": [],
   "source": [
    "iborSingleCurve = TuringIborSingleCurve(valuationDate, depos, fras, swaps, FinInterpTypes.FLAT_FWD_RATES)"
   ]
  },
  {
   "cell_type": "markdown",
   "metadata": {},
   "source": [
    "Let's check repricing of FRAs and Swaps"
   ]
  },
  {
   "cell_type": "code",
   "execution_count": 15,
   "metadata": {},
   "outputs": [
    {
     "name": "stdout",
     "output_type": "stream",
     "text": [
      "MON 20 JAN 2020     0.000000000000\n",
      "THU 20 FEB 2020     0.000000000000\n",
      "FRI 20 MAR 2020    -0.000000000000\n",
      "MON 20 APR 2020    -0.000000000000\n",
      "WED 20 MAY 2020    -0.000000000000\n"
     ]
    }
   ],
   "source": [
    "for fra in fras:\n",
    "    v = fra.value(valuationDate, iborSingleCurve)/ fra._notional\n",
    "    print(\"%12s %18.12f\" % (fra._maturityDate, v))"
   ]
  },
  {
   "cell_type": "code",
   "execution_count": 16,
   "metadata": {},
   "outputs": [
    {
     "name": "stdout",
     "output_type": "stream",
     "text": [
      "MON 21 SEP 2020    -0.000000000000\n",
      "TUE 20 SEP 2022    -0.000000000000\n",
      "FRI 20 SEP 2024    -0.000000000000\n",
      "MON 21 SEP 2026    -0.000000000000\n",
      "THU 20 SEP 2029    -0.000000000002\n"
     ]
    }
   ],
   "source": [
    "for swap in swaps:\n",
    "    v = swap.value(valuationDate, iborSingleCurve)/ swap._fixedLeg._notional\n",
    "    print(\"%12s %18.12f\" %(swap._maturityDate, v))"
   ]
  },
  {
   "cell_type": "markdown",
   "metadata": {},
   "source": [
    "The fit looks perfect"
   ]
  },
  {
   "cell_type": "markdown",
   "metadata": {},
   "source": [
    "## Building the Dual Curve"
   ]
  },
  {
   "cell_type": "markdown",
   "metadata": {},
   "source": [
    "Let's build a dual curve that incorporates funding and index curve differential."
   ]
  },
  {
   "cell_type": "code",
   "execution_count": 17,
   "metadata": {},
   "outputs": [],
   "source": [
    "iborDualCurve = TuringIborDualCurve(valuationDate, oisCurve, depos, fras, swaps, FinInterpTypes.FLAT_FWD_RATES)"
   ]
  },
  {
   "cell_type": "code",
   "execution_count": 18,
   "metadata": {},
   "outputs": [
    {
     "name": "stdout",
     "output_type": "stream",
     "text": [
      "MON 20 JAN 2020    -0.000000000000\n",
      "THU 20 FEB 2020     0.000000000001\n",
      "FRI 20 MAR 2020     0.000000000001\n",
      "MON 20 APR 2020     0.000000000001\n",
      "WED 20 MAY 2020     0.000000000001\n"
     ]
    }
   ],
   "source": [
    "for fra in fras:\n",
    "    v_dual = fra.value(valuationDate, oisCurve, iborDualCurve) / fra._notional\n",
    "    print(\"%12s %18.12f\"% (fra._maturityDate, v_dual))"
   ]
  },
  {
   "cell_type": "code",
   "execution_count": 19,
   "metadata": {},
   "outputs": [
    {
     "name": "stdout",
     "output_type": "stream",
     "text": [
      "MON 21 SEP 2020     0.000000000000\n",
      "TUE 20 SEP 2022    -0.000000000000\n",
      "FRI 20 SEP 2024    -0.000000000000\n",
      "MON 21 SEP 2026    -0.000000000000\n",
      "THU 20 SEP 2029    -0.000000000000\n"
     ]
    }
   ],
   "source": [
    "for swap in swaps:\n",
    "    v_dual = swap.value(valuationDate, oisCurve, iborDualCurve) / swap._fixedLeg._notional\n",
    "    print(\"%12s %18.12f\"% (swap._maturityDate, v_dual))"
   ]
  },
  {
   "cell_type": "markdown",
   "metadata": {},
   "source": [
    "This is within the allowed tolerance."
   ]
  },
  {
   "cell_type": "markdown",
   "metadata": {},
   "source": [
    "## Comparison of Curves"
   ]
  },
  {
   "cell_type": "markdown",
   "metadata": {},
   "source": [
    "We examine the forward rates of the three curves"
   ]
  },
  {
   "cell_type": "code",
   "execution_count": 20,
   "metadata": {},
   "outputs": [
    {
     "data": {
      "image/png": "[encoded data removed]",
      "text/plain": [
       "<Figure size 432x288 with 1 Axes>"
      ]
     },
     "metadata": {
      "needs_background": "light"
     },
     "output_type": "display_data"
    }
   ],
   "source": [
    "years = np.linspace(0, 10, 1201)\n",
    "dates = settlementDate.addYears(years)\n",
    "    \n",
    "singleCurveFwds = iborSingleCurve.fwd(dates)   \n",
    "plt.plot(years, singleCurveFwds*100, label=\"Single Libor Curve\")\n",
    " \n",
    "oisCurveFwds = oisCurve.fwd(dates)    \n",
    "plt.plot(years, oisCurveFwds*100.0, label=\"OIS Curve\")\n",
    "\n",
    "indexCurveFwds = iborDualCurve.fwd(dates)    \n",
    "plt.plot(years, indexCurveFwds*100.0, label=\"Libor Index Curve\")\n",
    "        \n",
    "plt.legend();"
   ]
  },
  {
   "cell_type": "code",
   "execution_count": 21,
   "metadata": {},
   "outputs": [
    {
     "data": {
      "text/plain": [
       "<matplotlib.legend.Legend at 0x24c93c82ca0>"
      ]
     },
     "execution_count": 21,
     "metadata": {},
     "output_type": "execute_result"
    },
    {
     "data": {
      "image/png": "[encoded data removed]",
      "text/plain": [
       "<Figure size 432x288 with 1 Axes>"
      ]
     },
     "metadata": {
      "needs_background": "light"
     },
     "output_type": "display_data"
    }
   ],
   "source": [
    "diff = (indexCurveFwds - singleCurveFwds)*10000\n",
    "plt.plot(years, diff, label=\"Libor funding FWD vs OIS Funding FWD (bps)\")\n",
    "plt.legend()"
   ]
  },
  {
   "cell_type": "markdown",
   "metadata": {},
   "source": [
    "The difference is small but not negligible."
   ]
  },
  {
   "cell_type": "markdown",
   "metadata": {},
   "source": [
    "Copyright (c) Dominic O'Kane 2020"
   ]
  }
 ],
 "metadata": {
  "kernelspec": {
   "display_name": "Python 3",
   "language": "python",
   "name": "python3"
  },
  "language_info": {
   "codemirror_mode": {
    "name": "ipython",
    "version": 3
   },
   "file_extension": ".py",
   "mimetype": "text/x-python",
   "name": "python",
   "nbconvert_exporter": "python",
   "pygments_lexer": "ipython3",
   "version": "3.8.5"
  }
 },
 "nbformat": 4,
 "nbformat_minor": 4
}
