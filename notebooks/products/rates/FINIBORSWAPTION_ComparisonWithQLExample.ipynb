{
 "cells": [
  {
   "cell_type": "markdown",
   "metadata": {},
   "source": [
    "# Valuing European-style Swaptions with QL Example"
   ]
  },
  {
   "cell_type": "markdown",
   "metadata": {},
   "source": [
    "We value a European swaption using Black's model and try to replicate a QL example at http://khandrikacm.blogspot.com/2014/03/european-style-interest-rate-swaption.html"
   ]
  },
  {
   "cell_type": "code",
   "execution_count": 1,
   "metadata": {},
   "outputs": [],
   "source": [
    "import numpy as np\n",
    "import matplotlib.pyplot as plt"
   ]
  },
  {
   "cell_type": "code",
   "execution_count": 2,
   "metadata": {},
   "outputs": [
    {
     "name": "stdout",
     "output_type": "stream",
     "text": [
      "####################################################################\n",
      "# FINANCEPY BETA Version 0.185 - This build:  24 Oct 2020 at 21:27 #\n",
      "#      This software is distributed FREE & WITHOUT ANY WARRANTY    #\n",
      "# For info and disclaimer - https://github.com/domokane/FinancePy  #\n",
      "#      Send any bug reports or comments to quant@financepy.com     #\n",
      "####################################################################\n",
      "\n"
     ]
    }
   ],
   "source": [
    "from financepy.products.rates import *\n",
    "from financepy.finutils import *\n",
    "from financepy.market.curves import *\n",
    "from financepy.models.TuringModelBlack import TuringModelBlack"
   ]
  },
  {
   "cell_type": "markdown",
   "metadata": {},
   "source": [
    "## Building a Ibor Discount Curve"
   ]
  },
  {
   "cell_type": "code",
   "execution_count": 3,
   "metadata": {},
   "outputs": [],
   "source": [
    "valuationDate = TuringDate(28, 2, 2014)\n",
    "settlementDate = TuringDate(4, 3, 2014)"
   ]
  },
  {
   "cell_type": "markdown",
   "metadata": {},
   "source": [
    "We have a vector of dates and zero rates"
   ]
  },
  {
   "cell_type": "code",
   "execution_count": 4,
   "metadata": {},
   "outputs": [
    {
     "name": "stdout",
     "output_type": "stream",
     "text": [
      "Inserting synthetic deposit\n"
     ]
    }
   ],
   "source": [
    "depoDCCType = TuringDayCountTypes.THIRTY_E_360_ISDA\n",
    "depos = []\n",
    "\n",
    "depo = TuringIborDeposit(settlementDate, \"1W\", 0.0023, depoDCCType); depos.append(depo)\n",
    "depo = TuringIborDeposit(settlementDate, \"1M\", 0.0023, depoDCCType); depos.append(depo)\n",
    "depo = TuringIborDeposit(settlementDate, \"3M\", 0.0023, depoDCCType); depos.append(depo)\n",
    "depo = TuringIborDeposit(settlementDate, \"6M\", 0.0023, depoDCCType); depos.append(depo)\n",
    "\n",
    "# No convexity correction provided so I omit interest rate futures\n",
    "\n",
    "swaps = []\n",
    "swapType = TuringSwapTypes.PAY\n",
    "fixedDCCType = TuringDayCountTypes.ACT_365F\n",
    "fixedFreqType = TuringFrequencyTypes.SEMI_ANNUAL\n",
    "\n",
    "swap = TuringIborSwap(settlementDate, \"3Y\", swapType, 0.00790, fixedFreqType, fixedDCCType); swaps.append(swap)\n",
    "swap = TuringIborSwap(settlementDate, \"4Y\", swapType, 0.01200, fixedFreqType, fixedDCCType); swaps.append(swap)\n",
    "swap = TuringIborSwap(settlementDate, \"5Y\", swapType, 0.01570, fixedFreqType, fixedDCCType); swaps.append(swap)\n",
    "swap = TuringIborSwap(settlementDate, \"6Y\", swapType, 0.01865, fixedFreqType, fixedDCCType); swaps.append(swap)\n",
    "swap = TuringIborSwap(settlementDate, \"7Y\", swapType, 0.02160, fixedFreqType, fixedDCCType); swaps.append(swap)\n",
    "swap = TuringIborSwap(settlementDate, \"8Y\", swapType, 0.02350, fixedFreqType, fixedDCCType); swaps.append(swap)\n",
    "swap = TuringIborSwap(settlementDate, \"9Y\", swapType, 0.02540, fixedFreqType, fixedDCCType); swaps.append(swap)\n",
    "swap = TuringIborSwap(settlementDate, \"10Y\", swapType, 0.0273, fixedFreqType, fixedDCCType); swaps.append(swap)\n",
    "swap = TuringIborSwap(settlementDate, \"15Y\", swapType, 0.0297, fixedFreqType, fixedDCCType); swaps.append(swap)\n",
    "swap = TuringIborSwap(settlementDate, \"20Y\", swapType, 0.0316, fixedFreqType, fixedDCCType); swaps.append(swap)\n",
    "swap = TuringIborSwap(settlementDate, \"25Y\", swapType, 0.0335, fixedFreqType, fixedDCCType); swaps.append(swap)\n",
    "swap = TuringIborSwap(settlementDate, \"30Y\", swapType, 0.0354, fixedFreqType, fixedDCCType); swaps.append(swap)\n",
    "\n",
    "liborCurve = TuringIborSingleCurve(valuationDate, depos, [], swaps)"
   ]
  },
  {
   "cell_type": "code",
   "execution_count": 5,
   "metadata": {},
   "outputs": [],
   "source": [
    "exerciseDate = settlementDate.addTenor(\"5Y\")\n",
    "swapMaturityDate = exerciseDate.addTenor(\"5Y\")\n",
    "\n",
    "swapFixedCoupon = 0.040852\n",
    "swapFixedFrequencyType = TuringFrequencyTypes.SEMI_ANNUAL\n",
    "swapFixedDayCountType = TuringDayCountTypes.THIRTY_E_360_ISDA\n",
    "\n",
    "swapFloatFrequencyType = TuringFrequencyTypes.QUARTERLY\n",
    "swapFloatDayCountType = TuringDayCountTypes.ACT_360\n",
    "\n",
    "swapNotional = ONE_MILLION\n",
    "swapType = TuringSwapTypes.PAY \n",
    "calendarType = TuringCalendarTypes.TARGET\n",
    "busDayAdjustType = TuringBusDayAdjustTypes.MODIFIED_FOLLOWING\n",
    "dateGenRuleType = TuringDateGenRuleTypes.BACKWARD"
   ]
  },
  {
   "cell_type": "code",
   "execution_count": 6,
   "metadata": {},
   "outputs": [],
   "source": [
    "swaption = TuringIborSwaption(settlementDate,\n",
    "                            exerciseDate,\n",
    "                            swapMaturityDate,\n",
    "                            swapType,\n",
    "                            swapFixedCoupon,\n",
    "                            swapFixedFrequencyType,\n",
    "                            swapFixedDayCountType, \n",
    "                            swapNotional, \n",
    "                            swapFloatFrequencyType,\n",
    "                            swapFloatDayCountType,\n",
    "                            calendarType, \n",
    "                            busDayAdjustType,\n",
    "                            dateGenRuleType)"
   ]
  },
  {
   "cell_type": "code",
   "execution_count": 7,
   "metadata": {},
   "outputs": [
    {
     "name": "stdout",
     "output_type": "stream",
     "text": [
      "OBJECT TYPE: TuringIborSwaption\n",
      "SETTLEMENT DATE: TUE 04 MAR 2014\n",
      "EXERCISE DATE: MON 04 MAR 2019\n",
      "SWAP TYPE: TuringSwapTypes.PAY\n",
      "SWAP MATURITY DATE: MON 04 MAR 2024\n",
      "SWAP NOTIONAL: 1000000\n",
      "FIXED COUPON: 4.0852\n",
      "FIXED FREQUENCY: TuringFrequencyTypes.SEMI_ANNUAL\n",
      "FIXED DAY COUNT: TuringDayCountTypes.THIRTY_E_360_ISDA\n",
      "FLOAT FREQUENCY: TuringFrequencyTypes.QUARTERLY\n",
      "FLOAT DAY COUNT: TuringDayCountTypes.ACT_360\n",
      "\n"
     ]
    }
   ],
   "source": [
    "print(swaption)"
   ]
  },
  {
   "cell_type": "code",
   "execution_count": 8,
   "metadata": {},
   "outputs": [],
   "source": [
    "model = TuringModelBlack(0.1533)"
   ]
  },
  {
   "cell_type": "code",
   "execution_count": 9,
   "metadata": {},
   "outputs": [
    {
     "data": {
      "text/plain": [
       "23163.13292186464"
      ]
     },
     "execution_count": 9,
     "metadata": {},
     "output_type": "execute_result"
    }
   ],
   "source": [
    "swaption.value(settlementDate, liborCurve, model)"
   ]
  },
  {
   "cell_type": "markdown",
   "metadata": {},
   "source": [
    "This is close to a value of 23162 using QL"
   ]
  },
  {
   "cell_type": "markdown",
   "metadata": {},
   "source": [
    "## Internals"
   ]
  },
  {
   "cell_type": "code",
   "execution_count": 10,
   "metadata": {},
   "outputs": [
    {
     "name": "stdout",
     "output_type": "stream",
     "text": [
      "OBJECT TYPE: TuringIborSwaption\n",
      "SETTLEMENT DATE: TUE 04 MAR 2014\n",
      "EXERCISE DATE: MON 04 MAR 2019\n",
      "SWAP TYPE: TuringSwapTypes.PAY\n",
      "SWAP MATURITY DATE: MON 04 MAR 2024\n",
      "SWAP NOTIONAL: 1000000\n",
      "FIXED COUPON: 4.0852\n",
      "FIXED FREQUENCY: TuringFrequencyTypes.SEMI_ANNUAL\n",
      "FIXED DAY COUNT: TuringDayCountTypes.THIRTY_E_360_ISDA\n",
      "FLOAT FREQUENCY: TuringFrequencyTypes.QUARTERLY\n",
      "FLOAT DAY COUNT: TuringDayCountTypes.ACT_360\n",
      "PV01: 4.16168532945034\n",
      "FWD SWAP RATE: 4.086035922736006\n",
      "FWD DF TO EXPIRY: 0.9237697293451264\n"
     ]
    }
   ],
   "source": [
    "print(swaption)"
   ]
  },
  {
   "cell_type": "markdown",
   "metadata": {},
   "source": [
    "We can see that the forward swap rate almost equals the fixed coupon. The underlying swap is close to being ATM forward."
   ]
  },
  {
   "cell_type": "code",
   "execution_count": 11,
   "metadata": {},
   "outputs": [
    {
     "name": "stdout",
     "output_type": "stream",
     "text": [
      "START DATE: MON 04 MAR 2019\n",
      "MATURITY DATE: MON 04 MAR 2024\n",
      "COUPON (%): 4.0852\n",
      "FIXED LEG FREQUENCY: TuringFrequencyTypes.SEMI_ANNUAL\n",
      "FIXED LEG DAY COUNT: TuringDayCountTypes.THIRTY_E_360_ISDA\n",
      "VALUATION DATE TUE 04 MAR 2014\n",
      "PAYMENT_DATE     YEAR_FRAC        FLOW         DF         DF*FLOW       CUM_PV\n",
      "TUE 04 MAR 2014          -            -   1.00000000            -            -\n",
      "WED 04 SEP 2019  0.5000000     20426.00   0.90872318     18561.58     18561.58\n",
      "WED 04 MAR 2020  0.5000000     20426.00   0.89262979     18232.86     36794.44\n",
      "FRI 04 SEP 2020  0.5000000     20426.00   0.87518398     17876.51     54670.94\n",
      "THU 04 MAR 2021  0.5000000     20426.00   0.85693776     17503.81     72174.75\n",
      "MON 06 SEP 2021  0.5055556     20652.96   0.84085474     17366.14     89540.89\n",
      "FRI 04 MAR 2022  0.4944444     20199.04   0.82477877     16659.74    106200.63\n",
      "MON 05 SEP 2022  0.5027778     20539.48   0.80762580     16588.21    122788.85\n",
      "MON 06 MAR 2023  0.5027778     20539.48   0.79020647     16230.43    139019.27\n",
      "MON 04 SEP 2023  0.4944444     20199.04   0.77221382     15597.98    154617.25\n",
      "MON 04 MAR 2024  0.5000000     20426.00   0.75374103     15395.91    170013.17\n"
     ]
    }
   ],
   "source": [
    "swaption.printSwapFixedLeg()"
   ]
  },
  {
   "cell_type": "code",
   "execution_count": 14,
   "metadata": {},
   "outputs": [
    {
     "name": "stdout",
     "output_type": "stream",
     "text": [
      "START DATE: MON 04 MAR 2019\n",
      "MATURITY DATE: MON 04 MAR 2024\n",
      "SPREAD COUPON (%): 0.0\n",
      "FLOAT LEG FREQUENCY: TuringFrequencyTypes.QUARTERLY\n",
      "FLOAT LEG DAY COUNT: TuringDayCountTypes.ACT_360\n",
      "VALUATION DATE TUE 04 MAR 2014\n",
      "Floating Flows not calculated.\n"
     ]
    }
   ],
   "source": [
    "swaption.printSwapFloatLeg()"
   ]
  },
  {
   "cell_type": "markdown",
   "metadata": {},
   "source": [
    "Copyright (c) 2020 Dominic O'Kane"
   ]
  }
 ],
 "metadata": {
  "kernelspec": {
   "display_name": "Python 3",
   "language": "python",
   "name": "python3"
  },
  "language_info": {
   "codemirror_mode": {
    "name": "ipython",
    "version": 3
   },
   "file_extension": ".py",
   "mimetype": "text/x-python",
   "name": "python",
   "nbconvert_exporter": "python",
   "pygments_lexer": "ipython3",
   "version": "3.7.6"
  }
 },
 "nbformat": 4,
 "nbformat_minor": 4
}
