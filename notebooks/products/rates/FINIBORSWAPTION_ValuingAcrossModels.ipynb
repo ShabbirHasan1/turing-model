{
 "cells": [
  {
   "cell_type": "markdown",
   "metadata": {},
   "source": [
    "# Valuing European-Style Swaptions Across Models"
   ]
  },
  {
   "cell_type": "code",
   "execution_count": 1,
   "metadata": {},
   "outputs": [],
   "source": [
    "import numpy as np\n",
    "import matplotlib.pyplot as plt"
   ]
  },
  {
   "cell_type": "code",
   "execution_count": 2,
   "metadata": {},
   "outputs": [
    {
     "name": "stdout",
     "output_type": "stream",
     "text": [
      "####################################################################\n",
      "# FINANCEPY BETA Version 0.185 - This build:  24 Oct 2020 at 21:27 #\n",
      "#      This software is distributed FREE & WITHOUT ANY WARRANTY    #\n",
      "# For info and disclaimer - https://github.com/domokane/FinancePy  #\n",
      "#      Send any bug reports or comments to quant@financepy.com     #\n",
      "####################################################################\n",
      "\n"
     ]
    }
   ],
   "source": [
    "from financepy.products.rates import *\n",
    "from financepy.finutils import *\n",
    "from financepy.products.rates.TuringIborSingleCurve import TuringIborSingleCurve\n",
    "from financepy.market.curves.TuringInterpolator import TuringInterpTypes"
   ]
  },
  {
   "cell_type": "markdown",
   "metadata": {},
   "source": [
    "## Building a Libor Discount Curve"
   ]
  },
  {
   "cell_type": "code",
   "execution_count": 4,
   "metadata": {},
   "outputs": [],
   "source": [
    "valuationDate = TuringDate(28, 2, 2014)\n",
    "settlementDate = TuringDate(4, 3, 2014)"
   ]
  },
  {
   "cell_type": "markdown",
   "metadata": {},
   "source": [
    "We have a vector of dates and zero rates"
   ]
  },
  {
   "cell_type": "code",
   "execution_count": 5,
   "metadata": {},
   "outputs": [
    {
     "name": "stdout",
     "output_type": "stream",
     "text": [
      "Inserting synthetic deposit\n"
     ]
    }
   ],
   "source": [
    "depoDCCType = TuringDayCountTypes.THIRTY_E_360_ISDA\n",
    "depos = []\n",
    "\n",
    "depo = TuringIborDeposit(settlementDate, \"1W\", 0.0023, depoDCCType); depos.append(depo)\n",
    "depo = TuringIborDeposit(settlementDate, \"1M\", 0.0023, depoDCCType); depos.append(depo)\n",
    "depo = TuringIborDeposit(settlementDate, \"3M\", 0.0023, depoDCCType); depos.append(depo)\n",
    "depo = TuringIborDeposit(settlementDate, \"6M\", 0.0023, depoDCCType); depos.append(depo)\n",
    "\n",
    "# No convexity correction provided so I omit interest rate futures\n",
    "\n",
    "swaps = []\n",
    "swapType = TuringSwapTypes.PAY\n",
    "fixedDCCType = TuringDayCountTypes.ACT_365F\n",
    "fixedFreqType = TuringFrequencyTypes.SEMI_ANNUAL\n",
    "\n",
    "swap = TuringIborSwap(settlementDate, \"3Y\", swapType, 0.00790, fixedFreqType, fixedDCCType); swaps.append(swap)\n",
    "swap = TuringIborSwap(settlementDate, \"4Y\", swapType, 0.01200, fixedFreqType, fixedDCCType); swaps.append(swap)\n",
    "swap = TuringIborSwap(settlementDate, \"5Y\", swapType, 0.01570, fixedFreqType, fixedDCCType); swaps.append(swap)\n",
    "swap = TuringIborSwap(settlementDate, \"6Y\", swapType, 0.01865, fixedFreqType, fixedDCCType); swaps.append(swap)\n",
    "swap = TuringIborSwap(settlementDate, \"7Y\", swapType, 0.02160, fixedFreqType, fixedDCCType); swaps.append(swap)\n",
    "swap = TuringIborSwap(settlementDate, \"8Y\", swapType, 0.02350, fixedFreqType, fixedDCCType); swaps.append(swap)\n",
    "swap = TuringIborSwap(settlementDate, \"9Y\", swapType, 0.02540, fixedFreqType, fixedDCCType); swaps.append(swap)\n",
    "swap = TuringIborSwap(settlementDate, \"10Y\", swapType, 0.0273, fixedFreqType, fixedDCCType); swaps.append(swap)\n",
    "swap = TuringIborSwap(settlementDate, \"15Y\", swapType, 0.0297, fixedFreqType, fixedDCCType); swaps.append(swap)\n",
    "swap = TuringIborSwap(settlementDate, \"20Y\", swapType, 0.0316, fixedFreqType, fixedDCCType); swaps.append(swap)\n",
    "swap = TuringIborSwap(settlementDate, \"25Y\", swapType, 0.0335, fixedFreqType, fixedDCCType); swaps.append(swap)\n",
    "swap = TuringIborSwap(settlementDate, \"30Y\", swapType, 0.0354, fixedFreqType, fixedDCCType); swaps.append(swap)\n",
    "\n",
    "liborCurve = TuringIborSingleCurve(valuationDate, depos, [], swaps)"
   ]
  },
  {
   "cell_type": "code",
   "execution_count": 6,
   "metadata": {},
   "outputs": [],
   "source": [
    "exerciseDate = settlementDate.addTenor(\"5Y\")\n",
    "swapMaturityDate = exerciseDate.addTenor(\"5Y\")\n",
    "swapFixedCoupon = 0.040852\n",
    "swapFixedFrequencyType = TuringFrequencyTypes.SEMI_ANNUAL\n",
    "swapFixedDayCountType = TuringDayCountTypes.THIRTY_E_360_ISDA\n",
    "swapFloatFrequencyType = TuringFrequencyTypes.QUARTERLY\n",
    "swapFloatDayCountType = TuringDayCountTypes.ACT_360\n",
    "swapNotional = ONE_MILLION\n",
    "swapType = TuringSwapTypes.PAY  \n",
    "calendarType = TuringCalendarTypes.WEEKEND\n",
    "busDayAdjustType = TuringBusDayAdjustTypes.NONE\n",
    "dateGenRuleType = TuringDateGenRuleTypes.BACKWARD"
   ]
  },
  {
   "cell_type": "code",
   "execution_count": 7,
   "metadata": {},
   "outputs": [],
   "source": [
    "swaption = TuringIborSwaption(settlementDate,\n",
    "                            exerciseDate,\n",
    "                            swapMaturityDate,\n",
    "                            swapType,\n",
    "                            swapFixedCoupon,\n",
    "                            swapFixedFrequencyType,\n",
    "                            swapFixedDayCountType, \n",
    "                            swapNotional, \n",
    "                            swapFloatFrequencyType,\n",
    "                            swapFloatDayCountType,\n",
    "                            calendarType, \n",
    "                            busDayAdjustType,\n",
    "                            dateGenRuleType)"
   ]
  },
  {
   "cell_type": "markdown",
   "metadata": {},
   "source": [
    "## Valuation using Black's Model"
   ]
  },
  {
   "cell_type": "code",
   "execution_count": 8,
   "metadata": {},
   "outputs": [],
   "source": [
    "model = TuringModelBlack(0.1533)"
   ]
  },
  {
   "cell_type": "code",
   "execution_count": 9,
   "metadata": {},
   "outputs": [
    {
     "data": {
      "text/plain": [
       "23163.334872028132"
      ]
     },
     "execution_count": 9,
     "metadata": {},
     "output_type": "execute_result"
    }
   ],
   "source": [
    "swaption.value(settlementDate, liborCurve, model)"
   ]
  },
  {
   "cell_type": "markdown",
   "metadata": {},
   "source": [
    "## Valuation using Shifted Black"
   ]
  },
  {
   "cell_type": "code",
   "execution_count": 22,
   "metadata": {},
   "outputs": [],
   "source": [
    "model = TuringModelBlackShifted(0.1533, 0.008)"
   ]
  },
  {
   "cell_type": "code",
   "execution_count": 23,
   "metadata": {},
   "outputs": [
    {
     "data": {
      "text/plain": [
       "27695.460283579072"
      ]
     },
     "execution_count": 23,
     "metadata": {},
     "output_type": "execute_result"
    }
   ],
   "source": [
    "swaption.value(settlementDate, liborCurve, model)"
   ]
  },
  {
   "cell_type": "markdown",
   "metadata": {},
   "source": [
    "##  Valuation using SABR"
   ]
  },
  {
   "cell_type": "code",
   "execution_count": 12,
   "metadata": {},
   "outputs": [],
   "source": [
    "model = TuringModelSABR(0.132, 0.5, 0.5, 0.5)"
   ]
  },
  {
   "cell_type": "code",
   "execution_count": 13,
   "metadata": {},
   "outputs": [
    {
     "data": {
      "text/plain": [
       "104583.52188346579"
      ]
     },
     "execution_count": 13,
     "metadata": {},
     "output_type": "execute_result"
    }
   ],
   "source": [
    "swaption.value(settlementDate, liborCurve, model)"
   ]
  },
  {
   "cell_type": "markdown",
   "metadata": {},
   "source": [
    "## Valuation using Shifted SABR"
   ]
  },
  {
   "cell_type": "code",
   "execution_count": 14,
   "metadata": {},
   "outputs": [],
   "source": [
    "model = TuringModelSABRShifted(0.1, 0.2, 0.1, 0.15, -0.005)"
   ]
  },
  {
   "cell_type": "code",
   "execution_count": 15,
   "metadata": {},
   "outputs": [
    {
     "data": {
      "text/plain": [
       "163445.66166978356"
      ]
     },
     "execution_count": 15,
     "metadata": {},
     "output_type": "execute_result"
    }
   ],
   "source": [
    "swaption.value(settlementDate, liborCurve, model)"
   ]
  },
  {
   "cell_type": "markdown",
   "metadata": {},
   "source": [
    "## Valuation using Hull-White"
   ]
  },
  {
   "cell_type": "code",
   "execution_count": 16,
   "metadata": {},
   "outputs": [],
   "source": [
    "model = TuringModelRatesHW(0.01, 0.02)"
   ]
  },
  {
   "cell_type": "code",
   "execution_count": 17,
   "metadata": {},
   "outputs": [
    {
     "data": {
      "text/plain": [
       "34173.86962564415"
      ]
     },
     "execution_count": 17,
     "metadata": {},
     "output_type": "execute_result"
    }
   ],
   "source": [
    "swaption.value(settlementDate, liborCurve, model)"
   ]
  },
  {
   "cell_type": "markdown",
   "metadata": {},
   "source": [
    "## Valuation using Black-Karasinski"
   ]
  },
  {
   "cell_type": "code",
   "execution_count": 18,
   "metadata": {},
   "outputs": [],
   "source": [
    "model = TuringModelRatesBK(0.2, 0.05)"
   ]
  },
  {
   "cell_type": "code",
   "execution_count": 19,
   "metadata": {},
   "outputs": [
    {
     "data": {
      "text/plain": [
       "23474.88575736677"
      ]
     },
     "execution_count": 19,
     "metadata": {},
     "output_type": "execute_result"
    }
   ],
   "source": [
    "swaption.value(settlementDate, liborCurve, model)"
   ]
  },
  {
   "cell_type": "markdown",
   "metadata": {},
   "source": [
    "## Internals"
   ]
  },
  {
   "cell_type": "code",
   "execution_count": 20,
   "metadata": {},
   "outputs": [
    {
     "name": "stdout",
     "output_type": "stream",
     "text": [
      "OBJECT TYPE: TuringIborSwaption\n",
      "SETTLEMENT DATE: TUE 04 MAR 2014\n",
      "EXERCISE DATE: MON 04 MAR 2019\n",
      "SWAP TYPE: TuringSwapTypes.PAY\n",
      "SWAP MATURITY DATE: MON 04 MAR 2024\n",
      "SWAP NOTIONAL: 1000000\n",
      "FIXED COUPON: 4.0852\n",
      "FIXED FREQUENCY: TuringFrequencyTypes.SEMI_ANNUAL\n",
      "FIXED DAY COUNT: TuringDayCountTypes.THIRTY_E_360_ISDA\n",
      "FLOAT FREQUENCY: TuringFrequencyTypes.QUARTERLY\n",
      "FLOAT DAY COUNT: TuringDayCountTypes.ACT_360\n",
      "PV01: 4.161673891171295\n",
      "FWD SWAP RATE: 4.086047153125578\n",
      "FWD DF TO EXPIRY: 0.9237697293451264\n"
     ]
    }
   ],
   "source": [
    "print(swaption)"
   ]
  },
  {
   "cell_type": "markdown",
   "metadata": {},
   "source": [
    "We can see that the forward swap rate almost equals the fixed coupon. The underlying swap is close to being ATM forward."
   ]
  },
  {
   "cell_type": "code",
   "execution_count": 21,
   "metadata": {},
   "outputs": [
    {
     "name": "stdout",
     "output_type": "stream",
     "text": [
      "START DATE: MON 04 MAR 2019\n",
      "MATURITY DATE: MON 04 MAR 2024\n",
      "COUPON (%): 4.0852\n",
      "FIXED LEG FREQUENCY: TuringFrequencyTypes.SEMI_ANNUAL\n",
      "FIXED LEG DAY COUNT: TuringDayCountTypes.THIRTY_E_360_ISDA\n",
      "VALUATION DATE TUE 04 MAR 2014\n",
      "PAYMENT_DATE     YEAR_FRAC        FLOW         DF         DF*FLOW       CUM_PV\n",
      "TUE 04 MAR 2014          -            -   1.00000000            -            -\n",
      "WED 04 SEP 2019  0.5000000     20426.00   0.90872318     18561.58     18561.58\n",
      "WED 04 MAR 2020  0.5000000     20426.00   0.89262979     18232.86     36794.44\n",
      "FRI 04 SEP 2020  0.5000000     20426.00   0.87518398     17876.51     54670.94\n",
      "THU 04 MAR 2021  0.5000000     20426.00   0.85693776     17503.81     72174.75\n",
      "SAT 04 SEP 2021  0.5000000     20426.00   0.84102606     17178.80     89353.55\n",
      "FRI 04 MAR 2022  0.5000000     20426.00   0.82477877     16846.93    106200.48\n",
      "SUN 04 SEP 2022  0.5000000     20426.00   0.80771756     16498.44    122698.92\n",
      "SAT 04 MAR 2023  0.5000000     20426.00   0.79039583     16144.63    138843.55\n",
      "MON 04 SEP 2023  0.5000000     20426.00   0.77221382     15773.24    154616.79\n",
      "MON 04 MAR 2024  0.5000000     20426.00   0.75374103     15395.91    170012.70\n"
     ]
    }
   ],
   "source": [
    "swaption.printSwapFixedLeg()"
   ]
  },
  {
   "cell_type": "markdown",
   "metadata": {},
   "source": [
    "Copyright (c) 2020 Dominic O'Kane"
   ]
  }
 ],
 "metadata": {
  "kernelspec": {
   "display_name": "Python 3",
   "language": "python",
   "name": "python3"
  },
  "language_info": {
   "codemirror_mode": {
    "name": "ipython",
    "version": 3
   },
   "file_extension": ".py",
   "mimetype": "text/x-python",
   "name": "python",
   "nbconvert_exporter": "python",
   "pygments_lexer": "ipython3",
   "version": "3.7.6"
  }
 },
 "nbformat": 4,
 "nbformat_minor": 4
}
