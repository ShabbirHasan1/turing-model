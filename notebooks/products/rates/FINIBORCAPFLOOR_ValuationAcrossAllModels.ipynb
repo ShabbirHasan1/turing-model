{
 "cells": [
  {
   "cell_type": "markdown",
   "metadata": {},
   "source": [
    "# Valuing Caps and Floors"
   ]
  },
  {
   "cell_type": "markdown",
   "metadata": {},
   "source": [
    "We value caps and floors using Black's model"
   ]
  },
  {
   "cell_type": "code",
   "execution_count": 1,
   "metadata": {},
   "outputs": [],
   "source": [
    "import numpy as np\n",
    "import matplotlib.pyplot as plt"
   ]
  },
  {
   "cell_type": "code",
   "execution_count": 2,
   "metadata": {},
   "outputs": [
    {
     "name": "stdout",
     "output_type": "stream",
     "text": [
      "####################################################################\n",
      "# FINANCEPY BETA Version 0.191 - This build:  17 Jan 2021 at 18:30 #\n",
      "#      This software is distributed FREE & WITHOUT ANY WARRANTY    #\n",
      "# For info and disclaimer - https://github.com/domokane/FinancePy  #\n",
      "#      Send any bug reports or comments to quant@financepy.com     #\n",
      "####################################################################\n",
      "\n"
     ]
    }
   ],
   "source": [
    "from financepy.finutils import *\n",
    "from financepy.products.rates import *"
   ]
  },
  {
   "cell_type": "markdown",
   "metadata": {},
   "source": [
    "## Building a Ibor Curve"
   ]
  },
  {
   "cell_type": "code",
   "execution_count": 3,
   "metadata": {},
   "outputs": [],
   "source": [
    "valuationDate = TuringDate(6, 6, 2018)"
   ]
  },
  {
   "cell_type": "code",
   "execution_count": 4,
   "metadata": {},
   "outputs": [],
   "source": [
    "spotDays = 0\n",
    "settlementDate = valuationDate\n",
    "depoDCCType = TuringDayCountTypes.THIRTY_E_360_ISDA\n",
    "\n",
    "depos = []\n",
    "depo = TuringIborDeposit(settlementDate, \"1M\", 0.0230, depoDCCType); depos.append(depo)\n",
    "depo = TuringIborDeposit(settlementDate, \"2M\", 0.0230, depoDCCType); depos.append(depo)\n",
    "depo = TuringIborDeposit(settlementDate, \"3M\", 0.0230, depoDCCType); depos.append(depo)\n",
    "depo = TuringIborDeposit(settlementDate, \"6M\", 0.0230, depoDCCType); depos.append(depo)\n",
    "depo = TuringIborDeposit(settlementDate, \"9M\", 0.0230, depoDCCType); depos.append(depo)"
   ]
  },
  {
   "cell_type": "code",
   "execution_count": 5,
   "metadata": {},
   "outputs": [],
   "source": [
    "accrual = TuringDayCountTypes.THIRTY_E_360\n",
    "freq = TuringFrequencyTypes.SEMI_ANNUAL\n",
    "longEnd = TuringDateGenRuleTypes.BACKWARD\n",
    "swapType = TuringSwapTypes.PAY\n",
    "\n",
    "spotDays = 2\n",
    "settlementDate = valuationDate.addWeekDays(spotDays)\n",
    "\n",
    "swaps = []\n",
    "swap = TuringIborSwap(settlementDate, \"1Y\", swapType, 0.0250, freq, accrual); swaps.append(swap)\n",
    "swap = TuringIborSwap(settlementDate, \"2Y\", swapType, 0.0255, freq, accrual); swaps.append(swap)\n",
    "swap = TuringIborSwap(settlementDate, \"3Y\", swapType, 0.0260, freq, accrual); swaps.append(swap)\n",
    "swap = TuringIborSwap(settlementDate, \"4Y\", swapType, 0.0265, freq, accrual); swaps.append(swap)\n",
    "swap = TuringIborSwap(settlementDate, \"5Y\", swapType, 0.0270, freq, accrual); swaps.append(swap)"
   ]
  },
  {
   "cell_type": "code",
   "execution_count": 6,
   "metadata": {},
   "outputs": [],
   "source": [
    "liborCurve = TuringIborSingleCurve(valuationDate, depos, [], swaps)"
   ]
  },
  {
   "cell_type": "markdown",
   "metadata": {},
   "source": [
    "## Creating a Cap and Floor"
   ]
  },
  {
   "cell_type": "code",
   "execution_count": 9,
   "metadata": {},
   "outputs": [],
   "source": [
    "capType = TuringCapFloorTypes.CAP\n",
    "floorType = TuringCapFloorTypes.FLOOR"
   ]
  },
  {
   "cell_type": "code",
   "execution_count": 10,
   "metadata": {},
   "outputs": [],
   "source": [
    "strikeRate = 0.02"
   ]
  },
  {
   "cell_type": "code",
   "execution_count": 11,
   "metadata": {},
   "outputs": [],
   "source": [
    "cap = TuringIborCapFloor(settlementDate, \"2Y\", capType, strikeRate)\n",
    "flr = TuringIborCapFloor(settlementDate, \"2Y\", floorType, strikeRate)"
   ]
  },
  {
   "cell_type": "code",
   "execution_count": 12,
   "metadata": {},
   "outputs": [
    {
     "name": "stdout",
     "output_type": "stream",
     "text": [
      "OBJECT TYPE: TuringIborCapFloor\n",
      "START DATE: 08-JUN-2018\n",
      "MATURITY DATE: 08-JUN-2020\n",
      "STRIKE COUPON: 2.0\n",
      "OPTION TYPE: TuringCapFloorTypes.CAP\n",
      "FREQUENCY: TuringFrequencyTypes.QUARTERLY\n",
      "DAY COUNT: TuringDayCountTypes.THIRTY_E_360_ISDA\n"
     ]
    }
   ],
   "source": [
    "print(cap)"
   ]
  },
  {
   "cell_type": "code",
   "execution_count": 13,
   "metadata": {},
   "outputs": [
    {
     "name": "stdout",
     "output_type": "stream",
     "text": [
      "OBJECT TYPE: TuringIborCapFloor\n",
      "START DATE: 08-JUN-2018\n",
      "MATURITY DATE: 08-JUN-2020\n",
      "STRIKE COUPON: 2.0\n",
      "OPTION TYPE: TuringCapFloorTypes.FLOOR\n",
      "FREQUENCY: TuringFrequencyTypes.QUARTERLY\n",
      "DAY COUNT: TuringDayCountTypes.THIRTY_E_360_ISDA\n"
     ]
    }
   ],
   "source": [
    "print(flr)"
   ]
  },
  {
   "cell_type": "markdown",
   "metadata": {},
   "source": [
    "# Valuation"
   ]
  },
  {
   "cell_type": "markdown",
   "metadata": {},
   "source": [
    "### Black's Model"
   ]
  },
  {
   "cell_type": "markdown",
   "metadata": {},
   "source": [
    "We start with Black's model with 25% volatility"
   ]
  },
  {
   "cell_type": "code",
   "execution_count": 14,
   "metadata": {},
   "outputs": [],
   "source": [
    "model = TuringModelBlack(0.25)"
   ]
  },
  {
   "cell_type": "code",
   "execution_count": 15,
   "metadata": {},
   "outputs": [
    {
     "data": {
      "text/plain": [
       "11364.358596518792"
      ]
     },
     "execution_count": 15,
     "metadata": {},
     "output_type": "execute_result"
    }
   ],
   "source": [
    "cap.value(valuationDate, liborCurve, model)"
   ]
  },
  {
   "cell_type": "code",
   "execution_count": 16,
   "metadata": {},
   "outputs": [
    {
     "data": {
      "text/plain": [
       "830.1408120616613"
      ]
     },
     "execution_count": 16,
     "metadata": {},
     "output_type": "execute_result"
    }
   ],
   "source": [
    "flr.value(valuationDate, liborCurve, model)"
   ]
  },
  {
   "cell_type": "code",
   "execution_count": 17,
   "metadata": {},
   "outputs": [
    {
     "name": "stdout",
     "output_type": "stream",
     "text": [
      "START DATE: 08-JUN-2018\n",
      "MATURITY DATE: 08-JUN-2020\n",
      "OPTION TYPE TuringCapFloorTypes.CAP\n",
      "STRIKE (%): 2.0\n",
      "FREQUENCY: TuringFrequencyTypes.QUARTERLY\n",
      "DAY COUNT: TuringDayCountTypes.THIRTY_E_360_ISDA\n",
      "VALUATION DATE 06-JUN-2018\n",
      "PAYMENT_DATE     YEAR_FRAC   FWD_RATE    INTRINSIC           DF    CAPLET_PV       CUM_PV\n",
      "    08-JUN-2018          -         -            -     1.000000            -            -\n",
      "    10-SEP-2018  0.2555556   2.29838       757.99     0.994034       757.99       757.99\n",
      "    10-DEC-2018  0.2500000   2.28739       710.13     0.988382       760.00      1517.99\n",
      "    08-MAR-2019  0.2444444   2.29062       698.24     0.982878       815.49      2333.48\n",
      "    10-JUN-2019  0.2555556   3.08483      2703.56     0.975190      2714.74      5048.22\n",
      "    09-SEP-2019  0.2472222   2.60810      1456.67     0.968943      1558.15      6606.37\n",
      "    09-DEC-2019  0.2500000   2.57912      1393.85     0.962735      1544.42      8150.79\n",
      "    09-MAR-2020  0.2500000   2.57912      1384.92     0.956568      1573.61      9724.39\n",
      "    08-JUN-2020  0.2472222   2.60810      1428.85     0.950439      1639.96     11364.36\n"
     ]
    }
   ],
   "source": [
    "cap.printLeg()"
   ]
  },
  {
   "cell_type": "markdown",
   "metadata": {},
   "source": [
    "# Alternative Models"
   ]
  },
  {
   "cell_type": "markdown",
   "metadata": {},
   "source": [
    "## Shifted Black"
   ]
  },
  {
   "cell_type": "markdown",
   "metadata": {},
   "source": [
    "Shifted Black gives the same pdf at F+S as Black does at F. So if we want to have the PDF for F=0.25 at -0.25 because rates are negative then you need to set F=-0.50."
   ]
  },
  {
   "cell_type": "code",
   "execution_count": 18,
   "metadata": {},
   "outputs": [],
   "source": [
    "model = TuringModelBlackShifted(0.25, -0.005)"
   ]
  },
  {
   "cell_type": "code",
   "execution_count": 19,
   "metadata": {},
   "outputs": [
    {
     "data": {
      "text/plain": [
       "10931.197435082488"
      ]
     },
     "execution_count": 19,
     "metadata": {},
     "output_type": "execute_result"
    }
   ],
   "source": [
    "cap.value(valuationDate, liborCurve, model)"
   ]
  },
  {
   "cell_type": "code",
   "execution_count": 20,
   "metadata": {},
   "outputs": [
    {
     "data": {
      "text/plain": [
       "396.9796506253582"
      ]
     },
     "execution_count": 20,
     "metadata": {},
     "output_type": "execute_result"
    }
   ],
   "source": [
    "flr.value(valuationDate, liborCurve, model)"
   ]
  },
  {
   "cell_type": "markdown",
   "metadata": {},
   "source": [
    "The floor has increased in value as the downside risk is greater."
   ]
  },
  {
   "cell_type": "markdown",
   "metadata": {},
   "source": [
    "## SABR Model"
   ]
  },
  {
   "cell_type": "code",
   "execution_count": 21,
   "metadata": {},
   "outputs": [],
   "source": [
    "alpha = 0.037; beta = 0.5; rho  = 0.1; nu = 0.573"
   ]
  },
  {
   "cell_type": "code",
   "execution_count": 22,
   "metadata": {},
   "outputs": [],
   "source": [
    "model = TuringModelSABR(alpha, beta, rho, nu)"
   ]
  },
  {
   "cell_type": "code",
   "execution_count": 23,
   "metadata": {},
   "outputs": [
    {
     "data": {
      "text/plain": [
       "11467.46038874577"
      ]
     },
     "execution_count": 23,
     "metadata": {},
     "output_type": "execute_result"
    }
   ],
   "source": [
    "cap.value(valuationDate, liborCurve, model)"
   ]
  },
  {
   "cell_type": "code",
   "execution_count": 24,
   "metadata": {},
   "outputs": [
    {
     "data": {
      "text/plain": [
       "933.2426042886418"
      ]
     },
     "execution_count": 24,
     "metadata": {},
     "output_type": "execute_result"
    }
   ],
   "source": [
    "flr.value(valuationDate, liborCurve, model)"
   ]
  },
  {
   "cell_type": "markdown",
   "metadata": {},
   "source": [
    "## Shifted SABR Model"
   ]
  },
  {
   "cell_type": "code",
   "execution_count": 25,
   "metadata": {},
   "outputs": [],
   "source": [
    "alpha = 0.037; beta = 0.5; rho  = 0.1; nu = 0.573; shift = -0.005"
   ]
  },
  {
   "cell_type": "code",
   "execution_count": 26,
   "metadata": {},
   "outputs": [],
   "source": [
    "model = TuringModelSABRShifted(alpha, beta, rho, nu, shift)"
   ]
  },
  {
   "cell_type": "code",
   "execution_count": 27,
   "metadata": {},
   "outputs": [
    {
     "data": {
      "text/plain": [
       "11834.498534976763"
      ]
     },
     "execution_count": 27,
     "metadata": {},
     "output_type": "execute_result"
    }
   ],
   "source": [
    "cap.value(valuationDate, liborCurve, model)"
   ]
  },
  {
   "cell_type": "code",
   "execution_count": 28,
   "metadata": {},
   "outputs": [
    {
     "data": {
      "text/plain": [
       "1300.2807505196336"
      ]
     },
     "execution_count": 28,
     "metadata": {},
     "output_type": "execute_result"
    }
   ],
   "source": [
    "flr.value(valuationDate, liborCurve, model)"
   ]
  },
  {
   "cell_type": "markdown",
   "metadata": {},
   "source": [
    "## Hull White Model"
   ]
  },
  {
   "cell_type": "code",
   "execution_count": 29,
   "metadata": {},
   "outputs": [],
   "source": [
    "sigma = 0.01; alpha = 0.005"
   ]
  },
  {
   "cell_type": "code",
   "execution_count": 30,
   "metadata": {},
   "outputs": [],
   "source": [
    "model = TuringModelRatesHW(sigma, alpha)"
   ]
  },
  {
   "cell_type": "code",
   "execution_count": 31,
   "metadata": {},
   "outputs": [
    {
     "data": {
      "text/plain": [
       "14292.202257995175"
      ]
     },
     "execution_count": 31,
     "metadata": {},
     "output_type": "execute_result"
    }
   ],
   "source": [
    "cap.value(valuationDate, liborCurve, model)"
   ]
  },
  {
   "cell_type": "code",
   "execution_count": 32,
   "metadata": {},
   "outputs": [
    {
     "data": {
      "text/plain": [
       "2773.738790002051"
      ]
     },
     "execution_count": 32,
     "metadata": {},
     "output_type": "execute_result"
    }
   ],
   "source": [
    "flr.value(valuationDate, liborCurve, model)"
   ]
  },
  {
   "cell_type": "markdown",
   "metadata": {},
   "source": [
    "Copyright (c) 2020 Dominic O'Kane"
   ]
  }
 ],
 "metadata": {
  "kernelspec": {
   "display_name": "Python 3",
   "language": "python",
   "name": "python3"
  },
  "language_info": {
   "codemirror_mode": {
    "name": "ipython",
    "version": 3
   },
   "file_extension": ".py",
   "mimetype": "text/x-python",
   "name": "python",
   "nbconvert_exporter": "python",
   "pygments_lexer": "ipython3",
   "version": "3.8.5"
  }
 },
 "nbformat": 4,
 "nbformat_minor": 4
}
