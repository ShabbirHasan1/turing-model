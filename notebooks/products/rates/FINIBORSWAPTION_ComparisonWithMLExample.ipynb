{
 "cells": [
  {
   "cell_type": "markdown",
   "metadata": {},
   "source": [
    "# Valuing European-Style Swaptions with Matlab Example"
   ]
  },
  {
   "cell_type": "markdown",
   "metadata": {},
   "source": [
    "We value a European swaption using Black's model and try to replicate a ML example at https://fr.mathworks.com/help/fininst/swaptionbyblk.html"
   ]
  },
  {
   "cell_type": "code",
   "execution_count": 1,
   "metadata": {},
   "outputs": [],
   "source": [
    "import numpy as np\n",
    "import matplotlib.pyplot as plt"
   ]
  },
  {
   "cell_type": "code",
   "execution_count": 2,
   "metadata": {},
   "outputs": [
    {
     "name": "stdout",
     "output_type": "stream",
     "text": [
      "####################################################################\n",
      "# FINANCEPY BETA Version 0.191 - This build:  17 Jan 2021 at 18:30 #\n",
      "#      This software is distributed FREE & WITHOUT ANY WARRANTY    #\n",
      "# For info and disclaimer - https://github.com/domokane/FinancePy  #\n",
      "#      Send any bug reports or comments to quant@financepy.com     #\n",
      "####################################################################\n",
      "\n"
     ]
    }
   ],
   "source": [
    "from financepy.products.rates import *\n",
    "from financepy.finutils import *\n",
    "from financepy.market.curves import *\n",
    "from financepy.market.curves.TuringDiscountCurveFlat import TuringDiscountCurveFlat\n",
    "from financepy.market.curves.FinInterpolator import FinInterpTypes"
   ]
  },
  {
   "cell_type": "code",
   "execution_count": 3,
   "metadata": {},
   "outputs": [],
   "source": [
    "valuationDate = TuringDate(1, 1, 2010)"
   ]
  },
  {
   "cell_type": "code",
   "execution_count": 4,
   "metadata": {},
   "outputs": [],
   "source": [
    "liborCurve = TuringDiscountCurveFlat(valuationDate, 0.06, \n",
    "                                  TuringFrequencyTypes.CONTINUOUS, \n",
    "                                  TuringDayCountTypes.THIRTY_E_360)"
   ]
  },
  {
   "cell_type": "markdown",
   "metadata": {},
   "source": [
    "### Defining the swaption"
   ]
  },
  {
   "cell_type": "code",
   "execution_count": 5,
   "metadata": {},
   "outputs": [],
   "source": [
    "settlementDate = TuringDate(1, 1, 2011)\n",
    "exerciseDate = TuringDate(1, 1, 2016)\n",
    "maturityDate = TuringDate(1, 1, 2019)\n",
    "fixedCoupon = 0.062\n",
    "fixedFrequencyType = TuringFrequencyTypes.SEMI_ANNUAL\n",
    "fixedDayCountType = TuringDayCountTypes.THIRTY_E_360\n",
    "floatFrequencyType = TuringFrequencyTypes.SEMI_ANNUAL\n",
    "floatDayCountType = TuringDayCountTypes.THIRTY_E_360\n",
    "notional = 100.0\n",
    "swapType = TuringSwapTypes.PAY  \n",
    "calendarType = TuringCalendarTypes.NONE\n",
    "busDayAdjustType = TuringBusDayAdjustTypes.NONE\n",
    "dateGenRuleType = TuringDateGenRuleTypes.BACKWARD"
   ]
  },
  {
   "cell_type": "code",
   "execution_count": 6,
   "metadata": {},
   "outputs": [],
   "source": [
    "swaption = FinIborSwaption(settlementDate, \n",
    "                            exerciseDate,\n",
    "                            maturityDate,\n",
    "                            swapType,\n",
    "                            fixedCoupon,\n",
    "                            fixedFrequencyType,\n",
    "                            fixedDayCountType, \n",
    "                            notional, \n",
    "                            floatFrequencyType,\n",
    "                            floatDayCountType,\n",
    "                            calendarType, \n",
    "                            busDayAdjustType,\n",
    "                            dateGenRuleType)"
   ]
  },
  {
   "cell_type": "code",
   "execution_count": 7,
   "metadata": {},
   "outputs": [
    {
     "name": "stdout",
     "output_type": "stream",
     "text": [
      "OBJECT TYPE: FinIborSwaption\n",
      "SETTLEMENT DATE: 01-JAN-2011\n",
      "EXERCISE DATE: 01-JAN-2016\n",
      "SWAP FIXED LEG TYPE: TuringSwapTypes.PAY\n",
      "SWAP MATURITY DATE: 01-JAN-2019\n",
      "SWAP NOTIONAL: 100.0\n",
      "FIXED COUPON: 6.2\n",
      "FIXED FREQUENCY: TuringFrequencyTypes.SEMI_ANNUAL\n",
      "FIXED DAY COUNT: TuringDayCountTypes.THIRTY_E_360\n",
      "FLOAT FREQUENCY: TuringFrequencyTypes.SEMI_ANNUAL\n",
      "FLOAT DAY COUNT: TuringDayCountTypes.THIRTY_E_360\n",
      "\n"
     ]
    }
   ],
   "source": [
    "print(swaption)"
   ]
  },
  {
   "cell_type": "markdown",
   "metadata": {},
   "source": [
    "## Valuation using Black's Model"
   ]
  },
  {
   "cell_type": "code",
   "execution_count": 8,
   "metadata": {},
   "outputs": [],
   "source": [
    "model = FinModelBlack(0.20)"
   ]
  },
  {
   "cell_type": "code",
   "execution_count": 9,
   "metadata": {},
   "outputs": [
    {
     "data": {
      "text/plain": [
       "2.0715673101223606"
      ]
     },
     "execution_count": 9,
     "metadata": {},
     "output_type": "execute_result"
    }
   ],
   "source": [
    "swaption.value(valuationDate, liborCurve, model)"
   ]
  },
  {
   "cell_type": "markdown",
   "metadata": {},
   "source": [
    "The MATLAB price is 2.071. "
   ]
  },
  {
   "cell_type": "code",
   "execution_count": 10,
   "metadata": {},
   "outputs": [
    {
     "name": "stdout",
     "output_type": "stream",
     "text": [
      "OBJECT TYPE: FinIborSwaption\n",
      "SETTLEMENT DATE: 01-JAN-2011\n",
      "EXERCISE DATE: 01-JAN-2016\n",
      "SWAP FIXED LEG TYPE: TuringSwapTypes.PAY\n",
      "SWAP MATURITY DATE: 01-JAN-2019\n",
      "SWAP NOTIONAL: 100.0\n",
      "FIXED COUPON: 6.2\n",
      "FIXED FREQUENCY: TuringFrequencyTypes.SEMI_ANNUAL\n",
      "FIXED DAY COUNT: TuringDayCountTypes.THIRTY_E_360\n",
      "FLOAT FREQUENCY: TuringFrequencyTypes.SEMI_ANNUAL\n",
      "FLOAT DAY COUNT: TuringDayCountTypes.THIRTY_E_360\n",
      "PV01: 1.8868795344638085\n",
      "FWD SWAP RATE: 6.090906790703007\n",
      "FWD DF TO EXPIRY: 0.697676326071031\n"
     ]
    }
   ],
   "source": [
    "print(swaption)"
   ]
  },
  {
   "cell_type": "markdown",
   "metadata": {},
   "source": [
    "We can see that the forward swap rate almost equals the fixed coupon. The underlying swap is close to being ATM forward."
   ]
  },
  {
   "cell_type": "code",
   "execution_count": 11,
   "metadata": {},
   "outputs": [
    {
     "name": "stdout",
     "output_type": "stream",
     "text": [
      "START DATE: 01-JAN-2016\n",
      "MATURITY DATE: 01-JAN-2019\n",
      "COUPON (%): 6.2\n",
      "FREQUENCY: TuringFrequencyTypes.SEMI_ANNUAL\n",
      "DAY COUNT: TuringDayCountTypes.THIRTY_E_360\n",
      "PAY_DATE     ACCR_START   ACCR_END     DAYS  YEARFRAC    RATE      PAYMENT       DF          PV        CUM PV\n",
      "01-JUL-2016  01-JAN-2016  01-JUL-2016   180  0.500000   6.20000         3.10  0.67705687         2.10         2.10\n",
      "01-JAN-2017  01-JUL-2016  01-JAN-2017   180  0.500000   6.20000         3.10  0.65704682         2.04         4.14\n",
      "01-JUL-2017  01-JAN-2017  01-JUL-2017   180  0.500000   6.20000         3.10  0.63762815         1.98         6.11\n",
      "01-JAN-2018  01-JUL-2017  01-JAN-2018   180  0.500000   6.20000         3.10  0.61878339         1.92         8.03\n",
      "01-JUL-2018  01-JAN-2018  01-JUL-2018   180  0.500000   6.20000         3.10  0.60049558         1.86         9.89\n",
      "01-JAN-2019  01-JUL-2018  01-JAN-2019   180  0.500000   6.20000         3.10  0.58274825         1.81        11.70\n"
     ]
    }
   ],
   "source": [
    "swaption.printSwapFixedLeg()"
   ]
  },
  {
   "cell_type": "markdown",
   "metadata": {},
   "source": [
    "## Increasing Yield Curve"
   ]
  },
  {
   "cell_type": "code",
   "execution_count": 12,
   "metadata": {},
   "outputs": [],
   "source": [
    "valuationDate = TuringDate(1, 1, 2010)"
   ]
  },
  {
   "cell_type": "code",
   "execution_count": 13,
   "metadata": {},
   "outputs": [],
   "source": [
    "dates = [TuringDate(1,1,2011), TuringDate(1,1,2012), TuringDate(1,1,2013),\n",
    "         TuringDate(1,1,2014), TuringDate(1,1,2015)]\n",
    "rates = [0.03, 0.034, 0.037, 0.039, 0.04]\n",
    "\n",
    "frequencyType = TuringFrequencyTypes.CONTINUOUS\n",
    "dayCountType = TuringDayCountTypes.THIRTY_E_360"
   ]
  },
  {
   "cell_type": "code",
   "execution_count": 14,
   "metadata": {},
   "outputs": [],
   "source": [
    "liborCurve = TuringDiscountCurveZeros(valuationDate, dates, rates, frequencyType, \n",
    "                                   dayCountType, FinInterpTypes.LINEAR_ZERO_RATES)"
   ]
  },
  {
   "cell_type": "code",
   "execution_count": 15,
   "metadata": {},
   "outputs": [
    {
     "name": "stdout",
     "output_type": "stream",
     "text": [
      "OBJECT TYPE: TuringDiscountCurveZeros\n",
      "VALUATION DATE: 01-JAN-2010\n",
      "FREQUENCY TYPE: TuringFrequencyTypes.CONTINUOUS\n",
      "DAY COUNT TYPE: TuringDayCountTypes.THIRTY_E_360\n",
      "INTERP TYPE: FinInterpTypes.LINEAR_ZERO_RATES\n",
      "DATES: ZERO RATES\n",
      " 01-JAN-2011:  0.0300000\n",
      " 01-JAN-2012:  0.0340000\n",
      " 01-JAN-2013:  0.0370000\n",
      " 01-JAN-2014:  0.0390000\n",
      " 01-JAN-2015:  0.0400000\n",
      "\n"
     ]
    }
   ],
   "source": [
    "print(liborCurve)"
   ]
  },
  {
   "cell_type": "code",
   "execution_count": 18,
   "metadata": {},
   "outputs": [],
   "source": [
    "settlementDate = TuringDate(1, 1, 2011)\n",
    "exerciseDate = TuringDate(1, 1, 2012)\n",
    "maturityDate = TuringDate(1, 1, 2017)\n",
    "fixedCoupon = 0.03\n",
    "fixedFrequencyType = TuringFrequencyTypes.SEMI_ANNUAL\n",
    "fixedDayCountType = TuringDayCountTypes.THIRTY_E_360\n",
    "notional = 1000.0\n",
    "swaptionType = TuringSwapTypes.RECEIVE  "
   ]
  },
  {
   "cell_type": "code",
   "execution_count": 19,
   "metadata": {},
   "outputs": [],
   "source": [
    "swaption = FinIborSwaption(settlementDate, \n",
    "                            exerciseDate,\n",
    "                            maturityDate,\n",
    "                            swaptionType,\n",
    "                            fixedCoupon,\n",
    "                            fixedFrequencyType,\n",
    "                            fixedDayCountType, \n",
    "                            notional)"
   ]
  },
  {
   "cell_type": "code",
   "execution_count": 20,
   "metadata": {},
   "outputs": [],
   "source": [
    "model = FinModelBlack(0.21)"
   ]
  },
  {
   "cell_type": "code",
   "execution_count": 21,
   "metadata": {},
   "outputs": [
    {
     "data": {
      "text/plain": [
       "0.5775558943650441"
      ]
     },
     "execution_count": 21,
     "metadata": {},
     "output_type": "execute_result"
    }
   ],
   "source": [
    "swaption.value(valuationDate, liborCurve, model)"
   ]
  },
  {
   "cell_type": "markdown",
   "metadata": {},
   "source": [
    "This differs from Matlab who find 0.5771."
   ]
  },
  {
   "cell_type": "code",
   "execution_count": 22,
   "metadata": {},
   "outputs": [
    {
     "name": "stdout",
     "output_type": "stream",
     "text": [
      "OBJECT TYPE: FinIborSwaption\n",
      "SETTLEMENT DATE: 01-JAN-2011\n",
      "EXERCISE DATE: 01-JAN-2012\n",
      "SWAP FIXED LEG TYPE: TuringSwapTypes.RECEIVE\n",
      "SWAP MATURITY DATE: 01-JAN-2017\n",
      "SWAP NOTIONAL: 1000.0\n",
      "FIXED COUPON: 3.0\n",
      "FIXED FREQUENCY: TuringFrequencyTypes.SEMI_ANNUAL\n",
      "FIXED DAY COUNT: TuringDayCountTypes.THIRTY_E_360\n",
      "FLOAT FREQUENCY: TuringFrequencyTypes.QUARTERLY\n",
      "FLOAT DAY COUNT: TuringDayCountTypes.THIRTY_E_360\n",
      "PV01: 4.158509036040892\n",
      "FWD SWAP RATE: 4.293863542920198\n",
      "FWD DF TO EXPIRY: 0.9342604735772135\n"
     ]
    }
   ],
   "source": [
    "print(swaption)"
   ]
  },
  {
   "cell_type": "markdown",
   "metadata": {},
   "source": [
    "Let's just check the swap rate"
   ]
  },
  {
   "cell_type": "code",
   "execution_count": 24,
   "metadata": {},
   "outputs": [
    {
     "data": {
      "text/plain": [
       "0.042938635429201975"
      ]
     },
     "execution_count": 24,
     "metadata": {},
     "output_type": "execute_result"
    }
   ],
   "source": [
    "liborCurve.swapRate(exerciseDate, \n",
    "                   maturityDate,\n",
    "                   TuringFrequencyTypes.SEMI_ANNUAL, \n",
    "                   TuringDayCountTypes.THIRTY_E_360)"
   ]
  },
  {
   "cell_type": "markdown",
   "metadata": {},
   "source": [
    "As required, it's the same."
   ]
  },
  {
   "cell_type": "code",
   "execution_count": 25,
   "metadata": {},
   "outputs": [
    {
     "name": "stdout",
     "output_type": "stream",
     "text": [
      "START DATE: 01-JAN-2012\n",
      "MATURITY DATE: 02-JAN-2017\n",
      "COUPON (%): 3.0\n",
      "FREQUENCY: TuringFrequencyTypes.SEMI_ANNUAL\n",
      "DAY COUNT: TuringDayCountTypes.THIRTY_E_360\n",
      "PAY_DATE     ACCR_START   ACCR_END     DAYS  YEARFRAC    RATE      PAYMENT       DF          PV        CUM PV\n",
      "02-JUL-2012  01-JAN-2012  02-JUL-2012   181  0.502778   3.00000        15.08  0.91496500        13.80        13.80\n",
      "01-JAN-2013  02-JUL-2012  01-JAN-2013   179  0.497222   3.00000        14.92  0.89493875        13.35        27.15\n",
      "01-JUL-2013  01-JAN-2013  01-JUL-2013   180  0.500000   3.00000        15.00  0.87546509        13.13        40.28\n",
      "01-JAN-2014  01-JUL-2013  01-JAN-2014   180  0.500000   3.00000        15.00  0.85555919        12.83        53.12\n",
      "01-JUL-2014  01-JAN-2014  01-JUL-2014   180  0.500000   3.00000        15.00  0.83715169        12.56        65.67\n",
      "01-JAN-2015  01-JUL-2014  01-JAN-2015   180  0.500000   3.00000        15.00  0.81873075        12.28        77.95\n",
      "01-JUL-2015  01-JAN-2015  01-JUL-2015   180  0.500000   3.00000        15.00  0.80251880        12.04        89.99\n",
      "01-JAN-2016  01-JUL-2015  01-JAN-2016   180  0.500000   3.00000        15.00  0.78662786        11.80       101.79\n",
      "01-JUL-2016  01-JAN-2016  01-JUL-2016   180  0.500000   3.00000        15.00  0.77105159        11.57       113.36\n",
      "02-JAN-2017  01-JUL-2016  02-JAN-2017   181  0.502778   3.00000        15.08  0.75569977        11.40       124.76\n"
     ]
    }
   ],
   "source": [
    "swaption.printSwapFixedLeg()"
   ]
  },
  {
   "cell_type": "markdown",
   "metadata": {},
   "source": [
    "Differences with Matlab are likely due to rate compounding or calculation of time used in volatility calculations."
   ]
  },
  {
   "cell_type": "markdown",
   "metadata": {},
   "source": [
    "Copyright (c) 2020 Dominic O'Kane"
   ]
  }
 ],
 "metadata": {
  "kernelspec": {
   "display_name": "Python 3",
   "language": "python",
   "name": "python3"
  },
  "language_info": {
   "codemirror_mode": {
    "name": "ipython",
    "version": 3
   },
   "file_extension": ".py",
   "mimetype": "text/x-python",
   "name": "python",
   "nbconvert_exporter": "python",
   "pygments_lexer": "ipython3",
   "version": "3.8.5"
  }
 },
 "nbformat": 4,
 "nbformat_minor": 4
}
