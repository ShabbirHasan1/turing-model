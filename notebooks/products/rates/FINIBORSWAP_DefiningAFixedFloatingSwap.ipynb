{
 "cells": [
  {
   "cell_type": "markdown",
   "metadata": {},
   "source": [
    "# Defining a Fixed-Floating Interest Rate Swap"
   ]
  },
  {
   "cell_type": "markdown",
   "metadata": {},
   "source": [
    "Simple introduction to the inputs required to define a Ibor deposit and a FRA"
   ]
  },
  {
   "cell_type": "code",
   "execution_count": 1,
   "metadata": {},
   "outputs": [
    {
     "name": "stdout",
     "output_type": "stream",
     "text": [
      "####################################################################\n",
      "# FINANCEPY BETA Version 0.191 - This build:  17 Jan 2021 at 21:17 #\n",
      "#      This software is distributed FREE & WITHOUT ANY WARRANTY    #\n",
      "# For info and disclaimer - https://github.com/domokane/FinancePy  #\n",
      "#      Send any bug reports or comments to quant@financepy.com     #\n",
      "####################################################################\n",
      "\n"
     ]
    }
   ],
   "source": [
    "from financepy.finutils import *\n",
    "from financepy.products.rates import *"
   ]
  },
  {
   "cell_type": "markdown",
   "metadata": {},
   "source": [
    "## Creating the Swap"
   ]
  },
  {
   "cell_type": "markdown",
   "metadata": {},
   "source": [
    "We begin by setting the market conventions we wish to use."
   ]
  },
  {
   "cell_type": "code",
   "execution_count": 2,
   "metadata": {},
   "outputs": [],
   "source": [
    "swapCalendarType = TuringCalendarTypes.TARGET\n",
    "busDayAdjustType = TuringBusDayAdjustTypes.FOLLOWING\n",
    "dateGenRuleType = TuringDateGenRuleTypes.BACKWARD"
   ]
  },
  {
   "cell_type": "markdown",
   "metadata": {},
   "source": [
    "We then define the Fixed Leg"
   ]
  },
  {
   "cell_type": "code",
   "execution_count": 3,
   "metadata": {},
   "outputs": [],
   "source": [
    "fixedCoupon = 0.05\n",
    "fixedFreqType = TuringFrequencyTypes.ANNUAL\n",
    "fixedDayCountType = TuringDayCountTypes.ACT_360"
   ]
  },
  {
   "cell_type": "markdown",
   "metadata": {},
   "source": [
    "And then we define the Floating Leg"
   ]
  },
  {
   "cell_type": "code",
   "execution_count": 4,
   "metadata": {},
   "outputs": [],
   "source": [
    "floatSpread = 0.0\n",
    "floatFreqType = TuringFrequencyTypes.SEMI_ANNUAL\n",
    "floatDayCountType = TuringDayCountTypes.ACT_360"
   ]
  },
  {
   "cell_type": "markdown",
   "metadata": {},
   "source": [
    "We need to specify the size and direction of the swap."
   ]
  },
  {
   "cell_type": "code",
   "execution_count": 5,
   "metadata": {},
   "outputs": [],
   "source": [
    "swapType = TuringSwapTypes.RECEIVE\n",
    "notional = 10 * ONE_MILLION"
   ]
  },
  {
   "cell_type": "markdown",
   "metadata": {},
   "source": [
    "And then we define when the swap begins and ends."
   ]
  },
  {
   "cell_type": "code",
   "execution_count": 6,
   "metadata": {},
   "outputs": [],
   "source": [
    "startDate = TuringDate(20, 6, 2018)\n",
    "maturityDate = TuringDate(20, 9, 2025)"
   ]
  },
  {
   "cell_type": "markdown",
   "metadata": {},
   "source": [
    "We can now create the swap object."
   ]
  },
  {
   "cell_type": "code",
   "execution_count": 7,
   "metadata": {},
   "outputs": [],
   "source": [
    "swap = FinIborSwap(startDate,\n",
    "                    maturityDate,\n",
    "                    swapType,\n",
    "                    fixedCoupon,\n",
    "                    fixedFreqType,\n",
    "                    fixedDayCountType,\n",
    "                    notional,\n",
    "                    floatSpread,\n",
    "                    floatFreqType,\n",
    "                    floatDayCountType,\n",
    "                    swapCalendarType,\n",
    "                    busDayAdjustType,\n",
    "                    dateGenRuleType)"
   ]
  },
  {
   "cell_type": "code",
   "execution_count": 8,
   "metadata": {},
   "outputs": [
    {
     "name": "stdout",
     "output_type": "stream",
     "text": [
      "OBJECT TYPE: FinIborSwap\n",
      "OBJECT TYPE: FinFixedLeg\n",
      "START DATE: 20-JUN-2018\n",
      "TERMINATION DATE: 20-SEP-2025\n",
      "MATURITY DATE: 22-SEP-2025\n",
      "NOTIONAL: 10000000\n",
      "PRINCIPAL: 0.0\n",
      "LEG TYPE: TuringSwapTypes.RECEIVE\n",
      "COUPON: 0.05\n",
      "FREQUENCY: TuringFrequencyTypes.ANNUAL\n",
      "DAY COUNT: TuringDayCountTypes.ACT_360\n",
      "CALENDAR: TuringCalendarTypes.TARGET\n",
      "BUS DAY ADJUST: TuringBusDayAdjustTypes.FOLLOWING\n",
      "DATE GEN TYPE: TuringDateGenRuleTypes.BACKWARD\n",
      "\n",
      "OBJECT TYPE: FinFloatLeg\n",
      "START DATE: 20-JUN-2018\n",
      "TERMINATION DATE: 20-SEP-2025\n",
      "MATURITY DATE: 22-SEP-2025\n",
      "NOTIONAL: 10000000\n",
      "SWAP TYPE: TuringSwapTypes.PAY\n",
      "SPREAD (BPS): 0.0\n",
      "FREQUENCY: TuringFrequencyTypes.SEMI_ANNUAL\n",
      "DAY COUNT: TuringDayCountTypes.ACT_360\n",
      "CALENDAR: TuringCalendarTypes.TARGET\n",
      "BUS DAY ADJUST: TuringBusDayAdjustTypes.FOLLOWING\n",
      "DATE GEN TYPE: TuringDateGenRuleTypes.BACKWARD\n",
      "\n"
     ]
    }
   ],
   "source": [
    "print(swap)"
   ]
  },
  {
   "cell_type": "code",
   "execution_count": 9,
   "metadata": {},
   "outputs": [
    {
     "name": "stdout",
     "output_type": "stream",
     "text": [
      "START DATE: 20-JUN-2018\n",
      "MATURITY DATE: 22-SEP-2025\n",
      "COUPON (%): 5.0\n",
      "FREQUENCY: TuringFrequencyTypes.ANNUAL\n",
      "DAY COUNT: TuringDayCountTypes.ACT_360\n",
      "PAY_DATE     ACCR_START   ACCR_END      DAYS  YEARFRAC    RATE      PAYMENT \n",
      "20-SEP-2018  20-JUN-2018  20-SEP-2018    92  0.255556  5.000000    127777.78\n",
      "20-SEP-2019  20-SEP-2018  20-SEP-2019   365  1.013889  5.000000    506944.44\n",
      "21-SEP-2020  20-SEP-2019  21-SEP-2020   367  1.019444  5.000000    509722.22\n",
      "20-SEP-2021  21-SEP-2020  20-SEP-2021   364  1.011111  5.000000    505555.56\n",
      "20-SEP-2022  20-SEP-2021  20-SEP-2022   365  1.013889  5.000000    506944.44\n",
      "20-SEP-2023  20-SEP-2022  20-SEP-2023   365  1.013889  5.000000    506944.44\n",
      "20-SEP-2024  20-SEP-2023  20-SEP-2024   366  1.016667  5.000000    508333.33\n",
      "22-SEP-2025  20-SEP-2024  22-SEP-2025   367  1.019444  5.000000    509722.22\n",
      "START DATE: 20-JUN-2018\n",
      "MATURITY DATE: 22-SEP-2025\n",
      "SPREAD (bp): 0.0\n",
      "FREQUENCY: TuringFrequencyTypes.SEMI_ANNUAL\n",
      "DAY COUNT: TuringDayCountTypes.ACT_360\n",
      "PAY_DATE     ACCR_START   ACCR_END      DAYS  YEARFRAC\n",
      "20-SEP-2018  20-JUN-2018  20-SEP-2018    92  0.255556  \n",
      "20-MAR-2019  20-SEP-2018  20-MAR-2019   181  0.502778  \n",
      "20-SEP-2019  20-MAR-2019  20-SEP-2019   184  0.511111  \n",
      "20-MAR-2020  20-SEP-2019  20-MAR-2020   182  0.505556  \n",
      "21-SEP-2020  20-MAR-2020  21-SEP-2020   185  0.513889  \n",
      "22-MAR-2021  21-SEP-2020  22-MAR-2021   182  0.505556  \n",
      "20-SEP-2021  22-MAR-2021  20-SEP-2021   182  0.505556  \n",
      "21-MAR-2022  20-SEP-2021  21-MAR-2022   182  0.505556  \n",
      "20-SEP-2022  21-MAR-2022  20-SEP-2022   183  0.508333  \n",
      "20-MAR-2023  20-SEP-2022  20-MAR-2023   181  0.502778  \n",
      "20-SEP-2023  20-MAR-2023  20-SEP-2023   184  0.511111  \n",
      "20-MAR-2024  20-SEP-2023  20-MAR-2024   182  0.505556  \n",
      "20-SEP-2024  20-MAR-2024  20-SEP-2024   184  0.511111  \n",
      "20-MAR-2025  20-SEP-2024  20-MAR-2025   181  0.502778  \n",
      "22-SEP-2025  20-MAR-2025  22-SEP-2025   186  0.516667  \n"
     ]
    }
   ],
   "source": [
    "swap.printFlows()"
   ]
  },
  {
   "cell_type": "markdown",
   "metadata": {},
   "source": [
    "## Valuation"
   ]
  },
  {
   "cell_type": "code",
   "execution_count": 10,
   "metadata": {},
   "outputs": [],
   "source": [
    "valuationDate = TuringDate(20,3,2020)"
   ]
  },
  {
   "cell_type": "code",
   "execution_count": 11,
   "metadata": {},
   "outputs": [],
   "source": [
    "settlementDate = valuationDate.addWeekDays(0)"
   ]
  },
  {
   "cell_type": "markdown",
   "metadata": {},
   "source": [
    "This is just using a flat curve without any Ibor accrual factors."
   ]
  },
  {
   "cell_type": "code",
   "execution_count": 12,
   "metadata": {},
   "outputs": [],
   "source": [
    "from financepy.market.curves.TuringDiscountCurveFlat import TuringDiscountCurveFlat"
   ]
  },
  {
   "cell_type": "code",
   "execution_count": 13,
   "metadata": {},
   "outputs": [],
   "source": [
    "discountCurve = TuringDiscountCurveFlat(valuationDate, 0.05, TuringFrequencyTypes.SEMI_ANNUAL)"
   ]
  },
  {
   "cell_type": "markdown",
   "metadata": {},
   "source": [
    "Need to specify the next fixing on the floating leg"
   ]
  },
  {
   "cell_type": "code",
   "execution_count": 14,
   "metadata": {},
   "outputs": [
    {
     "data": {
      "text/plain": [
       "254993.1399350157"
      ]
     },
     "execution_count": 14,
     "metadata": {},
     "output_type": "execute_result"
    }
   ],
   "source": [
    "swap.value(settlementDate, discountCurve, discountCurve)"
   ]
  },
  {
   "cell_type": "markdown",
   "metadata": {},
   "source": [
    "We can examine the individual legs - here is the floating leg valuation"
   ]
  },
  {
   "cell_type": "code",
   "execution_count": 15,
   "metadata": {},
   "outputs": [
    {
     "name": "stdout",
     "output_type": "stream",
     "text": [
      "START DATE: 20-JUN-2018\n",
      "MATURITY DATE: 22-SEP-2025\n",
      "SPREAD (BPS): 0.0\n",
      "FREQUENCY: TuringFrequencyTypes.SEMI_ANNUAL\n",
      "DAY COUNT: TuringDayCountTypes.ACT_360\n",
      "PAY_DATE     ACCR_START   ACCR_END     DAYS  YEARFRAC    IBOR      PAYMENT       DF          PV        CUM PV\n",
      "20-SEP-2018  20-JUN-2018  20-SEP-2018    92  0.255556    0.00000         0.00  0.00000000         0.00         0.00\n",
      "20-MAR-2019  20-SEP-2018  20-MAR-2019   181  0.502778    0.00000         0.00  0.00000000         0.00         0.00\n",
      "20-SEP-2019  20-MAR-2019  20-SEP-2019   184  0.511111    0.00000         0.00  0.00000000         0.00         0.00\n",
      "20-MAR-2020  20-SEP-2019  20-MAR-2020   182  0.505556    0.00000         0.00  0.00000000         0.00         0.00\n",
      "21-SEP-2020  20-MAR-2020  21-SEP-2020   185  0.513889    4.91870    252766.49  0.97534651    246534.91    246534.91\n",
      "22-MAR-2021  21-SEP-2020  22-MAR-2021   182  0.505556    4.92370    248920.14  0.95165783    236886.80    483421.71\n",
      "20-SEP-2021  22-MAR-2021  20-SEP-2021   182  0.505556    4.93134    249306.60  0.92850948    231483.54    714905.25\n",
      "21-MAR-2022  20-SEP-2021  21-MAR-2022   182  0.505556    4.93134    249306.60  0.90592419    225852.88    940758.13\n",
      "20-SEP-2022  21-MAR-2022  20-SEP-2022   183  0.508333    4.93167    250693.45  0.88376869    221555.02   1162313.14\n",
      "20-MAR-2023  20-SEP-2022  20-MAR-2023   181  0.502778    4.93100    247919.94  0.86238836    213803.27   1376116.42\n",
      "20-SEP-2023  20-MAR-2023  20-SEP-2023   184  0.511111    4.93201    252080.48  0.84118376    212046.00   1588162.42\n",
      "20-MAR-2024  20-SEP-2023  20-MAR-2024   182  0.505556    4.92542    249007.28  0.82074657    204371.87   1792534.29\n",
      "20-SEP-2024  20-MAR-2024  20-SEP-2024   184  0.511111    4.91837    251383.15  0.80062032    201262.46   1993796.75\n",
      "20-MAR-2025  20-SEP-2024  20-MAR-2025   181  0.502778    4.92324    247529.74  0.78128129    193390.36   2187187.11\n",
      "22-SEP-2025  20-MAR-2025  22-SEP-2025   186  0.516667    4.93268    254855.11  0.76186478    194165.13   2381352.24\n"
     ]
    }
   ],
   "source": [
    "swap.printFloatLegPV()"
   ]
  },
  {
   "cell_type": "markdown",
   "metadata": {},
   "source": [
    "And here is the fixed leg valuation"
   ]
  },
  {
   "cell_type": "code",
   "execution_count": 16,
   "metadata": {},
   "outputs": [
    {
     "name": "stdout",
     "output_type": "stream",
     "text": [
      "START DATE: 20-JUN-2018\n",
      "MATURITY DATE: 22-SEP-2025\n",
      "COUPON (%): 5.0\n",
      "FREQUENCY: TuringFrequencyTypes.ANNUAL\n",
      "DAY COUNT: TuringDayCountTypes.ACT_360\n",
      "PAY_DATE     ACCR_START   ACCR_END     DAYS  YEARFRAC    RATE      PAYMENT       DF          PV        CUM PV\n",
      "20-SEP-2018  20-JUN-2018  20-SEP-2018    92  0.255556   5.00000    127777.78  0.00000000         0.00         0.00\n",
      "20-SEP-2019  20-SEP-2018  20-SEP-2019   365  1.013889   5.00000    506944.44  0.00000000         0.00         0.00\n",
      "21-SEP-2020  20-SEP-2019  21-SEP-2020   367  1.019444   5.00000    509722.22  0.97534651    497155.79    497155.79\n",
      "20-SEP-2021  21-SEP-2020  20-SEP-2021   364  1.011111   5.00000    505555.56  0.92850948    469413.12    966568.91\n",
      "20-SEP-2022  20-SEP-2021  20-SEP-2022   365  1.013889   5.00000    506944.44  0.88376869    448021.63   1414590.54\n",
      "20-SEP-2023  20-SEP-2022  20-SEP-2023   365  1.013889   5.00000    506944.44  0.84118376    426433.43   1841023.97\n",
      "20-SEP-2024  20-SEP-2023  20-SEP-2024   366  1.016667   5.00000    508333.33  0.80062032    406982.00   2248005.97\n",
      "22-SEP-2025  20-SEP-2024  22-SEP-2025   367  1.019444   5.00000    509722.22  0.76186478    388339.41   2636345.38\n"
     ]
    }
   ],
   "source": [
    "swap.printFixedLegPV()"
   ]
  },
  {
   "cell_type": "code",
   "execution_count": 17,
   "metadata": {},
   "outputs": [
    {
     "data": {
      "text/plain": [
       "5.272690754192439"
      ]
     },
     "execution_count": 17,
     "metadata": {},
     "output_type": "execute_result"
    }
   ],
   "source": [
    "swap.pv01(valuationDate, discountCurve)"
   ]
  },
  {
   "cell_type": "code",
   "execution_count": 19,
   "metadata": {},
   "outputs": [
    {
     "data": {
      "text/plain": [
       "0.04516388971357023"
      ]
     },
     "execution_count": 19,
     "metadata": {},
     "output_type": "execute_result"
    }
   ],
   "source": [
    "swap.swapRate(valuationDate, discountCurve)"
   ]
  },
  {
   "cell_type": "markdown",
   "metadata": {},
   "source": [
    "## Including a final exchange of principal"
   ]
  },
  {
   "cell_type": "code",
   "execution_count": 27,
   "metadata": {},
   "outputs": [
    {
     "data": {
      "text/plain": [
       "254993.1399350157"
      ]
     },
     "execution_count": 27,
     "metadata": {},
     "output_type": "execute_result"
    }
   ],
   "source": [
    "swap.value(settlementDate, discountCurve, discountCurve)"
   ]
  },
  {
   "cell_type": "code",
   "execution_count": 28,
   "metadata": {},
   "outputs": [
    {
     "name": "stdout",
     "output_type": "stream",
     "text": [
      "START DATE: 20-JUN-2018\n",
      "MATURITY DATE: 22-SEP-2025\n",
      "SPREAD (BPS): 0.0\n",
      "FREQUENCY: TuringFrequencyTypes.SEMI_ANNUAL\n",
      "DAY COUNT: TuringDayCountTypes.ACT_360\n",
      "PAY_DATE     ACCR_START   ACCR_END     DAYS  YEARFRAC    IBOR      PAYMENT       DF          PV        CUM PV\n",
      "20-SEP-2018  20-JUN-2018  20-SEP-2018    92  0.255556    0.00000         0.00  0.00000000         0.00         0.00\n",
      "20-MAR-2019  20-SEP-2018  20-MAR-2019   181  0.502778    0.00000         0.00  0.00000000         0.00         0.00\n",
      "20-SEP-2019  20-MAR-2019  20-SEP-2019   184  0.511111    0.00000         0.00  0.00000000         0.00         0.00\n",
      "20-MAR-2020  20-SEP-2019  20-MAR-2020   182  0.505556    0.00000         0.00  0.00000000         0.00         0.00\n",
      "21-SEP-2020  20-MAR-2020  21-SEP-2020   185  0.513889    4.91870    252766.49  0.97534651    246534.91    246534.91\n",
      "22-MAR-2021  21-SEP-2020  22-MAR-2021   182  0.505556    4.92370    248920.14  0.95165783    236886.80    483421.71\n",
      "20-SEP-2021  22-MAR-2021  20-SEP-2021   182  0.505556    4.93134    249306.60  0.92850948    231483.54    714905.25\n",
      "21-MAR-2022  20-SEP-2021  21-MAR-2022   182  0.505556    4.93134    249306.60  0.90592419    225852.88    940758.13\n",
      "20-SEP-2022  21-MAR-2022  20-SEP-2022   183  0.508333    4.93167    250693.45  0.88376869    221555.02   1162313.14\n",
      "20-MAR-2023  20-SEP-2022  20-MAR-2023   181  0.502778    4.93100    247919.94  0.86238836    213803.27   1376116.42\n",
      "20-SEP-2023  20-MAR-2023  20-SEP-2023   184  0.511111    4.93201    252080.48  0.84118376    212046.00   1588162.42\n",
      "20-MAR-2024  20-SEP-2023  20-MAR-2024   182  0.505556    4.92542    249007.28  0.82074657    204371.87   1792534.29\n",
      "20-SEP-2024  20-MAR-2024  20-SEP-2024   184  0.511111    4.91837    251383.15  0.80062032    201262.46   1993796.75\n",
      "20-MAR-2025  20-SEP-2024  20-MAR-2025   181  0.502778    4.92324    247529.74  0.78128129    193390.36   2187187.11\n",
      "22-SEP-2025  20-MAR-2025  22-SEP-2025   186  0.516667    4.93268    254855.11  0.76186478    194165.13   2381352.24\n"
     ]
    }
   ],
   "source": [
    "swap.printFloatLegPV()"
   ]
  },
  {
   "cell_type": "markdown",
   "metadata": {},
   "source": [
    "As expected we see the final PV of the floating Leg is par (same index and discounting curve)."
   ]
  },
  {
   "cell_type": "code",
   "execution_count": 29,
   "metadata": {},
   "outputs": [
    {
     "name": "stdout",
     "output_type": "stream",
     "text": [
      "START DATE: 20-JUN-2018\n",
      "MATURITY DATE: 22-SEP-2025\n",
      "COUPON (%): 5.0\n",
      "FREQUENCY: TuringFrequencyTypes.ANNUAL\n",
      "DAY COUNT: TuringDayCountTypes.ACT_360\n",
      "PAY_DATE     ACCR_START   ACCR_END     DAYS  YEARFRAC    RATE      PAYMENT       DF          PV        CUM PV\n",
      "20-SEP-2018  20-JUN-2018  20-SEP-2018    92  0.255556   5.00000    127777.78  0.00000000         0.00         0.00\n",
      "20-SEP-2019  20-SEP-2018  20-SEP-2019   365  1.013889   5.00000    506944.44  0.00000000         0.00         0.00\n",
      "21-SEP-2020  20-SEP-2019  21-SEP-2020   367  1.019444   5.00000    509722.22  0.97534651    497155.79    497155.79\n",
      "20-SEP-2021  21-SEP-2020  20-SEP-2021   364  1.011111   5.00000    505555.56  0.92850948    469413.12    966568.91\n",
      "20-SEP-2022  20-SEP-2021  20-SEP-2022   365  1.013889   5.00000    506944.44  0.88376869    448021.63   1414590.54\n",
      "20-SEP-2023  20-SEP-2022  20-SEP-2023   365  1.013889   5.00000    506944.44  0.84118376    426433.43   1841023.97\n",
      "20-SEP-2024  20-SEP-2023  20-SEP-2024   366  1.016667   5.00000    508333.33  0.80062032    406982.00   2248005.97\n",
      "22-SEP-2025  20-SEP-2024  22-SEP-2025   367  1.019444   5.00000    509722.22  0.76186478    388339.41   2636345.38\n"
     ]
    }
   ],
   "source": [
    "swap.printFixedLegPV()"
   ]
  },
  {
   "cell_type": "code",
   "execution_count": 33,
   "metadata": {},
   "outputs": [
    {
     "data": {
      "text/plain": [
       "2636345.37709622"
      ]
     },
     "execution_count": 33,
     "metadata": {},
     "output_type": "execute_result"
    }
   ],
   "source": [
    "swap._fixedLeg.value(settlementDate, discountCurve)"
   ]
  },
  {
   "cell_type": "code",
   "execution_count": 35,
   "metadata": {},
   "outputs": [
    {
     "data": {
      "text/plain": [
       "-2381352.237161204"
      ]
     },
     "execution_count": 35,
     "metadata": {},
     "output_type": "execute_result"
    }
   ],
   "source": [
    "swap._floatLeg.value(settlementDate, discountCurve, discountCurve)"
   ]
  },
  {
   "cell_type": "markdown",
   "metadata": {},
   "source": [
    "Copyright (c) 2020 Dominic O'Kane"
   ]
  }
 ],
 "metadata": {
  "kernelspec": {
   "display_name": "Python 3",
   "language": "python",
   "name": "python3"
  },
  "language_info": {
   "codemirror_mode": {
    "name": "ipython",
    "version": 3
   },
   "file_extension": ".py",
   "mimetype": "text/x-python",
   "name": "python",
   "nbconvert_exporter": "python",
   "pygments_lexer": "ipython3",
   "version": "3.8.5"
  }
 },
 "nbformat": 4,
 "nbformat_minor": 4
}
