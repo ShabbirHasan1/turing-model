{
 "cells": [
  {
   "cell_type": "markdown",
   "metadata": {},
   "source": [
    "# USING CALENDARS"
   ]
  },
  {
   "cell_type": "code",
   "execution_count": 1,
   "metadata": {
    "execution": {
     "iopub.execute_input": "2021-01-17T13:02:15.868502Z",
     "iopub.status.busy": "2021-01-17T13:02:15.868502Z",
     "iopub.status.idle": "2021-01-17T13:02:15.884122Z",
     "shell.execute_reply": "2021-01-17T13:02:15.884122Z"
    }
   },
   "outputs": [],
   "source": [
    "from financepy.finutils import *"
   ]
  },
  {
   "cell_type": "markdown",
   "metadata": {},
   "source": [
    "We can see what calendars are available"
   ]
  },
  {
   "cell_type": "code",
   "execution_count": 1,
   "metadata": {
    "execution": {
     "iopub.execute_input": "2021-01-17T13:02:15.884122Z",
     "iopub.status.busy": "2021-01-17T13:02:15.884122Z",
     "iopub.status.idle": "2021-01-17T13:02:15.973737Z",
     "shell.execute_reply": "2021-01-17T13:02:15.973737Z"
    }
   },
   "outputs": [
    {
     "ename": "NameError",
     "evalue": "name 'TuringCalendarTypes' is not defined",
     "output_type": "error",
     "traceback": [
      "\u001b[1;31m---------------------------------------------------------------------------\u001b[0m",
      "\u001b[1;31mNameError\u001b[0m                                 Traceback (most recent call last)",
      "\u001b[1;32m<ipython-input-1-e44f84614d51>\u001b[0m in \u001b[0;36m<module>\u001b[1;34m\u001b[0m\n\u001b[1;32m----> 1\u001b[1;33m \u001b[1;32mfor\u001b[0m \u001b[0me\u001b[0m \u001b[1;32min\u001b[0m \u001b[0mFinCalendarTypes\u001b[0m\u001b[1;33m:\u001b[0m\u001b[1;33m\u001b[0m\u001b[1;33m\u001b[0m\u001b[0m\n\u001b[0m\u001b[0;32m      2\u001b[0m     \u001b[0mprint\u001b[0m\u001b[1;33m(\u001b[0m\u001b[0me\u001b[0m\u001b[1;33m)\u001b[0m\u001b[1;33m\u001b[0m\u001b[1;33m\u001b[0m\u001b[0m\n",
      "\u001b[1;31mNameError\u001b[0m: name 'TuringCalendarTypes' is not defined"
     ]
    }
   ],
   "source": [
    "for e in TuringCalendarTypes:\n",
    "    print(e)"
   ]
  },
  {
   "cell_type": "markdown",
   "metadata": {},
   "source": [
    "# Holiday Lists"
   ]
  },
  {
   "cell_type": "code",
   "execution_count": 3,
   "metadata": {},
   "outputs": [],
   "source": [
    "# Specify US holiday calendar\n",
    "calUS = TuringCalendar(TuringCalendarTypes.US)"
   ]
  },
  {
   "cell_type": "code",
   "execution_count": 4,
   "metadata": {
    "scrolled": false
   },
   "outputs": [
    {
     "data": {
      "text/plain": [
       "['TUE 01 JAN 2019',\n",
       " 'MON 21 JAN 2019',\n",
       " 'MON 18 FEB 2019',\n",
       " 'MON 27 MAY 2019',\n",
       " 'THU 04 JUL 2019',\n",
       " 'MON 02 SEP 2019',\n",
       " 'MON 14 OCT 2019',\n",
       " 'MON 11 NOV 2019',\n",
       " 'THU 28 NOV 2019',\n",
       " 'WED 25 DEC 2019']"
      ]
     },
     "execution_count": 4,
     "metadata": {},
     "output_type": "execute_result"
    }
   ],
   "source": [
    "calUS.getHolidayList(2019)"
   ]
  },
  {
   "cell_type": "code",
   "execution_count": 5,
   "metadata": {},
   "outputs": [],
   "source": [
    "# Specify UK holiday calendar\n",
    "calUK = TuringCalendar(TuringCalendarTypes.UK)"
   ]
  },
  {
   "cell_type": "code",
   "execution_count": 6,
   "metadata": {},
   "outputs": [
    {
     "data": {
      "text/plain": [
       "['TUE 01 JAN 2019',\n",
       " 'FRI 19 APR 2019',\n",
       " 'MON 22 APR 2019',\n",
       " 'MON 06 MAY 2019',\n",
       " 'MON 27 MAY 2019',\n",
       " 'MON 26 AUG 2019',\n",
       " 'WED 25 DEC 2019',\n",
       " 'THU 26 DEC 2019']"
      ]
     },
     "execution_count": 6,
     "metadata": {},
     "output_type": "execute_result"
    }
   ],
   "source": [
    "calUK.getHolidayList(2019)"
   ]
  },
  {
   "cell_type": "code",
   "execution_count": 7,
   "metadata": {},
   "outputs": [],
   "source": [
    "# Specify EUROPEAN TARGET holiday calendar\n",
    "calEU = TuringCalendar(TuringCalendarTypes.TARGET)"
   ]
  },
  {
   "cell_type": "code",
   "execution_count": 8,
   "metadata": {},
   "outputs": [
    {
     "data": {
      "text/plain": [
       "['TUE 01 JAN 2019',\n",
       " 'FRI 19 APR 2019',\n",
       " 'MON 22 APR 2019',\n",
       " 'WED 01 MAY 2019',\n",
       " 'WED 25 DEC 2019',\n",
       " 'THU 26 DEC 2019']"
      ]
     },
     "execution_count": 8,
     "metadata": {},
     "output_type": "execute_result"
    }
   ],
   "source": [
    "calEU.getHolidayList(2019)"
   ]
  },
  {
   "cell_type": "markdown",
   "metadata": {},
   "source": [
    "## Easter Monday"
   ]
  },
  {
   "cell_type": "code",
   "execution_count": 9,
   "metadata": {},
   "outputs": [
    {
     "name": "stdout",
     "output_type": "stream",
     "text": [
      "MON 22 APR 2019\n"
     ]
    }
   ],
   "source": [
    "print(calEU.easterMonday(2019))"
   ]
  },
  {
   "cell_type": "code",
   "execution_count": 10,
   "metadata": {},
   "outputs": [
    {
     "name": "stdout",
     "output_type": "stream",
     "text": [
      "MON 02 APR 2018\n"
     ]
    }
   ],
   "source": [
    "print(calEU.easterMonday(2018))"
   ]
  },
  {
   "cell_type": "code",
   "execution_count": 11,
   "metadata": {},
   "outputs": [
    {
     "name": "stdout",
     "output_type": "stream",
     "text": [
      "MON 17 APR 2017\n"
     ]
    }
   ],
   "source": [
    "print(calEU.easterMonday(2017))"
   ]
  },
  {
   "cell_type": "code",
   "execution_count": 12,
   "metadata": {},
   "outputs": [
    {
     "name": "stdout",
     "output_type": "stream",
     "text": [
      "MON 28 MAR 2016\n"
     ]
    }
   ],
   "source": [
    "print(calEU.easterMonday(2016))"
   ]
  },
  {
   "cell_type": "markdown",
   "metadata": {},
   "source": [
    "Copyright (c) 2020 Dominic O'Kane"
   ]
  },
  {
   "cell_type": "code",
   "execution_count": null,
   "metadata": {},
   "outputs": [],
   "source": []
  }
 ],
 "metadata": {
  "kernelspec": {
   "display_name": "Python 3",
   "language": "python",
   "name": "python3"
  },
  "language_info": {
   "codemirror_mode": {
    "name": "ipython",
    "version": 3
   },
   "file_extension": ".py",
   "mimetype": "text/x-python",
   "name": "python",
   "nbconvert_exporter": "python",
   "pygments_lexer": "ipython3",
   "version": "3.8.5"
  }
 },
 "nbformat": 4,
 "nbformat_minor": 2
}
