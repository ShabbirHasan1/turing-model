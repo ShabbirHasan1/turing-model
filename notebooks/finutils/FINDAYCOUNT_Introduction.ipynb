{
 "cells": [
  {
   "cell_type": "markdown",
   "metadata": {},
   "source": [
    "# UNDERSTANDING DAY COUNTS"
   ]
  },
  {
   "cell_type": "markdown",
   "metadata": {},
   "source": [
    "## Calculating year fractions according to different conventions"
   ]
  },
  {
   "cell_type": "code",
   "execution_count": 1,
   "metadata": {},
   "outputs": [
    {
     "name": "stdout",
     "output_type": "stream",
     "text": [
      "####################################################################\n",
      "# FINANCEPY BETA Version 0.180 - This build:  22 Sep 2020 at 22:29 #\n",
      "#      This software is distributed FREE & WITHOUT ANY WARRANTY    #\n",
      "# For info and disclaimer - https://github.com/domokane/FinancePy  #\n",
      "#    For bug reports and comments - allmypythonprojects@gmail.com  #\n",
      "####################################################################\n",
      "\n"
     ]
    }
   ],
   "source": [
    "from financepy.finutils import *"
   ]
  },
  {
   "cell_type": "markdown",
   "metadata": {},
   "source": [
    "## Accrued Interest for a Bond"
   ]
  },
  {
   "cell_type": "code",
   "execution_count": 2,
   "metadata": {},
   "outputs": [
    {
     "name": "stdout",
     "output_type": "stream",
     "text": [
      "             TuringDayCountTypes.THIRTY_360_BOND YearFrac: 0.12222222 Days: 44  Period: 360\n",
      "                TuringDayCountTypes.THIRTY_E_360 YearFrac: 0.12222222 Days: 44  Period: 360\n",
      "           TuringDayCountTypes.THIRTY_E_360_ISDA YearFrac: 0.12222222 Days: 44  Period: 360\n",
      "           TuringDayCountTypes.THIRTY_E_PLUS_360 YearFrac: 0.12222222 Days: 44  Period: 360\n",
      "                TuringDayCountTypes.ACT_ACT_ISDA YearFrac: 0.12328767 Days: 45  Period: 365\n",
      "                TuringDayCountTypes.ACT_ACT_ICMA YearFrac: 0.12430939 Days: 45  Period: 362\n",
      "                    TuringDayCountTypes.ACT_365F YearFrac: 0.12328767 Days: 45  Period: 365\n",
      "                     TuringDayCountTypes.ACT_360 YearFrac: 0.12500000 Days: 45  Period: 360\n",
      "                    TuringDayCountTypes.ACT_365L YearFrac: 0.12328767 Days: 45  Period: 365\n"
     ]
    }
   ],
   "source": [
    "numDays = 1\n",
    "settlementDate = TuringDate(15, 2, 2019)\n",
    "freqType = TuringFrequencyTypes.SEMI_ANNUAL\n",
    "\n",
    "for dayCountType in TuringDayCountTypes:\n",
    "\n",
    "    pcd = TuringDate(1, 1, 2019)\n",
    "    ncd = pcd.addTenor(\"6M\")\n",
    "    dayCount = TuringDayCount(dayCountType)\n",
    "\n",
    "    alpha = dayCount.yearFrac(pcd, settlementDate, ncd, freqType)\n",
    "    print(\"%45s YearFrac: %9.8f Days: %d  Period: %d\" % (dayCount, alpha[0], alpha[1], alpha[2]))"
   ]
  },
  {
   "cell_type": "markdown",
   "metadata": {},
   "source": [
    "## Year Fraction for Swaps"
   ]
  },
  {
   "cell_type": "markdown",
   "metadata": {},
   "source": [
    "This should just take two dates."
   ]
  },
  {
   "cell_type": "code",
   "execution_count": 23,
   "metadata": {},
   "outputs": [
    {
     "name": "stdout",
     "output_type": "stream",
     "text": [
      "             TuringDayCountTypes.THIRTY_360_BOND YearFrac: 0.25000000 Days: 90  Period: 360\n",
      "                TuringDayCountTypes.THIRTY_E_360 YearFrac: 0.25000000 Days: 90  Period: 360\n",
      "           TuringDayCountTypes.THIRTY_E_360_ISDA YearFrac: 0.25000000 Days: 90  Period: 360\n",
      "           TuringDayCountTypes.THIRTY_E_PLUS_360 YearFrac: 0.25000000 Days: 90  Period: 360\n",
      "                TuringDayCountTypes.ACT_ACT_ISDA YearFrac: 0.24657534 Days: 90  Period: 365\n",
      "                    TuringDayCountTypes.ACT_365F YearFrac: 0.24657534 Days: 90  Period: 365\n",
      "                     TuringDayCountTypes.ACT_360 YearFrac: 0.25000000 Days: 90  Period: 360\n",
      "                    TuringDayCountTypes.ACT_365L YearFrac: 0.24657534 Days: 90  Period: 365\n"
     ]
    }
   ],
   "source": [
    "numDays = 1\n",
    "settlementDate = TuringDate(15, 2, 2019)\n",
    "freqType = TuringFrequencyTypes.SEMI_ANNUAL\n",
    "\n",
    "for dayCountType in TuringDayCountTypes:\n",
    "\n",
    "    pcd = TuringDate(1, 1, 2019)\n",
    "    ncd = pcd.addTenor(\"3M\")\n",
    "\n",
    "    if dayCountType != TuringDayCountTypes.ACT_ACT_ICMA:\n",
    "        dayCount = TuringDayCount(dayCountType)\n",
    "        alpha = dayCount.yearFrac(pcd, ncd)\n",
    "        print(\"%45s YearFrac: %9.8f Days: %d  Period: %d\" % (dayCount, alpha[0], alpha[1], alpha[2]))"
   ]
  },
  {
   "cell_type": "markdown",
   "metadata": {},
   "source": [
    "Copyright (c) 2020 Dominic O'Kane"
   ]
  }
 ],
 "metadata": {
  "kernelspec": {
   "display_name": "Python 3",
   "language": "python",
   "name": "python3"
  },
  "language_info": {
   "codemirror_mode": {
    "name": "ipython",
    "version": 3
   },
   "file_extension": ".py",
   "mimetype": "text/x-python",
   "name": "python",
   "nbconvert_exporter": "python",
   "pygments_lexer": "ipython3",
   "version": "3.7.6"
  }
 },
 "nbformat": 4,
 "nbformat_minor": 4
}
