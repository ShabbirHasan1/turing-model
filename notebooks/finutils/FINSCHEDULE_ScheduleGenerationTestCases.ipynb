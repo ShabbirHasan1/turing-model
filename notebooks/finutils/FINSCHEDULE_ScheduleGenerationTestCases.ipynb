{
 "cells": [
  {
   "cell_type": "markdown",
   "metadata": {},
   "source": [
    "# Schedule Generation"
   ]
  },
  {
   "cell_type": "markdown",
   "metadata": {},
   "source": [
    "Examples of how to generate schedules"
   ]
  },
  {
   "cell_type": "code",
   "execution_count": 47,
   "metadata": {},
   "outputs": [],
   "source": [
    "from financepy.finutils import *"
   ]
  },
  {
   "cell_type": "code",
   "execution_count": 48,
   "metadata": {},
   "outputs": [],
   "source": [
    "setDateFormatType(TuringDateFormatTypes.UK_LONGEST)"
   ]
  },
  {
   "cell_type": "markdown",
   "metadata": {},
   "source": [
    "### Base Case Schedule Settings"
   ]
  },
  {
   "cell_type": "code",
   "execution_count": 49,
   "metadata": {},
   "outputs": [],
   "source": [
    "freqType = TuringFrequencyTypes.SEMI_ANNUAL\n",
    "calendarType = TuringCalendarTypes.WEEKEND\n",
    "busDayAdjustType = TuringBusDayAdjustTypes.MODIFIED_FOLLOWING\n",
    "dateGenRuleType = TuringDateGenRuleTypes.BACKWARD\n",
    "adjustTerminationDate = False\n",
    "endOfMonthFlag = False"
   ]
  },
  {
   "cell_type": "markdown",
   "metadata": {},
   "source": [
    "### Very Short Schedule"
   ]
  },
  {
   "cell_type": "code",
   "execution_count": 50,
   "metadata": {},
   "outputs": [
    {
     "name": "stdout",
     "output_type": "stream",
     "text": [
      "THU 04 AUG 2016 SAT 06 AUG 2016\n"
     ]
    }
   ],
   "source": [
    "effectiveDate = TuringDate(4, 8, 2016)\n",
    "terminationDate = effectiveDate.addTenor(\"2D\")\n",
    "print(effectiveDate, terminationDate)"
   ]
  },
  {
   "cell_type": "code",
   "execution_count": 51,
   "metadata": {},
   "outputs": [
    {
     "data": {
      "text/plain": [
       "[THU 04 AUG 2016, SAT 06 AUG 2016]"
      ]
     },
     "execution_count": 51,
     "metadata": {},
     "output_type": "execute_result"
    }
   ],
   "source": [
    "schedule = TuringSchedule(effectiveDate, terminationDate, freqType, calendarType, \n",
    "                       busDayAdjustType, dateGenRuleType, adjustTerminationDate, endOfMonthFlag)\n",
    "\n",
    "schedule._adjustedDates"
   ]
  },
  {
   "cell_type": "markdown",
   "metadata": {},
   "source": [
    "### Short Schedule with Termination Date Not Being Adjusted Automatically"
   ]
  },
  {
   "cell_type": "markdown",
   "metadata": {},
   "source": [
    "The default is to not adjust the termination date"
   ]
  },
  {
   "cell_type": "code",
   "execution_count": 52,
   "metadata": {},
   "outputs": [
    {
     "name": "stdout",
     "output_type": "stream",
     "text": [
      "THU 04 AUG 2016 SAT 04 FEB 2017\n"
     ]
    }
   ],
   "source": [
    "effectiveDate = TuringDate(4, 8, 2016)\n",
    "terminationDate = effectiveDate.addTenor(\"6M\")\n",
    "print(effectiveDate, terminationDate)"
   ]
  },
  {
   "cell_type": "code",
   "execution_count": 53,
   "metadata": {},
   "outputs": [
    {
     "data": {
      "text/plain": [
       "[THU 04 AUG 2016, SAT 04 FEB 2017]"
      ]
     },
     "execution_count": 53,
     "metadata": {},
     "output_type": "execute_result"
    }
   ],
   "source": [
    "schedule = TuringSchedule(effectiveDate, terminationDate, freqType, calendarType, \n",
    "                       busDayAdjustType, dateGenRuleType, adjustTerminationDate, endOfMonthFlag)\n",
    "\n",
    "schedule._adjustedDates"
   ]
  },
  {
   "cell_type": "code",
   "execution_count": 54,
   "metadata": {},
   "outputs": [
    {
     "data": {
      "text/plain": [
       "SAT 04 FEB 2017"
      ]
     },
     "execution_count": 54,
     "metadata": {},
     "output_type": "execute_result"
    }
   ],
   "source": [
    "schedule._terminationDate"
   ]
  },
  {
   "cell_type": "markdown",
   "metadata": {},
   "source": [
    "The payment date adjusts to the monday but I keep the termination date unchanged"
   ]
  },
  {
   "cell_type": "markdown",
   "metadata": {},
   "source": [
    "### Short Schedule with Termination Date Adjusted Automatically"
   ]
  },
  {
   "cell_type": "markdown",
   "metadata": {},
   "source": [
    "In some cases the scheduled termination date adjusts"
   ]
  },
  {
   "cell_type": "code",
   "execution_count": 55,
   "metadata": {},
   "outputs": [
    {
     "name": "stdout",
     "output_type": "stream",
     "text": [
      "THU 04 AUG 2016 SAT 04 FEB 2017\n"
     ]
    }
   ],
   "source": [
    "effectiveDate = TuringDate(4, 8, 2016)\n",
    "terminationDate = effectiveDate.addTenor(\"6M\")\n",
    "print(effectiveDate, terminationDate)"
   ]
  },
  {
   "cell_type": "code",
   "execution_count": 57,
   "metadata": {},
   "outputs": [],
   "source": [
    "adjustTerminationDate = True"
   ]
  },
  {
   "cell_type": "code",
   "execution_count": 58,
   "metadata": {},
   "outputs": [
    {
     "data": {
      "text/plain": [
       "[THU 04 AUG 2016, MON 06 FEB 2017]"
      ]
     },
     "execution_count": 58,
     "metadata": {},
     "output_type": "execute_result"
    }
   ],
   "source": [
    "schedule = TuringSchedule(effectiveDate, terminationDate, freqType, calendarType, \n",
    "                       busDayAdjustType, dateGenRuleType, adjustTerminationDate, endOfMonthFlag)\n",
    "\n",
    "schedule._adjustedDates"
   ]
  },
  {
   "cell_type": "code",
   "execution_count": 59,
   "metadata": {},
   "outputs": [
    {
     "data": {
      "text/plain": [
       "MON 06 FEB 2017"
      ]
     },
     "execution_count": 59,
     "metadata": {},
     "output_type": "execute_result"
    }
   ],
   "source": [
    "schedule._terminationDate"
   ]
  },
  {
   "cell_type": "markdown",
   "metadata": {},
   "source": [
    "### 5Y Schedule with Termination Date being Adjusted Automatically if required"
   ]
  },
  {
   "cell_type": "code",
   "execution_count": 60,
   "metadata": {},
   "outputs": [
    {
     "name": "stdout",
     "output_type": "stream",
     "text": [
      "EFFECTIVE DATE: THU 04 AUG 2016 TERMINATION DATE: WED 04 AUG 2021\n"
     ]
    }
   ],
   "source": [
    "effectiveDate = TuringDate(4, 8, 2016)\n",
    "terminationDate = effectiveDate.addTenor(\"5Y\")\n",
    "print(\"EFFECTIVE DATE:\", effectiveDate, \"TERMINATION DATE:\", terminationDate)"
   ]
  },
  {
   "cell_type": "code",
   "execution_count": 61,
   "metadata": {},
   "outputs": [
    {
     "data": {
      "text/plain": [
       "[THU 04 AUG 2016,\n",
       " MON 06 FEB 2017,\n",
       " FRI 04 AUG 2017,\n",
       " MON 05 FEB 2018,\n",
       " MON 06 AUG 2018,\n",
       " MON 04 FEB 2019,\n",
       " MON 05 AUG 2019,\n",
       " TUE 04 FEB 2020,\n",
       " TUE 04 AUG 2020,\n",
       " THU 04 FEB 2021,\n",
       " WED 04 AUG 2021]"
      ]
     },
     "execution_count": 61,
     "metadata": {},
     "output_type": "execute_result"
    }
   ],
   "source": [
    "schedule = TuringSchedule(effectiveDate, terminationDate, freqType, calendarType, \n",
    "                       busDayAdjustType, dateGenRuleType, adjustTerminationDate, endOfMonthFlag)\n",
    "\n",
    "schedule._adjustedDates"
   ]
  },
  {
   "cell_type": "markdown",
   "metadata": {},
   "source": [
    "The first date is the previous coupon date. The next date is the next coupon date after today."
   ]
  },
  {
   "cell_type": "code",
   "execution_count": 62,
   "metadata": {},
   "outputs": [
    {
     "name": "stdout",
     "output_type": "stream",
     "text": [
      "EFFECTIVE DATE: THU 04 AUG 2016 TERMINATION DATE: TUE 04 AUG 2026\n"
     ]
    }
   ],
   "source": [
    "effectiveDate = TuringDate(4, 8, 2016)\n",
    "terminationDate = effectiveDate.addTenor(\"10Y\")\n",
    "print(\"EFFECTIVE DATE:\", effectiveDate, \"TERMINATION DATE:\", terminationDate)"
   ]
  },
  {
   "cell_type": "code",
   "execution_count": 63,
   "metadata": {},
   "outputs": [
    {
     "data": {
      "text/plain": [
       "[THU 04 AUG 2016,\n",
       " MON 06 FEB 2017,\n",
       " FRI 04 AUG 2017,\n",
       " MON 05 FEB 2018,\n",
       " MON 06 AUG 2018,\n",
       " MON 04 FEB 2019,\n",
       " MON 05 AUG 2019,\n",
       " TUE 04 FEB 2020,\n",
       " TUE 04 AUG 2020,\n",
       " THU 04 FEB 2021,\n",
       " WED 04 AUG 2021,\n",
       " FRI 04 FEB 2022,\n",
       " THU 04 AUG 2022,\n",
       " MON 06 FEB 2023,\n",
       " FRI 04 AUG 2023,\n",
       " MON 05 FEB 2024,\n",
       " MON 05 AUG 2024,\n",
       " TUE 04 FEB 2025,\n",
       " MON 04 AUG 2025,\n",
       " WED 04 FEB 2026,\n",
       " TUE 04 AUG 2026]"
      ]
     },
     "execution_count": 63,
     "metadata": {},
     "output_type": "execute_result"
    }
   ],
   "source": [
    "schedule = TuringSchedule(effectiveDate, terminationDate, freqType, calendarType, \n",
    "                       busDayAdjustType, dateGenRuleType, adjustTerminationDate, endOfMonthFlag)\n",
    "\n",
    "schedule._adjustedDates"
   ]
  },
  {
   "cell_type": "markdown",
   "metadata": {},
   "source": [
    "## Month Ends"
   ]
  },
  {
   "cell_type": "markdown",
   "metadata": {},
   "source": [
    "End of month flag is false but we are on 29 Feb."
   ]
  },
  {
   "cell_type": "code",
   "execution_count": 64,
   "metadata": {},
   "outputs": [],
   "source": [
    "effectiveDate = TuringDate(29, 2, 2016)\n",
    "terminationDate = effectiveDate.addTenor(\"5Y\")\n",
    "adjustTerminationDate = False\n",
    "endOfMonthFlag = False"
   ]
  },
  {
   "cell_type": "code",
   "execution_count": 65,
   "metadata": {},
   "outputs": [
    {
     "name": "stdout",
     "output_type": "stream",
     "text": [
      "EFFECTIVE DATE: MON 29 FEB 2016 TERMINATION DATE: SUN 28 FEB 2021\n"
     ]
    }
   ],
   "source": [
    "print(\"EFFECTIVE DATE:\", effectiveDate, \"TERMINATION DATE:\", terminationDate)"
   ]
  },
  {
   "cell_type": "code",
   "execution_count": 66,
   "metadata": {},
   "outputs": [
    {
     "data": {
      "text/plain": [
       "[MON 29 FEB 2016,\n",
       " MON 29 AUG 2016,\n",
       " TUE 28 FEB 2017,\n",
       " MON 28 AUG 2017,\n",
       " WED 28 FEB 2018,\n",
       " TUE 28 AUG 2018,\n",
       " THU 28 FEB 2019,\n",
       " WED 28 AUG 2019,\n",
       " FRI 28 FEB 2020,\n",
       " FRI 28 AUG 2020,\n",
       " SUN 28 FEB 2021]"
      ]
     },
     "execution_count": 66,
     "metadata": {},
     "output_type": "execute_result"
    }
   ],
   "source": [
    "schedule = TuringSchedule(effectiveDate, terminationDate, freqType, calendarType, \n",
    "                       busDayAdjustType, dateGenRuleType, adjustTerminationDate, endOfMonthFlag)\n",
    "\n",
    "schedule._adjustedDates"
   ]
  },
  {
   "cell_type": "code",
   "execution_count": 67,
   "metadata": {},
   "outputs": [],
   "source": [
    "adjustTerminationDate = True"
   ]
  },
  {
   "cell_type": "code",
   "execution_count": 68,
   "metadata": {},
   "outputs": [
    {
     "data": {
      "text/plain": [
       "[MON 29 FEB 2016,\n",
       " MON 29 AUG 2016,\n",
       " TUE 28 FEB 2017,\n",
       " MON 28 AUG 2017,\n",
       " WED 28 FEB 2018,\n",
       " TUE 28 AUG 2018,\n",
       " THU 28 FEB 2019,\n",
       " WED 28 AUG 2019,\n",
       " FRI 28 FEB 2020,\n",
       " FRI 28 AUG 2020,\n",
       " FRI 26 FEB 2021]"
      ]
     },
     "execution_count": 68,
     "metadata": {},
     "output_type": "execute_result"
    }
   ],
   "source": [
    "schedule = TuringSchedule(effectiveDate, terminationDate, freqType, calendarType, \n",
    "                       busDayAdjustType, dateGenRuleType, adjustTerminationDate, endOfMonthFlag)\n",
    "\n",
    "schedule._adjustedDates"
   ]
  },
  {
   "cell_type": "markdown",
   "metadata": {},
   "source": [
    "If we adjust the dates to be end of Month using flag"
   ]
  },
  {
   "cell_type": "code",
   "execution_count": 69,
   "metadata": {},
   "outputs": [],
   "source": [
    "effectiveDate = TuringDate(28, 2, 2016)\n",
    "terminationDate = effectiveDate.addTenor(\"5Y\")\n",
    "adjustTerminationDate = False\n",
    "endOfMonthFlag = True"
   ]
  },
  {
   "cell_type": "code",
   "execution_count": 70,
   "metadata": {},
   "outputs": [
    {
     "data": {
      "text/plain": [
       "[SUN 28 FEB 2016,\n",
       " MON 29 FEB 2016,\n",
       " WED 31 AUG 2016,\n",
       " TUE 28 FEB 2017,\n",
       " THU 31 AUG 2017,\n",
       " WED 28 FEB 2018,\n",
       " FRI 31 AUG 2018,\n",
       " THU 28 FEB 2019,\n",
       " FRI 30 AUG 2019,\n",
       " FRI 28 FEB 2020,\n",
       " MON 31 AUG 2020,\n",
       " SUN 28 FEB 2021]"
      ]
     },
     "execution_count": 70,
     "metadata": {},
     "output_type": "execute_result"
    }
   ],
   "source": [
    "schedule = TuringSchedule(effectiveDate, terminationDate, freqType, calendarType, \n",
    "                       busDayAdjustType, dateGenRuleType, adjustTerminationDate, endOfMonthFlag)\n",
    "\n",
    "schedule._adjustedDates"
   ]
  },
  {
   "cell_type": "code",
   "execution_count": 71,
   "metadata": {},
   "outputs": [],
   "source": [
    "effectiveDate = TuringDate(28, 2, 2016)\n",
    "terminationDate = effectiveDate.addTenor(\"5Y\")\n",
    "adjustTerminationDate = True\n",
    "endOfMonthFlag = True"
   ]
  },
  {
   "cell_type": "code",
   "execution_count": 72,
   "metadata": {},
   "outputs": [
    {
     "data": {
      "text/plain": [
       "[SUN 28 FEB 2016,\n",
       " MON 29 FEB 2016,\n",
       " WED 31 AUG 2016,\n",
       " TUE 28 FEB 2017,\n",
       " THU 31 AUG 2017,\n",
       " WED 28 FEB 2018,\n",
       " FRI 31 AUG 2018,\n",
       " THU 28 FEB 2019,\n",
       " FRI 30 AUG 2019,\n",
       " FRI 28 FEB 2020,\n",
       " MON 31 AUG 2020,\n",
       " FRI 26 FEB 2021]"
      ]
     },
     "execution_count": 72,
     "metadata": {},
     "output_type": "execute_result"
    }
   ],
   "source": [
    "schedule = TuringSchedule(effectiveDate, terminationDate, freqType, calendarType, \n",
    "                       busDayAdjustType, dateGenRuleType, adjustTerminationDate, endOfMonthFlag)\n",
    "\n",
    "schedule._adjustedDates"
   ]
  },
  {
   "cell_type": "markdown",
   "metadata": {},
   "source": [
    "Termination date has been adjusted."
   ]
  },
  {
   "cell_type": "code",
   "execution_count": null,
   "metadata": {},
   "outputs": [],
   "source": []
  }
 ],
 "metadata": {
  "kernelspec": {
   "display_name": "Python 3",
   "language": "python",
   "name": "python3"
  },
  "language_info": {
   "codemirror_mode": {
    "name": "ipython",
    "version": 3
   },
   "file_extension": ".py",
   "mimetype": "text/x-python",
   "name": "python",
   "nbconvert_exporter": "python",
   "pygments_lexer": "ipython3",
   "version": "3.8.7"
  }
 },
 "nbformat": 4,
 "nbformat_minor": 2
}
