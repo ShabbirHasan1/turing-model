{
 "cells": [
  {
   "cell_type": "markdown",
   "metadata": {},
   "source": [
    "# USING CALENDARS"
   ]
  },
  {
   "cell_type": "code",
   "execution_count": 1,
   "metadata": {},
   "outputs": [
    {
     "output_type": "stream",
     "name": "stdout",
     "text": [
      "####################################################################\n# FINANCEPY BETA Version 0.185 - This build:  30 Oct 2020 at 22:12 #\n#      This software is distributed FREE & WITHOUT ANY WARRANTY    #\n# For info and disclaimer - https://github.com/domokane/FinancePy  #\n#      Send any bug reports or comments to quant@financepy.com     #\n####################################################################\n\n"
     ]
    }
   ],
   "source": [
    "from financepy.finutils import *"
   ]
  },
  {
   "cell_type": "markdown",
   "metadata": {},
   "source": [
    "We can see what calendars are available"
   ]
  },
  {
   "cell_type": "code",
   "execution_count": 2,
   "metadata": {},
   "outputs": [
    {
     "output_type": "stream",
     "name": "stdout",
     "text": [
      "TuringCalendarTypes.TARGET\nFinCalendarTypes.US\nFinCalendarTypes.UK\nFinCalendarTypes.WEEKEND\nFinCalendarTypes.JAPAN\nFinCalendarTypes.NONE\n"
     ]
    }
   ],
   "source": [
    "for e in TuringCalendarTypes:\n",
    "    print(e)"
   ]
  },
  {
   "cell_type": "markdown",
   "metadata": {},
   "source": [
    "# Holiday Lists"
   ]
  },
  {
   "cell_type": "code",
   "execution_count": 3,
   "metadata": {},
   "outputs": [],
   "source": [
    "# Specify US holiday calendar\n",
    "calUS = TuringCalendar(TuringCalendarTypes.US)"
   ]
  },
  {
   "cell_type": "code",
   "execution_count": 4,
   "metadata": {
    "scrolled": false
   },
   "outputs": [
    {
     "output_type": "execute_result",
     "data": {
      "text/plain": [
       "['TUE 01 JAN 2019',\n",
       " 'MON 21 JAN 2019',\n",
       " 'MON 18 FEB 2019',\n",
       " 'MON 27 MAY 2019',\n",
       " 'THU 04 JUL 2019',\n",
       " 'MON 02 SEP 2019',\n",
       " 'MON 14 OCT 2019',\n",
       " 'MON 11 NOV 2019',\n",
       " 'THU 28 NOV 2019',\n",
       " 'WED 25 DEC 2019']"
      ]
     },
     "metadata": {},
     "execution_count": 4
    }
   ],
   "source": [
    "calUS.getHolidayList(2019)"
   ]
  },
  {
   "cell_type": "code",
   "execution_count": 5,
   "metadata": {},
   "outputs": [],
   "source": [
    "# Specify UK holiday calendar\n",
    "calUK = TuringCalendar(TuringCalendarTypes.UK)"
   ]
  },
  {
   "cell_type": "code",
   "execution_count": 6,
   "metadata": {},
   "outputs": [
    {
     "output_type": "execute_result",
     "data": {
      "text/plain": [
       "['TUE 01 JAN 2019',\n",
       " 'FRI 19 APR 2019',\n",
       " 'MON 22 APR 2019',\n",
       " 'MON 06 MAY 2019',\n",
       " 'MON 27 MAY 2019',\n",
       " 'MON 26 AUG 2019',\n",
       " 'WED 25 DEC 2019',\n",
       " 'THU 26 DEC 2019']"
      ]
     },
     "metadata": {},
     "execution_count": 6
    }
   ],
   "source": [
    "calUK.getHolidayList(2019)"
   ]
  },
  {
   "cell_type": "code",
   "execution_count": 7,
   "metadata": {},
   "outputs": [],
   "source": [
    "# Specify EUROPEAN TARGET holiday calendar\n",
    "calEU = TuringCalendar(TuringCalendarTypes.TARGET)"
   ]
  },
  {
   "cell_type": "code",
   "execution_count": 8,
   "metadata": {},
   "outputs": [
    {
     "output_type": "execute_result",
     "data": {
      "text/plain": [
       "['TUE 01 JAN 2019',\n",
       " 'FRI 19 APR 2019',\n",
       " 'MON 22 APR 2019',\n",
       " 'WED 01 MAY 2019',\n",
       " 'WED 25 DEC 2019',\n",
       " 'THU 26 DEC 2019']"
      ]
     },
     "metadata": {},
     "execution_count": 8
    }
   ],
   "source": [
    "calEU.getHolidayList(2019)"
   ]
  },
  {
   "cell_type": "markdown",
   "metadata": {},
   "source": [
    "## Easter Monday"
   ]
  },
  {
   "cell_type": "code",
   "execution_count": 9,
   "metadata": {},
   "outputs": [
    {
     "output_type": "stream",
     "name": "stdout",
     "text": [
      "MON 22 APR 2019\n"
     ]
    }
   ],
   "source": [
    "print(calEU.easterMonday(2019))"
   ]
  },
  {
   "cell_type": "code",
   "execution_count": 10,
   "metadata": {},
   "outputs": [
    {
     "output_type": "stream",
     "name": "stdout",
     "text": [
      "MON 02 APR 2018\n"
     ]
    }
   ],
   "source": [
    "print(calEU.easterMonday(2018))"
   ]
  },
  {
   "cell_type": "code",
   "execution_count": 11,
   "metadata": {},
   "outputs": [
    {
     "output_type": "stream",
     "name": "stdout",
     "text": [
      "MON 17 APR 2017\n"
     ]
    }
   ],
   "source": [
    "print(calEU.easterMonday(2017))"
   ]
  },
  {
   "cell_type": "code",
   "execution_count": 12,
   "metadata": {},
   "outputs": [
    {
     "output_type": "stream",
     "name": "stdout",
     "text": [
      "MON 28 MAR 2016\n"
     ]
    }
   ],
   "source": [
    "print(calEU.easterMonday(2016))"
   ]
  },
  {
   "cell_type": "markdown",
   "metadata": {},
   "source": [
    "Copyright (c) 2020 Dominic O'Kane"
   ]
  },
  {
   "cell_type": "code",
   "execution_count": null,
   "metadata": {},
   "outputs": [],
   "source": []
  }
 ],
 "metadata": {
  "kernelspec": {
   "display_name": "Python 3",
   "language": "python",
   "name": "python3"
  },
  "language_info": {
   "codemirror_mode": {
    "name": "ipython",
    "version": 3
   },
   "file_extension": ".py",
   "mimetype": "text/x-python",
   "name": "python",
   "nbconvert_exporter": "python",
   "pygments_lexer": "ipython3",
   "version": "3.7.6-final"
  }
 },
 "nbformat": 4,
 "nbformat_minor": 2
}