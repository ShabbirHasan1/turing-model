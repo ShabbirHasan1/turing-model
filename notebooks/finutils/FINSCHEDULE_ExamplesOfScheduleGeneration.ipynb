{
 "cells": [
  {
   "cell_type": "markdown",
   "metadata": {},
   "source": [
    "# Schedule Generation"
   ]
  },
  {
   "cell_type": "markdown",
   "metadata": {},
   "source": [
    "Examples of how to generate schedules"
   ]
  },
  {
   "cell_type": "code",
   "execution_count": 1,
   "metadata": {},
   "outputs": [
    {
     "name": "stdout",
     "output_type": "stream",
     "text": [
      "####################################################################\n",
      "# FINANCEPY BETA Version 0.192 - This build:  06 Feb 2021 at 20:27 #\n",
      "#      This software is distributed FREE & WITHOUT ANY WARRANTY    #\n",
      "# For info and disclaimer - https://github.com/domokane/FinancePy  #\n",
      "#      Send any bug reports or comments to quant@financepy.com     #\n",
      "####################################################################\n",
      "\n"
     ]
    }
   ],
   "source": [
    "from financepy.finutils import *"
   ]
  },
  {
   "cell_type": "code",
   "execution_count": 2,
   "metadata": {},
   "outputs": [],
   "source": [
    "startDate = TuringDate(4, 8, 2016)\n",
    "endDate = TuringDate(1, 5, 2022)"
   ]
  },
  {
   "cell_type": "code",
   "execution_count": 3,
   "metadata": {},
   "outputs": [],
   "source": [
    "freqType = TuringFrequencyTypes.ANNUAL\n",
    "calendarType = TuringCalendarTypes.WEEKEND\n",
    "busDayAdjustType = TuringBusDayAdjustTypes.FOLLOWING\n",
    "dateGenRuleType = TuringDateGenRuleTypes.BACKWARD\n",
    "schedule = TuringSchedule(startDate, endDate, freqType, calendarType, \n",
    "                       busDayAdjustType, dateGenRuleType)"
   ]
  },
  {
   "cell_type": "code",
   "execution_count": 4,
   "metadata": {},
   "outputs": [
    {
     "name": "stdout",
     "output_type": "stream",
     "text": [
      "OBJECT TYPE: TuringSchedule\n",
      "EFFECTIVE DATE: 04-AUG-2016\n",
      "END DATE: 01-MAY-2022\n",
      "FREQUENCY: TuringFrequencyTypes.ANNUAL\n",
      "CALENDAR: TuringCalendarTypes.WEEKEND\n",
      "BUSDAYRULE: TuringBusDayAdjustTypes.FOLLOWING\n",
      "DATEGENRULE: TuringDateGenRuleTypes.BACKWARD\n",
      "\n",
      "PCD: 04-AUG-2016\n",
      "NCD: 01-MAY-2017\n",
      "     01-MAY-2018\n",
      "     01-MAY-2019\n",
      "     01-MAY-2020\n",
      "     03-MAY-2021\n",
      "     02-MAY-2022\n"
     ]
    }
   ],
   "source": [
    "print(schedule)"
   ]
  },
  {
   "cell_type": "markdown",
   "metadata": {},
   "source": [
    "The first date is the previous coupon date. The next date is the next coupon date after today."
   ]
  },
  {
   "cell_type": "code",
   "execution_count": 5,
   "metadata": {},
   "outputs": [],
   "source": [
    "freqType = TuringFrequencyTypes.SEMI_ANNUAL\n",
    "calendarType = TuringCalendarTypes.WEEKEND\n",
    "busDayAdjustType = TuringBusDayAdjustTypes.FOLLOWING\n",
    "dateGenRuleType = TuringDateGenRuleTypes.BACKWARD\n",
    "schedule = TuringSchedule(startDate, endDate, freqType, calendarType, busDayAdjustType, dateGenRuleType)"
   ]
  },
  {
   "cell_type": "code",
   "execution_count": 6,
   "metadata": {},
   "outputs": [
    {
     "name": "stdout",
     "output_type": "stream",
     "text": [
      "OBJECT TYPE: TuringSchedule\n",
      "EFFECTIVE DATE: 04-AUG-2016\n",
      "END DATE: 01-MAY-2022\n",
      "FREQUENCY: TuringFrequencyTypes.SEMI_ANNUAL\n",
      "CALENDAR: TuringCalendarTypes.WEEKEND\n",
      "BUSDAYRULE: TuringBusDayAdjustTypes.FOLLOWING\n",
      "DATEGENRULE: TuringDateGenRuleTypes.BACKWARD\n",
      "\n",
      "PCD: 04-AUG-2016\n",
      "NCD: 01-NOV-2016\n",
      "     01-MAY-2017\n",
      "     01-NOV-2017\n",
      "     01-MAY-2018\n",
      "     01-NOV-2018\n",
      "     01-MAY-2019\n",
      "     01-NOV-2019\n",
      "     01-MAY-2020\n",
      "     02-NOV-2020\n",
      "     03-MAY-2021\n",
      "     01-NOV-2021\n",
      "     02-MAY-2022\n"
     ]
    }
   ],
   "source": [
    "print(schedule)"
   ]
  },
  {
   "cell_type": "code",
   "execution_count": 7,
   "metadata": {},
   "outputs": [],
   "source": [
    "freqType = TuringFrequencyTypes.SEMI_ANNUAL\n",
    "calendarType = TuringCalendarTypes.TARGET\n",
    "busDayAdjustType = TuringBusDayAdjustTypes.FOLLOWING\n",
    "dateGenRuleType = TuringDateGenRuleTypes.BACKWARD\n",
    "schedule = TuringSchedule(startDate, endDate, freqType, calendarType, busDayAdjustType, dateGenRuleType)"
   ]
  },
  {
   "cell_type": "code",
   "execution_count": 8,
   "metadata": {},
   "outputs": [
    {
     "name": "stdout",
     "output_type": "stream",
     "text": [
      "OBJECT TYPE: TuringSchedule\n",
      "EFFECTIVE DATE: 04-AUG-2016\n",
      "END DATE: 01-MAY-2022\n",
      "FREQUENCY: TuringFrequencyTypes.SEMI_ANNUAL\n",
      "CALENDAR: TuringCalendarTypes.TARGET\n",
      "BUSDAYRULE: TuringBusDayAdjustTypes.FOLLOWING\n",
      "DATEGENRULE: TuringDateGenRuleTypes.BACKWARD\n",
      "\n",
      "PCD: 04-AUG-2016\n",
      "NCD: 01-NOV-2016\n",
      "     02-MAY-2017\n",
      "     01-NOV-2017\n",
      "     02-MAY-2018\n",
      "     01-NOV-2018\n",
      "     02-MAY-2019\n",
      "     01-NOV-2019\n",
      "     04-MAY-2020\n",
      "     02-NOV-2020\n",
      "     03-MAY-2021\n",
      "     01-NOV-2021\n",
      "     02-MAY-2022\n"
     ]
    }
   ],
   "source": [
    "print(schedule)"
   ]
  },
  {
   "cell_type": "code",
   "execution_count": null,
   "metadata": {},
   "outputs": [],
   "source": []
  }
 ],
 "metadata": {
  "kernelspec": {
   "display_name": "Python 3",
   "language": "python",
   "name": "python3"
  },
  "language_info": {
   "codemirror_mode": {
    "name": "ipython",
    "version": 3
   },
   "file_extension": ".py",
   "mimetype": "text/x-python",
   "name": "python",
   "nbconvert_exporter": "python",
   "pygments_lexer": "ipython3",
   "version": "3.8.7"
  }
 },
 "nbformat": 4,
 "nbformat_minor": 2
}
