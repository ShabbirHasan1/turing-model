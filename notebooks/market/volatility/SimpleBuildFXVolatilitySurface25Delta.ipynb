{
 "cells": [
  {
   "cell_type": "markdown",
   "metadata": {},
   "source": [
    "# Simple Build FX Volatility Surface to ATM and 25D"
   ]
  },
  {
   "cell_type": "markdown",
   "metadata": {},
   "source": [
    "Construct an FX volatility surface to different terms using ATM volatility, risk reversals and strangles. The example is taken from the book by Iain Clarke (see Tables 3.3 and 3.4 of the book)"
   ]
  },
  {
   "cell_type": "code",
   "execution_count": 46,
   "metadata": {
    "scrolled": false
   },
   "outputs": [],
   "source": [
    "from financepy.finutils.TuringDate import TuringDate\n",
    "from financepy.market.curves.TuringDiscountCurveFlat import *\n",
    "from financepy.market.volatility.TuringFXVolSurface import *"
   ]
  },
  {
   "cell_type": "code",
   "execution_count": 47,
   "metadata": {},
   "outputs": [],
   "source": [
    "valueDate = TuringDate(10, 4, 2020)"
   ]
  },
  {
   "cell_type": "code",
   "execution_count": 48,
   "metadata": {},
   "outputs": [],
   "source": [
    "forName = \"EUR\"\n",
    "domName = \"USD\"\n",
    "currencyPair = forName + domName\n",
    "spotFXRate = 1.3465"
   ]
  },
  {
   "cell_type": "code",
   "execution_count": 49,
   "metadata": {},
   "outputs": [],
   "source": [
    "forCCRate = 0.03460  # EUR\n",
    "domCCRate = 0.02940  # USD"
   ]
  },
  {
   "cell_type": "code",
   "execution_count": 50,
   "metadata": {},
   "outputs": [],
   "source": [
    "domDiscountCurve = TuringDiscountCurveFlat(valueDate, domCCRate)\n",
    "forDiscountCurve = TuringDiscountCurveFlat(valueDate, forCCRate)"
   ]
  },
  {
   "cell_type": "code",
   "execution_count": 51,
   "metadata": {},
   "outputs": [],
   "source": [
    "tenors = ['1M', '2M', '3M', '6M', '1Y', '2Y']\n",
    "atmVols = [21.00, 21.00, 20.750, 19.400, 18.250, 17.677]\n",
    "marketStrangle25DeltaVols = [0.65, 0.75, 0.85, 0.90, 0.95, 0.85]\n",
    "riskReversal25DeltaVols = [-0.20, -0.25, -0.30, -0.50, -0.60, -0.562]"
   ]
  },
  {
   "cell_type": "code",
   "execution_count": 52,
   "metadata": {},
   "outputs": [],
   "source": [
    "notionalCurrency = forName"
   ]
  },
  {
   "cell_type": "code",
   "execution_count": 53,
   "metadata": {},
   "outputs": [],
   "source": [
    "atmMethod = TuringFXATMMethod.FWD_DELTA_NEUTRAL\n",
    "deltaMethod = TuringFXDeltaMethod.SPOT_DELTA"
   ]
  },
  {
   "cell_type": "code",
   "execution_count": 54,
   "metadata": {},
   "outputs": [],
   "source": [
    "fxMarket = TuringFXVolSurface(valueDate,\n",
    "                              spotFXRate,\n",
    "                              currencyPair,\n",
    "                              notionalCurrency,\n",
    "                              domDiscountCurve,\n",
    "                              forDiscountCurve,\n",
    "                              tenors,\n",
    "                              atmVols,\n",
    "                              marketStrangle25DeltaVols,\n",
    "                              riskReversal25DeltaVols,\n",
    "                              atmMethod,\n",
    "                              deltaMethod)"
   ]
  },
  {
   "cell_type": "code",
   "execution_count": 55,
   "metadata": {
    "scrolled": false
   },
   "outputs": [
    {
     "name": "stdout",
     "output_type": "stream",
     "text": [
      "==========================================================\n",
      "VALUE DATE: 10-APR-2020\n",
      "SPOT FX RATE: 1.3465\n",
      "ATM METHOD: TuringFXATMMethod.FWD_DELTA_NEUTRAL\n",
      "DELTA METHOD: TuringFXDeltaMethod.SPOT_DELTA\n",
      "==========================================================\n",
      "TENOR: 1M\n",
      "EXPIRY DATE: 10-MAY-2020\n",
      "IN ATM VOL: 21.000000 %\n",
      "IN MKT STRANGLE 25D VOL:  0.650000 %\n",
      "IN RSK REVERSAL 25D VOL: -0.200000 %\n",
      "==========================================================\n",
      "T_(YEARS):  0.0821917808219178\n",
      "CNT_CPD_RD: 2.931967 %\n",
      "CNT_CPD_RF: 3.450546 %\n",
      "FWD_RATE:   1.345926\n",
      "==========================================================\n",
      "VOL FUNCTION TuringVolFunctionTypes.CLARK\n",
      "VOL_PARAMETERS: [-1.56039707  0.026482    0.46557938]\n",
      "==========================================================\n",
      "OUT_K_ATM:   1.348368\n",
      "OUT_ATM_VOL: 20.999997 %\n",
      "CALL_DELTA:  0.498584  PUT_DELTA: -0.498584  NET_DELTA: -0.000000\n",
      "==========================================================\n",
      "MKT STRANGLE VOL IN:  0.650000 %\n",
      "K_25D_C_MS:  1.405980  ATM + MSVOL: 21.650000 %   DELTA:  0.250000\n",
      "K_25D_P_MS:  1.293411  ATM + MSVOL: 21.650000 %   DELTA: -0.250000\n",
      "CALL_VALUE:  0.012099  PUT_VALUE:  0.012876  MS_VALUE:  0.024975\n",
      "K_25D_C_MS:  1.405980  SURFACE_VOL: 21.555117 %   DELTA:  0.248975\n",
      "K_25D_P_MS:  1.293411  SURFACE_VOL: 21.744844 %   DELTA: -0.250845\n",
      "CALL_VALUE:  0.011983  PUT_VALUE:  0.012992  MS_SKEW_VALUE:  0.024975\n",
      "K_25D_C: 1.4056844  VOL: 21.550016  DELTA:  0.250000\n",
      "K_25D_P: 1.2931844  VOL: 21.750018  DELTA: -0.250000\n",
      "==========================================================\n",
      "RR = VOL_K_25_C - VOL_K_25_P => RR_IN: -0.200000 % RR_OUT: -0.200002 %\n",
      "==========================================================\n",
      "TENOR: 2M\n",
      "EXPIRY DATE: 10-JUN-2020\n",
      "IN ATM VOL: 21.000000 %\n",
      "IN MKT STRANGLE 25D VOL:  0.750000 %\n",
      "IN RSK REVERSAL 25D VOL: -0.250000 %\n",
      "==========================================================\n",
      "T_(YEARS):  0.16712328767123288\n",
      "CNT_CPD_RD: 2.931967 %\n",
      "CNT_CPD_RF: 3.450546 %\n",
      "FWD_RATE:   1.345334\n",
      "==========================================================\n",
      "VOL FUNCTION TuringVolFunctionTypes.CLARK\n",
      "VOL_PARAMETERS: [-1.56017823  0.03659808  0.53521146]\n",
      "==========================================================\n",
      "OUT_K_ATM:   1.350300\n",
      "OUT_ATM_VOL: 21.000000 %\n",
      "CALL_DELTA:  0.497125  PUT_DELTA: -0.497125  NET_DELTA: -0.000000\n",
      "==========================================================\n",
      "MKT STRANGLE VOL IN:  0.750000 %\n",
      "K_25D_C_MS:  1.433564  ATM + MSVOL: 21.750000 %   DELTA:  0.250000\n",
      "K_25D_P_MS:  1.272554  ATM + MSVOL: 21.750000 %   DELTA: -0.250000\n",
      "CALL_VALUE:  0.017123  PUT_VALUE:  0.018721  MS_VALUE:  0.035843\n",
      "K_25D_C_MS:  1.433564  SURFACE_VOL: 21.632201 %   DELTA:  0.248693\n",
      "K_25D_P_MS:  1.272554  SURFACE_VOL: 21.867509 %   DELTA: -0.250990\n",
      "CALL_VALUE:  0.016918  PUT_VALUE:  0.018926  MS_SKEW_VALUE:  0.035843\n",
      "K_25D_C: 1.4330071  VOL: 21.624707  DELTA:  0.250000\n",
      "K_25D_P: 1.2721777  VOL: 21.874709  DELTA: -0.250000\n",
      "==========================================================\n",
      "RR = VOL_K_25_C - VOL_K_25_P => RR_IN: -0.250000 % RR_OUT: -0.250002 %\n",
      "==========================================================\n",
      "TENOR: 3M\n",
      "EXPIRY DATE: 10-JUL-2020\n",
      "IN ATM VOL: 20.750000 %\n",
      "IN MKT STRANGLE 25D VOL:  0.850000 %\n",
      "IN RSK REVERSAL 25D VOL: -0.300000 %\n",
      "==========================================================\n",
      "T_(YEARS):  0.2493150684931507\n",
      "CNT_CPD_RD: 2.931967 %\n",
      "CNT_CPD_RF: 3.450546 %\n",
      "FWD_RATE:   1.344760\n",
      "==========================================================\n",
      "VOL FUNCTION TuringVolFunctionTypes.CLARK\n",
      "VOL_PARAMETERS: [-1.57191879  0.0467967   0.61110775]\n",
      "==========================================================\n",
      "OUT_K_ATM:   1.351997\n",
      "OUT_ATM_VOL: 20.749990 %\n",
      "CALL_DELTA:  0.495717  PUT_DELTA: -0.495717  NET_DELTA: -0.000000\n",
      "==========================================================\n",
      "MKT STRANGLE VOL IN:  0.850000 %\n",
      "K_25D_C_MS:  1.453603  ATM + MSVOL: 21.600000 %   DELTA:  0.250000\n",
      "K_25D_P_MS:  1.258623  ATM + MSVOL: 21.600000 %   DELTA: -0.250000\n",
      "CALL_VALUE:  0.020598  PUT_VALUE:  0.022954  MS_VALUE:  0.043553\n",
      "K_25D_C_MS:  1.453603  SURFACE_VOL: 21.459893 %   DELTA:  0.248401\n",
      "K_25D_P_MS:  1.258623  SURFACE_VOL: 21.739823 %   DELTA: -0.251140\n",
      "CALL_VALUE:  0.020300  PUT_VALUE:  0.023252  MS_SKEW_VALUE:  0.043553\n",
      "K_25D_C: 1.4527564  VOL: 21.449473  DELTA:  0.250000\n",
      "K_25D_P: 1.2580974  VOL: 21.749470  DELTA: -0.250000\n",
      "==========================================================\n",
      "RR = VOL_K_25_C - VOL_K_25_P => RR_IN: -0.300000 % RR_OUT: -0.299997 %\n",
      "==========================================================\n",
      "TENOR: 6M\n",
      "EXPIRY DATE: 10-OCT-2020\n",
      "IN ATM VOL: 19.400000 %\n",
      "IN MKT STRANGLE 25D VOL:  0.900000 %\n",
      "IN RSK REVERSAL 25D VOL: -0.500000 %\n",
      "==========================================================\n",
      "T_(YEARS):  0.5013698630136987\n",
      "CNT_CPD_RD: 2.931967 %\n",
      "CNT_CPD_RF: 3.450546 %\n",
      "FWD_RATE:   1.343004\n",
      "==========================================================\n",
      "VOL FUNCTION TuringVolFunctionTypes.CLARK\n",
      "VOL_PARAMETERS: [-1.63829292  0.07769215  0.69668799]\n",
      "==========================================================\n",
      "OUT_K_ATM:   1.355735\n",
      "OUT_ATM_VOL: 19.400020 %\n",
      "CALL_DELTA:  0.491424  PUT_DELTA: -0.491424  NET_DELTA:  0.000000\n",
      "==========================================================\n",
      "MKT STRANGLE VOL IN:  0.900000 %\n",
      "K_25D_C_MS:  1.492161  ATM + MSVOL: 20.300000 %   DELTA:  0.250000\n",
      "K_25D_P_MS:  1.233990  ATM + MSVOL: 20.300000 %   DELTA: -0.250000\n",
      "CALL_VALUE:  0.027056  PUT_VALUE:  0.031269  MS_VALUE:  0.058325\n",
      "K_25D_C_MS:  1.492161  SURFACE_VOL: 20.067903 %   DELTA:  0.247079\n",
      "K_25D_P_MS:  1.233990  SURFACE_VOL: 20.530826 %   DELTA: -0.251833\n",
      "CALL_VALUE:  0.026360  PUT_VALUE:  0.031964  MS_SKEW_VALUE:  0.058324\n",
      "K_25D_C: 1.4900290  VOL: 20.048749  DELTA:  0.250000\n",
      "K_25D_P: 1.2328686  VOL: 20.548751  DELTA: -0.250000\n",
      "==========================================================\n",
      "RR = VOL_K_25_C - VOL_K_25_P => RR_IN: -0.500000 % RR_OUT: -0.500001 %\n",
      "==========================================================\n",
      "TENOR: 1Y\n",
      "EXPIRY DATE: 10-APR-2021\n",
      "IN ATM VOL: 18.250000 %\n",
      "IN MKT STRANGLE 25D VOL:  0.950000 %\n",
      "IN RSK REVERSAL 25D VOL: -0.600000 %\n",
      "==========================================================\n",
      "T_(YEARS):  1.0\n",
      "CNT_CPD_RD: 2.934146 %\n",
      "CNT_CPD_RF: 3.453111 %\n",
      "FWD_RATE:   1.339530\n",
      "==========================================================\n",
      "VOL FUNCTION TuringVolFunctionTypes.CLARK\n",
      "VOL_PARAMETERS: [-1.69812605  0.10861633  0.80402813]\n",
      "==========================================================\n",
      "OUT_K_ATM:   1.362024\n",
      "OUT_ATM_VOL: 18.249969 %\n",
      "CALL_DELTA:  0.483029  PUT_DELTA: -0.483029  NET_DELTA: -0.000000\n",
      "==========================================================\n",
      "MKT STRANGLE VOL IN:  0.950000 %\n",
      "K_25D_C_MS:  1.544954  ATM + MSVOL: 19.200000 %   DELTA:  0.250000\n",
      "K_25D_P_MS:  1.205034  ATM + MSVOL: 19.200000 %   DELTA: -0.250000\n",
      "CALL_VALUE:  0.035509  PUT_VALUE:  0.043124  MS_VALUE:  0.078632\n",
      "K_25D_C_MS:  1.544954  SURFACE_VOL: 18.923635 %   DELTA:  0.246191\n",
      "K_25D_P_MS:  1.205034  SURFACE_VOL: 19.474793 %   DELTA: -0.252005\n",
      "CALL_VALUE:  0.034350  PUT_VALUE:  0.044283  MS_SKEW_VALUE:  0.078633\n",
      "K_25D_C: 1.5410396  VOL: 18.897114  DELTA:  0.250000\n",
      "K_25D_P: 1.2034110  VOL: 19.497112  DELTA: -0.250000\n",
      "==========================================================\n",
      "RR = VOL_K_25_C - VOL_K_25_P => RR_IN: -0.600000 % RR_OUT: -0.599998 %\n",
      "==========================================================\n",
      "TENOR: 2Y\n",
      "EXPIRY DATE: 10-APR-2022\n",
      "IN ATM VOL: 17.677000 %\n",
      "IN MKT STRANGLE 25D VOL:  0.850000 %\n",
      "IN RSK REVERSAL 25D VOL: -0.562000 %\n",
      "==========================================================\n",
      "T_(YEARS):  2.0\n",
      "CNT_CPD_RD: 2.937073 %\n",
      "CNT_CPD_RF: 3.456555 %\n",
      "FWD_RATE:   1.332583\n",
      "==========================================================\n",
      "VOL FUNCTION TuringVolFunctionTypes.CLARK\n",
      "VOL_PARAMETERS: [-1.72842571  0.13084341  0.81515585]\n",
      "==========================================================\n",
      "OUT_K_ATM:   1.374880\n",
      "OUT_ATM_VOL: 17.676999 %\n",
      "CALL_DELTA:  0.466602  PUT_DELTA: -0.466602  NET_DELTA: -0.000000\n",
      "==========================================================\n",
      "MKT STRANGLE VOL IN:  0.850000 %\n",
      "K_25D_C_MS:  1.622032  ATM + MSVOL: 18.527000 %   DELTA:  0.250000\n",
      "K_25D_P_MS:  1.172582  ATM + MSVOL: 18.527000 %   DELTA: -0.250000\n",
      "CALL_VALUE:  0.047392  PUT_VALUE:  0.061950  MS_VALUE:  0.109342\n",
      "K_25D_C_MS:  1.622032  SURFACE_VOL: 18.265957 %   DELTA:  0.246153\n",
      "K_25D_P_MS:  1.172582  SURFACE_VOL: 18.786634 %   DELTA: -0.251512\n",
      "CALL_VALUE:  0.045870  PUT_VALUE:  0.063472  MS_SKEW_VALUE:  0.109342\n",
      "K_25D_C: 1.6162740  VOL: 18.240970  DELTA:  0.250000\n",
      "K_25D_P: 1.1709574  VOL: 18.802970  DELTA: -0.250000\n",
      "==========================================================\n",
      "RR = VOL_K_25_C - VOL_K_25_P => RR_IN: -0.562000 % RR_OUT: -0.562000 %\n",
      "==========================================================\n"
     ]
    }
   ],
   "source": [
    "fxMarket.checkCalibration(True)"
   ]
  },
  {
   "cell_type": "code",
   "execution_count": 61,
   "metadata": {},
   "outputs": [
    {
     "data": {
      "image/png": "[encoded data removed]",
      "text/plain": [
       "<Figure size 432x288 with 1 Axes>"
      ]
     },
     "metadata": {
      "needs_background": "light"
     },
     "output_type": "display_data"
    }
   ],
   "source": [
    "fxMarket.plotVolCurves()"
   ]
  },
  {
   "cell_type": "markdown",
   "metadata": {},
   "source": [
    "## Extracting Information from Volatility Surface"
   ]
  },
  {
   "cell_type": "code",
   "execution_count": 57,
   "metadata": {},
   "outputs": [
    {
     "data": {
      "text/plain": [
       "array([1.3459262 , 1.34533354, 1.34476024, 1.34300365, 1.33953024,\n",
       "       1.33258276])"
      ]
     },
     "execution_count": 57,
     "metadata": {},
     "output_type": "execute_result"
    }
   ],
   "source": [
    "fxMarket._F0T"
   ]
  },
  {
   "cell_type": "code",
   "execution_count": 58,
   "metadata": {},
   "outputs": [
    {
     "data": {
      "text/plain": [
       "array([[-1.56039707,  0.026482  ,  0.46557938],\n",
       "       [-1.56017823,  0.03659808,  0.53521146],\n",
       "       [-1.57191879,  0.0467967 ,  0.61110775],\n",
       "       [-1.63829292,  0.07769215,  0.69668799],\n",
       "       [-1.69812605,  0.10861633,  0.80402813],\n",
       "       [-1.72842571,  0.13084341,  0.81515585]])"
      ]
     },
     "execution_count": 58,
     "metadata": {},
     "output_type": "execute_result"
    }
   ],
   "source": [
    "fxMarket._parameters"
   ]
  },
  {
   "cell_type": "markdown",
   "metadata": {},
   "source": [
    "We can extract information from the volatility surface"
   ]
  },
  {
   "cell_type": "code",
   "execution_count": 59,
   "metadata": {},
   "outputs": [],
   "source": [
    "expiryDates = valueDate.addTenor(tenors)"
   ]
  },
  {
   "cell_type": "code",
   "execution_count": 60,
   "metadata": {},
   "outputs": [],
   "source": [
    "K = fxMarket._K_ATM[0]"
   ]
  },
  {
   "cell_type": "markdown",
   "metadata": {},
   "source": [
    "The zeroth curve is the 1M volatility smile"
   ]
  },
  {
   "cell_type": "code",
   "execution_count": 43,
   "metadata": {},
   "outputs": [
    {
     "data": {
      "text/plain": [
       "(1.3483676767457906, 0.20999997223674172)"
      ]
     },
     "execution_count": 43,
     "metadata": {},
     "output_type": "execute_result"
    }
   ],
   "source": [
    "K, fxMarket.volatility(K, expiryDates[0])"
   ]
  },
  {
   "cell_type": "markdown",
   "metadata": {},
   "source": [
    "The fifth curve is the 2Y volatility smile"
   ]
  },
  {
   "cell_type": "code",
   "execution_count": 44,
   "metadata": {},
   "outputs": [],
   "source": [
    "K = fxMarket._K_ATM[-1]"
   ]
  },
  {
   "cell_type": "code",
   "execution_count": 45,
   "metadata": {},
   "outputs": [
    {
     "data": {
      "text/plain": [
       "(1.3748802277559837, 0.17676998922090384)"
      ]
     },
     "execution_count": 45,
     "metadata": {},
     "output_type": "execute_result"
    }
   ],
   "source": [
    "K, fxMarket.volatility(K,expiryDates[-1])"
   ]
  },
  {
   "cell_type": "markdown",
   "metadata": {},
   "source": [
    "Copyright (c) 2020 Dominic O'Kane"
   ]
  }
 ],
 "metadata": {
  "kernelspec": {
   "display_name": "Python 3",
   "language": "python",
   "name": "python3"
  },
  "language_info": {
   "codemirror_mode": {
    "name": "ipython",
    "version": 3
   },
   "file_extension": ".py",
   "mimetype": "text/x-python",
   "name": "python",
   "nbconvert_exporter": "python",
   "pygments_lexer": "ipython3",
   "version": "3.8.5"
  }
 },
 "nbformat": 4,
 "nbformat_minor": 4
}
