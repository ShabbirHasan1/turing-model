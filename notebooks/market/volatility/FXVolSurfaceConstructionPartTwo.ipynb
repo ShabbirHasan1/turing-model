{
 "cells": [
  {
   "cell_type": "markdown",
   "metadata": {},
   "source": [
    "# CONSTRUCTION OF FX VOL SURFACE - PART II"
   ]
  },
  {
   "cell_type": "markdown",
   "metadata": {},
   "source": [
    "In this notebook I show how you can calibrate to the FX Vol Surface to ATM, 25D and 10D at one expiry date and analyse different volatility interpolation methods."
   ]
  },
  {
   "cell_type": "code",
   "execution_count": 1,
   "metadata": {},
   "outputs": [],
   "source": [
    "import numpy as np\n",
    "import matplotlib.pyplot as plt"
   ]
  },
  {
   "cell_type": "code",
   "execution_count": 2,
   "metadata": {},
   "outputs": [
    {
     "name": "stdout",
     "output_type": "stream",
     "text": [
      "####################################################################\n",
      "# FINANCEPY BETA Version 0.191 - This build:  06 Jan 2021 at 21:06 #\n",
      "#      This software is distributed FREE & WITHOUT ANY WARRANTY    #\n",
      "# For info and disclaimer - https://github.com/domokane/FinancePy  #\n",
      "#      Send any bug reports or comments to quant@financepy.com     #\n",
      "####################################################################\n",
      "\n"
     ]
    }
   ],
   "source": [
    "from financepy.finutils import *\n",
    "from financepy.models.FinModelBlackScholes import *\n",
    "from financepy.products.fx import *\n",
    "from financepy.market.curves import TuringDiscountCurveFlat\n",
    "from financepy.market.volatility import *"
   ]
  },
  {
   "cell_type": "markdown",
   "metadata": {},
   "source": [
    "## Load the Volatility Market Quotes"
   ]
  },
  {
   "cell_type": "code",
   "execution_count": 3,
   "metadata": {},
   "outputs": [],
   "source": [
    "valueDate = TuringDate(10, 4, 2020)"
   ]
  },
  {
   "cell_type": "code",
   "execution_count": 4,
   "metadata": {},
   "outputs": [],
   "source": [
    "forName = \"EUR\"\n",
    "domName = \"USD\"\n",
    "forCCRate = 0.03460  # EUR\n",
    "domCCRate = 0.02940  # USD"
   ]
  },
  {
   "cell_type": "markdown",
   "metadata": {},
   "source": [
    "We need to set up the option details - what you would find in the Term Sheet."
   ]
  },
  {
   "cell_type": "code",
   "execution_count": 5,
   "metadata": {},
   "outputs": [],
   "source": [
    "domDiscountCurve = TuringDiscountCurveFlat(valueDate, domCCRate)\n",
    "forDiscountCurve = TuringDiscountCurveFlat(valueDate, forCCRate)"
   ]
  },
  {
   "cell_type": "code",
   "execution_count": 6,
   "metadata": {},
   "outputs": [],
   "source": [
    "currencyPair = forName + domName\n",
    "spotFXRate = 1.3465        "
   ]
  },
  {
   "cell_type": "markdown",
   "metadata": {},
   "source": [
    "I now load the option tenor, the ATM vol and the market strangle and risk-reversal quotes."
   ]
  },
  {
   "cell_type": "code",
   "execution_count": 7,
   "metadata": {},
   "outputs": [],
   "source": [
    "tenors = ['1Y']\n",
    "atmVols = [18.250]\n",
    "ms25DeltaVols = [0.95]\n",
    "rr25DeltaVols = [-0.60]\n",
    "ms10DeltaVols = [3.806]\n",
    "rr10DeltaVols = [-1.359]"
   ]
  },
  {
   "cell_type": "markdown",
   "metadata": {},
   "source": [
    "We need to set some parameters for the vol surface."
   ]
  },
  {
   "cell_type": "code",
   "execution_count": 11,
   "metadata": {},
   "outputs": [],
   "source": [
    "notionalCurrency = forName\n",
    "atmMethod = TuringFXATMMethod.FWD_DELTA_NEUTRAL\n",
    "deltaMethod = TuringFXDeltaMethod.SPOT_DELTA\n",
    "alpha = 0.50"
   ]
  },
  {
   "cell_type": "code",
   "execution_count": 12,
   "metadata": {},
   "outputs": [],
   "source": [
    "fxVolSurfaceClark = TuringFXVolSurfacePlus(valueDate, spotFXRate, currencyPair, notionalCurrency,\n",
    "                                       domDiscountCurve, forDiscountCurve,\n",
    "                                       tenors, atmVols, \n",
    "                                        ms25DeltaVols, rr25DeltaVols, \n",
    "                                        ms10DeltaVols, rr10DeltaVols,\n",
    "                                        alpha,\n",
    "                                        atmMethod, deltaMethod, \n",
    "                                        TuringVolFunctionTypes.CLARK)"
   ]
  },
  {
   "cell_type": "code",
   "execution_count": 13,
   "metadata": {},
   "outputs": [],
   "source": [
    "fxVolSurfaceSABR = TuringFXVolSurfacePlus(valueDate, spotFXRate, currencyPair, notionalCurrency,\n",
    "                                       domDiscountCurve, forDiscountCurve,\n",
    "                                       tenors, atmVols,\n",
    "                                       ms25DeltaVols, rr25DeltaVols, \n",
    "                                       ms10DeltaVols, rr10DeltaVols,\n",
    "                                       alpha,\n",
    "                                       atmMethod, deltaMethod, \n",
    "                                       TuringVolFunctionTypes.SABR)"
   ]
  },
  {
   "cell_type": "code",
   "execution_count": 14,
   "metadata": {},
   "outputs": [],
   "source": [
    "fxVolSurfaceBBG = TuringFXVolSurfacePlus(valueDate, spotFXRate, currencyPair, notionalCurrency,\n",
    "                                       domDiscountCurve, forDiscountCurve,\n",
    "                                       tenors, atmVols, \n",
    "                                       ms25DeltaVols, rr25DeltaVols, \n",
    "                                       ms10DeltaVols, rr25DeltaVols,\n",
    "                                       alpha,\n",
    "                                       atmMethod, deltaMethod, \n",
    "                                       TuringVolFunctionTypes.BBG)"
   ]
  },
  {
   "cell_type": "markdown",
   "metadata": {},
   "source": [
    "We can examine the calibration"
   ]
  },
  {
   "cell_type": "code",
   "execution_count": 15,
   "metadata": {},
   "outputs": [
    {
     "name": "stdout",
     "output_type": "stream",
     "text": [
      "==========================================================\n",
      "VALUE DATE: 10-APR-2020\n",
      "SPOT FX RATE: 1.3465\n",
      "ALPHA WEIGHT:: 0.5\n",
      "ATM METHOD: TuringFXATMMethod.FWD_DELTA_NEUTRAL\n",
      "DELTA METHOD: TuringFXDeltaMethod.SPOT_DELTA\n",
      "==========================================================\n",
      "TENOR: 1Y\n",
      "EXPIRY DATE: 10-APR-2021\n",
      "IN ATM VOL: 18.250000 %\n",
      "IN MKT STRANGLE 25D VOL:  0.950000 %\n",
      "IN RSK REVERSAL 25D VOL: -0.600000 %\n",
      "IN MKT STRANGLE 10D VOL:  3.806000 %\n",
      "IN RSK REVERSAL 10D VOL: -1.359000 %\n",
      "==========================================================\n",
      "T_(YEARS):  1.0\n",
      "CNT_CPD_RD: 2.934146 %\n",
      "CNT_CPD_RF: 3.453111 %\n",
      "FWD_RATE:   1.339530\n",
      "==========================================================\n",
      "VOL FUNCTION TuringVolFunctionTypes.CLARK\n",
      "VOL_PARAMETERS: [-1.69968467  0.09711659  0.92890566]\n",
      "==========================================================\n",
      "OUT_K_ATM:   1.362024\n",
      "OUT_ATM_VOL: 18.232105 %\n",
      "FAILED FIT TO ATM VOL IN: 18.250000  OUT: 18.232105  DIFF: -0.017895\n",
      "CALL_DELTA:  0.482960  PUT_DELTA: -0.483098  NET_DELTA: -0.000138\n",
      "==========================================================\n",
      "MKT STRANGLE 25D VOL IN:  0.950000 %\n",
      "K_25D_C_MS:  1.544954  ATM + MSVOL: 19.200000 %   DELTA:  0.250000\n",
      "K_25D_P_MS:  1.205034  ATM + MSVOL: 19.200000 %   DELTA: -0.250000\n",
      "CALL_VALUE:  0.035509  PUT_VALUE:  0.043124  MS_VALUE:  0.078632\n",
      "K_25D_C_MS:  1.544954  SURFACE_VOL: 19.147907 %   DELTA:  0.249287\n",
      "K_25D_P_MS:  1.205034  SURFACE_VOL: 19.514558 %   DELTA: -0.252291\n",
      "CALL_VALUE:  0.035290  PUT_VALUE:  0.044451  MS_SKEW_VALUE:  0.079740\n",
      "FAILED FIT TO 25D MS VAL:  0.078632  OUT:  0.079740  DIFF: -0.001108\n",
      "K_25D_C: 1.5441953  VOL: 19.141436  DELTA:  0.250000\n",
      "K_25D_P: 1.2031623  VOL: 19.542851  DELTA: -0.250000\n",
      "==========================================================\n",
      "RR = VOL_K_25_C - VOL_K_25_P => RR_IN: -0.600000 % RR_OUT: -0.401415 %\n",
      "==========================================================\n",
      "FAILED FIT TO 25D RRV IN: -0.600000  OUT: -0.401415  DIFF:  0.198585\n",
      "==========================================================\n",
      "MKT STRANGLE 10D VOL IN:  3.806000 %\n",
      "K_10D_C_MS:  1.812924  ATM + MSVOL: 22.056000 %   DELTA:  0.100000\n",
      "K_10D_P_MS:  1.039088  ATM + MSVOL: 22.056000 %   DELTA: -0.100000\n",
      "CALL_VALUE:  0.012956  PUT_VALUE:  0.015582  MS_VALUE:  0.028538\n",
      "K_10D_C_MS:  1.812924  SURFACE_VOL: 21.130775 %   DELTA:  0.089205\n",
      "K_10D_P_MS:  1.039088  SURFACE_VOL: 22.379071 %   DELTA: -0.102634\n",
      "CALL_VALUE:  0.010876  PUT_VALUE:  0.016346  MS_SKEW_VALUE:  0.027222\n",
      "FAILED FIT TO 10D MS VAL:  0.028538  OUT:  0.027222  DIFF:  0.001316\n",
      "K_10D_C: 1.7844920  VOL: 20.985748  DELTA:  0.100000\n",
      "K_10D_P: 1.0349080  VOL: 22.443852  DELTA: -0.100000\n",
      "==========================================================\n",
      "RR = VOL_K_10D_C - VOL_K_10D_P => RR_IN: -1.359000 % RR_OUT: -1.458104 %\n",
      "==========================================================\n",
      "FAILED FIT TO 10D RRV IN: -1.359000  OUT: -1.458104  DIFF: -0.099104\n"
     ]
    }
   ],
   "source": [
    "fxVolSurfaceClark.checkCalibration(True)"
   ]
  },
  {
   "cell_type": "code",
   "execution_count": 16,
   "metadata": {},
   "outputs": [
    {
     "name": "stdout",
     "output_type": "stream",
     "text": [
      "==========================================================\n",
      "VALUE DATE: 10-APR-2020\n",
      "SPOT FX RATE: 1.3465\n",
      "ALPHA WEIGHT:: 0.5\n",
      "ATM METHOD: TuringFXATMMethod.FWD_DELTA_NEUTRAL\n",
      "DELTA METHOD: TuringFXDeltaMethod.SPOT_DELTA\n",
      "==========================================================\n",
      "TENOR: 1Y\n",
      "EXPIRY DATE: 10-APR-2021\n",
      "IN ATM VOL: 18.250000 %\n",
      "IN MKT STRANGLE 25D VOL:  0.950000 %\n",
      "IN RSK REVERSAL 25D VOL: -0.600000 %\n",
      "IN MKT STRANGLE 10D VOL:  3.806000 %\n",
      "IN RSK REVERSAL 10D VOL: -1.359000 %\n",
      "==========================================================\n",
      "T_(YEARS):  1.0\n",
      "CNT_CPD_RD: 2.934146 %\n",
      "CNT_CPD_RF: 3.453111 %\n",
      "FWD_RATE:   1.339530\n",
      "==========================================================\n",
      "VOL FUNCTION TuringVolFunctionTypes.SABR\n",
      "VOL_PARAMETERS: [ 0.18789677  0.73195374 -0.05170467  0.81429893]\n",
      "==========================================================\n",
      "OUT_K_ATM:   1.362024\n",
      "OUT_ATM_VOL: 18.248995 %\n",
      "FAILED FIT TO ATM VOL IN: 18.250000  OUT: 18.248995  DIFF: -0.001005\n",
      "CALL_DELTA:  0.483025  PUT_DELTA: -0.483033  NET_DELTA: -0.000008\n",
      "==========================================================\n",
      "MKT STRANGLE 25D VOL IN:  0.950000 %\n",
      "K_25D_C_MS:  1.544954  ATM + MSVOL: 19.200000 %   DELTA:  0.250000\n",
      "K_25D_P_MS:  1.205034  ATM + MSVOL: 19.200000 %   DELTA: -0.250000\n",
      "CALL_VALUE:  0.035509  PUT_VALUE:  0.043124  MS_VALUE:  0.078632\n",
      "K_25D_C_MS:  1.544954  SURFACE_VOL: 18.929509 %   DELTA:  0.246272\n",
      "K_25D_P_MS:  1.205034  SURFACE_VOL: 19.477039 %   DELTA: -0.252022\n",
      "CALL_VALUE:  0.034375  PUT_VALUE:  0.044292  MS_SKEW_VALUE:  0.078667\n",
      "FAILED FIT TO 25D MS VAL:  0.078632  OUT:  0.078667  DIFF: -0.000034\n",
      "K_25D_C: 1.5410715  VOL: 18.899590  DELTA:  0.250000\n",
      "K_25D_P: 1.2033981  VOL: 19.499483  DELTA: -0.250000\n",
      "==========================================================\n",
      "RR = VOL_K_25_C - VOL_K_25_P => RR_IN: -0.600000 % RR_OUT: -0.599894 %\n",
      "==========================================================\n",
      "FAILED FIT TO 25D RRV IN: -0.600000  OUT: -0.599894  DIFF:  0.000106\n",
      "==========================================================\n",
      "MKT STRANGLE 10D VOL IN:  3.806000 %\n",
      "K_10D_C_MS:  1.812924  ATM + MSVOL: 22.056000 %   DELTA:  0.100000\n",
      "K_10D_P_MS:  1.039088  ATM + MSVOL: 22.056000 %   DELTA: -0.100000\n",
      "CALL_VALUE:  0.012956  PUT_VALUE:  0.015582  MS_VALUE:  0.028538\n",
      "K_10D_C_MS:  1.812924  SURFACE_VOL: 21.542180 %   DELTA:  0.094000\n",
      "K_10D_P_MS:  1.039088  SURFACE_VOL: 22.543694 %   DELTA: -0.103963\n",
      "CALL_VALUE:  0.011780  PUT_VALUE:  0.016740  MS_SKEW_VALUE:  0.028520\n",
      "FAILED FIT TO 10D MS VAL:  0.028538  OUT:  0.028520  DIFF:  0.000018\n",
      "K_10D_C: 1.7938923  VOL: 21.342331  DELTA:  0.100000\n",
      "K_10D_P: 1.0321502  VOL: 22.701393  DELTA: -0.100000\n",
      "==========================================================\n",
      "RR = VOL_K_10D_C - VOL_K_10D_P => RR_IN: -1.359000 % RR_OUT: -1.359061 %\n",
      "==========================================================\n"
     ]
    }
   ],
   "source": [
    "fxVolSurfaceSABR.checkCalibration(True)"
   ]
  },
  {
   "cell_type": "code",
   "execution_count": 17,
   "metadata": {},
   "outputs": [
    {
     "name": "stdout",
     "output_type": "stream",
     "text": [
      "==========================================================\n",
      "VALUE DATE: 10-APR-2020\n",
      "SPOT FX RATE: 1.3465\n",
      "ALPHA WEIGHT:: 0.5\n",
      "ATM METHOD: TuringFXATMMethod.FWD_DELTA_NEUTRAL\n",
      "DELTA METHOD: TuringFXDeltaMethod.SPOT_DELTA\n",
      "==========================================================\n",
      "TENOR: 1Y\n",
      "EXPIRY DATE: 10-APR-2021\n",
      "IN ATM VOL: 18.250000 %\n",
      "IN MKT STRANGLE 25D VOL:  0.950000 %\n",
      "IN RSK REVERSAL 25D VOL: -0.600000 %\n",
      "IN MKT STRANGLE 10D VOL:  3.806000 %\n",
      "IN RSK REVERSAL 10D VOL: -0.600000 %\n",
      "==========================================================\n",
      "T_(YEARS):  1.0\n",
      "CNT_CPD_RD: 2.934146 %\n",
      "CNT_CPD_RF: 3.453111 %\n",
      "FWD_RATE:   1.339530\n",
      "==========================================================\n",
      "VOL FUNCTION TuringVolFunctionTypes.BBG\n",
      "VOL_PARAMETERS: [ 0.18978095 -0.18095151  0.22507029]\n",
      "==========================================================\n",
      "OUT_K_ATM:   1.362024\n",
      "OUT_ATM_VOL: 18.203815 %\n",
      "FAILED FIT TO ATM VOL IN: 18.250000  OUT: 18.203815  DIFF: -0.046185\n",
      "CALL_DELTA:  0.482851  PUT_DELTA: -0.483207  NET_DELTA: -0.000356\n",
      "==========================================================\n",
      "MKT STRANGLE 25D VOL IN:  0.950000 %\n",
      "K_25D_C_MS:  1.544954  ATM + MSVOL: 19.200000 %   DELTA:  0.250000\n",
      "K_25D_P_MS:  1.205034  ATM + MSVOL: 19.200000 %   DELTA: -0.250000\n",
      "CALL_VALUE:  0.035509  PUT_VALUE:  0.043124  MS_VALUE:  0.078632\n",
      "K_25D_C_MS:  1.544954  SURFACE_VOL: 19.219602 %   DELTA:  0.250268\n",
      "K_25D_P_MS:  1.205034  SURFACE_VOL: 19.603543 %   DELTA: -0.252924\n",
      "CALL_VALUE:  0.035591  PUT_VALUE:  0.044827  MS_SKEW_VALUE:  0.080418\n",
      "FAILED FIT TO 25D MS VAL:  0.078632  OUT:  0.080418  DIFF: -0.001786\n",
      "K_25D_C: 1.5452454  VOL: 19.222471  DELTA:  0.250000\n",
      "K_25D_P: 1.2026370  VOL: 19.639651  DELTA: -0.250000\n",
      "==========================================================\n",
      "RR = VOL_K_25_C - VOL_K_25_P => RR_IN: -0.600000 % RR_OUT: -0.417179 %\n",
      "==========================================================\n",
      "FAILED FIT TO 25D RRV IN: -0.600000  OUT: -0.417179  DIFF:  0.182821\n",
      "==========================================================\n",
      "MKT STRANGLE 10D VOL IN:  3.806000 %\n",
      "K_10D_C_MS:  1.812924  ATM + MSVOL: 22.056000 %   DELTA:  0.100000\n",
      "K_10D_P_MS:  1.039088  ATM + MSVOL: 22.056000 %   DELTA: -0.100000\n",
      "CALL_VALUE:  0.012956  PUT_VALUE:  0.015582  MS_VALUE:  0.028538\n",
      "K_10D_C_MS:  1.812924  SURFACE_VOL: 21.520595 %   DELTA:  0.093748\n",
      "K_10D_P_MS:  1.039088  SURFACE_VOL: 22.116554 %   DELTA: -0.100496\n",
      "CALL_VALUE:  0.011731  PUT_VALUE:  0.015724  MS_SKEW_VALUE:  0.027456\n",
      "FAILED FIT TO 10D MS VAL:  0.028538  OUT:  0.027456  DIFF:  0.001083\n",
      "K_10D_C: 1.7960150  VOL: 21.422474  DELTA:  0.100000\n",
      "K_10D_P: 1.0383353  VOL: 22.125616  DELTA: -0.100000\n",
      "==========================================================\n",
      "RR = VOL_K_10D_C - VOL_K_10D_P => RR_IN: -0.600000 % RR_OUT: -0.703142 %\n",
      "==========================================================\n",
      "FAILED FIT TO 10D RRV IN: -0.600000  OUT: -0.703142  DIFF: -0.103142\n"
     ]
    }
   ],
   "source": [
    "fxVolSurfaceBBG.checkCalibration(True)"
   ]
  },
  {
   "cell_type": "markdown",
   "metadata": {},
   "source": [
    "## Volatility Smile Analysis - Different Volatility Function Types"
   ]
  },
  {
   "cell_type": "code",
   "execution_count": 18,
   "metadata": {},
   "outputs": [],
   "source": [
    "strikes = np.linspace(0.5, 2.5, 1000)"
   ]
  },
  {
   "cell_type": "code",
   "execution_count": 19,
   "metadata": {},
   "outputs": [],
   "source": [
    "expiryDate = valueDate.addTenor(\"1Y\")"
   ]
  },
  {
   "cell_type": "code",
   "execution_count": 20,
   "metadata": {},
   "outputs": [],
   "source": [
    "volsClark = []\n",
    "volsSABR = []\n",
    "volsBBG = []\n",
    "\n",
    "for k in strikes:\n",
    "    volClark = fxVolSurfaceClark.volatility(k, expiryDate)\n",
    "    volSABR = fxVolSurfaceSABR.volatility(k, expiryDate)\n",
    "    volBBG = fxVolSurfaceBBG.volatility(k, expiryDate)\n",
    "    volsClark.append(volClark*100.0)    \n",
    "    volsSABR.append(volSABR*100.0)    \n",
    "    volsBBG.append(volBBG*100.0)    "
   ]
  },
  {
   "cell_type": "code",
   "execution_count": 21,
   "metadata": {},
   "outputs": [
    {
     "data": {
      "image/png": "[encoded data removed]",
      "text/plain": [
       "<Figure size 720x432 with 1 Axes>"
      ]
     },
     "metadata": {
      "needs_background": "light"
     },
     "output_type": "display_data"
    }
   ],
   "source": [
    "plt.figure(figsize=(10,6))\n",
    "plt.plot(strikes, volsClark, label=\"Clark\")\n",
    "plt.plot(strikes, volsSABR, label=\"SABR\")\n",
    "plt.plot(strikes, volsBBG, label=\"BBG\")\n",
    "plt.xlabel(\"Strike\")\n",
    "plt.ylabel(\"Black Scholes Volatility (%)\")\n",
    "plt.title(\"Comparison of Volatility Smiles\")\n",
    "plt.legend();"
   ]
  },
  {
   "cell_type": "markdown",
   "metadata": {},
   "source": [
    "## Implied FX Rate Probability Density Functions"
   ]
  },
  {
   "cell_type": "code",
   "execution_count": 22,
   "metadata": {},
   "outputs": [],
   "source": [
    "lower = 0.50\n",
    "upper = 2.25\n",
    "dbnClark = fxVolSurfaceClark.impliedDbns(lower, upper, 1000)\n",
    "dbnSABR = fxVolSurfaceSABR.impliedDbns(lower, upper, 1000)\n",
    "dbnBBG = fxVolSurfaceBBG.impliedDbns(lower, upper, 1000)"
   ]
  },
  {
   "cell_type": "code",
   "execution_count": 23,
   "metadata": {},
   "outputs": [
    {
     "data": {
      "image/png": "[encoded data removed]",
      "text/plain": [
       "<Figure size 720x432 with 1 Axes>"
      ]
     },
     "metadata": {
      "needs_background": "light"
     },
     "output_type": "display_data"
    }
   ],
   "source": [
    "plt.figure(figsize=(10,6))\n",
    "plt.plot(dbnClark[0]._x, dbnClark[0]._densitydx, label=\"Clark\")\n",
    "plt.plot(dbnSABR[0]._x, dbnSABR[0]._densitydx, label=\"SABR\")\n",
    "plt.plot(dbnBBG[0]._x, dbnBBG[0]._densitydx, label=\"BBG\")\n",
    "plt.title(\"Implied Probability Density Function\")\n",
    "plt.legend();"
   ]
  },
  {
   "cell_type": "markdown",
   "metadata": {},
   "source": [
    "## Expiry Date Interpolation"
   ]
  },
  {
   "cell_type": "markdown",
   "metadata": {},
   "source": [
    "We only have one expiry date. The volatility is therefore assumed to be flat at the level of this expiry date."
   ]
  },
  {
   "cell_type": "code",
   "execution_count": 24,
   "metadata": {},
   "outputs": [],
   "source": [
    "k = 1.30"
   ]
  },
  {
   "cell_type": "code",
   "execution_count": 25,
   "metadata": {},
   "outputs": [],
   "source": [
    "years = np.linspace(0.0, 2.0, 100)"
   ]
  },
  {
   "cell_type": "code",
   "execution_count": 26,
   "metadata": {},
   "outputs": [],
   "source": [
    "expiryDates = valueDate.addYears(years)"
   ]
  },
  {
   "cell_type": "code",
   "execution_count": 27,
   "metadata": {},
   "outputs": [],
   "source": [
    "volsClark = []\n",
    "volsSABR = []\n",
    "volsBBG = []\n",
    "\n",
    "for expiryDate in expiryDates:\n",
    "    \n",
    "    volClark = fxVolSurfaceClark.volatility(k, expiryDate)\n",
    "    volSABR = fxVolSurfaceSABR.volatility(k, expiryDate)\n",
    "    volBBG = fxVolSurfaceBBG.volatility(k, expiryDate)\n",
    "\n",
    "    volsClark.append(volClark*100.0)    \n",
    "    volsSABR.append(volSABR*100.0)    \n",
    "    volsBBG.append(volBBG*100.0)    "
   ]
  },
  {
   "cell_type": "code",
   "execution_count": 28,
   "metadata": {},
   "outputs": [
    {
     "data": {
      "image/png": "[encoded data removed]",
      "text/plain": [
       "<Figure size 720x432 with 1 Axes>"
      ]
     },
     "metadata": {
      "needs_background": "light"
     },
     "output_type": "display_data"
    }
   ],
   "source": [
    "plt.figure(figsize=(10,6))\n",
    "plt.plot(years, volsClark, label=\"Clark\")\n",
    "plt.plot(years, volsSABR, label=\"SABR\")\n",
    "plt.plot(years, volsBBG, label=\"BBG\")\n",
    "plt.xlabel(\"Years\")\n",
    "plt.ylabel(\"Black Scholes Volatility (%)\")\n",
    "plt.title(\"Comparison of Volatility Time Interpolation\")\n",
    "plt.legend();"
   ]
  },
  {
   "cell_type": "markdown",
   "metadata": {},
   "source": [
    "Copyright (c) 2020, Dominic O'Kane "
   ]
  }
 ],
 "metadata": {
  "kernelspec": {
   "display_name": "Python 3",
   "language": "python",
   "name": "python3"
  },
  "language_info": {
   "codemirror_mode": {
    "name": "ipython",
    "version": 3
   },
   "file_extension": ".py",
   "mimetype": "text/x-python",
   "name": "python",
   "nbconvert_exporter": "python",
   "pygments_lexer": "ipython3",
   "version": "3.8.5"
  }
 },
 "nbformat": 4,
 "nbformat_minor": 2
}
