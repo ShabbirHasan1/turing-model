{
 "cells": [
  {
   "cell_type": "markdown",
   "metadata": {},
   "source": [
    "# Examination of the FinFlatCurve"
   ]
  },
  {
   "cell_type": "markdown",
   "metadata": {},
   "source": [
    "Examine the impact of changing the compunding frequency"
   ]
  },
  {
   "cell_type": "code",
   "execution_count": 1,
   "metadata": {},
   "outputs": [],
   "source": [
    "import numpy as np"
   ]
  },
  {
   "cell_type": "code",
   "execution_count": 2,
   "metadata": {},
   "outputs": [
    {
     "name": "stdout",
     "output_type": "stream",
     "text": [
      "###################################################################\n",
      "# FINANCEPY BETA Version 0.180 - This build: 06 Sep 2020 at 16:42 #\n",
      "#     This software is distributed FREE & WITHOUT ANY WARRANTY    #\n",
      "# For info and disclaimer - https://github.com/domokane/FinancePy #\n",
      "###################################################################\n",
      "\n"
     ]
    }
   ],
   "source": [
    "from financepy.market.curves.TuringDiscountCurveFlat import TuringDiscountCurveFlat\n",
    "from financepy.finutils import *"
   ]
  },
  {
   "cell_type": "code",
   "execution_count": 3,
   "metadata": {},
   "outputs": [],
   "source": [
    "curveDate = TuringDate(2, 2, 2019)\n",
    "times = np.linspace(0.0, 1.0, 5)"
   ]
  },
  {
   "cell_type": "code",
   "execution_count": 4,
   "metadata": {},
   "outputs": [
    {
     "data": {
      "text/plain": [
       "array([0.  , 0.25, 0.5 , 0.75, 1.  ])"
      ]
     },
     "execution_count": 4,
     "metadata": {},
     "output_type": "execute_result"
    }
   ],
   "source": [
    "times"
   ]
  },
  {
   "cell_type": "code",
   "execution_count": 5,
   "metadata": {},
   "outputs": [],
   "source": [
    "dates = curveDate.addYears(times)"
   ]
  },
  {
   "cell_type": "code",
   "execution_count": 6,
   "metadata": {},
   "outputs": [
    {
     "name": "stdout",
     "output_type": "stream",
     "text": [
      "[SAT 02 FEB 2019, THU 02 MAY 2019, FRI 02 AUG 2019, SAT 02 NOV 2019, SUN 02 FEB 2020]\n"
     ]
    }
   ],
   "source": [
    "print(dates)"
   ]
  },
  {
   "cell_type": "code",
   "execution_count": 7,
   "metadata": {},
   "outputs": [
    {
     "name": "stdout",
     "output_type": "stream",
     "text": [
      "COMPOUNDING DFS\n"
     ]
    }
   ],
   "source": [
    "print(\"COMPOUNDING\", \"DFS\")"
   ]
  },
  {
   "cell_type": "code",
   "execution_count": 8,
   "metadata": {},
   "outputs": [
    {
     "name": "stdout",
     "output_type": "stream",
     "text": [
      "TuringFrequencyTypes.CONTINUOUS [0.99999995 0.98788224 0.97551034 0.96329338 0.95124082]\n"
     ]
    }
   ],
   "source": [
    "compounding = TuringFrequencyTypes.CONTINUOUS\n",
    "flatCurve = TuringDiscountCurveFlat(curveDate, 0.05, compounding)\n",
    "dfs = flatCurve.df(dates)\n",
    "print(compounding, dfs)"
   ]
  },
  {
   "cell_type": "code",
   "execution_count": 9,
   "metadata": {},
   "outputs": [
    {
     "name": "stdout",
     "output_type": "stream",
     "text": [
      "TuringFrequencyTypes.ANNUAL [0.99999995 0.98817371 0.97609577 0.96416545 0.95239208]\n"
     ]
    }
   ],
   "source": [
    "compounding = TuringFrequencyTypes.ANNUAL\n",
    "flatCurve = TuringDiscountCurveFlat(curveDate, 0.05, compounding)\n",
    "dfs = flatCurve.df(dates)\n",
    "print(compounding, dfs)"
   ]
  },
  {
   "cell_type": "code",
   "execution_count": 10,
   "metadata": {},
   "outputs": [
    {
     "name": "stdout",
     "output_type": "stream",
     "text": [
      "TuringFrequencyTypes.SEMI_ANNUAL [0.99999995 0.98803034 0.97580778 0.96373642 0.95182566]\n"
     ]
    }
   ],
   "source": [
    "compounding = TuringFrequencyTypes.SEMI_ANNUAL\n",
    "flatCurve = TuringDiscountCurveFlat(curveDate, 0.05, compounding)\n",
    "dfs = flatCurve.df(dates)\n",
    "print(compounding, dfs)"
   ]
  },
  {
   "cell_type": "code",
   "execution_count": 11,
   "metadata": {},
   "outputs": [
    {
     "name": "stdout",
     "output_type": "stream",
     "text": [
      "TuringFrequencyTypes.QUARTERLY [0.99999995 0.98795689 0.97566027 0.9635167  0.9515356 ]\n"
     ]
    }
   ],
   "source": [
    "compounding = TuringFrequencyTypes.QUARTERLY\n",
    "flatCurve = TuringDiscountCurveFlat(curveDate, 0.05, compounding)\n",
    "dfs = flatCurve.df(dates)\n",
    "print(compounding, dfs)"
   ]
  },
  {
   "cell_type": "code",
   "execution_count": 12,
   "metadata": {},
   "outputs": [
    {
     "name": "stdout",
     "output_type": "stream",
     "text": [
      "TuringFrequencyTypes.MONTHLY [0.99999995 0.98790726 0.97556059 0.96336823 0.95133961]\n"
     ]
    }
   ],
   "source": [
    "compounding = TuringFrequencyTypes.MONTHLY\n",
    "flatCurve = TuringDiscountCurveFlat(curveDate, 0.05, compounding)\n",
    "dfs = flatCurve.df(dates)\n",
    "print(compounding, dfs)"
   ]
  },
  {
   "cell_type": "code",
   "execution_count": 13,
   "metadata": {},
   "outputs": [
    {
     "name": "stdout",
     "output_type": "stream",
     "text": [
      "TuringFrequencyTypes.CONTINUOUS [0.99999995 0.98788224 0.97551034 0.96329338 0.95124082]\n"
     ]
    }
   ],
   "source": [
    "compounding = TuringFrequencyTypes.CONTINUOUS\n",
    "flatCurve = TuringDiscountCurveFlat(curveDate, 0.05, compounding)\n",
    "dfs = flatCurve.df(dates)\n",
    "print(compounding, dfs)"
   ]
  },
  {
   "cell_type": "markdown",
   "metadata": {},
   "source": [
    "Copyright (c) 2020 Dominic O'Kane"
   ]
  }
 ],
 "metadata": {
  "kernelspec": {
   "display_name": "Python 3",
   "language": "python",
   "name": "python3"
  },
  "language_info": {
   "codemirror_mode": {
    "name": "ipython",
    "version": 3
   },
   "file_extension": ".py",
   "mimetype": "text/x-python",
   "name": "python",
   "nbconvert_exporter": "python",
   "pygments_lexer": "ipython3",
   "version": "3.7.6"
  }
 },
 "nbformat": 4,
 "nbformat_minor": 4
}
