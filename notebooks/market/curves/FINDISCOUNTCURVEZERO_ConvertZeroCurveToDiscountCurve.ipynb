{
 "cells": [
  {
   "cell_type": "markdown",
   "metadata": {},
   "source": [
    "# Convert Zero Curve to a Discount Curve - Stack Exchane Question"
   ]
  },
  {
   "cell_type": "markdown",
   "metadata": {},
   "source": [
    "https://quant.stackexchange.com/questions/58148/how-to-convert-a-zero-curve-to-a-discount-curve"
   ]
  },
  {
   "cell_type": "code",
   "execution_count": 1,
   "metadata": {},
   "outputs": [],
   "source": [
    "import numpy as np\n",
    "import matplotlib.pyplot as plt"
   ]
  },
  {
   "cell_type": "code",
   "execution_count": 1,
   "metadata": {
    "tags": []
   },
   "outputs": [
    {
     "name": "stdout",
     "output_type": "stream",
     "text": [
      "####################################################################\n",
      "# FINANCEPY BETA Version 0.185 - This build:  30 Oct 2020 at 11:34 #\n",
      "#      This software is distributed FREE & WITHOUT ANY WARRANTY    #\n",
      "# For info and disclaimer - https://github.com/domokane/FinancePy  #\n",
      "#      Send any bug reports or comments to quant@financepy.com     #\n",
      "####################################################################\n",
      "\n"
     ]
    }
   ],
   "source": [
    "from financepy.finutils import *\n",
    "from financepy.products.rates import *\n",
    "from financepy.market.curves import *"
   ]
  },
  {
   "cell_type": "markdown",
   "metadata": {},
   "source": [
    "## Building a Libor Discount Curve"
   ]
  },
  {
   "cell_type": "markdown",
   "metadata": {},
   "source": [
    "The example does this using a set of dates and zero rates"
   ]
  },
  {
   "cell_type": "code",
   "execution_count": 2,
   "metadata": {},
   "outputs": [],
   "source": [
    "valuationDate = TuringDate(1, 1, 2015)"
   ]
  },
  {
   "cell_type": "markdown",
   "metadata": {},
   "source": [
    "We have a vector of dates and zero rates"
   ]
  },
  {
   "cell_type": "code",
   "execution_count": 3,
   "metadata": {},
   "outputs": [],
   "source": [
    "frequencyType = TuringFrequencyTypes.ANNUAL\n",
    "dayCountType = TuringDayCountTypes.ACT_365F"
   ]
  },
  {
   "cell_type": "code",
   "execution_count": 4,
   "metadata": {},
   "outputs": [],
   "source": [
    "spot_dates = [TuringDate(1, 1, 2015), TuringDate(1, 6, 2015), TuringDate(1, 12, 2015), TuringDate(1, 4, 2016), TuringDate(1, 8, 2016)]\n",
    "spot_rates = [0, 0.02, 0.04, 0.06, 0.08]\n",
    "zero_curve = TuringDiscountCurveZeros(valuationDate, spot_dates, spot_rates, \n",
    "                                   frequencyType, dayCountType, FinInterpTypes.LINEAR_ZERO_RATES)"
   ]
  },
  {
   "cell_type": "code",
   "execution_count": 5,
   "metadata": {
    "tags": []
   },
   "outputs": [
    {
     "name": "stdout",
     "output_type": "stream",
     "text": [
      "OBJECT TYPE: TuringDiscountCurveZeros\n",
      "VALUATION DATE: THU 01 JAN 2015\n",
      "FREQUENCY TYPE: TuringFrequencyTypes.ANNUAL\n",
      "DAY COUNT TYPE: TuringDayCountTypes.ACT_365F\n",
      "INTERP TYPE: FinInterpTypes.LINEAR_ZERO_RATES\n",
      "DATES: ZERO RATES\n",
      "THU 01 JAN 2015:  0.0000000\n",
      "MON 01 JUN 2015:  0.0200000\n",
      "TUE 01 DEC 2015:  0.0400000\n",
      "FRI 01 APR 2016:  0.0600000\n",
      "MON 01 AUG 2016:  0.0800000\n",
      "\n"
     ]
    }
   ],
   "source": [
    "print(zero_curve)"
   ]
  },
  {
   "cell_type": "code",
   "execution_count": 6,
   "metadata": {
    "tags": []
   },
   "outputs": [
    {
     "name": "stdout",
     "output_type": "stream",
     "text": [
      "THU 01 JAN 2015 1.0\n",
      "MON 01 JUN 2015 0.9918411458168641\n",
      "TUE 01 DEC 2015 0.9647467581357048\n",
      "FRI 01 APR 2016 0.9297902787888683\n",
      "MON 01 AUG 2016 0.8852611853613656\n"
     ]
    }
   ],
   "source": [
    "for dt in spot_dates:\n",
    "    df = zero_curve.df(dt)\n",
    "    print(dt, df)"
   ]
  },
  {
   "cell_type": "markdown",
   "metadata": {},
   "source": [
    "This agrees with Quantlib"
   ]
  }
 ],
 "metadata": {
  "kernelspec": {
   "display_name": "Python 3",
   "language": "python",
   "name": "python3"
  },
  "language_info": {
   "codemirror_mode": {
    "name": "ipython",
    "version": 3
   },
   "file_extension": ".py",
   "mimetype": "text/x-python",
   "name": "python",
   "nbconvert_exporter": "python",
   "pygments_lexer": "ipython3",
   "version": "3.7.6"
  }
 },
 "nbformat": 4,
 "nbformat_minor": 4
}
